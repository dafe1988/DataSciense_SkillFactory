{
 "cells": [
  {
   "cell_type": "markdown",
   "metadata": {},
   "source": [
    "# 0. Import libraries"
   ]
  },
  {
   "cell_type": "code",
   "execution_count": 1,
   "metadata": {
    "_cell_guid": "b1076dfc-b9ad-4769-8c92-a6c4dae69d19",
    "_uuid": "8f2839f25d086af736a60e9eeb907d3b93b6e0e5",
    "execution": {
     "iopub.execute_input": "2022-02-08T18:44:26.624192Z",
     "iopub.status.busy": "2022-02-08T18:44:26.623896Z",
     "iopub.status.idle": "2022-02-08T18:44:26.639365Z",
     "shell.execute_reply": "2022-02-08T18:44:26.638515Z",
     "shell.execute_reply.started": "2022-02-08T18:44:26.624161Z"
    }
   },
   "outputs": [
    {
     "name": "stderr",
     "output_type": "stream",
     "text": [
      "[nltk_data] Downloading package vader_lexicon to\n",
      "[nltk_data]     /home/daria/nltk_data...\n",
      "[nltk_data]   Package vader_lexicon is already up-to-date!\n"
     ]
    }
   ],
   "source": [
    "# This Python 3 environment comes with many helpful analytics libraries installed\n",
    "# It is defined by the kaggle/python Docker image: https://github.com/kaggle/docker-python\n",
    "# For example, here's several helpful packages to load\n",
    "\n",
    "import numpy as np # linear algebra\n",
    "import pandas as pd # data processing, CSV file I/O (e.g. pd.read_csv)\n",
    "\n",
    "from collections import Counter\n",
    "\n",
    "import math\n",
    "from math import radians, sin, cos, asin, sqrt\n",
    "\n",
    "import re\n",
    "from re import findall\n",
    "import datetime as dt\n",
    "\n",
    "# для нормализации, стандартизации\n",
    "from sklearn import preprocessing\n",
    "from sklearn.preprocessing import RobustScaler\n",
    "import category_encoders as ce\n",
    "\n",
    "pd.set_option('display.max_columns', 200)  # показывать больше колонок\n",
    "\n",
    "# импортируем библиотеки для визуализации\n",
    "import matplotlib.pyplot as plt\n",
    "import seaborn as sns \n",
    "%matplotlib inline\n",
    "\n",
    "# Загружаем специальный удобный инструмент для разделения датасета:\n",
    "from sklearn.model_selection import train_test_split\n",
    "\n",
    "# Загружаем лингвистические библиотеки для обработки тестов отзывов\n",
    "import nltk\n",
    "from nltk.sentiment.vader import SentimentIntensityAnalyzer\n",
    "import time\n",
    "nltk.downloader.download('vader_lexicon')\n",
    "\n",
    "import warnings\n",
    "warnings.simplefilter('ignore')"
   ]
  },
  {
   "cell_type": "code",
   "execution_count": 2,
   "metadata": {
    "execution": {
     "iopub.execute_input": "2022-02-08T18:44:26.641479Z",
     "iopub.status.busy": "2022-02-08T18:44:26.640957Z",
     "iopub.status.idle": "2022-02-08T18:44:26.647428Z",
     "shell.execute_reply": "2022-02-08T18:44:26.646685Z",
     "shell.execute_reply.started": "2022-02-08T18:44:26.641433Z"
    }
   },
   "outputs": [],
   "source": [
    "# всегда фиксируйте RANDOM_SEED, чтобы ваши эксперименты были воспроизводимы!\n",
    "RANDOM_SEED = 42\n",
    "TARGET_NAME = 'reviewer_score'"
   ]
  },
  {
   "cell_type": "code",
   "execution_count": 3,
   "metadata": {
    "execution": {
     "iopub.execute_input": "2022-02-08T18:44:26.648893Z",
     "iopub.status.busy": "2022-02-08T18:44:26.648317Z",
     "iopub.status.idle": "2022-02-08T18:44:29.65578Z",
     "shell.execute_reply": "2022-02-08T18:44:29.654612Z",
     "shell.execute_reply.started": "2022-02-08T18:44:26.648843Z"
    }
   },
   "outputs": [],
   "source": [
    "# зафиксируем версию пакетов, чтобы эксперименты были воспроизводимы:\n",
    "!pip freeze > requirements.txt"
   ]
  },
  {
   "cell_type": "markdown",
   "metadata": {},
   "source": [
    "# 1. Import datasets"
   ]
  },
  {
   "cell_type": "code",
   "execution_count": 4,
   "metadata": {
    "execution": {
     "iopub.execute_input": "2022-02-08T18:44:29.657675Z",
     "iopub.status.busy": "2022-02-08T18:44:29.657411Z",
     "iopub.status.idle": "2022-02-08T18:44:32.947103Z",
     "shell.execute_reply": "2022-02-08T18:44:32.946305Z",
     "shell.execute_reply.started": "2022-02-08T18:44:29.657645Z"
    }
   },
   "outputs": [],
   "source": [
    "# Подгрузим наши данные из соревнования\n",
    "\n",
    "df_train = pd.read_csv('data/hotels_train.csv') # датасет для обучения\n",
    "df_test = pd.read_csv('data/hotels_test.csv') # датасет для предсказания\n",
    "sample_submission = pd.read_csv('data/submission.csv') # самбмишн"
   ]
  },
  {
   "cell_type": "code",
   "execution_count": 5,
   "metadata": {
    "execution": {
     "iopub.execute_input": "2022-02-08T18:44:32.949468Z",
     "iopub.status.busy": "2022-02-08T18:44:32.949243Z",
     "iopub.status.idle": "2022-02-08T18:44:33.2946Z",
     "shell.execute_reply": "2022-02-08T18:44:33.293891Z",
     "shell.execute_reply.started": "2022-02-08T18:44:32.949435Z"
    }
   },
   "outputs": [
    {
     "name": "stdout",
     "output_type": "stream",
     "text": [
      "<class 'pandas.core.frame.DataFrame'>\n",
      "RangeIndex: 386803 entries, 0 to 386802\n",
      "Data columns (total 17 columns):\n",
      " #   Column                                      Non-Null Count   Dtype  \n",
      "---  ------                                      --------------   -----  \n",
      " 0   hotel_address                               386803 non-null  object \n",
      " 1   additional_number_of_scoring                386803 non-null  int64  \n",
      " 2   review_date                                 386803 non-null  object \n",
      " 3   average_score                               386803 non-null  float64\n",
      " 4   hotel_name                                  386803 non-null  object \n",
      " 5   reviewer_nationality                        386803 non-null  object \n",
      " 6   negative_review                             386803 non-null  object \n",
      " 7   review_total_negative_word_counts           386803 non-null  int64  \n",
      " 8   total_number_of_reviews                     386803 non-null  int64  \n",
      " 9   positive_review                             386803 non-null  object \n",
      " 10  review_total_positive_word_counts           386803 non-null  int64  \n",
      " 11  total_number_of_reviews_reviewer_has_given  386803 non-null  int64  \n",
      " 12  reviewer_score                              386803 non-null  float64\n",
      " 13  tags                                        386803 non-null  object \n",
      " 14  days_since_review                           386803 non-null  object \n",
      " 15  lat                                         384355 non-null  float64\n",
      " 16  lng                                         384355 non-null  float64\n",
      "dtypes: float64(4), int64(5), object(8)\n",
      "memory usage: 50.2+ MB\n",
      "None\n"
     ]
    },
    {
     "data": {
      "text/html": [
       "<div>\n",
       "<style scoped>\n",
       "    .dataframe tbody tr th:only-of-type {\n",
       "        vertical-align: middle;\n",
       "    }\n",
       "\n",
       "    .dataframe tbody tr th {\n",
       "        vertical-align: top;\n",
       "    }\n",
       "\n",
       "    .dataframe thead th {\n",
       "        text-align: right;\n",
       "    }\n",
       "</style>\n",
       "<table border=\"1\" class=\"dataframe\">\n",
       "  <thead>\n",
       "    <tr style=\"text-align: right;\">\n",
       "      <th></th>\n",
       "      <th>hotel_address</th>\n",
       "      <th>additional_number_of_scoring</th>\n",
       "      <th>review_date</th>\n",
       "      <th>average_score</th>\n",
       "      <th>hotel_name</th>\n",
       "      <th>reviewer_nationality</th>\n",
       "      <th>negative_review</th>\n",
       "      <th>review_total_negative_word_counts</th>\n",
       "      <th>total_number_of_reviews</th>\n",
       "      <th>positive_review</th>\n",
       "      <th>review_total_positive_word_counts</th>\n",
       "      <th>total_number_of_reviews_reviewer_has_given</th>\n",
       "      <th>reviewer_score</th>\n",
       "      <th>tags</th>\n",
       "      <th>days_since_review</th>\n",
       "      <th>lat</th>\n",
       "      <th>lng</th>\n",
       "    </tr>\n",
       "  </thead>\n",
       "  <tbody>\n",
       "    <tr>\n",
       "      <th>0</th>\n",
       "      <td>Stratton Street Mayfair Westminster Borough Lo...</td>\n",
       "      <td>581</td>\n",
       "      <td>2/19/2016</td>\n",
       "      <td>8.4</td>\n",
       "      <td>The May Fair Hotel</td>\n",
       "      <td>United Kingdom</td>\n",
       "      <td>Leaving</td>\n",
       "      <td>3</td>\n",
       "      <td>1994</td>\n",
       "      <td>Staff were amazing</td>\n",
       "      <td>4</td>\n",
       "      <td>7</td>\n",
       "      <td>10.0</td>\n",
       "      <td>[' Leisure trip ', ' Couple ', ' Studio Suite ...</td>\n",
       "      <td>531 day</td>\n",
       "      <td>51.507894</td>\n",
       "      <td>-0.143671</td>\n",
       "    </tr>\n",
       "    <tr>\n",
       "      <th>1</th>\n",
       "      <td>130 134 Southampton Row Camden London WC1B 5AF...</td>\n",
       "      <td>299</td>\n",
       "      <td>1/12/2017</td>\n",
       "      <td>8.3</td>\n",
       "      <td>Mercure London Bloomsbury Hotel</td>\n",
       "      <td>United Kingdom</td>\n",
       "      <td>poor breakfast</td>\n",
       "      <td>3</td>\n",
       "      <td>1361</td>\n",
       "      <td>location</td>\n",
       "      <td>2</td>\n",
       "      <td>14</td>\n",
       "      <td>6.3</td>\n",
       "      <td>[' Business trip ', ' Couple ', ' Standard Dou...</td>\n",
       "      <td>203 day</td>\n",
       "      <td>51.521009</td>\n",
       "      <td>-0.123097</td>\n",
       "    </tr>\n",
       "  </tbody>\n",
       "</table>\n",
       "</div>"
      ],
      "text/plain": [
       "                                       hotel_address  \\\n",
       "0  Stratton Street Mayfair Westminster Borough Lo...   \n",
       "1  130 134 Southampton Row Camden London WC1B 5AF...   \n",
       "\n",
       "   additional_number_of_scoring review_date  average_score  \\\n",
       "0                           581   2/19/2016            8.4   \n",
       "1                           299   1/12/2017            8.3   \n",
       "\n",
       "                        hotel_name reviewer_nationality  negative_review  \\\n",
       "0               The May Fair Hotel      United Kingdom          Leaving    \n",
       "1  Mercure London Bloomsbury Hotel      United Kingdom    poor breakfast   \n",
       "\n",
       "   review_total_negative_word_counts  total_number_of_reviews  \\\n",
       "0                                  3                     1994   \n",
       "1                                  3                     1361   \n",
       "\n",
       "       positive_review  review_total_positive_word_counts  \\\n",
       "0   Staff were amazing                                  4   \n",
       "1             location                                  2   \n",
       "\n",
       "   total_number_of_reviews_reviewer_has_given  reviewer_score  \\\n",
       "0                                           7            10.0   \n",
       "1                                          14             6.3   \n",
       "\n",
       "                                                tags days_since_review  \\\n",
       "0  [' Leisure trip ', ' Couple ', ' Studio Suite ...           531 day   \n",
       "1  [' Business trip ', ' Couple ', ' Standard Dou...           203 day   \n",
       "\n",
       "         lat       lng  \n",
       "0  51.507894 -0.143671  \n",
       "1  51.521009 -0.123097  "
      ]
     },
     "execution_count": 5,
     "metadata": {},
     "output_type": "execute_result"
    }
   ],
   "source": [
    "print(df_train.info())\n",
    "df_train.head(2)"
   ]
  },
  {
   "cell_type": "code",
   "execution_count": 6,
   "metadata": {
    "execution": {
     "iopub.execute_input": "2022-02-08T18:44:33.315353Z",
     "iopub.status.busy": "2022-02-08T18:44:33.315169Z",
     "iopub.status.idle": "2022-02-08T18:44:33.437812Z",
     "shell.execute_reply": "2022-02-08T18:44:33.437031Z",
     "shell.execute_reply.started": "2022-02-08T18:44:33.315329Z"
    }
   },
   "outputs": [
    {
     "name": "stdout",
     "output_type": "stream",
     "text": [
      "<class 'pandas.core.frame.DataFrame'>\n",
      "RangeIndex: 128935 entries, 0 to 128934\n",
      "Data columns (total 16 columns):\n",
      " #   Column                                      Non-Null Count   Dtype  \n",
      "---  ------                                      --------------   -----  \n",
      " 0   hotel_address                               128935 non-null  object \n",
      " 1   additional_number_of_scoring                128935 non-null  int64  \n",
      " 2   review_date                                 128935 non-null  object \n",
      " 3   average_score                               128935 non-null  float64\n",
      " 4   hotel_name                                  128935 non-null  object \n",
      " 5   reviewer_nationality                        128935 non-null  object \n",
      " 6   negative_review                             128935 non-null  object \n",
      " 7   review_total_negative_word_counts           128935 non-null  int64  \n",
      " 8   total_number_of_reviews                     128935 non-null  int64  \n",
      " 9   positive_review                             128935 non-null  object \n",
      " 10  review_total_positive_word_counts           128935 non-null  int64  \n",
      " 11  total_number_of_reviews_reviewer_has_given  128935 non-null  int64  \n",
      " 12  tags                                        128935 non-null  object \n",
      " 13  days_since_review                           128935 non-null  object \n",
      " 14  lat                                         128115 non-null  float64\n",
      " 15  lng                                         128115 non-null  float64\n",
      "dtypes: float64(3), int64(5), object(8)\n",
      "memory usage: 15.7+ MB\n",
      "None\n"
     ]
    },
    {
     "data": {
      "text/html": [
       "<div>\n",
       "<style scoped>\n",
       "    .dataframe tbody tr th:only-of-type {\n",
       "        vertical-align: middle;\n",
       "    }\n",
       "\n",
       "    .dataframe tbody tr th {\n",
       "        vertical-align: top;\n",
       "    }\n",
       "\n",
       "    .dataframe thead th {\n",
       "        text-align: right;\n",
       "    }\n",
       "</style>\n",
       "<table border=\"1\" class=\"dataframe\">\n",
       "  <thead>\n",
       "    <tr style=\"text-align: right;\">\n",
       "      <th></th>\n",
       "      <th>hotel_address</th>\n",
       "      <th>additional_number_of_scoring</th>\n",
       "      <th>review_date</th>\n",
       "      <th>average_score</th>\n",
       "      <th>hotel_name</th>\n",
       "      <th>reviewer_nationality</th>\n",
       "      <th>negative_review</th>\n",
       "      <th>review_total_negative_word_counts</th>\n",
       "      <th>total_number_of_reviews</th>\n",
       "      <th>positive_review</th>\n",
       "      <th>review_total_positive_word_counts</th>\n",
       "      <th>total_number_of_reviews_reviewer_has_given</th>\n",
       "      <th>tags</th>\n",
       "      <th>days_since_review</th>\n",
       "      <th>lat</th>\n",
       "      <th>lng</th>\n",
       "    </tr>\n",
       "  </thead>\n",
       "  <tbody>\n",
       "    <tr>\n",
       "      <th>0</th>\n",
       "      <td>Via Senigallia 6 20161 Milan Italy</td>\n",
       "      <td>904</td>\n",
       "      <td>7/21/2017</td>\n",
       "      <td>8.1</td>\n",
       "      <td>Hotel Da Vinci</td>\n",
       "      <td>United Kingdom</td>\n",
       "      <td>Would have appreciated a shop in the hotel th...</td>\n",
       "      <td>52</td>\n",
       "      <td>16670</td>\n",
       "      <td>Hotel was great clean friendly staff free bre...</td>\n",
       "      <td>62</td>\n",
       "      <td>1</td>\n",
       "      <td>[' Leisure trip ', ' Couple ', ' Double Room '...</td>\n",
       "      <td>13 days</td>\n",
       "      <td>45.533137</td>\n",
       "      <td>9.171102</td>\n",
       "    </tr>\n",
       "    <tr>\n",
       "      <th>1</th>\n",
       "      <td>Arlandaweg 10 Westpoort 1043 EW Amsterdam Neth...</td>\n",
       "      <td>612</td>\n",
       "      <td>12/12/2016</td>\n",
       "      <td>8.6</td>\n",
       "      <td>Urban Lodge Hotel</td>\n",
       "      <td>Belgium</td>\n",
       "      <td>No tissue paper box was present at the room</td>\n",
       "      <td>10</td>\n",
       "      <td>5018</td>\n",
       "      <td>No Positive</td>\n",
       "      <td>0</td>\n",
       "      <td>7</td>\n",
       "      <td>[' Leisure trip ', ' Group ', ' Triple Room ',...</td>\n",
       "      <td>234 day</td>\n",
       "      <td>52.385649</td>\n",
       "      <td>4.834443</td>\n",
       "    </tr>\n",
       "  </tbody>\n",
       "</table>\n",
       "</div>"
      ],
      "text/plain": [
       "                                       hotel_address  \\\n",
       "0                 Via Senigallia 6 20161 Milan Italy   \n",
       "1  Arlandaweg 10 Westpoort 1043 EW Amsterdam Neth...   \n",
       "\n",
       "   additional_number_of_scoring review_date  average_score         hotel_name  \\\n",
       "0                           904   7/21/2017            8.1     Hotel Da Vinci   \n",
       "1                           612  12/12/2016            8.6  Urban Lodge Hotel   \n",
       "\n",
       "  reviewer_nationality                                    negative_review  \\\n",
       "0      United Kingdom    Would have appreciated a shop in the hotel th...   \n",
       "1             Belgium         No tissue paper box was present at the room   \n",
       "\n",
       "   review_total_negative_word_counts  total_number_of_reviews  \\\n",
       "0                                 52                    16670   \n",
       "1                                 10                     5018   \n",
       "\n",
       "                                     positive_review  \\\n",
       "0   Hotel was great clean friendly staff free bre...   \n",
       "1                                        No Positive   \n",
       "\n",
       "   review_total_positive_word_counts  \\\n",
       "0                                 62   \n",
       "1                                  0   \n",
       "\n",
       "   total_number_of_reviews_reviewer_has_given  \\\n",
       "0                                           1   \n",
       "1                                           7   \n",
       "\n",
       "                                                tags days_since_review  \\\n",
       "0  [' Leisure trip ', ' Couple ', ' Double Room '...           13 days   \n",
       "1  [' Leisure trip ', ' Group ', ' Triple Room ',...           234 day   \n",
       "\n",
       "         lat       lng  \n",
       "0  45.533137  9.171102  \n",
       "1  52.385649  4.834443  "
      ]
     },
     "execution_count": 6,
     "metadata": {},
     "output_type": "execute_result"
    }
   ],
   "source": [
    "print(df_test.info())\n",
    "df_test.head(2)"
   ]
  },
  {
   "cell_type": "code",
   "execution_count": 7,
   "metadata": {
    "execution": {
     "iopub.execute_input": "2022-02-08T18:44:33.456588Z",
     "iopub.status.busy": "2022-02-08T18:44:33.456129Z",
     "iopub.status.idle": "2022-02-08T18:44:33.463126Z",
     "shell.execute_reply": "2022-02-08T18:44:33.462542Z",
     "shell.execute_reply.started": "2022-02-08T18:44:33.456558Z"
    }
   },
   "outputs": [
    {
     "name": "stdout",
     "output_type": "stream",
     "text": [
      "<class 'pandas.core.frame.DataFrame'>\n",
      "RangeIndex: 128935 entries, 0 to 128934\n",
      "Data columns (total 2 columns):\n",
      " #   Column          Non-Null Count   Dtype\n",
      "---  ------          --------------   -----\n",
      " 0   reviewer_score  128935 non-null  int64\n",
      " 1   id              128935 non-null  int64\n",
      "dtypes: int64(2)\n",
      "memory usage: 2.0 MB\n",
      "None\n"
     ]
    },
    {
     "data": {
      "text/html": [
       "<div>\n",
       "<style scoped>\n",
       "    .dataframe tbody tr th:only-of-type {\n",
       "        vertical-align: middle;\n",
       "    }\n",
       "\n",
       "    .dataframe tbody tr th {\n",
       "        vertical-align: top;\n",
       "    }\n",
       "\n",
       "    .dataframe thead th {\n",
       "        text-align: right;\n",
       "    }\n",
       "</style>\n",
       "<table border=\"1\" class=\"dataframe\">\n",
       "  <thead>\n",
       "    <tr style=\"text-align: right;\">\n",
       "      <th></th>\n",
       "      <th>reviewer_score</th>\n",
       "      <th>id</th>\n",
       "    </tr>\n",
       "  </thead>\n",
       "  <tbody>\n",
       "    <tr>\n",
       "      <th>0</th>\n",
       "      <td>1</td>\n",
       "      <td>488440</td>\n",
       "    </tr>\n",
       "    <tr>\n",
       "      <th>1</th>\n",
       "      <td>10</td>\n",
       "      <td>274649</td>\n",
       "    </tr>\n",
       "  </tbody>\n",
       "</table>\n",
       "</div>"
      ],
      "text/plain": [
       "   reviewer_score      id\n",
       "0               1  488440\n",
       "1              10  274649"
      ]
     },
     "execution_count": 7,
     "metadata": {},
     "output_type": "execute_result"
    }
   ],
   "source": [
    "print(sample_submission.info())\n",
    "sample_submission.head(2)"
   ]
  },
  {
   "cell_type": "markdown",
   "metadata": {},
   "source": [
    "# 2. EDA"
   ]
  },
  {
   "cell_type": "markdown",
   "metadata": {},
   "source": [
    "## 2.0. Functions, dictionaries and constants"
   ]
  },
  {
   "cell_type": "code",
   "execution_count": 8,
   "metadata": {},
   "outputs": [],
   "source": [
    "# функция создает единый список из списков\n",
    "def list_unrar(list_of_lists):\n",
    "    result=[]\n",
    "    for lst in list_of_lists:\n",
    "        result.extend(lst)\n",
    "    return result"
   ]
  },
  {
   "cell_type": "code",
   "execution_count": 9,
   "metadata": {},
   "outputs": [],
   "source": [
    "# Словари с с пропущенными координатами по адресам отелей\n",
    "lat_dict = {'Savoyenstra e 2 16 Ottakring 1160 Vienna Austria': 48.215178,\n",
    "       '23 Rue Damr mont 18th arr 75018 Paris France': 48.884582,\n",
    "       'Josefst dter Stra e 10 12 08 Josefstadt 1080 Vienna Austria': 48.209650,\n",
    "       'W hringer Stra e 33 35 09 Alsergrund 1090 Vienna Austria': 48.220269,\n",
    "       '4 rue de la P pini re 8th arr 75008 Paris France': 48.856818,\n",
    "       'Sieveringer Stra e 4 19 D bling 1190 Vienna Austria': 48.245892,\n",
    "       'Taborstra e 8 A 02 Leopoldstadt 1020 Vienna Austria': 48.213559,\n",
    "       'Bail n 4 6 Eixample 08010 Barcelona Spain': 41.391967,\n",
    "       'Gr nentorgasse 30 09 Alsergrund 1090 Vienna Austria': 48.207911,\n",
    "       'Landstra er G rtel 5 03 Landstra e 1030 Vienna Austria': 48.194113,\n",
    "       'Paragonstra e 1 11 Simmering 1110 Vienna Austria': 48.163757,\n",
    "       'W hringer Stra e 12 09 Alsergrund 1090 Vienna Austria': 48.216778,\n",
    "       '20 Rue De La Ga t 14th arr 75014 Paris France': 48.856818,\n",
    "       'Hasenauerstra e 12 19 D bling 1190 Vienna Austria': 48.208174,\n",
    "       'Sep lveda 180 Eixample 08011 Barcelona Spain': 41.384733,\n",
    "       'Pau Clar s 122 Eixample 08009 Barcelona Spain': 41.392789,\n",
    "       'Josefst dter Stra e 22 08 Josefstadt 1080 Vienna Austria': 48.209580}\n",
    "lng_dict = {'Savoyenstra e 2 16 Ottakring 1160 Vienna Austria': 16.303380,\n",
    "       '23 Rue Damr mont 18th arr 75018 Paris France': 2.324640,\n",
    "       'Josefst dter Stra e 10 12 08 Josefstadt 1080 Vienna Austria': 16.353160,\n",
    "       'W hringer Stra e 33 35 09 Alsergrund 1090 Vienna Austria': 16.355809,\n",
    "       '4 rue de la P pini re 8th arr 75008 Paris France': 2.304722,\n",
    "       'Sieveringer Stra e 4 19 D bling 1190 Vienna Austria': 16.341939,\n",
    "       'Taborstra e 8 A 02 Leopoldstadt 1020 Vienna Austria': 16.380100,\n",
    "       'Bail n 4 6 Eixample 08010 Barcelona Spain': 2.175728,\n",
    "       'Gr nentorgasse 30 09 Alsergrund 1090 Vienna Austria': 16.394933,\n",
    "       'Landstra er G rtel 5 03 Landstra e 1030 Vienna Austria': 16.395356,\n",
    "       'Paragonstra e 1 11 Simmering 1110 Vienna Austria': 16.445799,\n",
    "       'W hringer Stra e 12 09 Alsergrund 1090 Vienna Austria': 16.360074,\n",
    "       '20 Rue De La Ga t 14th arr 75014 Paris France': 2.304722,\n",
    "       'Hasenauerstra e 12 19 D bling 1190 Vienna Austria': 16.373819,\n",
    "       'Sep lveda 180 Eixample 08011 Barcelona Spain': 2.160988,\n",
    "       'Pau Clar s 122 Eixample 08009 Barcelona Spain': 2.167397,\n",
    "       'Josefst dter Stra e 22 08 Josefstadt 1080 Vienna Austria':16.351433}"
   ]
  },
  {
   "cell_type": "code",
   "execution_count": 100,
   "metadata": {},
   "outputs": [],
   "source": [
    "# население согласно Википедии, тыс.чел\n",
    "population_dict = {'United_Kingdom': 8962, 'Paris_France': 2148, 'Amsterdam_Netherlands': 873,\n",
    "                   'Milan_Italy': 1379, 'Vienna_Austria': 1897, 'Barcelona_Spain': 1636}\n",
    "# плотность населения, тыс. чел на км\n",
    "pop_density_dict = {'United_Kingdom': 5.7, 'Paris_France': 20.8, 'Amsterdam_Netherlands': 4.8,\n",
    "                   'Milan_Italy': 7.6, 'Vienna_Austria': 4.5, 'Barcelona_Spain': 15.8}"
   ]
  },
  {
   "cell_type": "code",
   "execution_count": 47,
   "metadata": {},
   "outputs": [],
   "source": [
    "# списки 10 самых популярных отелей и национальностей ревьюверов\n",
    "top_10_nationalities = ['united_kingdom', 'united_states_of_america', 'australia', 'ireland',\n",
    "                       'united_arab_emirates', 'saudi_arabia', 'netherlands', 'switzerland',\n",
    "                       'germany', 'canada']\n",
    "top_10_hotels = ['Britannia_International_Hotel_Canary_Wharf', 'Strand_Palace_Hotel',\n",
    "                'Park_Plaza_Westminster_Bridge_London', 'Copthorne_Tara_Hotel_London_Kensington', \n",
    "                 'DoubleTree_by_Hilton_Hotel_London_Tower_of_London', 'Grand_Royale_London_Hyde_Park',\n",
    "                 'Holiday_Inn_London_Kensington', 'Hilton_London_Metropole', \n",
    "                 'Millennium_Gloucester_Hotel_London', 'Intercontinental_London_The_O2']"
   ]
  },
  {
   "cell_type": "code",
   "execution_count": 11,
   "metadata": {},
   "outputs": [],
   "source": [
    "def code_data(df: pd.DataFrame) -> pd.DataFrame:\n",
    "    \"\"\"Функция кодирует признаки датафрейма.\n",
    "\n",
    "    Args:\n",
    "        df (pd.DataFrame): датафрейм до кодирования\n",
    "\n",
    "    Returns:\n",
    "        pd.DataFrame: датафрейм с закодированными признаками\n",
    "    \"\"\"\n",
    "\n",
    "    # Списки для названий признаков для двух типов кодирования\n",
    "    one_hot_cols = []\n",
    "    binary_cols = []\n",
    "\n",
    "    # Пройдемся по всем категориальным признакам и сохраним их в списки\n",
    "    for col in df.columns:\n",
    "        if df[col].dtype == 'object':\n",
    "            if df[col].nunique() > 15: # если кол-во значений > 15\n",
    "                binary_cols.append(col)\n",
    "            else:                      # если меньше или равно 15\n",
    "                one_hot_cols.append(col)\n",
    "\n",
    "    # Выполним однократное кодирование признаков\n",
    "    encoder = ce.OneHotEncoder(cols=one_hot_cols, use_cat_names=True)\n",
    "    type_bin = encoder.fit_transform(df[one_hot_cols])\n",
    "    df = pd.concat([df, type_bin], axis=1)\n",
    "    df.drop(one_hot_cols, axis=1, inplace=True)\n",
    "\n",
    "    # Выполним двоичное кодирование признаков\n",
    "    bin_encoder = ce.BinaryEncoder(cols=binary_cols)\n",
    "    type_bin = bin_encoder.fit_transform(df[binary_cols])\n",
    "    df = pd.concat([df, type_bin], axis=1)\n",
    "    df.drop(binary_cols, axis=1, inplace=True)\n",
    "    \n",
    "    #Вернем датафрейм\n",
    "    return df"
   ]
  },
  {
   "cell_type": "code",
   "execution_count": 12,
   "metadata": {},
   "outputs": [],
   "source": [
    "# координаты Парижа\n",
    "lon1 = 2.3488000\n",
    "lat1 = 48.8534100\n",
    "# функция определения расстояния до центра Парижа\n",
    "def haversine(lon1, lat1, lon2, lat2):\n",
    "    lon1, lat1, lon2, lat2 = map(radians, [lon1, lat1, lon2, lat2])\n",
    "    dlon = lon2 - lon1\n",
    "    dlat = lat2 - lat1\n",
    "    a = sin(dlat/2)**2 + cos(lat1) * cos(lat2) * sin(dlon/2) ** 2\n",
    "    c = 2 * asin(sqrt(a))\n",
    "    earth_radius = 6371 \n",
    "    return round(c*earth_radius)\n"
   ]
  },
  {
   "cell_type": "code",
   "execution_count": 15,
   "metadata": {},
   "outputs": [],
   "source": [
    "def join_df(train_df, test_df: pd.DataFrame) -> pd.DataFrame:\n",
    "    \"\"\"Функция объединяет тренировочную и тестовую выборки.\n",
    "    Индекс при этом сохраняется.\n",
    "\n",
    "    Args:\n",
    "        train_df (_type_): тренировочный датафрейм\n",
    "        test_df (pd.DataFrame): тестовый датафрейм\n",
    "\n",
    "    Returns:\n",
    "        pd.DataFrame: объединенный датафрейм\n",
    "    \"\"\"\n",
    "\n",
    "    test_df['reviewer_score'] = -1 # добавим недостающий столбец\n",
    "    combined_df = pd.concat([train_df, test_df], axis=0)\n",
    "\n",
    "    # Вернем объединенный датафрейм\n",
    "    return combined_df\n",
    "\n"
   ]
  },
  {
   "cell_type": "code",
   "execution_count": 119,
   "metadata": {},
   "outputs": [],
   "source": [
    "def split_df(preproc_data: pd.DataFrame, ind:int=386803) -> tuple:\n",
    "    \"\"\"Функция разделяет датафрейм на два по индексу.\n",
    "\n",
    "    Args:\n",
    "        combined_df (pd.DataFrame): объединенный датафрейм\n",
    "        ind (int, optional): индекс разделения\n",
    "\n",
    "    Returns:\n",
    "        tuple: кортеж из датафреймов\n",
    "    \"\"\"\n",
    "\n",
    "    train_df = preproc_data.iloc[:ind, :]\n",
    "    test_df = preproc_data.iloc[ind:, :]\n",
    "    test_df = test_df.drop('reviewer_score', axis=1) #  удалим столбец из тестовой выборки\n",
    "\n",
    "    # Вернем разделенные датафреймы\n",
    "    return train_df, test_df"
   ]
  },
  {
   "cell_type": "markdown",
   "metadata": {},
   "source": [
    "## 2.1. Join datasets for EDA"
   ]
  },
  {
   "cell_type": "code",
   "execution_count": 17,
   "metadata": {
    "execution": {
     "iopub.execute_input": "2022-02-08T18:44:33.480175Z",
     "iopub.status.busy": "2022-02-08T18:44:33.479691Z",
     "iopub.status.idle": "2022-02-08T18:44:34.013921Z",
     "shell.execute_reply": "2022-02-08T18:44:34.012987Z",
     "shell.execute_reply.started": "2022-02-08T18:44:33.480147Z"
    }
   },
   "outputs": [],
   "source": [
    "# ВАЖНО! дря корректной обработки признаков объединяем трейн и тест в один датасет\n",
    "data = join_df(df_train, df_test)"
   ]
  },
  {
   "cell_type": "code",
   "execution_count": 18,
   "metadata": {
    "execution": {
     "iopub.execute_input": "2022-02-08T18:44:34.015483Z",
     "iopub.status.busy": "2022-02-08T18:44:34.015238Z",
     "iopub.status.idle": "2022-02-08T18:44:34.477711Z",
     "shell.execute_reply": "2022-02-08T18:44:34.476864Z",
     "shell.execute_reply.started": "2022-02-08T18:44:34.015455Z"
    }
   },
   "outputs": [
    {
     "name": "stdout",
     "output_type": "stream",
     "text": [
      "<class 'pandas.core.frame.DataFrame'>\n",
      "Int64Index: 515738 entries, 0 to 128934\n",
      "Data columns (total 17 columns):\n",
      " #   Column                                      Non-Null Count   Dtype  \n",
      "---  ------                                      --------------   -----  \n",
      " 0   hotel_address                               515738 non-null  object \n",
      " 1   additional_number_of_scoring                515738 non-null  int64  \n",
      " 2   review_date                                 515738 non-null  object \n",
      " 3   average_score                               515738 non-null  float64\n",
      " 4   hotel_name                                  515738 non-null  object \n",
      " 5   reviewer_nationality                        515738 non-null  object \n",
      " 6   negative_review                             515738 non-null  object \n",
      " 7   review_total_negative_word_counts           515738 non-null  int64  \n",
      " 8   total_number_of_reviews                     515738 non-null  int64  \n",
      " 9   positive_review                             515738 non-null  object \n",
      " 10  review_total_positive_word_counts           515738 non-null  int64  \n",
      " 11  total_number_of_reviews_reviewer_has_given  515738 non-null  int64  \n",
      " 12  reviewer_score                              515738 non-null  float64\n",
      " 13  tags                                        515738 non-null  object \n",
      " 14  days_since_review                           515738 non-null  object \n",
      " 15  lat                                         512470 non-null  float64\n",
      " 16  lng                                         512470 non-null  float64\n",
      "dtypes: float64(4), int64(5), object(8)\n",
      "memory usage: 70.8+ MB\n"
     ]
    }
   ],
   "source": [
    "data.info()"
   ]
  },
  {
   "cell_type": "markdown",
   "metadata": {},
   "source": [
    "## 2.2. Missing values"
   ]
  },
  {
   "cell_type": "code",
   "execution_count": 19,
   "metadata": {},
   "outputs": [],
   "source": [
    "hotels_eda = data.copy()"
   ]
  },
  {
   "cell_type": "code",
   "execution_count": 20,
   "metadata": {},
   "outputs": [
    {
     "data": {
      "text/plain": [
       "17"
      ]
     },
     "execution_count": 20,
     "metadata": {},
     "output_type": "execute_result"
    }
   ],
   "source": [
    "hotels_eda.hotel_address[hotels_eda.lat.isna()].nunique()"
   ]
  },
  {
   "cell_type": "markdown",
   "metadata": {},
   "source": [
    "всего 17 значений адресов без координат, добавлю их вручную, воспользовавшись онлайн ресурсом u-karty.ru"
   ]
  },
  {
   "cell_type": "code",
   "execution_count": 21,
   "metadata": {
    "execution": {
     "iopub.execute_input": "2022-02-08T18:44:34.47925Z",
     "iopub.status.busy": "2022-02-08T18:44:34.47896Z",
     "iopub.status.idle": "2022-02-08T18:44:34.497358Z",
     "shell.execute_reply": "2022-02-08T18:44:34.496728Z",
     "shell.execute_reply.started": "2022-02-08T18:44:34.479202Z"
    }
   },
   "outputs": [],
   "source": [
    "hotels_eda['lat'] = hotels_eda['lat'].fillna(hotels_eda['hotel_address'].map(lat_dict))\n",
    "hotels_eda['lng'] = hotels_eda['lng'].fillna(hotels_eda['hotel_address'].map(lng_dict))"
   ]
  },
  {
   "cell_type": "markdown",
   "metadata": {},
   "source": [
    "## 2.3. Nunique/correlations"
   ]
  },
  {
   "cell_type": "markdown",
   "metadata": {},
   "source": [
    "Оценим количество уникальных значений в признаках"
   ]
  },
  {
   "cell_type": "code",
   "execution_count": 22,
   "metadata": {
    "execution": {
     "iopub.execute_input": "2022-02-08T18:44:34.500523Z",
     "iopub.status.busy": "2022-02-08T18:44:34.500073Z",
     "iopub.status.idle": "2022-02-08T18:44:35.43767Z",
     "shell.execute_reply": "2022-02-08T18:44:35.43699Z",
     "shell.execute_reply.started": "2022-02-08T18:44:34.500478Z"
    }
   },
   "outputs": [
    {
     "data": {
      "text/plain": [
       "hotel_address                                   1493\n",
       "additional_number_of_scoring                     480\n",
       "review_date                                      731\n",
       "average_score                                     34\n",
       "hotel_name                                      1492\n",
       "reviewer_nationality                             227\n",
       "negative_review                               330011\n",
       "review_total_negative_word_counts                402\n",
       "total_number_of_reviews                         1142\n",
       "positive_review                               412601\n",
       "review_total_positive_word_counts                365\n",
       "total_number_of_reviews_reviewer_has_given       198\n",
       "reviewer_score                                    38\n",
       "tags                                           55242\n",
       "days_since_review                                731\n",
       "lat                                             1488\n",
       "lng                                             1488\n",
       "dtype: int64"
      ]
     },
     "execution_count": 22,
     "metadata": {},
     "output_type": "execute_result"
    }
   ],
   "source": [
    "hotels_eda.nunique(dropna=False)"
   ]
  },
  {
   "cell_type": "code",
   "execution_count": 43,
   "metadata": {},
   "outputs": [],
   "source": [
    "# Очистим от лишних пробелов и заменим пропуски на _ в названиях отелей и национальности ревьювера\n",
    "hotels_eda.reviewer_nationality = hotels_eda.reviewer_nationality.apply(lambda x: x.strip())\n",
    "hotels_eda.reviewer_nationality = hotels_eda.reviewer_nationality.str.lower().str.replace(' ', '_', regex=True)\n",
    "hotels_eda.hotel_name = hotels_eda.hotel_name.str.replace(' ', '_', regex=True)"
   ]
  },
  {
   "cell_type": "code",
   "execution_count": 44,
   "metadata": {},
   "outputs": [
    {
     "data": {
      "text/plain": [
       "{'Britannia_International_Hotel_Canary_Wharf': 4789,\n",
       " 'Strand_Palace_Hotel': 4256,\n",
       " 'Park_Plaza_Westminster_Bridge_London': 4169,\n",
       " 'Copthorne_Tara_Hotel_London_Kensington': 3578,\n",
       " 'DoubleTree_by_Hilton_Hotel_London_Tower_of_London': 3212,\n",
       " 'Grand_Royale_London_Hyde_Park': 2958,\n",
       " 'Holiday_Inn_London_Kensington': 2768,\n",
       " 'Hilton_London_Metropole': 2628,\n",
       " 'Millennium_Gloucester_Hotel_London': 2565,\n",
       " 'Intercontinental_London_The_O2': 2551}"
      ]
     },
     "execution_count": 44,
     "metadata": {},
     "output_type": "execute_result"
    }
   ],
   "source": [
    "# выделю списки самых популярных названий отелей и национальностей ревьюверов\n",
    "dict(hotels_eda.hotel_name.value_counts().nlargest(10))"
   ]
  },
  {
   "cell_type": "code",
   "execution_count": 45,
   "metadata": {},
   "outputs": [
    {
     "data": {
      "text/plain": [
       "{'united_kingdom': 245246,\n",
       " 'united_states_of_america': 35437,\n",
       " 'australia': 21686,\n",
       " 'ireland': 14827,\n",
       " 'united_arab_emirates': 10235,\n",
       " 'saudi_arabia': 8951,\n",
       " 'netherlands': 8772,\n",
       " 'switzerland': 8678,\n",
       " 'germany': 7941,\n",
       " 'canada': 7894}"
      ]
     },
     "execution_count": 45,
     "metadata": {},
     "output_type": "execute_result"
    }
   ],
   "source": [
    "dict(hotels_eda.reviewer_nationality.value_counts().nlargest(10))"
   ]
  },
  {
   "cell_type": "code",
   "execution_count": 46,
   "metadata": {},
   "outputs": [],
   "source": [
    "# составим списки 10 самых популярных значений\n",
    "top_10_nationalities = ['united_kingdom', 'united_states_of_america', 'australia', 'ireland',\n",
    "                       'united_arab_emirates', 'saudi_arabia', 'netherlands', 'switzerland',\n",
    "                       'germany', 'canada']\n",
    "top_10_hotels = ['Britannia_International_Hotel_Canary_Wharf', 'Strand_Palace_Hotel',\n",
    "                'Park_Plaza_Westminster_Bridge_London', 'Copthorne_Tara_Hotel_London_Kensington', \n",
    "                 'DoubleTree_by_Hilton_Hotel_London_Tower_of_London', 'Grand_Royale_London_Hyde_Park',\n",
    "                 'Holiday_Inn_London_Kensington', 'Hilton_London_Metropole', \n",
    "                 'Millennium_Gloucester_Hotel_London', 'Intercontinental_London_The_O2']"
   ]
  },
  {
   "cell_type": "markdown",
   "metadata": {},
   "source": [
    "Также посмотрим на таблицу корреляции признаков"
   ]
  },
  {
   "cell_type": "code",
   "execution_count": 48,
   "metadata": {
    "execution": {
     "iopub.execute_input": "2022-02-08T18:44:35.439006Z",
     "iopub.status.busy": "2022-02-08T18:44:35.438803Z",
     "iopub.status.idle": "2022-02-08T18:44:36.452177Z",
     "shell.execute_reply": "2022-02-08T18:44:36.450792Z",
     "shell.execute_reply.started": "2022-02-08T18:44:35.438981Z"
    }
   },
   "outputs": [
    {
     "data": {
      "text/plain": [
       "<AxesSubplot: >"
      ]
     },
     "execution_count": 48,
     "metadata": {},
     "output_type": "execute_result"
    },
    {
     "data": {
      "image/png": "[encoded data removed]",
      "text/plain": [
       "<Figure size 1008x504 with 2 Axes>"
      ]
     },
     "metadata": {
      "needs_background": "light"
     },
     "output_type": "display_data"
    }
   ],
   "source": [
    "mask_no_test = hotels_eda.reviewer_score > -1\n",
    "plt.rcParams['figure.figsize'] = (14,7)\n",
    "plt.xticks(rotation=45)\n",
    "sns.heatmap(hotels_eda[mask_no_test].corr(), annot=True)"
   ]
  },
  {
   "cell_type": "markdown",
   "metadata": {},
   "source": [
    "## 2.4. Outliers"
   ]
  },
  {
   "cell_type": "code",
   "execution_count": 49,
   "metadata": {},
   "outputs": [
    {
     "data": {
      "text/html": [
       "<div>\n",
       "<style scoped>\n",
       "    .dataframe tbody tr th:only-of-type {\n",
       "        vertical-align: middle;\n",
       "    }\n",
       "\n",
       "    .dataframe tbody tr th {\n",
       "        vertical-align: top;\n",
       "    }\n",
       "\n",
       "    .dataframe thead th {\n",
       "        text-align: right;\n",
       "    }\n",
       "</style>\n",
       "<table border=\"1\" class=\"dataframe\">\n",
       "  <thead>\n",
       "    <tr style=\"text-align: right;\">\n",
       "      <th></th>\n",
       "      <th>additional_number_of_scoring</th>\n",
       "      <th>average_score</th>\n",
       "      <th>review_total_negative_word_counts</th>\n",
       "      <th>total_number_of_reviews</th>\n",
       "      <th>review_total_positive_word_counts</th>\n",
       "      <th>total_number_of_reviews_reviewer_has_given</th>\n",
       "      <th>reviewer_score</th>\n",
       "      <th>lat</th>\n",
       "      <th>lng</th>\n",
       "    </tr>\n",
       "  </thead>\n",
       "  <tbody>\n",
       "    <tr>\n",
       "      <th>count</th>\n",
       "      <td>386803.000000</td>\n",
       "      <td>386803.000000</td>\n",
       "      <td>386803.000000</td>\n",
       "      <td>386803.000000</td>\n",
       "      <td>386803.000000</td>\n",
       "      <td>386803.00000</td>\n",
       "      <td>386803.000000</td>\n",
       "      <td>386803.000000</td>\n",
       "      <td>386803.000000</td>\n",
       "    </tr>\n",
       "    <tr>\n",
       "      <th>mean</th>\n",
       "      <td>498.246536</td>\n",
       "      <td>8.397231</td>\n",
       "      <td>18.538988</td>\n",
       "      <td>2743.992042</td>\n",
       "      <td>17.776985</td>\n",
       "      <td>7.17725</td>\n",
       "      <td>8.396906</td>\n",
       "      <td>49.433430</td>\n",
       "      <td>2.892393</td>\n",
       "    </tr>\n",
       "    <tr>\n",
       "      <th>std</th>\n",
       "      <td>500.258012</td>\n",
       "      <td>0.547881</td>\n",
       "      <td>29.703369</td>\n",
       "      <td>2316.457018</td>\n",
       "      <td>21.726141</td>\n",
       "      <td>11.05442</td>\n",
       "      <td>1.636090</td>\n",
       "      <td>3.460952</td>\n",
       "      <td>4.666227</td>\n",
       "    </tr>\n",
       "    <tr>\n",
       "      <th>min</th>\n",
       "      <td>1.000000</td>\n",
       "      <td>5.200000</td>\n",
       "      <td>0.000000</td>\n",
       "      <td>43.000000</td>\n",
       "      <td>0.000000</td>\n",
       "      <td>1.00000</td>\n",
       "      <td>2.500000</td>\n",
       "      <td>41.328376</td>\n",
       "      <td>-0.369758</td>\n",
       "    </tr>\n",
       "    <tr>\n",
       "      <th>25%</th>\n",
       "      <td>169.000000</td>\n",
       "      <td>8.100000</td>\n",
       "      <td>2.000000</td>\n",
       "      <td>1161.000000</td>\n",
       "      <td>5.000000</td>\n",
       "      <td>1.00000</td>\n",
       "      <td>7.500000</td>\n",
       "      <td>48.214066</td>\n",
       "      <td>-0.143372</td>\n",
       "    </tr>\n",
       "    <tr>\n",
       "      <th>50%</th>\n",
       "      <td>342.000000</td>\n",
       "      <td>8.400000</td>\n",
       "      <td>9.000000</td>\n",
       "      <td>2134.000000</td>\n",
       "      <td>11.000000</td>\n",
       "      <td>3.00000</td>\n",
       "      <td>8.800000</td>\n",
       "      <td>51.499981</td>\n",
       "      <td>0.019886</td>\n",
       "    </tr>\n",
       "    <tr>\n",
       "      <th>75%</th>\n",
       "      <td>660.000000</td>\n",
       "      <td>8.800000</td>\n",
       "      <td>23.000000</td>\n",
       "      <td>3613.000000</td>\n",
       "      <td>22.000000</td>\n",
       "      <td>8.00000</td>\n",
       "      <td>9.600000</td>\n",
       "      <td>51.516288</td>\n",
       "      <td>4.841163</td>\n",
       "    </tr>\n",
       "    <tr>\n",
       "      <th>max</th>\n",
       "      <td>2682.000000</td>\n",
       "      <td>9.800000</td>\n",
       "      <td>408.000000</td>\n",
       "      <td>16670.000000</td>\n",
       "      <td>395.000000</td>\n",
       "      <td>355.00000</td>\n",
       "      <td>10.000000</td>\n",
       "      <td>52.400181</td>\n",
       "      <td>16.445799</td>\n",
       "    </tr>\n",
       "  </tbody>\n",
       "</table>\n",
       "</div>"
      ],
      "text/plain": [
       "       additional_number_of_scoring  average_score  \\\n",
       "count                 386803.000000  386803.000000   \n",
       "mean                     498.246536       8.397231   \n",
       "std                      500.258012       0.547881   \n",
       "min                        1.000000       5.200000   \n",
       "25%                      169.000000       8.100000   \n",
       "50%                      342.000000       8.400000   \n",
       "75%                      660.000000       8.800000   \n",
       "max                     2682.000000       9.800000   \n",
       "\n",
       "       review_total_negative_word_counts  total_number_of_reviews  \\\n",
       "count                      386803.000000            386803.000000   \n",
       "mean                           18.538988              2743.992042   \n",
       "std                            29.703369              2316.457018   \n",
       "min                             0.000000                43.000000   \n",
       "25%                             2.000000              1161.000000   \n",
       "50%                             9.000000              2134.000000   \n",
       "75%                            23.000000              3613.000000   \n",
       "max                           408.000000             16670.000000   \n",
       "\n",
       "       review_total_positive_word_counts  \\\n",
       "count                      386803.000000   \n",
       "mean                           17.776985   \n",
       "std                            21.726141   \n",
       "min                             0.000000   \n",
       "25%                             5.000000   \n",
       "50%                            11.000000   \n",
       "75%                            22.000000   \n",
       "max                           395.000000   \n",
       "\n",
       "       total_number_of_reviews_reviewer_has_given  reviewer_score  \\\n",
       "count                                386803.00000   386803.000000   \n",
       "mean                                      7.17725        8.396906   \n",
       "std                                      11.05442        1.636090   \n",
       "min                                       1.00000        2.500000   \n",
       "25%                                       1.00000        7.500000   \n",
       "50%                                       3.00000        8.800000   \n",
       "75%                                       8.00000        9.600000   \n",
       "max                                     355.00000       10.000000   \n",
       "\n",
       "                 lat            lng  \n",
       "count  386803.000000  386803.000000  \n",
       "mean       49.433430       2.892393  \n",
       "std         3.460952       4.666227  \n",
       "min        41.328376      -0.369758  \n",
       "25%        48.214066      -0.143372  \n",
       "50%        51.499981       0.019886  \n",
       "75%        51.516288       4.841163  \n",
       "max        52.400181      16.445799  "
      ]
     },
     "execution_count": 49,
     "metadata": {},
     "output_type": "execute_result"
    }
   ],
   "source": [
    "# Использование метода describe()\n",
    "hotels_eda[mask_no_test].describe()"
   ]
  },
  {
   "cell_type": "markdown",
   "metadata": {},
   "source": [
    "### 2.4.1. распределение additional_number_of_scoring"
   ]
  },
  {
   "cell_type": "code",
   "execution_count": 133,
   "metadata": {},
   "outputs": [
    {
     "data": {
      "text/plain": [
       "<AxesSubplot: xlabel='additional_number_of_scoring'>"
      ]
     },
     "execution_count": 133,
     "metadata": {},
     "output_type": "execute_result"
    },
    {
     "data": {
      "image/png": "[encoded data removed]",
      "text/plain": [
       "<Figure size 432x216 with 1 Axes>"
      ]
     },
     "metadata": {},
     "output_type": "display_data"
    }
   ],
   "source": [
    "sns.set_theme()\n",
    "plt.rcParams['figure.figsize'] = (6,3)\n",
    "sns.boxplot(data=hotels_eda, x='additional_number_of_scoring')"
   ]
  },
  {
   "cell_type": "code",
   "execution_count": 51,
   "metadata": {},
   "outputs": [
    {
     "data": {
      "text/plain": [
       "<AxesSubplot: >"
      ]
     },
     "execution_count": 51,
     "metadata": {},
     "output_type": "execute_result"
    },
    {
     "data": {
      "image/png": "[encoded data removed]",
      "text/plain": [
       "<Figure size 432x216 with 1 Axes>"
      ]
     },
     "metadata": {},
     "output_type": "display_data"
    }
   ],
   "source": [
    "# посмотрим как нормализует переменную логарифмирование\n",
    "np.log(hotels_eda.additional_number_of_scoring).hist(bins = 100)"
   ]
  },
  {
   "cell_type": "code",
   "execution_count": 52,
   "metadata": {},
   "outputs": [
    {
     "name": "stderr",
     "output_type": "stream",
     "text": [
      "*c* argument looks like a single numeric RGB or RGBA sequence, which should be avoided as value-mapping will have precedence in case its length matches with *x* & *y*.  Please use the *color* keyword-argument or provide a 2D array with a single row if you intend to specify the same RGB or RGBA value for all points.\n"
     ]
    },
    {
     "data": {
      "text/plain": [
       "<AxesSubplot: xlabel='additional_number_of_scoring', ylabel='reviewer_score'>"
      ]
     },
     "execution_count": 52,
     "metadata": {},
     "output_type": "execute_result"
    },
    {
     "data": {
      "image/png": "[encoded data removed]",
      "text/plain": [
       "<Figure size 432x216 with 1 Axes>"
      ]
     },
     "metadata": {},
     "output_type": "display_data"
    }
   ],
   "source": [
    "#  ну и заодно глянем на диаграмму рассеивания\n",
    "hotels_eda[mask_no_test].plot(x='additional_number_of_scoring', y='reviewer_score', kind='scatter')"
   ]
  },
  {
   "cell_type": "markdown",
   "metadata": {},
   "source": [
    "### 2.4.2. распределение average_score"
   ]
  },
  {
   "cell_type": "code",
   "execution_count": 53,
   "metadata": {},
   "outputs": [
    {
     "data": {
      "text/plain": [
       "<AxesSubplot: xlabel='average_score'>"
      ]
     },
     "execution_count": 53,
     "metadata": {},
     "output_type": "execute_result"
    },
    {
     "data": {
      "image/png": "[encoded data removed]",
      "text/plain": [
       "<Figure size 432x216 with 1 Axes>"
      ]
     },
     "metadata": {},
     "output_type": "display_data"
    }
   ],
   "source": [
    "plt.rcParams['figure.figsize'] = (6,3)\n",
    "sns.boxplot(data=hotels_eda, x='average_score')"
   ]
  },
  {
   "cell_type": "code",
   "execution_count": 54,
   "metadata": {},
   "outputs": [
    {
     "data": {
      "text/plain": [
       "<AxesSubplot: >"
      ]
     },
     "execution_count": 54,
     "metadata": {},
     "output_type": "execute_result"
    },
    {
     "data": {
      "image/png": "[encoded data removed]",
      "text/plain": [
       "<Figure size 432x216 with 1 Axes>"
      ]
     },
     "metadata": {},
     "output_type": "display_data"
    }
   ],
   "source": [
    "hotels_eda.average_score.hist(bins = 34)"
   ]
  },
  {
   "cell_type": "code",
   "execution_count": 55,
   "metadata": {},
   "outputs": [
    {
     "name": "stderr",
     "output_type": "stream",
     "text": [
      "*c* argument looks like a single numeric RGB or RGBA sequence, which should be avoided as value-mapping will have precedence in case its length matches with *x* & *y*.  Please use the *color* keyword-argument or provide a 2D array with a single row if you intend to specify the same RGB or RGBA value for all points.\n"
     ]
    },
    {
     "data": {
      "text/plain": [
       "<AxesSubplot: xlabel='average_score', ylabel='reviewer_score'>"
      ]
     },
     "execution_count": 55,
     "metadata": {},
     "output_type": "execute_result"
    },
    {
     "data": {
      "image/png": "[encoded data removed]",
      "text/plain": [
       "<Figure size 432x216 with 1 Axes>"
      ]
     },
     "metadata": {},
     "output_type": "display_data"
    }
   ],
   "source": [
    "# диаграмма рассеивания\n",
    "hotels_eda[mask_no_test].plot(x='average_score', y='reviewer_score', kind='scatter')"
   ]
  },
  {
   "cell_type": "markdown",
   "metadata": {},
   "source": [
    "### 2.4.3. распределение review_total_negative_word_counts"
   ]
  },
  {
   "cell_type": "code",
   "execution_count": 56,
   "metadata": {},
   "outputs": [
    {
     "name": "stdout",
     "output_type": "stream",
     "text": [
      "0      127890\n",
      "2       24647\n",
      "3       18144\n",
      "6       17749\n",
      "5       16809\n",
      "        ...  \n",
      "400         1\n",
      "331         1\n",
      "398         1\n",
      "408         1\n",
      "401         1\n",
      "Name: review_total_negative_word_counts, Length: 402, dtype: int64\n"
     ]
    },
    {
     "data": {
      "text/plain": [
       "<AxesSubplot: xlabel='review_total_negative_word_counts'>"
      ]
     },
     "execution_count": 56,
     "metadata": {},
     "output_type": "execute_result"
    },
    {
     "data": {
      "image/png": "[encoded data removed]",
      "text/plain": [
       "<Figure size 432x216 with 1 Axes>"
      ]
     },
     "metadata": {},
     "output_type": "display_data"
    }
   ],
   "source": [
    "print(hotels_eda.review_total_negative_word_counts.value_counts())\n",
    "plt.rcParams['figure.figsize'] = (6,3)\n",
    "sns.boxplot(data=hotels_eda, x='review_total_negative_word_counts')"
   ]
  },
  {
   "cell_type": "code",
   "execution_count": 57,
   "metadata": {},
   "outputs": [
    {
     "data": {
      "text/plain": [
       "<AxesSubplot: >"
      ]
     },
     "execution_count": 57,
     "metadata": {},
     "output_type": "execute_result"
    },
    {
     "data": {
      "image/png": "[encoded data removed]",
      "text/plain": [
       "<Figure size 432x216 with 1 Axes>"
      ]
     },
     "metadata": {},
     "output_type": "display_data"
    }
   ],
   "source": [
    "mask_many_negative = hotels_eda.review_total_negative_word_counts > 50\n",
    "hotels_eda[mask_many_negative].review_total_negative_word_counts.hist(bins = 100)"
   ]
  },
  {
   "cell_type": "code",
   "execution_count": 58,
   "metadata": {},
   "outputs": [
    {
     "data": {
      "text/plain": [
       "<AxesSubplot: >"
      ]
     },
     "execution_count": 58,
     "metadata": {},
     "output_type": "execute_result"
    },
    {
     "data": {
      "image/png": "[encoded data removed]",
      "text/plain": [
       "<Figure size 432x216 with 1 Axes>"
      ]
     },
     "metadata": {},
     "output_type": "display_data"
    }
   ],
   "source": [
    "# посмотрю на распределение без нулевых и многословных отзывов\n",
    "mask_no_zero = hotels_eda.review_total_negative_word_counts > 0\n",
    "mask_normal_negative = hotels_eda.review_total_negative_word_counts < 50\n",
    "hotels_eda[mask_no_zero & mask_normal_negative].review_total_negative_word_counts.hist(bins = 50)"
   ]
  },
  {
   "cell_type": "code",
   "execution_count": 59,
   "metadata": {},
   "outputs": [
    {
     "name": "stdout",
     "output_type": "stream",
     "text": [
      "<class 'pandas.core.series.Series'>\n",
      "Int64Index: 127890 entries, 3 to 128933\n",
      "Series name: review_total_negative_word_counts\n",
      "Non-Null Count   Dtype\n",
      "--------------   -----\n",
      "127890 non-null  int64\n",
      "dtypes: int64(1)\n",
      "memory usage: 2.0 MB\n"
     ]
    }
   ],
   "source": [
    "# посмотрю сколько вообще нулевых значений\n",
    "mask_zero_negativ = hotels_eda.review_total_negative_word_counts == 0\n",
    "hotels_eda[mask_zero_negativ].review_total_negative_word_counts.info()"
   ]
  },
  {
   "cell_type": "code",
   "execution_count": 60,
   "metadata": {},
   "outputs": [
    {
     "name": "stderr",
     "output_type": "stream",
     "text": [
      "*c* argument looks like a single numeric RGB or RGBA sequence, which should be avoided as value-mapping will have precedence in case its length matches with *x* & *y*.  Please use the *color* keyword-argument or provide a 2D array with a single row if you intend to specify the same RGB or RGBA value for all points.\n"
     ]
    },
    {
     "data": {
      "text/plain": [
       "<AxesSubplot: xlabel='review_total_negative_word_counts', ylabel='reviewer_score'>"
      ]
     },
     "execution_count": 60,
     "metadata": {},
     "output_type": "execute_result"
    },
    {
     "data": {
      "image/png": "[encoded data removed]",
      "text/plain": [
       "<Figure size 432x216 with 1 Axes>"
      ]
     },
     "metadata": {},
     "output_type": "display_data"
    }
   ],
   "source": [
    "# диаграмма рассеивания\n",
    "hotels_eda[mask_no_test].plot(x='review_total_negative_word_counts', y='reviewer_score', kind='scatter')"
   ]
  },
  {
   "cell_type": "markdown",
   "metadata": {},
   "source": [
    "### 2.4.4. распределение total_number_of_reviews"
   ]
  },
  {
   "cell_type": "code",
   "execution_count": 61,
   "metadata": {},
   "outputs": [
    {
     "data": {
      "text/plain": [
       "<AxesSubplot: xlabel='total_number_of_reviews'>"
      ]
     },
     "execution_count": 61,
     "metadata": {},
     "output_type": "execute_result"
    },
    {
     "data": {
      "image/png": "[encoded data removed]",
      "text/plain": [
       "<Figure size 432x216 with 1 Axes>"
      ]
     },
     "metadata": {},
     "output_type": "display_data"
    }
   ],
   "source": [
    "plt.rcParams['figure.figsize'] = (6,3)\n",
    "sns.boxplot(data=hotels_eda, x='total_number_of_reviews')"
   ]
  },
  {
   "cell_type": "code",
   "execution_count": 62,
   "metadata": {},
   "outputs": [
    {
     "data": {
      "text/plain": [
       "<AxesSubplot: >"
      ]
     },
     "execution_count": 62,
     "metadata": {},
     "output_type": "execute_result"
    },
    {
     "data": {
      "image/png": "[encoded data removed]",
      "text/plain": [
       "<Figure size 432x216 with 1 Axes>"
      ]
     },
     "metadata": {},
     "output_type": "display_data"
    }
   ],
   "source": [
    "# посмотрим как нормализует переменную логарифмирование\n",
    "np.log(hotels_eda.total_number_of_reviews).hist(bins = 100)"
   ]
  },
  {
   "cell_type": "code",
   "execution_count": 63,
   "metadata": {},
   "outputs": [
    {
     "name": "stderr",
     "output_type": "stream",
     "text": [
      "*c* argument looks like a single numeric RGB or RGBA sequence, which should be avoided as value-mapping will have precedence in case its length matches with *x* & *y*.  Please use the *color* keyword-argument or provide a 2D array with a single row if you intend to specify the same RGB or RGBA value for all points.\n"
     ]
    },
    {
     "data": {
      "text/plain": [
       "<AxesSubplot: xlabel='total_number_of_reviews', ylabel='reviewer_score'>"
      ]
     },
     "execution_count": 63,
     "metadata": {},
     "output_type": "execute_result"
    },
    {
     "data": {
      "image/png": "[encoded data removed]",
      "text/plain": [
       "<Figure size 432x216 with 1 Axes>"
      ]
     },
     "metadata": {},
     "output_type": "display_data"
    }
   ],
   "source": [
    "# диаграмма рассеивания\n",
    "hotels_eda[mask_no_test].plot(x='total_number_of_reviews', y='reviewer_score', kind='scatter')"
   ]
  },
  {
   "cell_type": "markdown",
   "metadata": {},
   "source": [
    "### 2.4.5. распределение review_total_positive_word_counts"
   ]
  },
  {
   "cell_type": "code",
   "execution_count": 64,
   "metadata": {},
   "outputs": [
    {
     "data": {
      "text/plain": [
       "<AxesSubplot: xlabel='review_total_positive_word_counts'>"
      ]
     },
     "execution_count": 64,
     "metadata": {},
     "output_type": "execute_result"
    },
    {
     "data": {
      "image/png": "[encoded data removed]",
      "text/plain": [
       "<Figure size 432x216 with 1 Axes>"
      ]
     },
     "metadata": {},
     "output_type": "display_data"
    }
   ],
   "source": [
    "plt.rcParams['figure.figsize'] = (6,3)\n",
    "sns.boxplot(data=hotels_eda, x='review_total_positive_word_counts')"
   ]
  },
  {
   "cell_type": "code",
   "execution_count": 65,
   "metadata": {},
   "outputs": [
    {
     "data": {
      "text/plain": [
       "<AxesSubplot: >"
      ]
     },
     "execution_count": 65,
     "metadata": {},
     "output_type": "execute_result"
    },
    {
     "data": {
      "image/png": "[encoded data removed]",
      "text/plain": [
       "<Figure size 432x216 with 1 Axes>"
      ]
     },
     "metadata": {},
     "output_type": "display_data"
    }
   ],
   "source": [
    "np.log(hotels_eda.review_total_positive_word_counts+1).hist(bins=100)"
   ]
  },
  {
   "cell_type": "markdown",
   "metadata": {},
   "source": [
    "интересненько, картина похожая с негативными словами, как будто 3 группы наложенных распределений - нулевые, до 50 слов и более 50 слов"
   ]
  },
  {
   "cell_type": "code",
   "execution_count": 66,
   "metadata": {},
   "outputs": [
    {
     "name": "stderr",
     "output_type": "stream",
     "text": [
      "*c* argument looks like a single numeric RGB or RGBA sequence, which should be avoided as value-mapping will have precedence in case its length matches with *x* & *y*.  Please use the *color* keyword-argument or provide a 2D array with a single row if you intend to specify the same RGB or RGBA value for all points.\n"
     ]
    },
    {
     "data": {
      "text/plain": [
       "<AxesSubplot: xlabel='review_total_positive_word_counts', ylabel='reviewer_score'>"
      ]
     },
     "execution_count": 66,
     "metadata": {},
     "output_type": "execute_result"
    },
    {
     "data": {
      "image/png": "[encoded data removed]",
      "text/plain": [
       "<Figure size 432x216 with 1 Axes>"
      ]
     },
     "metadata": {},
     "output_type": "display_data"
    }
   ],
   "source": [
    "# диаграмма рассеивания\n",
    "hotels_eda[mask_no_test].plot(x='review_total_positive_word_counts', y='reviewer_score', kind='scatter')"
   ]
  },
  {
   "cell_type": "markdown",
   "metadata": {},
   "source": [
    "### 2.4.6. распределение total_number_of_reviews_reviewer_has_given"
   ]
  },
  {
   "cell_type": "code",
   "execution_count": 67,
   "metadata": {},
   "outputs": [
    {
     "data": {
      "text/plain": [
       "<AxesSubplot: xlabel='total_number_of_reviews_reviewer_has_given'>"
      ]
     },
     "execution_count": 67,
     "metadata": {},
     "output_type": "execute_result"
    },
    {
     "data": {
      "image/png": "[encoded data removed]",
      "text/plain": [
       "<Figure size 720x144 with 1 Axes>"
      ]
     },
     "metadata": {},
     "output_type": "display_data"
    }
   ],
   "source": [
    "plt.rcParams['figure.figsize'] = (10,2)\n",
    "sns.boxplot(data=hotels_eda, x='total_number_of_reviews_reviewer_has_given')"
   ]
  },
  {
   "cell_type": "code",
   "execution_count": 68,
   "metadata": {},
   "outputs": [
    {
     "data": {
      "text/plain": [
       "<AxesSubplot: >"
      ]
     },
     "execution_count": 68,
     "metadata": {},
     "output_type": "execute_result"
    },
    {
     "data": {
      "image/png": "[encoded data removed]",
      "text/plain": [
       "<Figure size 432x216 with 1 Axes>"
      ]
     },
     "metadata": {},
     "output_type": "display_data"
    }
   ],
   "source": [
    "# посмотрим как нормализует переменную логарифмирование\n",
    "plt.rcParams['figure.figsize'] = (6,3)\n",
    "np.log(hotels_eda.total_number_of_reviews_reviewer_has_given).hist(bins = 60)"
   ]
  },
  {
   "cell_type": "code",
   "execution_count": 69,
   "metadata": {},
   "outputs": [
    {
     "name": "stderr",
     "output_type": "stream",
     "text": [
      "*c* argument looks like a single numeric RGB or RGBA sequence, which should be avoided as value-mapping will have precedence in case its length matches with *x* & *y*.  Please use the *color* keyword-argument or provide a 2D array with a single row if you intend to specify the same RGB or RGBA value for all points.\n"
     ]
    },
    {
     "data": {
      "text/plain": [
       "<AxesSubplot: xlabel='total_number_of_reviews_reviewer_has_given', ylabel='reviewer_score'>"
      ]
     },
     "execution_count": 69,
     "metadata": {},
     "output_type": "execute_result"
    },
    {
     "data": {
      "image/png": "[encoded data removed]",
      "text/plain": [
       "<Figure size 432x216 with 1 Axes>"
      ]
     },
     "metadata": {},
     "output_type": "display_data"
    }
   ],
   "source": [
    "# диаграмма рассеивания\n",
    "hotels_eda[mask_no_test].plot(x='total_number_of_reviews_reviewer_has_given', \n",
    "                              y='reviewer_score', kind='scatter')"
   ]
  },
  {
   "cell_type": "markdown",
   "metadata": {},
   "source": [
    "## 2.5. Feature engineering"
   ]
  },
  {
   "cell_type": "markdown",
   "metadata": {},
   "source": [
    "### 2.5.1. Добавим признак расстояние до Парижа"
   ]
  },
  {
   "cell_type": "code",
   "execution_count": 70,
   "metadata": {},
   "outputs": [
    {
     "name": "stdout",
     "output_type": "stream",
     "text": [
      "count    515738.000000\n",
      "mean        444.054477\n",
      "std         272.075164\n",
      "min           0.000000\n",
      "25%         343.000000\n",
      "50%         346.000000\n",
      "75%         638.000000\n",
      "max        1040.000000\n",
      "Name: distance, dtype: float64\n"
     ]
    },
    {
     "data": {
      "text/html": [
       "<div>\n",
       "<style scoped>\n",
       "    .dataframe tbody tr th:only-of-type {\n",
       "        vertical-align: middle;\n",
       "    }\n",
       "\n",
       "    .dataframe tbody tr th {\n",
       "        vertical-align: top;\n",
       "    }\n",
       "\n",
       "    .dataframe thead th {\n",
       "        text-align: right;\n",
       "    }\n",
       "</style>\n",
       "<table border=\"1\" class=\"dataframe\">\n",
       "  <thead>\n",
       "    <tr style=\"text-align: right;\">\n",
       "      <th></th>\n",
       "      <th>hotel_address</th>\n",
       "      <th>additional_number_of_scoring</th>\n",
       "      <th>review_date</th>\n",
       "      <th>average_score</th>\n",
       "      <th>hotel_name</th>\n",
       "      <th>reviewer_nationality</th>\n",
       "      <th>negative_review</th>\n",
       "      <th>review_total_negative_word_counts</th>\n",
       "      <th>total_number_of_reviews</th>\n",
       "      <th>positive_review</th>\n",
       "      <th>review_total_positive_word_counts</th>\n",
       "      <th>total_number_of_reviews_reviewer_has_given</th>\n",
       "      <th>reviewer_score</th>\n",
       "      <th>tags</th>\n",
       "      <th>days_since_review</th>\n",
       "      <th>distance</th>\n",
       "    </tr>\n",
       "  </thead>\n",
       "  <tbody>\n",
       "    <tr>\n",
       "      <th>98734</th>\n",
       "      <td>31 Rue de Surene 8th arr 75008 Paris France</td>\n",
       "      <td>83</td>\n",
       "      <td>7/12/2017</td>\n",
       "      <td>8.8</td>\n",
       "      <td>H_tel_du_Minist_re</td>\n",
       "      <td>new_zealand</td>\n",
       "      <td>We had a duplex upstairs bedroom with tv desk...</td>\n",
       "      <td>274</td>\n",
       "      <td>949</td>\n",
       "      <td>The service at this hotel is very good All st...</td>\n",
       "      <td>60</td>\n",
       "      <td>22</td>\n",
       "      <td>7.9</td>\n",
       "      <td>[' Leisure trip ', ' Couple ', ' Suite Duplex ...</td>\n",
       "      <td>22 days</td>\n",
       "      <td>3</td>\n",
       "    </tr>\n",
       "    <tr>\n",
       "      <th>309831</th>\n",
       "      <td>11 13 Bayley Street Bedford Square Camden Lond...</td>\n",
       "      <td>253</td>\n",
       "      <td>10/4/2015</td>\n",
       "      <td>8.1</td>\n",
       "      <td>My_Bloomsbury</td>\n",
       "      <td>united_kingdom</td>\n",
       "      <td>Small double felt quite enclosed Room on seco...</td>\n",
       "      <td>13</td>\n",
       "      <td>1161</td>\n",
       "      <td>Great location</td>\n",
       "      <td>3</td>\n",
       "      <td>2</td>\n",
       "      <td>8.8</td>\n",
       "      <td>[' Leisure trip ', ' Group ', ' Double Room ',...</td>\n",
       "      <td>669 day</td>\n",
       "      <td>345</td>\n",
       "    </tr>\n",
       "  </tbody>\n",
       "</table>\n",
       "</div>"
      ],
      "text/plain": [
       "                                            hotel_address  \\\n",
       "98734         31 Rue de Surene 8th arr 75008 Paris France   \n",
       "309831  11 13 Bayley Street Bedford Square Camden Lond...   \n",
       "\n",
       "        additional_number_of_scoring review_date  average_score  \\\n",
       "98734                             83   7/12/2017            8.8   \n",
       "309831                           253   10/4/2015            8.1   \n",
       "\n",
       "                hotel_name reviewer_nationality  \\\n",
       "98734   H_tel_du_Minist_re          new_zealand   \n",
       "309831       My_Bloomsbury       united_kingdom   \n",
       "\n",
       "                                          negative_review  \\\n",
       "98734    We had a duplex upstairs bedroom with tv desk...   \n",
       "309831   Small double felt quite enclosed Room on seco...   \n",
       "\n",
       "        review_total_negative_word_counts  total_number_of_reviews  \\\n",
       "98734                                 274                      949   \n",
       "309831                                 13                     1161   \n",
       "\n",
       "                                          positive_review  \\\n",
       "98734    The service at this hotel is very good All st...   \n",
       "309831                                     Great location   \n",
       "\n",
       "        review_total_positive_word_counts  \\\n",
       "98734                                  60   \n",
       "309831                                  3   \n",
       "\n",
       "        total_number_of_reviews_reviewer_has_given  reviewer_score  \\\n",
       "98734                                           22             7.9   \n",
       "309831                                           2             8.8   \n",
       "\n",
       "                                                     tags days_since_review  \\\n",
       "98734   [' Leisure trip ', ' Couple ', ' Suite Duplex ...           22 days   \n",
       "309831  [' Leisure trip ', ' Group ', ' Double Room ',...           669 day   \n",
       "\n",
       "        distance  \n",
       "98734          3  \n",
       "309831       345  "
      ]
     },
     "execution_count": 70,
     "metadata": {},
     "output_type": "execute_result"
    }
   ],
   "source": [
    "fe_data = hotels_eda.copy()\n",
    "fe_data['distance'] = fe_data.apply(lambda row: \n",
    "                                      haversine(lon1, \n",
    "                                                lat1,\n",
    "                                                lon2 = row['lng'], \n",
    "                                                lat2 = row['lat']), \n",
    "                                      axis=1)\n",
    "# по сути признак с расстоянием описывает наши координаты, можем исходные широты/долготы удалить\n",
    "fe_data.drop(['lat', 'lng'], axis=1, inplace=True)\n",
    "print(fe_data['distance'].describe())\n",
    "fe_data.sample(2)"
   ]
  },
  {
   "cell_type": "code",
   "execution_count": 71,
   "metadata": {},
   "outputs": [
    {
     "data": {
      "text/plain": [
       "72"
      ]
     },
     "execution_count": 71,
     "metadata": {},
     "output_type": "execute_result"
    }
   ],
   "source": [
    "fe_data.distance.nunique()"
   ]
  },
  {
   "cell_type": "markdown",
   "metadata": {},
   "source": [
    "Как видим, весь наш большой датасет сводится к 72 локациям, как раз не далее 1040км от Парижа"
   ]
  },
  {
   "cell_type": "markdown",
   "metadata": {},
   "source": [
    "### 2.5.2. Поработаем с датами"
   ]
  },
  {
   "cell_type": "code",
   "execution_count": 75,
   "metadata": {},
   "outputs": [
    {
     "name": "stdout",
     "output_type": "stream",
     "text": [
      "<class 'pandas.core.frame.DataFrame'>\n",
      "Int64Index: 515738 entries, 0 to 128934\n",
      "Data columns (total 20 columns):\n",
      " #   Column                                      Non-Null Count   Dtype  \n",
      "---  ------                                      --------------   -----  \n",
      " 0   hotel_address                               515738 non-null  object \n",
      " 1   additional_number_of_scoring                515738 non-null  int64  \n",
      " 2   average_score                               515738 non-null  float64\n",
      " 3   hotel_name                                  515738 non-null  object \n",
      " 4   reviewer_nationality                        515738 non-null  object \n",
      " 5   negative_review                             515738 non-null  object \n",
      " 6   review_total_negative_word_counts           515738 non-null  int64  \n",
      " 7   total_number_of_reviews                     515738 non-null  int64  \n",
      " 8   positive_review                             515738 non-null  object \n",
      " 9   review_total_positive_word_counts           515738 non-null  int64  \n",
      " 10  total_number_of_reviews_reviewer_has_given  515738 non-null  int64  \n",
      " 11  reviewer_score                              515738 non-null  float64\n",
      " 12  tags                                        515738 non-null  object \n",
      " 13  days_since_review                           515738 non-null  int64  \n",
      " 14  lat                                         515738 non-null  float64\n",
      " 15  lng                                         515738 non-null  float64\n",
      " 16  date_diff                                   515738 non-null  int64  \n",
      " 17  is_weekend                                  515738 non-null  int64  \n",
      " 18  wd                                          515738 non-null  int64  \n",
      " 19  md                                          515738 non-null  int64  \n",
      "dtypes: float64(4), int64(10), object(6)\n",
      "memory usage: 98.8+ MB\n",
      "None\n"
     ]
    },
    {
     "data": {
      "text/html": [
       "<div>\n",
       "<style scoped>\n",
       "    .dataframe tbody tr th:only-of-type {\n",
       "        vertical-align: middle;\n",
       "    }\n",
       "\n",
       "    .dataframe tbody tr th {\n",
       "        vertical-align: top;\n",
       "    }\n",
       "\n",
       "    .dataframe thead th {\n",
       "        text-align: right;\n",
       "    }\n",
       "</style>\n",
       "<table border=\"1\" class=\"dataframe\">\n",
       "  <thead>\n",
       "    <tr style=\"text-align: right;\">\n",
       "      <th></th>\n",
       "      <th>hotel_address</th>\n",
       "      <th>additional_number_of_scoring</th>\n",
       "      <th>average_score</th>\n",
       "      <th>hotel_name</th>\n",
       "      <th>reviewer_nationality</th>\n",
       "      <th>negative_review</th>\n",
       "      <th>review_total_negative_word_counts</th>\n",
       "      <th>total_number_of_reviews</th>\n",
       "      <th>positive_review</th>\n",
       "      <th>review_total_positive_word_counts</th>\n",
       "      <th>total_number_of_reviews_reviewer_has_given</th>\n",
       "      <th>reviewer_score</th>\n",
       "      <th>tags</th>\n",
       "      <th>days_since_review</th>\n",
       "      <th>lat</th>\n",
       "      <th>lng</th>\n",
       "      <th>date_diff</th>\n",
       "      <th>is_weekend</th>\n",
       "      <th>wd</th>\n",
       "      <th>md</th>\n",
       "    </tr>\n",
       "  </thead>\n",
       "  <tbody>\n",
       "    <tr>\n",
       "      <th>386494</th>\n",
       "      <td>41 54 Buckingham Gate Westminster Borough Lond...</td>\n",
       "      <td>1299</td>\n",
       "      <td>8.7</td>\n",
       "      <td>St_James_Court_A_Taj_Hotel_London</td>\n",
       "      <td>united_states_of_america</td>\n",
       "      <td>The shower was a little patched up Low water ...</td>\n",
       "      <td>59</td>\n",
       "      <td>5394</td>\n",
       "      <td>very clean comfortable and staff was very fri...</td>\n",
       "      <td>43</td>\n",
       "      <td>11</td>\n",
       "      <td>9.6</td>\n",
       "      <td>[' Business trip ', ' Solo traveler ', ' Execu...</td>\n",
       "      <td>578</td>\n",
       "      <td>51.498673</td>\n",
       "      <td>-0.137687</td>\n",
       "      <td>730</td>\n",
       "      <td>1</td>\n",
       "      <td>6</td>\n",
       "      <td>1</td>\n",
       "    </tr>\n",
       "    <tr>\n",
       "      <th>81126</th>\n",
       "      <td>19 New Bridge Street City of London London EC4...</td>\n",
       "      <td>126</td>\n",
       "      <td>8.6</td>\n",
       "      <td>Crowne_Plaza_London_The_City</td>\n",
       "      <td>netherlands</td>\n",
       "      <td>old rooms</td>\n",
       "      <td>3</td>\n",
       "      <td>488</td>\n",
       "      <td>Breakfast</td>\n",
       "      <td>2</td>\n",
       "      <td>16</td>\n",
       "      <td>6.7</td>\n",
       "      <td>[' Business trip ', ' Solo traveler ', ' Stand...</td>\n",
       "      <td>397</td>\n",
       "      <td>51.512243</td>\n",
       "      <td>-0.104504</td>\n",
       "      <td>720</td>\n",
       "      <td>1</td>\n",
       "      <td>5</td>\n",
       "      <td>7</td>\n",
       "    </tr>\n",
       "  </tbody>\n",
       "</table>\n",
       "</div>"
      ],
      "text/plain": [
       "                                            hotel_address  \\\n",
       "386494  41 54 Buckingham Gate Westminster Borough Lond...   \n",
       "81126   19 New Bridge Street City of London London EC4...   \n",
       "\n",
       "        additional_number_of_scoring  average_score  \\\n",
       "386494                          1299            8.7   \n",
       "81126                            126            8.6   \n",
       "\n",
       "                               hotel_name      reviewer_nationality  \\\n",
       "386494  St_James_Court_A_Taj_Hotel_London  united_states_of_america   \n",
       "81126        Crowne_Plaza_London_The_City               netherlands   \n",
       "\n",
       "                                          negative_review  \\\n",
       "386494   The shower was a little patched up Low water ...   \n",
       "81126                                           old rooms   \n",
       "\n",
       "        review_total_negative_word_counts  total_number_of_reviews  \\\n",
       "386494                                 59                     5394   \n",
       "81126                                   3                      488   \n",
       "\n",
       "                                          positive_review  \\\n",
       "386494   very clean comfortable and staff was very fri...   \n",
       "81126                                           Breakfast   \n",
       "\n",
       "        review_total_positive_word_counts  \\\n",
       "386494                                 43   \n",
       "81126                                   2   \n",
       "\n",
       "        total_number_of_reviews_reviewer_has_given  reviewer_score  \\\n",
       "386494                                          11             9.6   \n",
       "81126                                           16             6.7   \n",
       "\n",
       "                                                     tags  days_since_review  \\\n",
       "386494  [' Business trip ', ' Solo traveler ', ' Execu...                578   \n",
       "81126   [' Business trip ', ' Solo traveler ', ' Stand...                397   \n",
       "\n",
       "              lat       lng  date_diff  is_weekend  wd  md  \n",
       "386494  51.498673 -0.137687        730           1   6   1  \n",
       "81126   51.512243 -0.104504        720           1   5   7  "
      ]
     },
     "execution_count": 75,
     "metadata": {},
     "output_type": "execute_result"
    }
   ],
   "source": [
    "fe_data = hotels_eda.copy()\n",
    "# преобразуем тип признака с датой\n",
    "fe_data.review_date =  pd.to_datetime(fe_data.review_date)\n",
    "# создам признак с периодом между самым новым и самым старым отзывом по адресу отеля\n",
    "grp_name = fe_data.groupby(['hotel_address']).review_date.max() - fe_data.groupby(['hotel_address']).review_date.min()\n",
    "fe_data['date_diff'] = fe_data.hotel_address.apply(lambda x: grp_name[x]).dt.days\n",
    "# преобразуем признак days_since_review в числовой\n",
    "fe_data['days_since_review'] = pd.to_numeric(fe_data['days_since_review'].str.replace('\\D', ''), errors='coerce')\n",
    "# выделю из даты отзыва является ли выходным днем\n",
    "fe_data['is_weekend'] = fe_data.review_date.dt.weekday.apply(lambda x: 1 if x > 4 else 0)\n",
    "# выделю из даты отзыва день недели\n",
    "fe_data['wd'] = fe_data.review_date.dt.weekday\n",
    "# выделю из даты отзыва число месяца\n",
    "fe_data['md'] = fe_data.review_date.dt.month\n",
    "# удалю дату отзыва\n",
    "fe_data.drop('review_date', axis=1, inplace=True)\n",
    "print(fe_data.info())\n",
    "fe_data.sample(2)"
   ]
  },
  {
   "cell_type": "markdown",
   "metadata": {},
   "source": [
    "Посмотрю распределения синтезированных признаков"
   ]
  },
  {
   "cell_type": "code",
   "execution_count": 76,
   "metadata": {},
   "outputs": [
    {
     "data": {
      "text/plain": [
       "<AxesSubplot: >"
      ]
     },
     "execution_count": 76,
     "metadata": {},
     "output_type": "execute_result"
    },
    {
     "data": {
      "image/png": "[encoded data removed]",
      "text/plain": [
       "<Figure size 432x216 with 1 Axes>"
      ]
     },
     "metadata": {},
     "output_type": "display_data"
    }
   ],
   "source": [
    "# количество дней после отзыва\n",
    "fe_data.days_since_review.hist(bins=100)"
   ]
  },
  {
   "cell_type": "code",
   "execution_count": 84,
   "metadata": {},
   "outputs": [
    {
     "data": {
      "text/plain": [
       "<AxesSubplot: >"
      ]
     },
     "execution_count": 84,
     "metadata": {},
     "output_type": "execute_result"
    },
    {
     "data": {
      "image/png": "[encoded data removed]",
      "text/plain": [
       "<Figure size 432x216 with 1 Axes>"
      ]
     },
     "metadata": {},
     "output_type": "display_data"
    }
   ],
   "source": [
    "fe_data.date_diff.hist(bins=100)"
   ]
  },
  {
   "cell_type": "code",
   "execution_count": 85,
   "metadata": {},
   "outputs": [
    {
     "data": {
      "text/plain": [
       "<AxesSubplot: >"
      ]
     },
     "execution_count": 85,
     "metadata": {},
     "output_type": "execute_result"
    },
    {
     "data": {
      "image/png": "[encoded data removed]",
      "text/plain": [
       "<Figure size 432x216 with 1 Axes>"
      ]
     },
     "metadata": {},
     "output_type": "display_data"
    }
   ],
   "source": [
    "# менее 700 дней между самым старым и свежим отзывами по отношению к адресу\n",
    "mask_1 = fe_data.date_diff < 700\n",
    "fe_data[mask_1].date_diff.hist(bins=100)"
   ]
  },
  {
   "cell_type": "code",
   "execution_count": 86,
   "metadata": {},
   "outputs": [
    {
     "data": {
      "text/plain": [
       "<AxesSubplot: >"
      ]
     },
     "execution_count": 86,
     "metadata": {},
     "output_type": "execute_result"
    },
    {
     "data": {
      "image/png": "[encoded data removed]",
      "text/plain": [
       "<Figure size 432x216 with 1 Axes>"
      ]
     },
     "metadata": {},
     "output_type": "display_data"
    }
   ],
   "source": [
    "# от 700 и более дней между отзывами по адресу\n",
    "mask_2 = fe_data.date_diff > 699\n",
    "fe_data[mask_2].date_diff.hist(bins=50)"
   ]
  },
  {
   "cell_type": "markdown",
   "metadata": {},
   "source": [
    "Около половины всех значений имеют максимальную разницу между самым первым и самым последним отзывами - 730 дней. Кто бы знал, что это может значить"
   ]
  },
  {
   "cell_type": "code",
   "execution_count": 87,
   "metadata": {},
   "outputs": [
    {
     "data": {
      "text/plain": [
       "<AxesSubplot: >"
      ]
     },
     "execution_count": 87,
     "metadata": {},
     "output_type": "execute_result"
    },
    {
     "data": {
      "image/png": "[encoded data removed]",
      "text/plain": [
       "<Figure size 432x216 with 1 Axes>"
      ]
     },
     "metadata": {},
     "output_type": "display_data"
    }
   ],
   "source": [
    "# распределение отзывов по дням недели, 0 - понедельник\n",
    "fe_data.wd.hist(bins=13)"
   ]
  },
  {
   "cell_type": "markdown",
   "metadata": {},
   "source": [
    "чаще всего находит вдохновение написать к отелю отзыв по вторникам?"
   ]
  },
  {
   "cell_type": "code",
   "execution_count": 88,
   "metadata": {},
   "outputs": [
    {
     "data": {
      "text/plain": [
       "<AxesSubplot: >"
      ]
     },
     "execution_count": 88,
     "metadata": {},
     "output_type": "execute_result"
    },
    {
     "data": {
      "image/png": "[encoded data removed]",
      "text/plain": [
       "<Figure size 432x216 with 1 Axes>"
      ]
     },
     "metadata": {},
     "output_type": "display_data"
    }
   ],
   "source": [
    "# распределение отзывов по месяцам\n",
    "fe_data.md.hist(bins=23)"
   ]
  },
  {
   "cell_type": "markdown",
   "metadata": {},
   "source": [
    "похоже что самые \"горячие\" для отелей месяцы - май, июль и август, а самый спокойным - ноябрь. Выглядит вполне логично"
   ]
  },
  {
   "cell_type": "markdown",
   "metadata": {},
   "source": [
    "### 2.5.3. Обработаем тэги"
   ]
  },
  {
   "cell_type": "code",
   "execution_count": 55,
   "metadata": {},
   "outputs": [
    {
     "name": "stdout",
     "output_type": "stream",
     "text": [
      "0    [' Leisure trip ', ' Couple ', ' Studio Suite ...\n",
      "0    [' Leisure trip ', ' Couple ', ' Double Room '...\n",
      "Name: tags, dtype: object\n",
      "Количество уникальных тегов:  2428\n",
      "Tag lists sum:  2428\n",
      "<class 'pandas.core.frame.DataFrame'>\n",
      "Int64Index: 515738 entries, 0 to 128934\n",
      "Data columns (total 35 columns):\n",
      " #   Column                                      Non-Null Count   Dtype  \n",
      "---  ------                                      --------------   -----  \n",
      " 0   hotel_address                               515738 non-null  object \n",
      " 1   additional_number_of_scoring                515738 non-null  int64  \n",
      " 2   review_date                                 515738 non-null  object \n",
      " 3   average_score                               515738 non-null  float64\n",
      " 4   hotel_name                                  515738 non-null  object \n",
      " 5   reviewer_nationality                        515738 non-null  object \n",
      " 6   negative_review                             515738 non-null  object \n",
      " 7   review_total_negative_word_counts           515738 non-null  int64  \n",
      " 8   total_number_of_reviews                     515738 non-null  int64  \n",
      " 9   positive_review                             515738 non-null  object \n",
      " 10  review_total_positive_word_counts           515738 non-null  int64  \n",
      " 11  total_number_of_reviews_reviewer_has_given  515738 non-null  int64  \n",
      " 12  reviewer_score                              515738 non-null  float64\n",
      " 13  tags                                        515738 non-null  object \n",
      " 14  days_since_review                           515738 non-null  object \n",
      " 15  lat                                         515738 non-null  float64\n",
      " 16  lng                                         515738 non-null  float64\n",
      " 17  сount_tags                                  515738 non-null  int64  \n",
      " 18  rare_tag                                    515738 non-null  float64\n",
      " 19  popular_tag                                 515738 non-null  float64\n",
      " 20  Leisure_trip                                515738 non-null  float64\n",
      " 21  Submitted_from_a_mobile_device              515738 non-null  float64\n",
      " 22  Couple                                      515738 non-null  float64\n",
      " 23  Stayed_1_night                              515738 non-null  float64\n",
      " 24  Stayed_2_nights                             515738 non-null  float64\n",
      " 25  Solo_traveler                               515738 non-null  float64\n",
      " 26  Stayed_3_nights                             515738 non-null  float64\n",
      " 27  Business_trip                               515738 non-null  float64\n",
      " 28  Group                                       515738 non-null  float64\n",
      " 29  Family_with_young_children                  515738 non-null  float64\n",
      " 30  Stayed_4_nights                             515738 non-null  float64\n",
      " 31  Double_Room                                 515738 non-null  float64\n",
      " 32  Standard_Double_Room                        515738 non-null  float64\n",
      " 33  Superior_Double_Room                        515738 non-null  float64\n",
      " 34  Family_with_older_children                  515738 non-null  float64\n",
      "dtypes: float64(21), int64(6), object(8)\n",
      "memory usage: 157.8+ MB\n",
      "None\n"
     ]
    },
    {
     "data": {
      "text/html": [
       "<div>\n",
       "<style scoped>\n",
       "    .dataframe tbody tr th:only-of-type {\n",
       "        vertical-align: middle;\n",
       "    }\n",
       "\n",
       "    .dataframe tbody tr th {\n",
       "        vertical-align: top;\n",
       "    }\n",
       "\n",
       "    .dataframe thead th {\n",
       "        text-align: right;\n",
       "    }\n",
       "</style>\n",
       "<table border=\"1\" class=\"dataframe\">\n",
       "  <thead>\n",
       "    <tr style=\"text-align: right;\">\n",
       "      <th></th>\n",
       "      <th>hotel_address</th>\n",
       "      <th>additional_number_of_scoring</th>\n",
       "      <th>review_date</th>\n",
       "      <th>average_score</th>\n",
       "      <th>hotel_name</th>\n",
       "      <th>reviewer_nationality</th>\n",
       "      <th>negative_review</th>\n",
       "      <th>review_total_negative_word_counts</th>\n",
       "      <th>total_number_of_reviews</th>\n",
       "      <th>positive_review</th>\n",
       "      <th>review_total_positive_word_counts</th>\n",
       "      <th>total_number_of_reviews_reviewer_has_given</th>\n",
       "      <th>reviewer_score</th>\n",
       "      <th>tags</th>\n",
       "      <th>days_since_review</th>\n",
       "      <th>lat</th>\n",
       "      <th>lng</th>\n",
       "      <th>сount_tags</th>\n",
       "      <th>rare_tag</th>\n",
       "      <th>popular_tag</th>\n",
       "      <th>Leisure_trip</th>\n",
       "      <th>Submitted_from_a_mobile_device</th>\n",
       "      <th>Couple</th>\n",
       "      <th>Stayed_1_night</th>\n",
       "      <th>Stayed_2_nights</th>\n",
       "      <th>Solo_traveler</th>\n",
       "      <th>Stayed_3_nights</th>\n",
       "      <th>Business_trip</th>\n",
       "      <th>Group</th>\n",
       "      <th>Family_with_young_children</th>\n",
       "      <th>Stayed_4_nights</th>\n",
       "      <th>Double_Room</th>\n",
       "      <th>Standard_Double_Room</th>\n",
       "      <th>Superior_Double_Room</th>\n",
       "      <th>Family_with_older_children</th>\n",
       "    </tr>\n",
       "  </thead>\n",
       "  <tbody>\n",
       "    <tr>\n",
       "      <th>312874</th>\n",
       "      <td>Delflandlaan 15 Slotervaart 1062 EA Amsterdam ...</td>\n",
       "      <td>947</td>\n",
       "      <td>3/19/2017</td>\n",
       "      <td>8.7</td>\n",
       "      <td>Best Western Premier Hotel Couture</td>\n",
       "      <td>Italy</td>\n",
       "      <td>No Negative</td>\n",
       "      <td>0</td>\n",
       "      <td>8177</td>\n",
       "      <td>Great experience at this property friendly st...</td>\n",
       "      <td>11</td>\n",
       "      <td>2</td>\n",
       "      <td>10.0</td>\n",
       "      <td>[Leisure trip, Group, Standard Double or Twin ...</td>\n",
       "      <td>137 day</td>\n",
       "      <td>52.351114</td>\n",
       "      <td>4.841163</td>\n",
       "      <td>5</td>\n",
       "      <td>0.0</td>\n",
       "      <td>0.0</td>\n",
       "      <td>1.0</td>\n",
       "      <td>1.0</td>\n",
       "      <td>0.0</td>\n",
       "      <td>0.0</td>\n",
       "      <td>0.0</td>\n",
       "      <td>0.0</td>\n",
       "      <td>0.0</td>\n",
       "      <td>0.0</td>\n",
       "      <td>1.0</td>\n",
       "      <td>0.0</td>\n",
       "      <td>1.0</td>\n",
       "      <td>0.0</td>\n",
       "      <td>0.0</td>\n",
       "      <td>0.0</td>\n",
       "      <td>0.0</td>\n",
       "    </tr>\n",
       "    <tr>\n",
       "      <th>70546</th>\n",
       "      <td>Rusland 17 Amsterdam City Center 1012 CK Amste...</td>\n",
       "      <td>827</td>\n",
       "      <td>10/28/2015</td>\n",
       "      <td>8.6</td>\n",
       "      <td>Radisson Blu Hotel Amsterdam</td>\n",
       "      <td>United Kingdom</td>\n",
       "      <td>Nothing</td>\n",
       "      <td>2</td>\n",
       "      <td>4593</td>\n",
       "      <td>Recently visited Amsterdam with my mother sis...</td>\n",
       "      <td>57</td>\n",
       "      <td>1</td>\n",
       "      <td>-1.0</td>\n",
       "      <td>[Leisure trip, Family with young children, Jun...</td>\n",
       "      <td>645 day</td>\n",
       "      <td>52.370247</td>\n",
       "      <td>4.896674</td>\n",
       "      <td>5</td>\n",
       "      <td>0.0</td>\n",
       "      <td>0.0</td>\n",
       "      <td>1.0</td>\n",
       "      <td>1.0</td>\n",
       "      <td>0.0</td>\n",
       "      <td>0.0</td>\n",
       "      <td>1.0</td>\n",
       "      <td>0.0</td>\n",
       "      <td>0.0</td>\n",
       "      <td>0.0</td>\n",
       "      <td>0.0</td>\n",
       "      <td>1.0</td>\n",
       "      <td>0.0</td>\n",
       "      <td>0.0</td>\n",
       "      <td>0.0</td>\n",
       "      <td>0.0</td>\n",
       "      <td>0.0</td>\n",
       "    </tr>\n",
       "  </tbody>\n",
       "</table>\n",
       "</div>"
      ],
      "text/plain": [
       "                                            hotel_address  \\\n",
       "312874  Delflandlaan 15 Slotervaart 1062 EA Amsterdam ...   \n",
       "70546   Rusland 17 Amsterdam City Center 1012 CK Amste...   \n",
       "\n",
       "        additional_number_of_scoring review_date  average_score  \\\n",
       "312874                           947   3/19/2017            8.7   \n",
       "70546                            827  10/28/2015            8.6   \n",
       "\n",
       "                                hotel_name reviewer_nationality  \\\n",
       "312874  Best Western Premier Hotel Couture               Italy    \n",
       "70546         Radisson Blu Hotel Amsterdam      United Kingdom    \n",
       "\n",
       "       negative_review  review_total_negative_word_counts  \\\n",
       "312874     No Negative                                  0   \n",
       "70546          Nothing                                  2   \n",
       "\n",
       "        total_number_of_reviews  \\\n",
       "312874                     8177   \n",
       "70546                      4593   \n",
       "\n",
       "                                          positive_review  \\\n",
       "312874   Great experience at this property friendly st...   \n",
       "70546    Recently visited Amsterdam with my mother sis...   \n",
       "\n",
       "        review_total_positive_word_counts  \\\n",
       "312874                                 11   \n",
       "70546                                  57   \n",
       "\n",
       "        total_number_of_reviews_reviewer_has_given  reviewer_score  \\\n",
       "312874                                           2            10.0   \n",
       "70546                                            1            -1.0   \n",
       "\n",
       "                                                     tags days_since_review  \\\n",
       "312874  [Leisure trip, Group, Standard Double or Twin ...           137 day   \n",
       "70546   [Leisure trip, Family with young children, Jun...           645 day   \n",
       "\n",
       "              lat       lng  сount_tags  rare_tag  popular_tag  Leisure_trip  \\\n",
       "312874  52.351114  4.841163           5       0.0          0.0           1.0   \n",
       "70546   52.370247  4.896674           5       0.0          0.0           1.0   \n",
       "\n",
       "        Submitted_from_a_mobile_device  Couple  Stayed_1_night  \\\n",
       "312874                             1.0     0.0             0.0   \n",
       "70546                              1.0     0.0             0.0   \n",
       "\n",
       "        Stayed_2_nights  Solo_traveler  Stayed_3_nights  Business_trip  Group  \\\n",
       "312874              0.0            0.0              0.0            0.0    1.0   \n",
       "70546               1.0            0.0              0.0            0.0    0.0   \n",
       "\n",
       "        Family_with_young_children  Stayed_4_nights  Double_Room  \\\n",
       "312874                         0.0              1.0          0.0   \n",
       "70546                          1.0              0.0          0.0   \n",
       "\n",
       "        Standard_Double_Room  Superior_Double_Room  Family_with_older_children  \n",
       "312874                   0.0                   0.0                         0.0  \n",
       "70546                    0.0                   0.0                         0.0  "
      ]
     },
     "execution_count": 55,
     "metadata": {},
     "output_type": "execute_result"
    }
   ],
   "source": [
    "fe_data = hotels_eda.copy()\n",
    "print(fe_data.tags[0])\n",
    "# переведем признак с тэгами в список\n",
    "fe_data.tags = fe_data.tags.str.findall(r\"' (\\b.*?\\b) '\")\n",
    "# создам признак с количеством тегов\n",
    "fe_data['сount_tags'] = fe_data.tags.apply(lambda x: len(x))\n",
    "\n",
    "# обработаю теги с использованием библиотеки Counter\n",
    "temp_list = fe_data.tags.tolist()\n",
    "temp_Counter = Counter(list_unrar(temp_list))\n",
    "dict_tags = dict(temp_Counter)\n",
    "print('Количество уникальных тегов: ', len(list(temp_Counter)))\n",
    "\n",
    "# имеем 2428 тегов, разделим их на категории по популярности\n",
    "# список самых популярных тегов\n",
    "list_of_most_popular_tag = [x[0] for x in temp_Counter.most_common(15)]\n",
    "# список популярных тегов\n",
    "list_of_popular_tag = [x[0] for x in temp_Counter.most_common()[15:600]]\n",
    "# список редких тегов\n",
    "list_of_rare_tag = [x[0] for x in temp_Counter.most_common()[600:]]\n",
    "# проверю все ли тэги учла в списках\n",
    "print('Tag lists sum: ', (len(list_of_most_popular_tag)+len(list_of_popular_tag)+len(list_of_rare_tag)))\n",
    "# создам признаки на основе популярности тегов\n",
    "fe_data['rare_tag'] = fe_data.tags.apply(lambda x: 1 if len(set(x) & set(list_of_rare_tag))>0  else 0).astype('float64')\n",
    "fe_data['popular_tag'] = hotels_eda.tags.apply(lambda x: 1 if len(set(x) & set(list_of_popular_tag))>0  else 0).astype('float64')\n",
    "\n",
    "# а самые популярные 15 тегов выведем в отдельные категории\n",
    "for tag in list_of_most_popular_tag:\n",
    "    fe_data[tag] = fe_data.tags.apply(lambda x: 1 if tag in x else 0 ).astype('float64')\n",
    "\n",
    "# уберу пробелы в названиях колонок\n",
    "fe_data.columns = [column.replace(' ','_') for column in fe_data.columns]\n",
    "print(fe_data.info())\n",
    "fe_data.sample(2)"
   ]
  },
  {
   "cell_type": "code",
   "execution_count": 56,
   "metadata": {},
   "outputs": [
    {
     "name": "stdout",
     "output_type": "stream",
     "text": [
      "count    515738.000000\n",
      "mean          4.569359\n",
      "std           0.520187\n",
      "min           1.000000\n",
      "25%           4.000000\n",
      "50%           5.000000\n",
      "75%           5.000000\n",
      "max           6.000000\n",
      "Name: сount_tags, dtype: float64\n"
     ]
    },
    {
     "data": {
      "text/plain": [
       "<AxesSubplot: >"
      ]
     },
     "execution_count": 56,
     "metadata": {},
     "output_type": "execute_result"
    },
    {
     "data": {
      "image/png": "[encoded data removed]",
      "text/plain": [
       "<Figure size 432x216 with 1 Axes>"
      ]
     },
     "metadata": {
      "needs_background": "light"
     },
     "output_type": "display_data"
    }
   ],
   "source": [
    "print(fe_data['сount_tags'].describe())\n",
    "fe_data['сount_tags'].hist(bins = 11)"
   ]
  },
  {
   "cell_type": "code",
   "execution_count": 57,
   "metadata": {},
   "outputs": [
    {
     "data": {
      "text/plain": [
       "5    297823\n",
       "4    211564\n",
       "3      5505\n",
       "6       755\n",
       "2        85\n",
       "1         6\n",
       "Name: сount_tags, dtype: int64"
      ]
     },
     "execution_count": 57,
     "metadata": {},
     "output_type": "execute_result"
    }
   ],
   "source": [
    "fe_data['сount_tags'].value_counts()"
   ]
  },
  {
   "cell_type": "code",
   "execution_count": 58,
   "metadata": {},
   "outputs": [
    {
     "data": {
      "text/plain": [
       "<AxesSubplot: xlabel='сount_tags', ylabel='reviewer_score'>"
      ]
     },
     "execution_count": 58,
     "metadata": {},
     "output_type": "execute_result"
    },
    {
     "data": {
      "image/png": "[encoded data removed]",
      "text/plain": [
       "<Figure size 432x216 with 1 Axes>"
      ]
     },
     "metadata": {
      "needs_background": "light"
     },
     "output_type": "display_data"
    }
   ],
   "source": [
    "# диаграмма рассеивания\n",
    "fe_data[mask_no_test].plot(x='сount_tags', y='reviewer_score', kind='scatter')"
   ]
  },
  {
   "cell_type": "markdown",
   "metadata": {},
   "source": [
    "### 2.5.4. Обработаем тексты отзывов"
   ]
  },
  {
   "cell_type": "code",
   "execution_count": 89,
   "metadata": {},
   "outputs": [
    {
     "name": "stdout",
     "output_type": "stream",
     "text": [
      "count    515738.000000\n",
      "mean         -0.209151\n",
      "std           0.453386\n",
      "min          -0.998100\n",
      "25%          -0.709600\n",
      "50%          -0.177900\n",
      "75%           0.000000\n",
      "max           0.996400\n",
      "Name: neg_compound, dtype: float64\n",
      "count    515738.000000\n",
      "mean          0.593533\n",
      "std           0.342460\n",
      "min          -0.983200\n",
      "25%           0.350600\n",
      "50%           0.708900\n",
      "75%           0.883400\n",
      "max           0.999300\n",
      "Name: pos_compound, dtype: float64\n",
      "count     515738\n",
      "unique         2\n",
      "top          neg\n",
      "freq      275586\n",
      "Name: neg_comp_score, dtype: object\n",
      "count     515738\n",
      "unique         2\n",
      "top          pos\n",
      "freq      508498\n",
      "Name: pos_comp_score, dtype: object\n"
     ]
    },
    {
     "data": {
      "text/html": [
       "<div>\n",
       "<style scoped>\n",
       "    .dataframe tbody tr th:only-of-type {\n",
       "        vertical-align: middle;\n",
       "    }\n",
       "\n",
       "    .dataframe tbody tr th {\n",
       "        vertical-align: top;\n",
       "    }\n",
       "\n",
       "    .dataframe thead th {\n",
       "        text-align: right;\n",
       "    }\n",
       "</style>\n",
       "<table border=\"1\" class=\"dataframe\">\n",
       "  <thead>\n",
       "    <tr style=\"text-align: right;\">\n",
       "      <th></th>\n",
       "      <th>hotel_address</th>\n",
       "      <th>additional_number_of_scoring</th>\n",
       "      <th>review_date</th>\n",
       "      <th>average_score</th>\n",
       "      <th>hotel_name</th>\n",
       "      <th>reviewer_nationality</th>\n",
       "      <th>negative_review</th>\n",
       "      <th>review_total_negative_word_counts</th>\n",
       "      <th>total_number_of_reviews</th>\n",
       "      <th>positive_review</th>\n",
       "      <th>review_total_positive_word_counts</th>\n",
       "      <th>total_number_of_reviews_reviewer_has_given</th>\n",
       "      <th>reviewer_score</th>\n",
       "      <th>tags</th>\n",
       "      <th>days_since_review</th>\n",
       "      <th>lat</th>\n",
       "      <th>lng</th>\n",
       "      <th>neg_scores</th>\n",
       "      <th>pos_scores</th>\n",
       "      <th>neg_compound</th>\n",
       "      <th>pos_compound</th>\n",
       "      <th>neg_comp_score</th>\n",
       "      <th>pos_comp_score</th>\n",
       "    </tr>\n",
       "  </thead>\n",
       "  <tbody>\n",
       "    <tr>\n",
       "      <th>39783</th>\n",
       "      <td>Via Santa Sofia 10 Milan City Center 20122 Mil...</td>\n",
       "      <td>325</td>\n",
       "      <td>6/29/2016</td>\n",
       "      <td>8.5</td>\n",
       "      <td>Uptown_Palace</td>\n",
       "      <td>united_kingdom</td>\n",
       "      <td>Gym would have been nice</td>\n",
       "      <td>6</td>\n",
       "      <td>2901</td>\n",
       "      <td>Interior beautiful but business like Beds ver...</td>\n",
       "      <td>28</td>\n",
       "      <td>12</td>\n",
       "      <td>10.0</td>\n",
       "      <td>[' Leisure trip ', ' Group ', ' Superior Doubl...</td>\n",
       "      <td>400 day</td>\n",
       "      <td>45.457465</td>\n",
       "      <td>9.191914</td>\n",
       "      <td>{'neg': 0.0, 'neu': 0.588, 'pos': 0.412, 'comp...</td>\n",
       "      <td>{'neg': 0.0, 'neu': 0.469, 'pos': 0.531, 'comp...</td>\n",
       "      <td>0.4215</td>\n",
       "      <td>0.9703</td>\n",
       "      <td>pos</td>\n",
       "      <td>pos</td>\n",
       "    </tr>\n",
       "    <tr>\n",
       "      <th>117292</th>\n",
       "      <td>22 Hertsmere Road Tower Hamlets London E14 4ED...</td>\n",
       "      <td>930</td>\n",
       "      <td>10/20/2015</td>\n",
       "      <td>8.9</td>\n",
       "      <td>London_Marriott_Hotel_West_India_Quay</td>\n",
       "      <td>united_kingdom</td>\n",
       "      <td>No Negative</td>\n",
       "      <td>0</td>\n",
       "      <td>2836</td>\n",
       "      <td>The friendliness of the staff from reception ...</td>\n",
       "      <td>16</td>\n",
       "      <td>1</td>\n",
       "      <td>9.6</td>\n",
       "      <td>[' Leisure trip ', ' Group ', ' Deluxe King or...</td>\n",
       "      <td>653 day</td>\n",
       "      <td>51.507271</td>\n",
       "      <td>-0.021121</td>\n",
       "      <td>{'neg': 1.0, 'neu': 0.0, 'pos': 0.0, 'compound...</td>\n",
       "      <td>{'neg': 0.0, 'neu': 0.812, 'pos': 0.188, 'comp...</td>\n",
       "      <td>-0.7096</td>\n",
       "      <td>0.4588</td>\n",
       "      <td>neg</td>\n",
       "      <td>pos</td>\n",
       "    </tr>\n",
       "    <tr>\n",
       "      <th>306099</th>\n",
       "      <td>21 rue de Dunkerque 10th arr 75010 Paris France</td>\n",
       "      <td>740</td>\n",
       "      <td>12/15/2015</td>\n",
       "      <td>7.4</td>\n",
       "      <td>Mercure_Paris_Terminus_Nord</td>\n",
       "      <td>united_kingdom</td>\n",
       "      <td>Slow check out due to Staff chatting when the...</td>\n",
       "      <td>21</td>\n",
       "      <td>5575</td>\n",
       "      <td>Room surprisingly nice and great view on to g...</td>\n",
       "      <td>54</td>\n",
       "      <td>1</td>\n",
       "      <td>7.5</td>\n",
       "      <td>[' Leisure trip ', ' Group ', ' Standard Room ...</td>\n",
       "      <td>597 day</td>\n",
       "      <td>48.879484</td>\n",
       "      <td>2.355654</td>\n",
       "      <td>{'neg': 0.0, 'neu': 1.0, 'pos': 0.0, 'compound...</td>\n",
       "      <td>{'neg': 0.0, 'neu': 0.652, 'pos': 0.348, 'comp...</td>\n",
       "      <td>0.0000</td>\n",
       "      <td>0.9698</td>\n",
       "      <td>pos</td>\n",
       "      <td>pos</td>\n",
       "    </tr>\n",
       "  </tbody>\n",
       "</table>\n",
       "</div>"
      ],
      "text/plain": [
       "                                            hotel_address  \\\n",
       "39783   Via Santa Sofia 10 Milan City Center 20122 Mil...   \n",
       "117292  22 Hertsmere Road Tower Hamlets London E14 4ED...   \n",
       "306099    21 rue de Dunkerque 10th arr 75010 Paris France   \n",
       "\n",
       "        additional_number_of_scoring review_date  average_score  \\\n",
       "39783                            325   6/29/2016            8.5   \n",
       "117292                           930  10/20/2015            8.9   \n",
       "306099                           740  12/15/2015            7.4   \n",
       "\n",
       "                                   hotel_name reviewer_nationality  \\\n",
       "39783                           Uptown_Palace       united_kingdom   \n",
       "117292  London_Marriott_Hotel_West_India_Quay       united_kingdom   \n",
       "306099            Mercure_Paris_Terminus_Nord       united_kingdom   \n",
       "\n",
       "                                          negative_review  \\\n",
       "39783                            Gym would have been nice   \n",
       "117292                                        No Negative   \n",
       "306099   Slow check out due to Staff chatting when the...   \n",
       "\n",
       "        review_total_negative_word_counts  total_number_of_reviews  \\\n",
       "39783                                   6                     2901   \n",
       "117292                                  0                     2836   \n",
       "306099                                 21                     5575   \n",
       "\n",
       "                                          positive_review  \\\n",
       "39783    Interior beautiful but business like Beds ver...   \n",
       "117292   The friendliness of the staff from reception ...   \n",
       "306099   Room surprisingly nice and great view on to g...   \n",
       "\n",
       "        review_total_positive_word_counts  \\\n",
       "39783                                  28   \n",
       "117292                                 16   \n",
       "306099                                 54   \n",
       "\n",
       "        total_number_of_reviews_reviewer_has_given  reviewer_score  \\\n",
       "39783                                           12            10.0   \n",
       "117292                                           1             9.6   \n",
       "306099                                           1             7.5   \n",
       "\n",
       "                                                     tags days_since_review  \\\n",
       "39783   [' Leisure trip ', ' Group ', ' Superior Doubl...           400 day   \n",
       "117292  [' Leisure trip ', ' Group ', ' Deluxe King or...           653 day   \n",
       "306099  [' Leisure trip ', ' Group ', ' Standard Room ...           597 day   \n",
       "\n",
       "              lat       lng  \\\n",
       "39783   45.457465  9.191914   \n",
       "117292  51.507271 -0.021121   \n",
       "306099  48.879484  2.355654   \n",
       "\n",
       "                                               neg_scores  \\\n",
       "39783   {'neg': 0.0, 'neu': 0.588, 'pos': 0.412, 'comp...   \n",
       "117292  {'neg': 1.0, 'neu': 0.0, 'pos': 0.0, 'compound...   \n",
       "306099  {'neg': 0.0, 'neu': 1.0, 'pos': 0.0, 'compound...   \n",
       "\n",
       "                                               pos_scores  neg_compound  \\\n",
       "39783   {'neg': 0.0, 'neu': 0.469, 'pos': 0.531, 'comp...        0.4215   \n",
       "117292  {'neg': 0.0, 'neu': 0.812, 'pos': 0.188, 'comp...       -0.7096   \n",
       "306099  {'neg': 0.0, 'neu': 0.652, 'pos': 0.348, 'comp...        0.0000   \n",
       "\n",
       "        pos_compound neg_comp_score pos_comp_score  \n",
       "39783         0.9703            pos            pos  \n",
       "117292        0.4588            neg            pos  \n",
       "306099        0.9698            pos            pos  "
      ]
     },
     "execution_count": 89,
     "metadata": {},
     "output_type": "execute_result"
    }
   ],
   "source": [
    "fe_data = hotels_eda.copy()\n",
    "\n",
    "sid = SentimentIntensityAnalyzer()\n",
    "\n",
    "fe_data['neg_scores'] = fe_data['negative_review'].apply(lambda review: sid.polarity_scores(review))\n",
    "fe_data['pos_scores'] = fe_data['positive_review'].apply(lambda review: sid.polarity_scores(review))\n",
    "\n",
    "fe_data['neg_compound']  = fe_data['neg_scores'].apply(lambda score_dict: score_dict['compound'])\n",
    "fe_data['pos_compound']  = fe_data['pos_scores'].apply(lambda score_dict: score_dict['compound'])\n",
    "\n",
    "fe_data['neg_comp_score'] = fe_data['neg_compound'].apply(lambda c: 'pos' if c >=0 else 'neg')\n",
    "fe_data['pos_comp_score'] = fe_data['pos_compound'].apply(lambda c: 'pos' if c >=0 else 'neg')\n",
    "\n",
    "print(fe_data['neg_compound'].describe())\n",
    "print(fe_data['pos_compound'].describe())\n",
    "print(fe_data['neg_comp_score'].describe())\n",
    "print(fe_data['pos_comp_score'].describe())\n",
    "\n",
    "fe_data.sample(3)"
   ]
  },
  {
   "cell_type": "code",
   "execution_count": 91,
   "metadata": {},
   "outputs": [
    {
     "data": {
      "text/plain": [
       "<AxesSubplot: xlabel='reviewer_score', ylabel='neg_comp_score'>"
      ]
     },
     "execution_count": 91,
     "metadata": {},
     "output_type": "execute_result"
    },
    {
     "data": {
      "image/png": "[encoded data removed]",
      "text/plain": [
       "<Figure size 432x216 with 1 Axes>"
      ]
     },
     "metadata": {},
     "output_type": "display_data"
    }
   ],
   "source": [
    "# распределение позитивных и негативных оценок в негативных отзывах\n",
    "plt.rcParams['figure.figsize'] = (6,3)\n",
    "sns.boxplot(\n",
    "    data=fe_data[mask_no_test], x=\"reviewer_score\", y=\"neg_comp_score\",\n",
    "    notch=True, showcaps=False,\n",
    "    flierprops={\"marker\": \"x\"},\n",
    "    medianprops={\"color\": \"coral\"},\n",
    ")"
   ]
  },
  {
   "cell_type": "code",
   "execution_count": 93,
   "metadata": {},
   "outputs": [
    {
     "data": {
      "text/plain": [
       "<AxesSubplot: xlabel='reviewer_score', ylabel='pos_comp_score'>"
      ]
     },
     "execution_count": 93,
     "metadata": {},
     "output_type": "execute_result"
    },
    {
     "data": {
      "image/png": "[encoded data removed]",
      "text/plain": [
       "<Figure size 432x216 with 1 Axes>"
      ]
     },
     "metadata": {},
     "output_type": "display_data"
    }
   ],
   "source": [
    "# распределение позитивных и негативных оценок в позитивных отзывах\n",
    "plt.rcParams['figure.figsize'] = (6,3)\n",
    "sns.boxplot(\n",
    "    data=fe_data[mask_no_test], x=\"reviewer_score\", y=\"pos_comp_score\",\n",
    "    notch=True, showcaps=False,\n",
    "    flierprops={\"marker\": \"x\"},\n",
    "    boxprops={\"facecolor\": (.4, .6, .8, .5)},\n",
    "    medianprops={\"color\": \"coral\"},\n",
    ")"
   ]
  },
  {
   "cell_type": "markdown",
   "metadata": {},
   "source": [
    "### 2.5.5. Обработаю адрес"
   ]
  },
  {
   "cell_type": "code",
   "execution_count": 94,
   "metadata": {},
   "outputs": [
    {
     "name": "stdout",
     "output_type": "stream",
     "text": [
      "['United_Kingdom' 'Paris_France' 'Amsterdam_Netherlands' 'Milan_Italy'\n",
      " 'Vienna_Austria' 'Barcelona_Spain']\n"
     ]
    },
    {
     "data": {
      "text/plain": [
       "United_Kingdom           262301\n",
       "Barcelona_Spain           60149\n",
       "Paris_France              59928\n",
       "Amsterdam_Netherlands     57214\n",
       "Vienna_Austria            38939\n",
       "Milan_Italy               37207\n",
       "Name: location, dtype: int64"
      ]
     },
     "execution_count": 94,
     "metadata": {},
     "output_type": "execute_result"
    }
   ],
   "source": [
    "#fe_data = hotels_eda.copy()\n",
    "fe_data['location'] = fe_data.hotel_address.str.split().str[-2:].apply(lambda x: '_'.join(x))\n",
    "print(fe_data.location.unique())\n",
    "fe_data.location.value_counts()"
   ]
  },
  {
   "cell_type": "code",
   "execution_count": 95,
   "metadata": {},
   "outputs": [
    {
     "data": {
      "text/plain": [
       "<AxesSubplot: >"
      ]
     },
     "execution_count": 95,
     "metadata": {},
     "output_type": "execute_result"
    },
    {
     "data": {
      "image/png": "[encoded data removed]",
      "text/plain": [
       "<Figure size 576x216 with 1 Axes>"
      ]
     },
     "metadata": {},
     "output_type": "display_data"
    }
   ],
   "source": [
    "# посмотрим на количественное соотношение отзывов по городам\n",
    "plt.rcParams['figure.figsize'] = (8,3)\n",
    "plt.xticks(rotation=45)\n",
    "fe_data[mask_no_test]['location'].value_counts(ascending=True).plot(kind='barh')"
   ]
  },
  {
   "cell_type": "markdown",
   "metadata": {},
   "source": [
    "Теперь понятно почему примерно половина значений на всех распределниях выделяются в отдельную группу, это как раз отзывы из Великобритании. Судя по всему у нас представлены столицы, а население Лондона как мегаполиса значительно больше чем в европейских городах."
   ]
  },
  {
   "cell_type": "code",
   "execution_count": 96,
   "metadata": {},
   "outputs": [
    {
     "data": {
      "text/plain": [
       "<AxesSubplot: xlabel='reviewer_score', ylabel='location'>"
      ]
     },
     "execution_count": 96,
     "metadata": {},
     "output_type": "execute_result"
    },
    {
     "data": {
      "image/png": "[encoded data removed]",
      "text/plain": [
       "<Figure size 432x216 with 1 Axes>"
      ]
     },
     "metadata": {},
     "output_type": "display_data"
    }
   ],
   "source": [
    "# распределение целевой переменной по городам\n",
    "plt.rcParams['figure.figsize'] = (6,3)\n",
    "sns.boxplot(\n",
    "    data=fe_data[mask_no_test], x=\"reviewer_score\", y=\"location\",\n",
    "    notch=True, showcaps=False,\n",
    "    flierprops={\"marker\": \"x\"},\n",
    "    boxprops={\"facecolor\": (.4, .6, .8, .5)},\n",
    "    medianprops={\"color\": \"coral\"},\n",
    ")\n"
   ]
  },
  {
   "cell_type": "code",
   "execution_count": 97,
   "metadata": {},
   "outputs": [
    {
     "data": {
      "text/plain": [
       "<AxesSubplot: xlabel='reviewer_score', ylabel='location'>"
      ]
     },
     "execution_count": 97,
     "metadata": {},
     "output_type": "execute_result"
    },
    {
     "data": {
      "image/png": "[encoded data removed]",
      "text/plain": [
       "<Figure size 864x432 with 1 Axes>"
      ]
     },
     "metadata": {},
     "output_type": "display_data"
    }
   ],
   "source": [
    "# распределение позитивных и негативных оценок в негативных отзывах по городам\n",
    "plt.rcParams['figure.figsize'] = (12,6)\n",
    "sns.boxplot(\n",
    "    data=fe_data[mask_no_test], x=\"reviewer_score\", y=\"location\",\n",
    "    hue = 'neg_comp_score',\n",
    "    notch=True, showcaps=False,\n",
    "    flierprops={\"marker\": \"x\"},\n",
    "    medianprops={\"color\": \"coral\"},\n",
    ")"
   ]
  },
  {
   "cell_type": "markdown",
   "metadata": {},
   "source": [
    "Как то странно, что в Париже, Амстердаме и Вене медианная оценка выше у негативных отзывов. Интересно, завышать оценку после негативного описания это культурные особенности? "
   ]
  },
  {
   "cell_type": "code",
   "execution_count": 98,
   "metadata": {},
   "outputs": [
    {
     "data": {
      "text/plain": [
       "<AxesSubplot: xlabel='reviewer_score', ylabel='location'>"
      ]
     },
     "execution_count": 98,
     "metadata": {},
     "output_type": "execute_result"
    },
    {
     "data": {
      "image/png": "[encoded data removed]",
      "text/plain": [
       "<Figure size 864x432 with 1 Axes>"
      ]
     },
     "metadata": {},
     "output_type": "display_data"
    }
   ],
   "source": [
    "# распределение позитивных и негативных оценок в негативных отзывах по городам\n",
    "plt.rcParams['figure.figsize'] = (12,6)\n",
    "sns.boxplot(\n",
    "    data=fe_data[mask_no_test], x=\"reviewer_score\", y=\"location\",\n",
    "    hue = 'pos_comp_score',\n",
    "    notch=True, showcaps=False,\n",
    "    flierprops={\"marker\": \"x\"},\n",
    "    medianprops={\"color\": \"coral\"},\n",
    ")"
   ]
  },
  {
   "cell_type": "markdown",
   "metadata": {},
   "source": [
    "Тут все выглядит более логично, оценка выше у позитивного контекста и ниже у негативного"
   ]
  },
  {
   "cell_type": "markdown",
   "metadata": {},
   "source": [
    " Добавлю признак с населением"
   ]
  },
  {
   "cell_type": "code",
   "execution_count": 101,
   "metadata": {},
   "outputs": [
    {
     "data": {
      "text/html": [
       "<div>\n",
       "<style scoped>\n",
       "    .dataframe tbody tr th:only-of-type {\n",
       "        vertical-align: middle;\n",
       "    }\n",
       "\n",
       "    .dataframe tbody tr th {\n",
       "        vertical-align: top;\n",
       "    }\n",
       "\n",
       "    .dataframe thead th {\n",
       "        text-align: right;\n",
       "    }\n",
       "</style>\n",
       "<table border=\"1\" class=\"dataframe\">\n",
       "  <thead>\n",
       "    <tr style=\"text-align: right;\">\n",
       "      <th></th>\n",
       "      <th>hotel_address</th>\n",
       "      <th>additional_number_of_scoring</th>\n",
       "      <th>review_date</th>\n",
       "      <th>average_score</th>\n",
       "      <th>hotel_name</th>\n",
       "      <th>reviewer_nationality</th>\n",
       "      <th>negative_review</th>\n",
       "      <th>review_total_negative_word_counts</th>\n",
       "      <th>total_number_of_reviews</th>\n",
       "      <th>positive_review</th>\n",
       "      <th>review_total_positive_word_counts</th>\n",
       "      <th>total_number_of_reviews_reviewer_has_given</th>\n",
       "      <th>reviewer_score</th>\n",
       "      <th>tags</th>\n",
       "      <th>days_since_review</th>\n",
       "      <th>lat</th>\n",
       "      <th>lng</th>\n",
       "      <th>neg_scores</th>\n",
       "      <th>pos_scores</th>\n",
       "      <th>neg_compound</th>\n",
       "      <th>pos_compound</th>\n",
       "      <th>neg_comp_score</th>\n",
       "      <th>pos_comp_score</th>\n",
       "      <th>location</th>\n",
       "      <th>population</th>\n",
       "      <th>pop_density</th>\n",
       "    </tr>\n",
       "  </thead>\n",
       "  <tbody>\n",
       "    <tr>\n",
       "      <th>161562</th>\n",
       "      <td>Imperial Road Hammersmith and Fulham London SW...</td>\n",
       "      <td>360</td>\n",
       "      <td>5/13/2017</td>\n",
       "      <td>8.3</td>\n",
       "      <td>DoubleTree_by_Hilton_London_Chelsea</td>\n",
       "      <td>united_kingdom</td>\n",
       "      <td>Room a little small and nowhere to put anythi...</td>\n",
       "      <td>22</td>\n",
       "      <td>1181</td>\n",
       "      <td>Staff very friendly and helpful Bar prices su...</td>\n",
       "      <td>12</td>\n",
       "      <td>7</td>\n",
       "      <td>8.8</td>\n",
       "      <td>[' Leisure trip ', ' Family with young childre...</td>\n",
       "      <td>82 days</td>\n",
       "      <td>51.475172</td>\n",
       "      <td>-0.187063</td>\n",
       "      <td>{'neg': 0.126, 'neu': 0.788, 'pos': 0.086, 'co...</td>\n",
       "      <td>{'neg': 0.0, 'neu': 0.477, 'pos': 0.523, 'comp...</td>\n",
       "      <td>-0.2312</td>\n",
       "      <td>0.8297</td>\n",
       "      <td>neg</td>\n",
       "      <td>pos</td>\n",
       "      <td>United_Kingdom</td>\n",
       "      <td>8962</td>\n",
       "      <td>5.7</td>\n",
       "    </tr>\n",
       "    <tr>\n",
       "      <th>382218</th>\n",
       "      <td>Rembrandtplein 44 Amsterdam City Center 1017 C...</td>\n",
       "      <td>76</td>\n",
       "      <td>1/28/2017</td>\n",
       "      <td>7.4</td>\n",
       "      <td>Royal_Amsterdam_Hotel</td>\n",
       "      <td>united_kingdom</td>\n",
       "      <td>Noice room size</td>\n",
       "      <td>4</td>\n",
       "      <td>627</td>\n",
       "      <td>Location</td>\n",
       "      <td>2</td>\n",
       "      <td>2</td>\n",
       "      <td>7.1</td>\n",
       "      <td>[' Leisure trip ', ' Solo traveler ', ' Small ...</td>\n",
       "      <td>187 day</td>\n",
       "      <td>52.365728</td>\n",
       "      <td>4.897288</td>\n",
       "      <td>{'neg': 0.0, 'neu': 1.0, 'pos': 0.0, 'compound...</td>\n",
       "      <td>{'neg': 0.0, 'neu': 1.0, 'pos': 0.0, 'compound...</td>\n",
       "      <td>0.0000</td>\n",
       "      <td>0.0000</td>\n",
       "      <td>pos</td>\n",
       "      <td>pos</td>\n",
       "      <td>Amsterdam_Netherlands</td>\n",
       "      <td>873</td>\n",
       "      <td>4.8</td>\n",
       "    </tr>\n",
       "    <tr>\n",
       "      <th>79785</th>\n",
       "      <td>Angli 60 Sarri St Gervasi 08017 Barcelona Spain</td>\n",
       "      <td>50</td>\n",
       "      <td>7/31/2016</td>\n",
       "      <td>8.3</td>\n",
       "      <td>Eurostars_Angli</td>\n",
       "      <td>spain</td>\n",
       "      <td>The pictures make you believe the pool is hug...</td>\n",
       "      <td>34</td>\n",
       "      <td>847</td>\n",
       "      <td>Had the pool to ourselves Great Breakfast cle...</td>\n",
       "      <td>20</td>\n",
       "      <td>8</td>\n",
       "      <td>-1.0</td>\n",
       "      <td>[' Leisure trip ', ' Couple ', ' Economy Doubl...</td>\n",
       "      <td>368 day</td>\n",
       "      <td>41.403165</td>\n",
       "      <td>2.123164</td>\n",
       "      <td>{'neg': 0.053, 'neu': 0.899, 'pos': 0.048, 'co...</td>\n",
       "      <td>{'neg': 0.0, 'neu': 0.702, 'pos': 0.298, 'comp...</td>\n",
       "      <td>-0.0477</td>\n",
       "      <td>0.7783</td>\n",
       "      <td>neg</td>\n",
       "      <td>pos</td>\n",
       "      <td>Barcelona_Spain</td>\n",
       "      <td>1636</td>\n",
       "      <td>15.8</td>\n",
       "    </tr>\n",
       "  </tbody>\n",
       "</table>\n",
       "</div>"
      ],
      "text/plain": [
       "                                            hotel_address  \\\n",
       "161562  Imperial Road Hammersmith and Fulham London SW...   \n",
       "382218  Rembrandtplein 44 Amsterdam City Center 1017 C...   \n",
       "79785     Angli 60 Sarri St Gervasi 08017 Barcelona Spain   \n",
       "\n",
       "        additional_number_of_scoring review_date  average_score  \\\n",
       "161562                           360   5/13/2017            8.3   \n",
       "382218                            76   1/28/2017            7.4   \n",
       "79785                             50   7/31/2016            8.3   \n",
       "\n",
       "                                 hotel_name reviewer_nationality  \\\n",
       "161562  DoubleTree_by_Hilton_London_Chelsea       united_kingdom   \n",
       "382218                Royal_Amsterdam_Hotel       united_kingdom   \n",
       "79785                       Eurostars_Angli                spain   \n",
       "\n",
       "                                          negative_review  \\\n",
       "161562   Room a little small and nowhere to put anythi...   \n",
       "382218                                    Noice room size   \n",
       "79785    The pictures make you believe the pool is hug...   \n",
       "\n",
       "        review_total_negative_word_counts  total_number_of_reviews  \\\n",
       "161562                                 22                     1181   \n",
       "382218                                  4                      627   \n",
       "79785                                  34                      847   \n",
       "\n",
       "                                          positive_review  \\\n",
       "161562   Staff very friendly and helpful Bar prices su...   \n",
       "382218                                           Location   \n",
       "79785    Had the pool to ourselves Great Breakfast cle...   \n",
       "\n",
       "        review_total_positive_word_counts  \\\n",
       "161562                                 12   \n",
       "382218                                  2   \n",
       "79785                                  20   \n",
       "\n",
       "        total_number_of_reviews_reviewer_has_given  reviewer_score  \\\n",
       "161562                                           7             8.8   \n",
       "382218                                           2             7.1   \n",
       "79785                                            8            -1.0   \n",
       "\n",
       "                                                     tags days_since_review  \\\n",
       "161562  [' Leisure trip ', ' Family with young childre...           82 days   \n",
       "382218  [' Leisure trip ', ' Solo traveler ', ' Small ...           187 day   \n",
       "79785   [' Leisure trip ', ' Couple ', ' Economy Doubl...           368 day   \n",
       "\n",
       "              lat       lng  \\\n",
       "161562  51.475172 -0.187063   \n",
       "382218  52.365728  4.897288   \n",
       "79785   41.403165  2.123164   \n",
       "\n",
       "                                               neg_scores  \\\n",
       "161562  {'neg': 0.126, 'neu': 0.788, 'pos': 0.086, 'co...   \n",
       "382218  {'neg': 0.0, 'neu': 1.0, 'pos': 0.0, 'compound...   \n",
       "79785   {'neg': 0.053, 'neu': 0.899, 'pos': 0.048, 'co...   \n",
       "\n",
       "                                               pos_scores  neg_compound  \\\n",
       "161562  {'neg': 0.0, 'neu': 0.477, 'pos': 0.523, 'comp...       -0.2312   \n",
       "382218  {'neg': 0.0, 'neu': 1.0, 'pos': 0.0, 'compound...        0.0000   \n",
       "79785   {'neg': 0.0, 'neu': 0.702, 'pos': 0.298, 'comp...       -0.0477   \n",
       "\n",
       "        pos_compound neg_comp_score pos_comp_score               location  \\\n",
       "161562        0.8297            neg            pos         United_Kingdom   \n",
       "382218        0.0000            pos            pos  Amsterdam_Netherlands   \n",
       "79785         0.7783            neg            pos        Barcelona_Spain   \n",
       "\n",
       "        population  pop_density  \n",
       "161562        8962          5.7  \n",
       "382218         873          4.8  \n",
       "79785         1636         15.8  "
      ]
     },
     "execution_count": 101,
     "metadata": {},
     "output_type": "execute_result"
    }
   ],
   "source": [
    "# население согласно Википедии, тыс.чел - population_dict\n",
    "# добавим признак плотности населения, тыс. чел на км - pop_density_dict\n",
    "\n",
    "fe_data['population'] = fe_data.apply(lambda row: population_dict[row['location']], axis=1)\n",
    "fe_data['pop_density'] = fe_data.apply(lambda row: pop_density_dict[row['location']], axis=1)\n",
    "fe_data.sample(3)"
   ]
  },
  {
   "cell_type": "markdown",
   "metadata": {},
   "source": [
    "# 3. Preprocessing"
   ]
  },
  {
   "cell_type": "code",
   "execution_count": 104,
   "metadata": {},
   "outputs": [],
   "source": [
    "# конечная функция полной предобработки датасета для обучения\n",
    "def preproc_data(df_input: pd.DataFrame) -> pd.DataFrame:\n",
    "    \n",
    "    df_output = df_input.copy()\n",
    "  \n",
    "    # сохраним исходные индексы в отдельный столбец\n",
    "    df_output[\"index\"] = df_output.index\n",
    "    \n",
    "    # Обработаю координаты\n",
    "    # заполню пропуски\n",
    "    df_output['lat'] = df_output['lat'].fillna(df_output['hotel_address'].map(lat_dict))\n",
    "    df_output['lng'] = df_output['lng'].fillna(df_output['hotel_address'].map(lng_dict))\n",
    "    \n",
    "    # Очистим от лишних пробелов и заменим пропуски на _ в названиях отелей и национальности ревьювера\n",
    "    df_output.reviewer_nationality = df_output.reviewer_nationality.apply(lambda x: x.strip())\n",
    "    df_output.reviewer_nationality = df_output.reviewer_nationality.str.lower().str.replace(' ', '_', \n",
    "                                                                                              regex=True)\n",
    "    df_output.hotel_name = df_output.hotel_name.str.replace(' ', '_', regex=True)\n",
    "    \n",
    "    # определю по координатам расстояние до Парижа\n",
    "    df_output['distance'] = fe_data.apply(lambda row: haversine(lon1, lat1, lon2 = row['lng'], \n",
    "                                                                lat2 = row['lat']), axis=1)\n",
    "    # по сути признак с расстоянием описывает наши координаты, можем исходные широты/долготы удалить\n",
    "    df_output.drop(['lat', 'lng'], axis=1, inplace=True)\n",
    "    \n",
    "    # Обработка тегов\n",
    "    # переведем признак с тэгами в список\n",
    "    df_output['tags_listed'] = df_output.tags.str.findall(r\"' (\\b.*?\\b) '\")\n",
    "    # создам признак с количеством тегов\n",
    "    df_output['сount_tags'] = df_output.tags_listed.apply(lambda x: len(x))\n",
    "\n",
    "    # обработаю теги с использованием библиотеки Counter\n",
    "    temp_list = df_output['tags_listed'].tolist()\n",
    "    temp_Counter = Counter(list_unrar(temp_list))\n",
    "    \n",
    "    # список самых популярных тегов\n",
    "    list_of_most_popular_tag = [x[0] for x in temp_Counter.most_common(15)]\n",
    "    # список популярных тегов\n",
    "    list_of_popular_tag = [x[0] for x in temp_Counter.most_common()[15:600]]\n",
    "    # список редких тегов\n",
    "    list_of_rare_tag = [x[0] for x in temp_Counter.most_common()[600:]]\n",
    "    \n",
    "    # создам признаки на основе популярности тегов\n",
    "    df_output['rare_tag'] = df_output.tags_listed.apply(lambda x: 1 if len(set(x) & set(list_of_rare_tag))>0  \n",
    "                                                 else 0).astype('float64')\n",
    "    df_output['popular_tag'] = df_output.tags_listed.apply(lambda x: 1 if len(set(x) & set(list_of_popular_tag))>0  \n",
    "                                                    else 0).astype('float64')\n",
    "\n",
    "    # а самые популярные 15 тегов выведем в отдельные категории\n",
    "    for tag in list_of_most_popular_tag:\n",
    "        df_output[tag] = df_output.tags_listed.apply(lambda x: 1 if tag in x else 0 ).astype('float64')\n",
    "            \n",
    "    # удвлю более не нужные столбцы с тегами\n",
    "    df_output.drop(['tags', 'tags_listed'], axis=1, inplace=True)\n",
    "    \n",
    "    # уберу пробелы в названиях колонок\n",
    "    df_output.columns = [column.replace(' ','_') for column in df_output.columns]   \n",
    "\n",
    "    # Обработка временных признаков\n",
    "    # преобразуем тип признака с датой\n",
    "    df_output.review_date =  pd.to_datetime(df_output.review_date)\n",
    "    \n",
    "    # создам признак с периодом между самым новым и самым старым отзывом по адресу отеля\n",
    "    grp_name = df_output.groupby(['hotel_address']).review_date.max() - df_output.groupby(['hotel_address']).review_date.min()\n",
    "    df_output['date_diff'] = df_output.hotel_address.apply(lambda x: grp_name[x]).dt.days\n",
    "    \n",
    "    # преобразуем признак days_since_review в числовой\n",
    "    df_output['days_since_review'] = pd.to_numeric(df_output['days_since_review'].str.split().str[0])\n",
    "    \n",
    "    # выделю из даты отзыва является ли выходным днем\n",
    "    df_output['is_weekend'] = df_output.review_date.dt.weekday.apply(lambda x: 1 if x > 4 else 0)\n",
    "    # выделю из даты отзыва день недели\n",
    "    df_output['wd'] = df_output.review_date.dt.weekday\n",
    "    # выделю из даты отзыва число месяца\n",
    "    df_output['md'] = df_output.review_date.dt.month\n",
    "    # удалю дату отзыва\n",
    "    df_output.drop('review_date', axis=1, inplace=True)\n",
    "    \n",
    "    # Обработка адреса\n",
    "    # Вытащим последние 2 слова адреса с названием города и страны\n",
    "    df_output['location'] = df_output.hotel_address.str.split().str[-2:].apply(lambda x: '_'.join(x))\n",
    "    \n",
    "    # создам признаки с населением города и плотностью населения в нем\n",
    "    df_output['population'] = df_output.apply(lambda row: population_dict[row['location']], axis=1)\n",
    "    df_output['pop_density'] = df_output.apply(lambda row: pop_density_dict[row['location']], axis=1)\n",
    "    \n",
    "    # удалю адрес\n",
    "    df_output.drop('hotel_address', axis=1, inplace=True)\n",
    "    \n",
    "    #  Обработка текстов отзывов\n",
    "    # Инициализирую анализатор текста\n",
    "    sid = SentimentIntensityAnalyzer()\n",
    "    \n",
    "    # Анализ текстов позитивных и негативных отзывов\n",
    "    df_output['neg_scores'] = df_output['negative_review'].apply(lambda review: sid.polarity_scores(review))\n",
    "    df_output['pos_scores'] = df_output['positive_review'].apply(lambda review: sid.polarity_scores(review))\n",
    "    \n",
    "    # Суммарна числовая метрика \"позитивности\" и \"негативности\" текста\n",
    "    # Отзыв более позитивный если значение > 0 и более негативный если < 0\n",
    "    df_output['neg_compound']  = df_output['neg_scores'].apply(lambda score_dict: score_dict['compound'])\n",
    "    df_output['pos_compound']  = df_output['pos_scores'].apply(lambda score_dict: score_dict['compound'])\n",
    "\n",
    "    df_output['is_pos_neg_review'] = df_output['neg_compound'].apply(lambda c: 1 if c >=0 else 0)\n",
    "    df_output['is_pos_pos_rev'] = df_output['pos_compound'].apply(lambda c: 1 if c >=0 else 0)\n",
    "\n",
    "    # удалю тексты отзывов и их метрики после анализа\n",
    "    df_output.drop(['negative_review', 'positive_review', 'neg_scores', 'pos_scores'], axis=1, inplace=True)\n",
    "    \n",
    "    # самые популярные 10 национальностей выведу в отдельные признаки\n",
    "    for nat in top_10_nationalities:\n",
    "        df_output[nat] = df_output.reviewer_nationality.apply(lambda x: 1 if tag in x else 0 ).astype('float64')\n",
    "            \n",
    "    # самые популярные 10 отелей выведу в отдельные признаки\n",
    "    for hotel in top_10_hotels:\n",
    "        df_output[hotel] = df_output.hotel_name.apply(lambda x: 1 if tag in x else 0 ).astype('float64')\n",
    "    \n",
    "    # вернем исходные индексы\n",
    "    df_output.set_index('index',inplace=True)\n",
    "        \n",
    "    return df_output\n"
   ]
  },
  {
   "cell_type": "code",
   "execution_count": 105,
   "metadata": {},
   "outputs": [
    {
     "name": "stdout",
     "output_type": "stream",
     "text": [
      "<class 'pandas.core.frame.DataFrame'>\n",
      "Int64Index: 515738 entries, 0 to 128934\n",
      "Data columns (total 60 columns):\n",
      " #   Column                                             Non-Null Count   Dtype  \n",
      "---  ------                                             --------------   -----  \n",
      " 0   additional_number_of_scoring                       515738 non-null  int64  \n",
      " 1   average_score                                      515738 non-null  float64\n",
      " 2   hotel_name                                         515738 non-null  object \n",
      " 3   reviewer_nationality                               515738 non-null  object \n",
      " 4   review_total_negative_word_counts                  515738 non-null  int64  \n",
      " 5   total_number_of_reviews                            515738 non-null  int64  \n",
      " 6   review_total_positive_word_counts                  515738 non-null  int64  \n",
      " 7   total_number_of_reviews_reviewer_has_given         515738 non-null  int64  \n",
      " 8   reviewer_score                                     515738 non-null  float64\n",
      " 9   days_since_review                                  515738 non-null  int64  \n",
      " 10  distance                                           515738 non-null  int64  \n",
      " 11  сount_tags                                         515738 non-null  int64  \n",
      " 12  rare_tag                                           515738 non-null  float64\n",
      " 13  popular_tag                                        515738 non-null  float64\n",
      " 14  Leisure_trip                                       515738 non-null  float64\n",
      " 15  Submitted_from_a_mobile_device                     515738 non-null  float64\n",
      " 16  Couple                                             515738 non-null  float64\n",
      " 17  Stayed_1_night                                     515738 non-null  float64\n",
      " 18  Stayed_2_nights                                    515738 non-null  float64\n",
      " 19  Solo_traveler                                      515738 non-null  float64\n",
      " 20  Stayed_3_nights                                    515738 non-null  float64\n",
      " 21  Business_trip                                      515738 non-null  float64\n",
      " 22  Group                                              515738 non-null  float64\n",
      " 23  Family_with_young_children                         515738 non-null  float64\n",
      " 24  Stayed_4_nights                                    515738 non-null  float64\n",
      " 25  Double_Room                                        515738 non-null  float64\n",
      " 26  Standard_Double_Room                               515738 non-null  float64\n",
      " 27  Superior_Double_Room                               515738 non-null  float64\n",
      " 28  Family_with_older_children                         515738 non-null  float64\n",
      " 29  date_diff                                          515738 non-null  int64  \n",
      " 30  is_weekend                                         515738 non-null  int64  \n",
      " 31  wd                                                 515738 non-null  int64  \n",
      " 32  md                                                 515738 non-null  int64  \n",
      " 33  location                                           515738 non-null  object \n",
      " 34  population                                         515738 non-null  int64  \n",
      " 35  pop_density                                        515738 non-null  float64\n",
      " 36  neg_compound                                       515738 non-null  float64\n",
      " 37  pos_compound                                       515738 non-null  float64\n",
      " 38  is_pos_neg_review                                  515738 non-null  int64  \n",
      " 39  is_pos_pos_rev                                     515738 non-null  int64  \n",
      " 40  united_kingdom                                     515738 non-null  float64\n",
      " 41  united_states_of_america                           515738 non-null  float64\n",
      " 42  australia                                          515738 non-null  float64\n",
      " 43  ireland                                            515738 non-null  float64\n",
      " 44  united_arab_emirates                               515738 non-null  float64\n",
      " 45  saudi_arabia                                       515738 non-null  float64\n",
      " 46  netherlands                                        515738 non-null  float64\n",
      " 47  switzerland                                        515738 non-null  float64\n",
      " 48  germany                                            515738 non-null  float64\n",
      " 49  canada                                             515738 non-null  float64\n",
      " 50  Britannia_International_Hotel_Canary_Wharf         515738 non-null  float64\n",
      " 51  Strand_Palace_Hotel                                515738 non-null  float64\n",
      " 52  Park_Plaza_Westminster_Bridge_London               515738 non-null  float64\n",
      " 53  Copthorne_Tara_Hotel_London_Kensington             515738 non-null  float64\n",
      " 54  DoubleTree_by_Hilton_Hotel_London_Tower_of_London  515738 non-null  float64\n",
      " 55  Grand_Royale_London_Hyde_Park                      515738 non-null  float64\n",
      " 56  Holiday_Inn_London_Kensington                      515738 non-null  float64\n",
      " 57  Hilton_London_Metropole                            515738 non-null  float64\n",
      " 58  Millennium_Gloucester_Hotel_London                 515738 non-null  float64\n",
      " 59  Intercontinental_London_The_O2                     515738 non-null  float64\n",
      "dtypes: float64(42), int64(15), object(3)\n",
      "memory usage: 240.0+ MB\n"
     ]
    },
    {
     "data": {
      "text/plain": [
       "None"
      ]
     },
     "metadata": {},
     "output_type": "display_data"
    },
    {
     "name": "stdout",
     "output_type": "stream",
     "text": [
      "CPU times: user 3min 27s, sys: 1.18 s, total: 3min 28s\n",
      "Wall time: 3min 28s\n"
     ]
    },
    {
     "data": {
      "text/html": [
       "<div>\n",
       "<style scoped>\n",
       "    .dataframe tbody tr th:only-of-type {\n",
       "        vertical-align: middle;\n",
       "    }\n",
       "\n",
       "    .dataframe tbody tr th {\n",
       "        vertical-align: top;\n",
       "    }\n",
       "\n",
       "    .dataframe thead th {\n",
       "        text-align: right;\n",
       "    }\n",
       "</style>\n",
       "<table border=\"1\" class=\"dataframe\">\n",
       "  <thead>\n",
       "    <tr style=\"text-align: right;\">\n",
       "      <th></th>\n",
       "      <th>additional_number_of_scoring</th>\n",
       "      <th>average_score</th>\n",
       "      <th>hotel_name</th>\n",
       "      <th>reviewer_nationality</th>\n",
       "      <th>review_total_negative_word_counts</th>\n",
       "      <th>total_number_of_reviews</th>\n",
       "      <th>review_total_positive_word_counts</th>\n",
       "      <th>total_number_of_reviews_reviewer_has_given</th>\n",
       "      <th>reviewer_score</th>\n",
       "      <th>days_since_review</th>\n",
       "      <th>distance</th>\n",
       "      <th>сount_tags</th>\n",
       "      <th>rare_tag</th>\n",
       "      <th>popular_tag</th>\n",
       "      <th>Leisure_trip</th>\n",
       "      <th>Submitted_from_a_mobile_device</th>\n",
       "      <th>Couple</th>\n",
       "      <th>Stayed_1_night</th>\n",
       "      <th>Stayed_2_nights</th>\n",
       "      <th>Solo_traveler</th>\n",
       "      <th>Stayed_3_nights</th>\n",
       "      <th>Business_trip</th>\n",
       "      <th>Group</th>\n",
       "      <th>Family_with_young_children</th>\n",
       "      <th>Stayed_4_nights</th>\n",
       "      <th>Double_Room</th>\n",
       "      <th>Standard_Double_Room</th>\n",
       "      <th>Superior_Double_Room</th>\n",
       "      <th>Family_with_older_children</th>\n",
       "      <th>date_diff</th>\n",
       "      <th>is_weekend</th>\n",
       "      <th>wd</th>\n",
       "      <th>md</th>\n",
       "      <th>location</th>\n",
       "      <th>population</th>\n",
       "      <th>pop_density</th>\n",
       "      <th>neg_compound</th>\n",
       "      <th>pos_compound</th>\n",
       "      <th>is_pos_neg_review</th>\n",
       "      <th>is_pos_pos_rev</th>\n",
       "      <th>united_kingdom</th>\n",
       "      <th>united_states_of_america</th>\n",
       "      <th>australia</th>\n",
       "      <th>ireland</th>\n",
       "      <th>united_arab_emirates</th>\n",
       "      <th>saudi_arabia</th>\n",
       "      <th>netherlands</th>\n",
       "      <th>switzerland</th>\n",
       "      <th>germany</th>\n",
       "      <th>canada</th>\n",
       "      <th>Britannia_International_Hotel_Canary_Wharf</th>\n",
       "      <th>Strand_Palace_Hotel</th>\n",
       "      <th>Park_Plaza_Westminster_Bridge_London</th>\n",
       "      <th>Copthorne_Tara_Hotel_London_Kensington</th>\n",
       "      <th>DoubleTree_by_Hilton_Hotel_London_Tower_of_London</th>\n",
       "      <th>Grand_Royale_London_Hyde_Park</th>\n",
       "      <th>Holiday_Inn_London_Kensington</th>\n",
       "      <th>Hilton_London_Metropole</th>\n",
       "      <th>Millennium_Gloucester_Hotel_London</th>\n",
       "      <th>Intercontinental_London_The_O2</th>\n",
       "    </tr>\n",
       "    <tr>\n",
       "      <th>index</th>\n",
       "      <th></th>\n",
       "      <th></th>\n",
       "      <th></th>\n",
       "      <th></th>\n",
       "      <th></th>\n",
       "      <th></th>\n",
       "      <th></th>\n",
       "      <th></th>\n",
       "      <th></th>\n",
       "      <th></th>\n",
       "      <th></th>\n",
       "      <th></th>\n",
       "      <th></th>\n",
       "      <th></th>\n",
       "      <th></th>\n",
       "      <th></th>\n",
       "      <th></th>\n",
       "      <th></th>\n",
       "      <th></th>\n",
       "      <th></th>\n",
       "      <th></th>\n",
       "      <th></th>\n",
       "      <th></th>\n",
       "      <th></th>\n",
       "      <th></th>\n",
       "      <th></th>\n",
       "      <th></th>\n",
       "      <th></th>\n",
       "      <th></th>\n",
       "      <th></th>\n",
       "      <th></th>\n",
       "      <th></th>\n",
       "      <th></th>\n",
       "      <th></th>\n",
       "      <th></th>\n",
       "      <th></th>\n",
       "      <th></th>\n",
       "      <th></th>\n",
       "      <th></th>\n",
       "      <th></th>\n",
       "      <th></th>\n",
       "      <th></th>\n",
       "      <th></th>\n",
       "      <th></th>\n",
       "      <th></th>\n",
       "      <th></th>\n",
       "      <th></th>\n",
       "      <th></th>\n",
       "      <th></th>\n",
       "      <th></th>\n",
       "      <th></th>\n",
       "      <th></th>\n",
       "      <th></th>\n",
       "      <th></th>\n",
       "      <th></th>\n",
       "      <th></th>\n",
       "      <th></th>\n",
       "      <th></th>\n",
       "      <th></th>\n",
       "      <th></th>\n",
       "    </tr>\n",
       "  </thead>\n",
       "  <tbody>\n",
       "    <tr>\n",
       "      <th>0</th>\n",
       "      <td>581</td>\n",
       "      <td>8.4</td>\n",
       "      <td>The_May_Fair_Hotel</td>\n",
       "      <td>united_kingdom</td>\n",
       "      <td>3</td>\n",
       "      <td>1994</td>\n",
       "      <td>4</td>\n",
       "      <td>7</td>\n",
       "      <td>10.0</td>\n",
       "      <td>531</td>\n",
       "      <td>344</td>\n",
       "      <td>5</td>\n",
       "      <td>0.0</td>\n",
       "      <td>1.0</td>\n",
       "      <td>1.0</td>\n",
       "      <td>1.0</td>\n",
       "      <td>1.0</td>\n",
       "      <td>0.0</td>\n",
       "      <td>1.0</td>\n",
       "      <td>0.0</td>\n",
       "      <td>0.0</td>\n",
       "      <td>0.0</td>\n",
       "      <td>0.0</td>\n",
       "      <td>0.0</td>\n",
       "      <td>0.0</td>\n",
       "      <td>0.0</td>\n",
       "      <td>0.0</td>\n",
       "      <td>0.0</td>\n",
       "      <td>0.0</td>\n",
       "      <td>729</td>\n",
       "      <td>0</td>\n",
       "      <td>4</td>\n",
       "      <td>2</td>\n",
       "      <td>United_Kingdom</td>\n",
       "      <td>8962</td>\n",
       "      <td>5.7</td>\n",
       "      <td>0.0000</td>\n",
       "      <td>0.5859</td>\n",
       "      <td>1</td>\n",
       "      <td>1</td>\n",
       "      <td>0.0</td>\n",
       "      <td>0.0</td>\n",
       "      <td>0.0</td>\n",
       "      <td>0.0</td>\n",
       "      <td>0.0</td>\n",
       "      <td>0.0</td>\n",
       "      <td>0.0</td>\n",
       "      <td>0.0</td>\n",
       "      <td>0.0</td>\n",
       "      <td>0.0</td>\n",
       "      <td>0.0</td>\n",
       "      <td>0.0</td>\n",
       "      <td>0.0</td>\n",
       "      <td>0.0</td>\n",
       "      <td>0.0</td>\n",
       "      <td>0.0</td>\n",
       "      <td>0.0</td>\n",
       "      <td>0.0</td>\n",
       "      <td>0.0</td>\n",
       "      <td>0.0</td>\n",
       "    </tr>\n",
       "    <tr>\n",
       "      <th>1</th>\n",
       "      <td>299</td>\n",
       "      <td>8.3</td>\n",
       "      <td>Mercure_London_Bloomsbury_Hotel</td>\n",
       "      <td>united_kingdom</td>\n",
       "      <td>3</td>\n",
       "      <td>1361</td>\n",
       "      <td>2</td>\n",
       "      <td>14</td>\n",
       "      <td>6.3</td>\n",
       "      <td>203</td>\n",
       "      <td>345</td>\n",
       "      <td>4</td>\n",
       "      <td>0.0</td>\n",
       "      <td>0.0</td>\n",
       "      <td>0.0</td>\n",
       "      <td>0.0</td>\n",
       "      <td>1.0</td>\n",
       "      <td>1.0</td>\n",
       "      <td>0.0</td>\n",
       "      <td>0.0</td>\n",
       "      <td>0.0</td>\n",
       "      <td>1.0</td>\n",
       "      <td>0.0</td>\n",
       "      <td>0.0</td>\n",
       "      <td>0.0</td>\n",
       "      <td>0.0</td>\n",
       "      <td>1.0</td>\n",
       "      <td>0.0</td>\n",
       "      <td>0.0</td>\n",
       "      <td>730</td>\n",
       "      <td>0</td>\n",
       "      <td>3</td>\n",
       "      <td>1</td>\n",
       "      <td>United_Kingdom</td>\n",
       "      <td>8962</td>\n",
       "      <td>5.7</td>\n",
       "      <td>-0.4767</td>\n",
       "      <td>0.0000</td>\n",
       "      <td>0</td>\n",
       "      <td>1</td>\n",
       "      <td>0.0</td>\n",
       "      <td>0.0</td>\n",
       "      <td>0.0</td>\n",
       "      <td>0.0</td>\n",
       "      <td>0.0</td>\n",
       "      <td>0.0</td>\n",
       "      <td>0.0</td>\n",
       "      <td>0.0</td>\n",
       "      <td>0.0</td>\n",
       "      <td>0.0</td>\n",
       "      <td>0.0</td>\n",
       "      <td>0.0</td>\n",
       "      <td>0.0</td>\n",
       "      <td>0.0</td>\n",
       "      <td>0.0</td>\n",
       "      <td>0.0</td>\n",
       "      <td>0.0</td>\n",
       "      <td>0.0</td>\n",
       "      <td>0.0</td>\n",
       "      <td>0.0</td>\n",
       "    </tr>\n",
       "  </tbody>\n",
       "</table>\n",
       "</div>"
      ],
      "text/plain": [
       "       additional_number_of_scoring  average_score  \\\n",
       "index                                                \n",
       "0                               581            8.4   \n",
       "1                               299            8.3   \n",
       "\n",
       "                            hotel_name reviewer_nationality  \\\n",
       "index                                                         \n",
       "0                   The_May_Fair_Hotel       united_kingdom   \n",
       "1      Mercure_London_Bloomsbury_Hotel       united_kingdom   \n",
       "\n",
       "       review_total_negative_word_counts  total_number_of_reviews  \\\n",
       "index                                                               \n",
       "0                                      3                     1994   \n",
       "1                                      3                     1361   \n",
       "\n",
       "       review_total_positive_word_counts  \\\n",
       "index                                      \n",
       "0                                      4   \n",
       "1                                      2   \n",
       "\n",
       "       total_number_of_reviews_reviewer_has_given  reviewer_score  \\\n",
       "index                                                               \n",
       "0                                               7            10.0   \n",
       "1                                              14             6.3   \n",
       "\n",
       "       days_since_review  distance  сount_tags  rare_tag  popular_tag  \\\n",
       "index                                                                   \n",
       "0                    531       344           5       0.0          1.0   \n",
       "1                    203       345           4       0.0          0.0   \n",
       "\n",
       "       Leisure_trip  Submitted_from_a_mobile_device  Couple  Stayed_1_night  \\\n",
       "index                                                                         \n",
       "0               1.0                             1.0     1.0             0.0   \n",
       "1               0.0                             0.0     1.0             1.0   \n",
       "\n",
       "       Stayed_2_nights  Solo_traveler  Stayed_3_nights  Business_trip  Group  \\\n",
       "index                                                                          \n",
       "0                  1.0            0.0              0.0            0.0    0.0   \n",
       "1                  0.0            0.0              0.0            1.0    0.0   \n",
       "\n",
       "       Family_with_young_children  Stayed_4_nights  Double_Room  \\\n",
       "index                                                             \n",
       "0                             0.0              0.0          0.0   \n",
       "1                             0.0              0.0          0.0   \n",
       "\n",
       "       Standard_Double_Room  Superior_Double_Room  Family_with_older_children  \\\n",
       "index                                                                           \n",
       "0                       0.0                   0.0                         0.0   \n",
       "1                       1.0                   0.0                         0.0   \n",
       "\n",
       "       date_diff  is_weekend  wd  md        location  population  pop_density  \\\n",
       "index                                                                           \n",
       "0            729           0   4   2  United_Kingdom        8962          5.7   \n",
       "1            730           0   3   1  United_Kingdom        8962          5.7   \n",
       "\n",
       "       neg_compound  pos_compound  is_pos_neg_review  is_pos_pos_rev  \\\n",
       "index                                                                  \n",
       "0            0.0000        0.5859                  1               1   \n",
       "1           -0.4767        0.0000                  0               1   \n",
       "\n",
       "       united_kingdom  united_states_of_america  australia  ireland  \\\n",
       "index                                                                 \n",
       "0                 0.0                       0.0        0.0      0.0   \n",
       "1                 0.0                       0.0        0.0      0.0   \n",
       "\n",
       "       united_arab_emirates  saudi_arabia  netherlands  switzerland  germany  \\\n",
       "index                                                                          \n",
       "0                       0.0           0.0          0.0          0.0      0.0   \n",
       "1                       0.0           0.0          0.0          0.0      0.0   \n",
       "\n",
       "       canada  Britannia_International_Hotel_Canary_Wharf  \\\n",
       "index                                                       \n",
       "0         0.0                                         0.0   \n",
       "1         0.0                                         0.0   \n",
       "\n",
       "       Strand_Palace_Hotel  Park_Plaza_Westminster_Bridge_London  \\\n",
       "index                                                              \n",
       "0                      0.0                                   0.0   \n",
       "1                      0.0                                   0.0   \n",
       "\n",
       "       Copthorne_Tara_Hotel_London_Kensington  \\\n",
       "index                                           \n",
       "0                                         0.0   \n",
       "1                                         0.0   \n",
       "\n",
       "       DoubleTree_by_Hilton_Hotel_London_Tower_of_London  \\\n",
       "index                                                      \n",
       "0                                                    0.0   \n",
       "1                                                    0.0   \n",
       "\n",
       "       Grand_Royale_London_Hyde_Park  Holiday_Inn_London_Kensington  \\\n",
       "index                                                                 \n",
       "0                                0.0                            0.0   \n",
       "1                                0.0                            0.0   \n",
       "\n",
       "       Hilton_London_Metropole  Millennium_Gloucester_Hotel_London  \\\n",
       "index                                                                \n",
       "0                          0.0                                 0.0   \n",
       "1                          0.0                                 0.0   \n",
       "\n",
       "       Intercontinental_London_The_O2  \n",
       "index                                  \n",
       "0                                 0.0  \n",
       "1                                 0.0  "
      ]
     },
     "execution_count": 105,
     "metadata": {},
     "output_type": "execute_result"
    }
   ],
   "source": [
    "%%time\n",
    "\n",
    "# Первым делом объединяем выборки\n",
    "combined_data = join_df(df_train, df_test)\n",
    "\n",
    "# Затем используем нашу функцию предобработки\n",
    "combined_data = preproc_data(combined_data)\n",
    "\n",
    "display(combined_data.info())\n",
    "combined_data.head(2)"
   ]
  },
  {
   "cell_type": "code",
   "execution_count": 108,
   "metadata": {},
   "outputs": [
    {
     "name": "stdout",
     "output_type": "stream",
     "text": [
      "       additional_number_of_scoring  average_score  \\\n",
      "count                 515738.000000  515738.000000   \n",
      "mean                       5.772802       8.397487   \n",
      "std                        0.985661       0.548048   \n",
      "min                        0.693147       5.200000   \n",
      "25%                        5.135798       8.100000   \n",
      "50%                        5.834811       8.400000   \n",
      "75%                        6.493754       8.800000   \n",
      "max                        7.894691       9.800000   \n",
      "\n",
      "       review_total_negative_word_counts  total_number_of_reviews  \\\n",
      "count                      515738.000000            515738.000000   \n",
      "mean                            2.080072                 7.590924   \n",
      "std                             1.456011                 0.851913   \n",
      "min                             0.000000                 3.784190   \n",
      "25%                             1.098612                 7.057898   \n",
      "50%                             2.302585                 7.666222   \n",
      "75%                             3.178054                 8.192570   \n",
      "max                             6.013715                 9.721426   \n",
      "\n",
      "       review_total_positive_word_counts  \\\n",
      "count                      515738.000000   \n",
      "mean                            2.442879   \n",
      "std                             1.050136   \n",
      "min                             0.000000   \n",
      "25%                             1.791759   \n",
      "50%                             2.484907   \n",
      "75%                             3.135494   \n",
      "max                             5.981414   \n",
      "\n",
      "       total_number_of_reviews_reviewer_has_given  reviewer_score  \\\n",
      "count                               515738.000000   515738.000000   \n",
      "mean                                     1.627405        6.047671   \n",
      "std                                      0.891211        4.308626   \n",
      "min                                      0.693147       -1.000000   \n",
      "25%                                      0.693147       -0.125000   \n",
      "50%                                      1.386294        7.900000   \n",
      "75%                                      2.197225        9.600000   \n",
      "max                                      5.874931       10.000000   \n",
      "\n",
      "       days_since_review       distance     сount_tags       rare_tag  \\\n",
      "count      515738.000000  515738.000000  515738.000000  515738.000000   \n",
      "mean            5.553540       5.570069       4.569359       0.049930   \n",
      "std             1.023580       1.600716       0.520187       0.217801   \n",
      "min             0.000000       0.000000       1.000000       0.000000   \n",
      "25%             5.170484       5.840642       4.000000       0.000000   \n",
      "50%             5.869297       5.849325       5.000000       0.000000   \n",
      "75%             6.269096       6.459904       5.000000       0.000000   \n",
      "max             6.594413       6.947937       6.000000       1.000000   \n",
      "\n",
      "         popular_tag   Leisure_trip  Submitted_from_a_mobile_device  \\\n",
      "count  515738.000000  515738.000000                   515738.000000   \n",
      "mean        0.778389       0.810059                        0.596504   \n",
      "std         0.415331       0.392255                        0.490599   \n",
      "min         0.000000       0.000000                        0.000000   \n",
      "25%         1.000000       1.000000                        0.000000   \n",
      "50%         1.000000       1.000000                        1.000000   \n",
      "75%         1.000000       1.000000                        1.000000   \n",
      "max         1.000000       1.000000                        1.000000   \n",
      "\n",
      "              Couple  Stayed_1_night  Stayed_2_nights  Solo_traveler  \\\n",
      "count  515738.000000   515738.000000     515738.00000  515738.000000   \n",
      "mean        0.489190        0.375472          0.25970       0.210465   \n",
      "std         0.499884        0.484245          0.43847       0.407640   \n",
      "min         0.000000        0.000000          0.00000       0.000000   \n",
      "25%         0.000000        0.000000          0.00000       0.000000   \n",
      "50%         0.000000        0.000000          0.00000       0.000000   \n",
      "75%         1.000000        1.000000          1.00000       0.000000   \n",
      "max         1.000000        1.000000          1.00000       1.000000   \n",
      "\n",
      "       Stayed_3_nights  Business_trip          Group  \\\n",
      "count    515738.000000  515738.000000  515738.000000   \n",
      "mean          0.185794       0.160816       0.126793   \n",
      "std           0.388941       0.367362       0.332741   \n",
      "min           0.000000       0.000000       0.000000   \n",
      "25%           0.000000       0.000000       0.000000   \n",
      "50%           0.000000       0.000000       0.000000   \n",
      "75%           0.000000       0.000000       0.000000   \n",
      "max           1.000000       1.000000       1.000000   \n",
      "\n",
      "       Family_with_young_children  Stayed_4_nights    Double_Room  \\\n",
      "count               515738.000000    515738.000000  515738.000000   \n",
      "mean                     0.118306         0.092716       0.068265   \n",
      "std                      0.322971         0.290034       0.252201   \n",
      "min                      0.000000         0.000000       0.000000   \n",
      "25%                      0.000000         0.000000       0.000000   \n",
      "50%                      0.000000         0.000000       0.000000   \n",
      "75%                      0.000000         0.000000       0.000000   \n",
      "max                      1.000000         1.000000       1.000000   \n",
      "\n",
      "       Standard_Double_Room  Superior_Double_Room  Family_with_older_children  \\\n",
      "count         515738.000000         515738.000000               515738.000000   \n",
      "mean               0.062528              0.060870                    0.051090   \n",
      "std                0.242112              0.239092                    0.220181   \n",
      "min                0.000000              0.000000                    0.000000   \n",
      "25%                0.000000              0.000000                    0.000000   \n",
      "50%                0.000000              0.000000                    0.000000   \n",
      "75%                0.000000              0.000000                    0.000000   \n",
      "max                1.000000              1.000000                    1.000000   \n",
      "\n",
      "           date_diff     is_weekend             wd             md  \\\n",
      "count  515738.000000  515738.000000  515738.000000  515738.000000   \n",
      "mean        6.552573       0.263339       2.721601       6.486660   \n",
      "std         0.171452       0.440445       2.084341       3.351779   \n",
      "min         3.871201       0.000000       0.000000       1.000000   \n",
      "25%         6.588926       0.000000       1.000000       4.000000   \n",
      "50%         6.593045       0.000000       2.000000       7.000000   \n",
      "75%         6.594413       1.000000       5.000000       9.000000   \n",
      "max         6.594413       1.000000       6.000000      12.000000   \n",
      "\n",
      "          population    pop_density   neg_compound   pos_compound  \\\n",
      "count  515738.000000  515738.000000  515738.000000  515738.000000   \n",
      "mean        8.226205       8.579159      -0.209151       0.593533   \n",
      "std         0.919082       5.528207       0.453386       0.342460   \n",
      "min         6.773080       4.500000      -0.998100      -0.983200   \n",
      "25%         7.400621       5.700000      -0.709600       0.350600   \n",
      "50%         9.100860       5.700000      -0.177900       0.708900   \n",
      "75%         9.100860       7.600000       0.000000       0.883400   \n",
      "max         9.100860      20.800000       0.996400       0.999300   \n",
      "\n",
      "       is_pos_neg_review  is_pos_pos_rev  united_kingdom  \\\n",
      "count      515738.000000   515738.000000        515738.0   \n",
      "mean            0.465647        0.985962             0.0   \n",
      "std             0.498819        0.117648             0.0   \n",
      "min             0.000000        0.000000             0.0   \n",
      "25%             0.000000        1.000000             0.0   \n",
      "50%             0.000000        1.000000             0.0   \n",
      "75%             1.000000        1.000000             0.0   \n",
      "max             1.000000        1.000000             0.0   \n",
      "\n",
      "       united_states_of_america  australia   ireland  united_arab_emirates  \\\n",
      "count                  515738.0   515738.0  515738.0              515738.0   \n",
      "mean                        0.0        0.0       0.0                   0.0   \n",
      "std                         0.0        0.0       0.0                   0.0   \n",
      "min                         0.0        0.0       0.0                   0.0   \n",
      "25%                         0.0        0.0       0.0                   0.0   \n",
      "50%                         0.0        0.0       0.0                   0.0   \n",
      "75%                         0.0        0.0       0.0                   0.0   \n",
      "max                         0.0        0.0       0.0                   0.0   \n",
      "\n",
      "       saudi_arabia  netherlands  switzerland   germany    canada  \\\n",
      "count      515738.0     515738.0     515738.0  515738.0  515738.0   \n",
      "mean            0.0          0.0          0.0       0.0       0.0   \n",
      "std             0.0          0.0          0.0       0.0       0.0   \n",
      "min             0.0          0.0          0.0       0.0       0.0   \n",
      "25%             0.0          0.0          0.0       0.0       0.0   \n",
      "50%             0.0          0.0          0.0       0.0       0.0   \n",
      "75%             0.0          0.0          0.0       0.0       0.0   \n",
      "max             0.0          0.0          0.0       0.0       0.0   \n",
      "\n",
      "       Britannia_International_Hotel_Canary_Wharf  Strand_Palace_Hotel  \\\n",
      "count                                    515738.0             515738.0   \n",
      "mean                                          0.0                  0.0   \n",
      "std                                           0.0                  0.0   \n",
      "min                                           0.0                  0.0   \n",
      "25%                                           0.0                  0.0   \n",
      "50%                                           0.0                  0.0   \n",
      "75%                                           0.0                  0.0   \n",
      "max                                           0.0                  0.0   \n",
      "\n",
      "       Park_Plaza_Westminster_Bridge_London  \\\n",
      "count                              515738.0   \n",
      "mean                                    0.0   \n",
      "std                                     0.0   \n",
      "min                                     0.0   \n",
      "25%                                     0.0   \n",
      "50%                                     0.0   \n",
      "75%                                     0.0   \n",
      "max                                     0.0   \n",
      "\n",
      "       Copthorne_Tara_Hotel_London_Kensington  \\\n",
      "count                                515738.0   \n",
      "mean                                      0.0   \n",
      "std                                       0.0   \n",
      "min                                       0.0   \n",
      "25%                                       0.0   \n",
      "50%                                       0.0   \n",
      "75%                                       0.0   \n",
      "max                                       0.0   \n",
      "\n",
      "       DoubleTree_by_Hilton_Hotel_London_Tower_of_London  \\\n",
      "count                                           515738.0   \n",
      "mean                                                 0.0   \n",
      "std                                                  0.0   \n",
      "min                                                  0.0   \n",
      "25%                                                  0.0   \n",
      "50%                                                  0.0   \n",
      "75%                                                  0.0   \n",
      "max                                                  0.0   \n",
      "\n",
      "       Grand_Royale_London_Hyde_Park  Holiday_Inn_London_Kensington  \\\n",
      "count                       515738.0                       515738.0   \n",
      "mean                             0.0                            0.0   \n",
      "std                              0.0                            0.0   \n",
      "min                              0.0                            0.0   \n",
      "25%                              0.0                            0.0   \n",
      "50%                              0.0                            0.0   \n",
      "75%                              0.0                            0.0   \n",
      "max                              0.0                            0.0   \n",
      "\n",
      "       Hilton_London_Metropole  Millennium_Gloucester_Hotel_London  \\\n",
      "count                 515738.0                            515738.0   \n",
      "mean                       0.0                                 0.0   \n",
      "std                        0.0                                 0.0   \n",
      "min                        0.0                                 0.0   \n",
      "25%                        0.0                                 0.0   \n",
      "50%                        0.0                                 0.0   \n",
      "75%                        0.0                                 0.0   \n",
      "max                        0.0                                 0.0   \n",
      "\n",
      "       Intercontinental_London_The_O2  location_United_Kingdom  \\\n",
      "count                        515738.0            515738.000000   \n",
      "mean                              0.0                 0.508594   \n",
      "std                               0.0                 0.499927   \n",
      "min                               0.0                 0.000000   \n",
      "25%                               0.0                 0.000000   \n",
      "50%                               0.0                 1.000000   \n",
      "75%                               0.0                 1.000000   \n",
      "max                               0.0                 1.000000   \n",
      "\n",
      "       location_Paris_France  location_Amsterdam_Netherlands  \\\n",
      "count          515738.000000                   515738.000000   \n",
      "mean                0.116199                        0.110936   \n",
      "std                 0.320463                        0.314053   \n",
      "min                 0.000000                        0.000000   \n",
      "25%                 0.000000                        0.000000   \n",
      "50%                 0.000000                        0.000000   \n",
      "75%                 0.000000                        0.000000   \n",
      "max                 1.000000                        1.000000   \n",
      "\n",
      "       location_Milan_Italy  location_Vienna_Austria  \\\n",
      "count         515738.000000            515738.000000   \n",
      "mean               0.072143                 0.075502   \n",
      "std                0.258725                 0.264199   \n",
      "min                0.000000                 0.000000   \n",
      "25%                0.000000                 0.000000   \n",
      "50%                0.000000                 0.000000   \n",
      "75%                0.000000                 0.000000   \n",
      "max                1.000000                 1.000000   \n",
      "\n",
      "       location_Barcelona_Spain   hotel_name_0   hotel_name_1   hotel_name_2  \\\n",
      "count             515738.000000  515738.000000  515738.000000  515738.000000   \n",
      "mean                   0.116627       0.095136       0.287896       0.374871   \n",
      "std                    0.320976       0.293402       0.452783       0.484090   \n",
      "min                    0.000000       0.000000       0.000000       0.000000   \n",
      "25%                    0.000000       0.000000       0.000000       0.000000   \n",
      "50%                    0.000000       0.000000       0.000000       0.000000   \n",
      "75%                    0.000000       0.000000       1.000000       1.000000   \n",
      "max                    1.000000       1.000000       1.000000       1.000000   \n",
      "\n",
      "        hotel_name_3   hotel_name_4   hotel_name_5   hotel_name_6  \\\n",
      "count  515738.000000  515738.000000  515738.000000  515738.000000   \n",
      "mean        0.442727       0.459605       0.508386       0.512590   \n",
      "std         0.496709       0.498366       0.499930       0.499842   \n",
      "min         0.000000       0.000000       0.000000       0.000000   \n",
      "25%         0.000000       0.000000       0.000000       0.000000   \n",
      "50%         0.000000       0.000000       1.000000       1.000000   \n",
      "75%         1.000000       1.000000       1.000000       1.000000   \n",
      "max         1.000000       1.000000       1.000000       1.000000   \n",
      "\n",
      "        hotel_name_7   hotel_name_8   hotel_name_9  hotel_name_10  \\\n",
      "count  515738.000000  515738.000000  515738.000000  515738.000000   \n",
      "mean        0.512850       0.506994       0.495785       0.481159   \n",
      "std         0.499835       0.499952       0.499983       0.499645   \n",
      "min         0.000000       0.000000       0.000000       0.000000   \n",
      "25%         0.000000       0.000000       0.000000       0.000000   \n",
      "50%         1.000000       1.000000       0.000000       0.000000   \n",
      "75%         1.000000       1.000000       1.000000       1.000000   \n",
      "max         1.000000       1.000000       1.000000       1.000000   \n",
      "\n",
      "       reviewer_nationality_0  reviewer_nationality_1  reviewer_nationality_2  \\\n",
      "count           515738.000000           515738.000000           515738.000000   \n",
      "mean                 0.003128                0.049019                0.185773   \n",
      "std                  0.055837                0.215908                0.388923   \n",
      "min                  0.000000                0.000000                0.000000   \n",
      "25%                  0.000000                0.000000                0.000000   \n",
      "50%                  0.000000                0.000000                0.000000   \n",
      "75%                  0.000000                0.000000                0.000000   \n",
      "max                  1.000000                1.000000                1.000000   \n",
      "\n",
      "       reviewer_nationality_3  reviewer_nationality_4  reviewer_nationality_5  \\\n",
      "count           515738.000000           515738.000000           515738.000000   \n",
      "mean                 0.195545                0.262922                0.323383   \n",
      "std                  0.396620                0.440221                0.467768   \n",
      "min                  0.000000                0.000000                0.000000   \n",
      "25%                  0.000000                0.000000                0.000000   \n",
      "50%                  0.000000                0.000000                0.000000   \n",
      "75%                  0.000000                1.000000                1.000000   \n",
      "max                  1.000000                1.000000                1.000000   \n",
      "\n",
      "       reviewer_nationality_6  reviewer_nationality_7  \n",
      "count           515738.000000           515738.000000  \n",
      "mean                 0.184283                0.707031  \n",
      "std                  0.387716                0.455125  \n",
      "min                  0.000000                0.000000  \n",
      "25%                  0.000000                0.000000  \n",
      "50%                  0.000000                1.000000  \n",
      "75%                  0.000000                1.000000  \n",
      "max                  1.000000                1.000000  \n"
     ]
    },
    {
     "name": "stdout",
     "output_type": "stream",
     "text": [
      "CPU times: user 3.64 s, sys: 1.17 s, total: 4.8 s\n",
      "Wall time: 4.85 s\n"
     ]
    },
    {
     "data": {
      "text/html": [
       "<div>\n",
       "<style scoped>\n",
       "    .dataframe tbody tr th:only-of-type {\n",
       "        vertical-align: middle;\n",
       "    }\n",
       "\n",
       "    .dataframe tbody tr th {\n",
       "        vertical-align: top;\n",
       "    }\n",
       "\n",
       "    .dataframe thead th {\n",
       "        text-align: right;\n",
       "    }\n",
       "</style>\n",
       "<table border=\"1\" class=\"dataframe\">\n",
       "  <thead>\n",
       "    <tr style=\"text-align: right;\">\n",
       "      <th></th>\n",
       "      <th>additional_number_of_scoring</th>\n",
       "      <th>average_score</th>\n",
       "      <th>review_total_negative_word_counts</th>\n",
       "      <th>total_number_of_reviews</th>\n",
       "      <th>review_total_positive_word_counts</th>\n",
       "      <th>total_number_of_reviews_reviewer_has_given</th>\n",
       "      <th>reviewer_score</th>\n",
       "      <th>days_since_review</th>\n",
       "      <th>distance</th>\n",
       "      <th>сount_tags</th>\n",
       "      <th>rare_tag</th>\n",
       "      <th>popular_tag</th>\n",
       "      <th>Leisure_trip</th>\n",
       "      <th>Submitted_from_a_mobile_device</th>\n",
       "      <th>Couple</th>\n",
       "      <th>Stayed_1_night</th>\n",
       "      <th>Stayed_2_nights</th>\n",
       "      <th>Solo_traveler</th>\n",
       "      <th>Stayed_3_nights</th>\n",
       "      <th>Business_trip</th>\n",
       "      <th>Group</th>\n",
       "      <th>Family_with_young_children</th>\n",
       "      <th>Stayed_4_nights</th>\n",
       "      <th>Double_Room</th>\n",
       "      <th>Standard_Double_Room</th>\n",
       "      <th>Superior_Double_Room</th>\n",
       "      <th>Family_with_older_children</th>\n",
       "      <th>date_diff</th>\n",
       "      <th>is_weekend</th>\n",
       "      <th>wd</th>\n",
       "      <th>md</th>\n",
       "      <th>population</th>\n",
       "      <th>pop_density</th>\n",
       "      <th>neg_compound</th>\n",
       "      <th>pos_compound</th>\n",
       "      <th>is_pos_neg_review</th>\n",
       "      <th>is_pos_pos_rev</th>\n",
       "      <th>united_kingdom</th>\n",
       "      <th>united_states_of_america</th>\n",
       "      <th>australia</th>\n",
       "      <th>ireland</th>\n",
       "      <th>united_arab_emirates</th>\n",
       "      <th>saudi_arabia</th>\n",
       "      <th>netherlands</th>\n",
       "      <th>switzerland</th>\n",
       "      <th>germany</th>\n",
       "      <th>canada</th>\n",
       "      <th>Britannia_International_Hotel_Canary_Wharf</th>\n",
       "      <th>Strand_Palace_Hotel</th>\n",
       "      <th>Park_Plaza_Westminster_Bridge_London</th>\n",
       "      <th>Copthorne_Tara_Hotel_London_Kensington</th>\n",
       "      <th>DoubleTree_by_Hilton_Hotel_London_Tower_of_London</th>\n",
       "      <th>Grand_Royale_London_Hyde_Park</th>\n",
       "      <th>Holiday_Inn_London_Kensington</th>\n",
       "      <th>Hilton_London_Metropole</th>\n",
       "      <th>Millennium_Gloucester_Hotel_London</th>\n",
       "      <th>Intercontinental_London_The_O2</th>\n",
       "      <th>location_United_Kingdom</th>\n",
       "      <th>location_Paris_France</th>\n",
       "      <th>location_Amsterdam_Netherlands</th>\n",
       "      <th>location_Milan_Italy</th>\n",
       "      <th>location_Vienna_Austria</th>\n",
       "      <th>location_Barcelona_Spain</th>\n",
       "      <th>hotel_name_0</th>\n",
       "      <th>hotel_name_1</th>\n",
       "      <th>hotel_name_2</th>\n",
       "      <th>hotel_name_3</th>\n",
       "      <th>hotel_name_4</th>\n",
       "      <th>hotel_name_5</th>\n",
       "      <th>hotel_name_6</th>\n",
       "      <th>hotel_name_7</th>\n",
       "      <th>hotel_name_8</th>\n",
       "      <th>hotel_name_9</th>\n",
       "      <th>hotel_name_10</th>\n",
       "      <th>reviewer_nationality_0</th>\n",
       "      <th>reviewer_nationality_1</th>\n",
       "      <th>reviewer_nationality_2</th>\n",
       "      <th>reviewer_nationality_3</th>\n",
       "      <th>reviewer_nationality_4</th>\n",
       "      <th>reviewer_nationality_5</th>\n",
       "      <th>reviewer_nationality_6</th>\n",
       "      <th>reviewer_nationality_7</th>\n",
       "    </tr>\n",
       "    <tr>\n",
       "      <th>index</th>\n",
       "      <th></th>\n",
       "      <th></th>\n",
       "      <th></th>\n",
       "      <th></th>\n",
       "      <th></th>\n",
       "      <th></th>\n",
       "      <th></th>\n",
       "      <th></th>\n",
       "      <th></th>\n",
       "      <th></th>\n",
       "      <th></th>\n",
       "      <th></th>\n",
       "      <th></th>\n",
       "      <th></th>\n",
       "      <th></th>\n",
       "      <th></th>\n",
       "      <th></th>\n",
       "      <th></th>\n",
       "      <th></th>\n",
       "      <th></th>\n",
       "      <th></th>\n",
       "      <th></th>\n",
       "      <th></th>\n",
       "      <th></th>\n",
       "      <th></th>\n",
       "      <th></th>\n",
       "      <th></th>\n",
       "      <th></th>\n",
       "      <th></th>\n",
       "      <th></th>\n",
       "      <th></th>\n",
       "      <th></th>\n",
       "      <th></th>\n",
       "      <th></th>\n",
       "      <th></th>\n",
       "      <th></th>\n",
       "      <th></th>\n",
       "      <th></th>\n",
       "      <th></th>\n",
       "      <th></th>\n",
       "      <th></th>\n",
       "      <th></th>\n",
       "      <th></th>\n",
       "      <th></th>\n",
       "      <th></th>\n",
       "      <th></th>\n",
       "      <th></th>\n",
       "      <th></th>\n",
       "      <th></th>\n",
       "      <th></th>\n",
       "      <th></th>\n",
       "      <th></th>\n",
       "      <th></th>\n",
       "      <th></th>\n",
       "      <th></th>\n",
       "      <th></th>\n",
       "      <th></th>\n",
       "      <th></th>\n",
       "      <th></th>\n",
       "      <th></th>\n",
       "      <th></th>\n",
       "      <th></th>\n",
       "      <th></th>\n",
       "      <th></th>\n",
       "      <th></th>\n",
       "      <th></th>\n",
       "      <th></th>\n",
       "      <th></th>\n",
       "      <th></th>\n",
       "      <th></th>\n",
       "      <th></th>\n",
       "      <th></th>\n",
       "      <th></th>\n",
       "      <th></th>\n",
       "      <th></th>\n",
       "      <th></th>\n",
       "      <th></th>\n",
       "      <th></th>\n",
       "      <th></th>\n",
       "      <th></th>\n",
       "      <th></th>\n",
       "      <th></th>\n",
       "    </tr>\n",
       "  </thead>\n",
       "  <tbody>\n",
       "    <tr>\n",
       "      <th>112390</th>\n",
       "      <td>5.283204</td>\n",
       "      <td>8.4</td>\n",
       "      <td>0.000000</td>\n",
       "      <td>7.597396</td>\n",
       "      <td>3.713572</td>\n",
       "      <td>1.609438</td>\n",
       "      <td>-1.0</td>\n",
       "      <td>6.415097</td>\n",
       "      <td>6.056784</td>\n",
       "      <td>4</td>\n",
       "      <td>0.0</td>\n",
       "      <td>1.0</td>\n",
       "      <td>0.0</td>\n",
       "      <td>0.0</td>\n",
       "      <td>1.0</td>\n",
       "      <td>1.0</td>\n",
       "      <td>0.0</td>\n",
       "      <td>0.0</td>\n",
       "      <td>0.0</td>\n",
       "      <td>1.0</td>\n",
       "      <td>0.0</td>\n",
       "      <td>0.0</td>\n",
       "      <td>0.0</td>\n",
       "      <td>0.0</td>\n",
       "      <td>0.0</td>\n",
       "      <td>0.0</td>\n",
       "      <td>0.0</td>\n",
       "      <td>6.591674</td>\n",
       "      <td>0</td>\n",
       "      <td>2</td>\n",
       "      <td>12</td>\n",
       "      <td>6.77308</td>\n",
       "      <td>4.8</td>\n",
       "      <td>-0.7096</td>\n",
       "      <td>0.9112</td>\n",
       "      <td>0</td>\n",
       "      <td>1</td>\n",
       "      <td>0.0</td>\n",
       "      <td>0.0</td>\n",
       "      <td>0.0</td>\n",
       "      <td>0.0</td>\n",
       "      <td>0.0</td>\n",
       "      <td>0.0</td>\n",
       "      <td>0.0</td>\n",
       "      <td>0.0</td>\n",
       "      <td>0.0</td>\n",
       "      <td>0.0</td>\n",
       "      <td>0.0</td>\n",
       "      <td>0.0</td>\n",
       "      <td>0.0</td>\n",
       "      <td>0.0</td>\n",
       "      <td>0.0</td>\n",
       "      <td>0.0</td>\n",
       "      <td>0.0</td>\n",
       "      <td>0.0</td>\n",
       "      <td>0.0</td>\n",
       "      <td>0.0</td>\n",
       "      <td>0</td>\n",
       "      <td>0</td>\n",
       "      <td>1</td>\n",
       "      <td>0</td>\n",
       "      <td>0</td>\n",
       "      <td>0</td>\n",
       "      <td>0</td>\n",
       "      <td>0</td>\n",
       "      <td>0</td>\n",
       "      <td>0</td>\n",
       "      <td>1</td>\n",
       "      <td>1</td>\n",
       "      <td>0</td>\n",
       "      <td>1</td>\n",
       "      <td>0</td>\n",
       "      <td>1</td>\n",
       "      <td>0</td>\n",
       "      <td>0</td>\n",
       "      <td>0</td>\n",
       "      <td>0</td>\n",
       "      <td>1</td>\n",
       "      <td>0</td>\n",
       "      <td>1</td>\n",
       "      <td>0</td>\n",
       "      <td>1</td>\n",
       "    </tr>\n",
       "    <tr>\n",
       "      <th>61110</th>\n",
       "      <td>6.063785</td>\n",
       "      <td>8.3</td>\n",
       "      <td>1.386294</td>\n",
       "      <td>7.481556</td>\n",
       "      <td>1.386294</td>\n",
       "      <td>1.098612</td>\n",
       "      <td>-1.0</td>\n",
       "      <td>5.700444</td>\n",
       "      <td>5.846439</td>\n",
       "      <td>5</td>\n",
       "      <td>1.0</td>\n",
       "      <td>0.0</td>\n",
       "      <td>1.0</td>\n",
       "      <td>1.0</td>\n",
       "      <td>0.0</td>\n",
       "      <td>1.0</td>\n",
       "      <td>0.0</td>\n",
       "      <td>0.0</td>\n",
       "      <td>0.0</td>\n",
       "      <td>0.0</td>\n",
       "      <td>0.0</td>\n",
       "      <td>1.0</td>\n",
       "      <td>0.0</td>\n",
       "      <td>0.0</td>\n",
       "      <td>0.0</td>\n",
       "      <td>0.0</td>\n",
       "      <td>0.0</td>\n",
       "      <td>6.591674</td>\n",
       "      <td>1</td>\n",
       "      <td>6</td>\n",
       "      <td>10</td>\n",
       "      <td>9.10086</td>\n",
       "      <td>5.7</td>\n",
       "      <td>0.0000</td>\n",
       "      <td>0.0000</td>\n",
       "      <td>1</td>\n",
       "      <td>1</td>\n",
       "      <td>0.0</td>\n",
       "      <td>0.0</td>\n",
       "      <td>0.0</td>\n",
       "      <td>0.0</td>\n",
       "      <td>0.0</td>\n",
       "      <td>0.0</td>\n",
       "      <td>0.0</td>\n",
       "      <td>0.0</td>\n",
       "      <td>0.0</td>\n",
       "      <td>0.0</td>\n",
       "      <td>0.0</td>\n",
       "      <td>0.0</td>\n",
       "      <td>0.0</td>\n",
       "      <td>0.0</td>\n",
       "      <td>0.0</td>\n",
       "      <td>0.0</td>\n",
       "      <td>0.0</td>\n",
       "      <td>0.0</td>\n",
       "      <td>0.0</td>\n",
       "      <td>0.0</td>\n",
       "      <td>1</td>\n",
       "      <td>0</td>\n",
       "      <td>0</td>\n",
       "      <td>0</td>\n",
       "      <td>0</td>\n",
       "      <td>0</td>\n",
       "      <td>0</td>\n",
       "      <td>0</td>\n",
       "      <td>0</td>\n",
       "      <td>0</td>\n",
       "      <td>0</td>\n",
       "      <td>1</td>\n",
       "      <td>1</td>\n",
       "      <td>0</td>\n",
       "      <td>1</td>\n",
       "      <td>0</td>\n",
       "      <td>0</td>\n",
       "      <td>0</td>\n",
       "      <td>0</td>\n",
       "      <td>1</td>\n",
       "      <td>1</td>\n",
       "      <td>0</td>\n",
       "      <td>1</td>\n",
       "      <td>0</td>\n",
       "      <td>0</td>\n",
       "    </tr>\n",
       "    <tr>\n",
       "      <th>141941</th>\n",
       "      <td>6.779922</td>\n",
       "      <td>8.8</td>\n",
       "      <td>4.753590</td>\n",
       "      <td>7.926242</td>\n",
       "      <td>3.737670</td>\n",
       "      <td>0.693147</td>\n",
       "      <td>3.8</td>\n",
       "      <td>5.697093</td>\n",
       "      <td>5.828946</td>\n",
       "      <td>4</td>\n",
       "      <td>0.0</td>\n",
       "      <td>1.0</td>\n",
       "      <td>1.0</td>\n",
       "      <td>0.0</td>\n",
       "      <td>1.0</td>\n",
       "      <td>1.0</td>\n",
       "      <td>0.0</td>\n",
       "      <td>0.0</td>\n",
       "      <td>0.0</td>\n",
       "      <td>0.0</td>\n",
       "      <td>0.0</td>\n",
       "      <td>0.0</td>\n",
       "      <td>0.0</td>\n",
       "      <td>0.0</td>\n",
       "      <td>0.0</td>\n",
       "      <td>0.0</td>\n",
       "      <td>0.0</td>\n",
       "      <td>6.594413</td>\n",
       "      <td>0</td>\n",
       "      <td>0</td>\n",
       "      <td>10</td>\n",
       "      <td>9.10086</td>\n",
       "      <td>5.7</td>\n",
       "      <td>0.2617</td>\n",
       "      <td>-0.1901</td>\n",
       "      <td>1</td>\n",
       "      <td>0</td>\n",
       "      <td>0.0</td>\n",
       "      <td>0.0</td>\n",
       "      <td>0.0</td>\n",
       "      <td>0.0</td>\n",
       "      <td>0.0</td>\n",
       "      <td>0.0</td>\n",
       "      <td>0.0</td>\n",
       "      <td>0.0</td>\n",
       "      <td>0.0</td>\n",
       "      <td>0.0</td>\n",
       "      <td>0.0</td>\n",
       "      <td>0.0</td>\n",
       "      <td>0.0</td>\n",
       "      <td>0.0</td>\n",
       "      <td>0.0</td>\n",
       "      <td>0.0</td>\n",
       "      <td>0.0</td>\n",
       "      <td>0.0</td>\n",
       "      <td>0.0</td>\n",
       "      <td>0.0</td>\n",
       "      <td>1</td>\n",
       "      <td>0</td>\n",
       "      <td>0</td>\n",
       "      <td>0</td>\n",
       "      <td>0</td>\n",
       "      <td>0</td>\n",
       "      <td>0</td>\n",
       "      <td>0</td>\n",
       "      <td>1</td>\n",
       "      <td>0</td>\n",
       "      <td>1</td>\n",
       "      <td>1</td>\n",
       "      <td>1</td>\n",
       "      <td>0</td>\n",
       "      <td>1</td>\n",
       "      <td>0</td>\n",
       "      <td>0</td>\n",
       "      <td>0</td>\n",
       "      <td>0</td>\n",
       "      <td>0</td>\n",
       "      <td>0</td>\n",
       "      <td>0</td>\n",
       "      <td>0</td>\n",
       "      <td>0</td>\n",
       "      <td>1</td>\n",
       "    </tr>\n",
       "  </tbody>\n",
       "</table>\n",
       "</div>"
      ],
      "text/plain": [
       "        additional_number_of_scoring  average_score  \\\n",
       "index                                                 \n",
       "112390                      5.283204            8.4   \n",
       "61110                       6.063785            8.3   \n",
       "141941                      6.779922            8.8   \n",
       "\n",
       "        review_total_negative_word_counts  total_number_of_reviews  \\\n",
       "index                                                                \n",
       "112390                           0.000000                 7.597396   \n",
       "61110                            1.386294                 7.481556   \n",
       "141941                           4.753590                 7.926242   \n",
       "\n",
       "        review_total_positive_word_counts  \\\n",
       "index                                       \n",
       "112390                           3.713572   \n",
       "61110                            1.386294   \n",
       "141941                           3.737670   \n",
       "\n",
       "        total_number_of_reviews_reviewer_has_given  reviewer_score  \\\n",
       "index                                                                \n",
       "112390                                    1.609438            -1.0   \n",
       "61110                                     1.098612            -1.0   \n",
       "141941                                    0.693147             3.8   \n",
       "\n",
       "        days_since_review  distance  сount_tags  rare_tag  popular_tag  \\\n",
       "index                                                                    \n",
       "112390           6.415097  6.056784           4       0.0          1.0   \n",
       "61110            5.700444  5.846439           5       1.0          0.0   \n",
       "141941           5.697093  5.828946           4       0.0          1.0   \n",
       "\n",
       "        Leisure_trip  Submitted_from_a_mobile_device  Couple  Stayed_1_night  \\\n",
       "index                                                                          \n",
       "112390           0.0                             0.0     1.0             1.0   \n",
       "61110            1.0                             1.0     0.0             1.0   \n",
       "141941           1.0                             0.0     1.0             1.0   \n",
       "\n",
       "        Stayed_2_nights  Solo_traveler  Stayed_3_nights  Business_trip  Group  \\\n",
       "index                                                                           \n",
       "112390              0.0            0.0              0.0            1.0    0.0   \n",
       "61110               0.0            0.0              0.0            0.0    0.0   \n",
       "141941              0.0            0.0              0.0            0.0    0.0   \n",
       "\n",
       "        Family_with_young_children  Stayed_4_nights  Double_Room  \\\n",
       "index                                                              \n",
       "112390                         0.0              0.0          0.0   \n",
       "61110                          1.0              0.0          0.0   \n",
       "141941                         0.0              0.0          0.0   \n",
       "\n",
       "        Standard_Double_Room  Superior_Double_Room  \\\n",
       "index                                                \n",
       "112390                   0.0                   0.0   \n",
       "61110                    0.0                   0.0   \n",
       "141941                   0.0                   0.0   \n",
       "\n",
       "        Family_with_older_children  date_diff  is_weekend  wd  md  population  \\\n",
       "index                                                                           \n",
       "112390                         0.0   6.591674           0   2  12     6.77308   \n",
       "61110                          0.0   6.591674           1   6  10     9.10086   \n",
       "141941                         0.0   6.594413           0   0  10     9.10086   \n",
       "\n",
       "        pop_density  neg_compound  pos_compound  is_pos_neg_review  \\\n",
       "index                                                                \n",
       "112390          4.8       -0.7096        0.9112                  0   \n",
       "61110           5.7        0.0000        0.0000                  1   \n",
       "141941          5.7        0.2617       -0.1901                  1   \n",
       "\n",
       "        is_pos_pos_rev  united_kingdom  united_states_of_america  australia  \\\n",
       "index                                                                         \n",
       "112390               1             0.0                       0.0        0.0   \n",
       "61110                1             0.0                       0.0        0.0   \n",
       "141941               0             0.0                       0.0        0.0   \n",
       "\n",
       "        ireland  united_arab_emirates  saudi_arabia  netherlands  switzerland  \\\n",
       "index                                                                           \n",
       "112390      0.0                   0.0           0.0          0.0          0.0   \n",
       "61110       0.0                   0.0           0.0          0.0          0.0   \n",
       "141941      0.0                   0.0           0.0          0.0          0.0   \n",
       "\n",
       "        germany  canada  Britannia_International_Hotel_Canary_Wharf  \\\n",
       "index                                                                 \n",
       "112390      0.0     0.0                                         0.0   \n",
       "61110       0.0     0.0                                         0.0   \n",
       "141941      0.0     0.0                                         0.0   \n",
       "\n",
       "        Strand_Palace_Hotel  Park_Plaza_Westminster_Bridge_London  \\\n",
       "index                                                               \n",
       "112390                  0.0                                   0.0   \n",
       "61110                   0.0                                   0.0   \n",
       "141941                  0.0                                   0.0   \n",
       "\n",
       "        Copthorne_Tara_Hotel_London_Kensington  \\\n",
       "index                                            \n",
       "112390                                     0.0   \n",
       "61110                                      0.0   \n",
       "141941                                     0.0   \n",
       "\n",
       "        DoubleTree_by_Hilton_Hotel_London_Tower_of_London  \\\n",
       "index                                                       \n",
       "112390                                                0.0   \n",
       "61110                                                 0.0   \n",
       "141941                                                0.0   \n",
       "\n",
       "        Grand_Royale_London_Hyde_Park  Holiday_Inn_London_Kensington  \\\n",
       "index                                                                  \n",
       "112390                            0.0                            0.0   \n",
       "61110                             0.0                            0.0   \n",
       "141941                            0.0                            0.0   \n",
       "\n",
       "        Hilton_London_Metropole  Millennium_Gloucester_Hotel_London  \\\n",
       "index                                                                 \n",
       "112390                      0.0                                 0.0   \n",
       "61110                       0.0                                 0.0   \n",
       "141941                      0.0                                 0.0   \n",
       "\n",
       "        Intercontinental_London_The_O2  location_United_Kingdom  \\\n",
       "index                                                             \n",
       "112390                             0.0                        0   \n",
       "61110                              0.0                        1   \n",
       "141941                             0.0                        1   \n",
       "\n",
       "        location_Paris_France  location_Amsterdam_Netherlands  \\\n",
       "index                                                           \n",
       "112390                      0                               1   \n",
       "61110                       0                               0   \n",
       "141941                      0                               0   \n",
       "\n",
       "        location_Milan_Italy  location_Vienna_Austria  \\\n",
       "index                                                   \n",
       "112390                     0                        0   \n",
       "61110                      0                        0   \n",
       "141941                     0                        0   \n",
       "\n",
       "        location_Barcelona_Spain  hotel_name_0  hotel_name_1  hotel_name_2  \\\n",
       "index                                                                        \n",
       "112390                         0             0             0             0   \n",
       "61110                          0             0             0             0   \n",
       "141941                         0             0             0             1   \n",
       "\n",
       "        hotel_name_3  hotel_name_4  hotel_name_5  hotel_name_6  hotel_name_7  \\\n",
       "index                                                                          \n",
       "112390             0             1             1             0             1   \n",
       "61110              0             0             1             1             0   \n",
       "141941             0             1             1             1             0   \n",
       "\n",
       "        hotel_name_8  hotel_name_9  hotel_name_10  reviewer_nationality_0  \\\n",
       "index                                                                       \n",
       "112390             0             1              0                       0   \n",
       "61110              1             0              0                       0   \n",
       "141941             1             0              0                       0   \n",
       "\n",
       "        reviewer_nationality_1  reviewer_nationality_2  \\\n",
       "index                                                    \n",
       "112390                       0                       0   \n",
       "61110                        0                       1   \n",
       "141941                       0                       0   \n",
       "\n",
       "        reviewer_nationality_3  reviewer_nationality_4  \\\n",
       "index                                                    \n",
       "112390                       1                       0   \n",
       "61110                        1                       0   \n",
       "141941                       0                       0   \n",
       "\n",
       "        reviewer_nationality_5  reviewer_nationality_6  reviewer_nationality_7  \n",
       "index                                                                           \n",
       "112390                       1                       0                       1  \n",
       "61110                        1                       0                       0  \n",
       "141941                       0                       0                       1  "
      ]
     },
     "execution_count": 108,
     "metadata": {},
     "output_type": "execute_result"
    }
   ],
   "source": [
    "%%time\n",
    "\n",
    "# Закодируем оставшиеся нечисловые признаки\n",
    "preproc_data = code_data(combined_data)\n",
    "\n",
    "# столбцы с числовыми данными для логарифмирования\n",
    "num_cols = ['additional_number_of_scoring', 'review_total_negative_word_counts', \n",
    "            'total_number_of_reviews', 'review_total_positive_word_counts', \n",
    "            'total_number_of_reviews_reviewer_has_given', 'days_since_review', 'distance', \n",
    "           'date_diff', 'population']\n",
    "\n",
    "# логарифмируем столбцы с большими числами, добавим сразу +1 чтоб нулевые значения не выдвали ошибку\n",
    "for i  in list(preproc_data.columns):\n",
    "    if i in num_cols:\n",
    "        preproc_data[i] = np.log(preproc_data[i]+1)\n",
    "        \n",
    "\n",
    "print(preproc_data.describe())\n",
    "preproc_data.sample(3)"
   ]
  },
  {
   "cell_type": "code",
   "execution_count": 112,
   "metadata": {},
   "outputs": [
    {
     "name": "stdout",
     "output_type": "stream",
     "text": [
      "<class 'pandas.core.frame.DataFrame'>\n",
      "Int64Index: 515738 entries, 0 to 128934\n",
      "Data columns (total 82 columns):\n",
      " #   Column                                             Non-Null Count   Dtype  \n",
      "---  ------                                             --------------   -----  \n",
      " 0   additional_number_of_scoring                       515738 non-null  float64\n",
      " 1   average_score                                      515738 non-null  float64\n",
      " 2   review_total_negative_word_counts                  515738 non-null  float64\n",
      " 3   total_number_of_reviews                            515738 non-null  float64\n",
      " 4   review_total_positive_word_counts                  515738 non-null  float64\n",
      " 5   total_number_of_reviews_reviewer_has_given         515738 non-null  float64\n",
      " 6   reviewer_score                                     515738 non-null  float64\n",
      " 7   days_since_review                                  515738 non-null  float64\n",
      " 8   distance                                           515738 non-null  float64\n",
      " 9   сount_tags                                         515738 non-null  int64  \n",
      " 10  rare_tag                                           515738 non-null  float64\n",
      " 11  popular_tag                                        515738 non-null  float64\n",
      " 12  Leisure_trip                                       515738 non-null  float64\n",
      " 13  Submitted_from_a_mobile_device                     515738 non-null  float64\n",
      " 14  Couple                                             515738 non-null  float64\n",
      " 15  Stayed_1_night                                     515738 non-null  float64\n",
      " 16  Stayed_2_nights                                    515738 non-null  float64\n",
      " 17  Solo_traveler                                      515738 non-null  float64\n",
      " 18  Stayed_3_nights                                    515738 non-null  float64\n",
      " 19  Business_trip                                      515738 non-null  float64\n",
      " 20  Group                                              515738 non-null  float64\n",
      " 21  Family_with_young_children                         515738 non-null  float64\n",
      " 22  Stayed_4_nights                                    515738 non-null  float64\n",
      " 23  Double_Room                                        515738 non-null  float64\n",
      " 24  Standard_Double_Room                               515738 non-null  float64\n",
      " 25  Superior_Double_Room                               515738 non-null  float64\n",
      " 26  Family_with_older_children                         515738 non-null  float64\n",
      " 27  date_diff                                          515738 non-null  float64\n",
      " 28  is_weekend                                         515738 non-null  int64  \n",
      " 29  wd                                                 515738 non-null  int64  \n",
      " 30  md                                                 515738 non-null  int64  \n",
      " 31  population                                         515738 non-null  float64\n",
      " 32  pop_density                                        515738 non-null  float64\n",
      " 33  neg_compound                                       515738 non-null  float64\n",
      " 34  pos_compound                                       515738 non-null  float64\n",
      " 35  is_pos_neg_review                                  515738 non-null  int64  \n",
      " 36  is_pos_pos_rev                                     515738 non-null  int64  \n",
      " 37  united_kingdom                                     515738 non-null  float64\n",
      " 38  united_states_of_america                           515738 non-null  float64\n",
      " 39  australia                                          515738 non-null  float64\n",
      " 40  ireland                                            515738 non-null  float64\n",
      " 41  united_arab_emirates                               515738 non-null  float64\n",
      " 42  saudi_arabia                                       515738 non-null  float64\n",
      " 43  netherlands                                        515738 non-null  float64\n",
      " 44  switzerland                                        515738 non-null  float64\n",
      " 45  germany                                            515738 non-null  float64\n",
      " 46  canada                                             515738 non-null  float64\n",
      " 47  Britannia_International_Hotel_Canary_Wharf         515738 non-null  float64\n",
      " 48  Strand_Palace_Hotel                                515738 non-null  float64\n",
      " 49  Park_Plaza_Westminster_Bridge_London               515738 non-null  float64\n",
      " 50  Copthorne_Tara_Hotel_London_Kensington             515738 non-null  float64\n",
      " 51  DoubleTree_by_Hilton_Hotel_London_Tower_of_London  515738 non-null  float64\n",
      " 52  Grand_Royale_London_Hyde_Park                      515738 non-null  float64\n",
      " 53  Holiday_Inn_London_Kensington                      515738 non-null  float64\n",
      " 54  Hilton_London_Metropole                            515738 non-null  float64\n",
      " 55  Millennium_Gloucester_Hotel_London                 515738 non-null  float64\n",
      " 56  Intercontinental_London_The_O2                     515738 non-null  float64\n",
      " 57  location_United_Kingdom                            515738 non-null  int64  \n",
      " 58  location_Paris_France                              515738 non-null  int64  \n",
      " 59  location_Amsterdam_Netherlands                     515738 non-null  int64  \n",
      " 60  location_Milan_Italy                               515738 non-null  int64  \n",
      " 61  location_Vienna_Austria                            515738 non-null  int64  \n",
      " 62  location_Barcelona_Spain                           515738 non-null  int64  \n",
      " 63  hotel_name_0                                       515738 non-null  int64  \n",
      " 64  hotel_name_1                                       515738 non-null  int64  \n",
      " 65  hotel_name_2                                       515738 non-null  int64  \n",
      " 66  hotel_name_3                                       515738 non-null  int64  \n",
      " 67  hotel_name_4                                       515738 non-null  int64  \n",
      " 68  hotel_name_5                                       515738 non-null  int64  \n",
      " 69  hotel_name_6                                       515738 non-null  int64  \n",
      " 70  hotel_name_7                                       515738 non-null  int64  \n",
      " 71  hotel_name_8                                       515738 non-null  int64  \n",
      " 72  hotel_name_9                                       515738 non-null  int64  \n",
      " 73  hotel_name_10                                      515738 non-null  int64  \n",
      " 74  reviewer_nationality_0                             515738 non-null  int64  \n",
      " 75  reviewer_nationality_1                             515738 non-null  int64  \n",
      " 76  reviewer_nationality_2                             515738 non-null  int64  \n",
      " 77  reviewer_nationality_3                             515738 non-null  int64  \n",
      " 78  reviewer_nationality_4                             515738 non-null  int64  \n",
      " 79  reviewer_nationality_5                             515738 non-null  int64  \n",
      " 80  reviewer_nationality_6                             515738 non-null  int64  \n",
      " 81  reviewer_nationality_7                             515738 non-null  int64  \n",
      "dtypes: float64(51), int64(31)\n",
      "memory usage: 326.6 MB\n"
     ]
    }
   ],
   "source": [
    "preproc_data.info()"
   ]
  },
  {
   "cell_type": "markdown",
   "metadata": {},
   "source": [
    "# 4. Modelling"
   ]
  },
  {
   "cell_type": "markdown",
   "metadata": {},
   "source": [
    "## 4.1. Splitting"
   ]
  },
  {
   "cell_type": "code",
   "execution_count": 120,
   "metadata": {},
   "outputs": [
    {
     "name": "stdout",
     "output_type": "stream",
     "text": [
      "train_data: (386803, 82)\n",
      "test_data: (128935, 81)\n",
      "Empty values in train: 0\n",
      "Empty values in test: 0\n"
     ]
    }
   ],
   "source": [
    "train_data, test_data = split_df(preproc_data)\n",
    "# Проверки\n",
    "print('train_data:', train_data.shape)\n",
    "print('test_data:', test_data.shape)\n",
    "print('Empty values in train:', train_data.isna().any().sum())\n",
    "print('Empty values in test:', test_data.isna().any().sum())"
   ]
  },
  {
   "cell_type": "code",
   "execution_count": 121,
   "metadata": {
    "execution": {
     "iopub.execute_input": "2022-02-08T18:44:36.519263Z",
     "iopub.status.busy": "2022-02-08T18:44:36.518727Z",
     "iopub.status.idle": "2022-02-08T18:44:36.562679Z",
     "shell.execute_reply": "2022-02-08T18:44:36.562103Z",
     "shell.execute_reply.started": "2022-02-08T18:44:36.519234Z"
    }
   },
   "outputs": [],
   "source": [
    "y = train_data.reviewer_score.values            # наш таргет\n",
    "X = train_data.drop(['reviewer_score'], axis=1)"
   ]
  },
  {
   "cell_type": "code",
   "execution_count": 122,
   "metadata": {
    "execution": {
     "iopub.execute_input": "2022-02-08T18:44:36.564406Z",
     "iopub.status.busy": "2022-02-08T18:44:36.563976Z",
     "iopub.status.idle": "2022-02-08T18:44:36.612313Z",
     "shell.execute_reply": "2022-02-08T18:44:36.611682Z",
     "shell.execute_reply.started": "2022-02-08T18:44:36.564379Z"
    }
   },
   "outputs": [],
   "source": [
    "# Воспользуемся специальной функцие train_test_split для разбивки тестовых данных\n",
    "# выделим 20% данных на валидацию (параметр test_size)\n",
    "X_train, X_test, y_train, y_test = train_test_split(X, y, test_size=0.2, random_state=RANDOM_SEED)"
   ]
  },
  {
   "cell_type": "code",
   "execution_count": 123,
   "metadata": {
    "execution": {
     "iopub.execute_input": "2022-02-08T18:44:36.614067Z",
     "iopub.status.busy": "2022-02-08T18:44:36.613636Z",
     "iopub.status.idle": "2022-02-08T18:44:36.619417Z",
     "shell.execute_reply": "2022-02-08T18:44:36.618871Z",
     "shell.execute_reply.started": "2022-02-08T18:44:36.614037Z"
    }
   },
   "outputs": [
    {
     "data": {
      "text/plain": [
       "((128935, 81), (386803, 82), (386803, 81), (309442, 81), (77361, 81))"
      ]
     },
     "execution_count": 123,
     "metadata": {},
     "output_type": "execute_result"
    }
   ],
   "source": [
    "# проверяем\n",
    "test_data.shape, train_data.shape, X.shape, X_train.shape, X_test.shape"
   ]
  },
  {
   "cell_type": "markdown",
   "metadata": {},
   "source": [
    "## 4.2. Training and predicting"
   ]
  },
  {
   "cell_type": "code",
   "execution_count": 124,
   "metadata": {
    "execution": {
     "iopub.execute_input": "2022-02-08T18:44:36.620931Z",
     "iopub.status.busy": "2022-02-08T18:44:36.620476Z",
     "iopub.status.idle": "2022-02-08T18:44:36.630108Z",
     "shell.execute_reply": "2022-02-08T18:44:36.629422Z",
     "shell.execute_reply.started": "2022-02-08T18:44:36.620894Z"
    }
   },
   "outputs": [],
   "source": [
    "# Импортируем необходимые библиотеки:\n",
    "from sklearn.ensemble import RandomForestRegressor # инструмент для создания и обучения модели\n",
    "from sklearn import metrics # инструменты для оценки точности модели"
   ]
  },
  {
   "cell_type": "code",
   "execution_count": 125,
   "metadata": {
    "execution": {
     "iopub.execute_input": "2022-02-08T18:44:36.631625Z",
     "iopub.status.busy": "2022-02-08T18:44:36.631199Z",
     "iopub.status.idle": "2022-02-08T18:44:36.683947Z",
     "shell.execute_reply": "2022-02-08T18:44:36.683132Z",
     "shell.execute_reply.started": "2022-02-08T18:44:36.631597Z"
    }
   },
   "outputs": [],
   "source": [
    "# Создаём модель (НАСТРОЙКИ НЕ ТРОГАЕМ)\n",
    "model = RandomForestRegressor(n_estimators=100, verbose=1, n_jobs=-1, random_state=RANDOM_SEED)"
   ]
  },
  {
   "cell_type": "code",
   "execution_count": 126,
   "metadata": {
    "execution": {
     "iopub.execute_input": "2022-02-08T18:44:36.685824Z",
     "iopub.status.busy": "2022-02-08T18:44:36.685163Z",
     "iopub.status.idle": "2022-02-08T18:45:41.406488Z",
     "shell.execute_reply": "2022-02-08T18:45:41.405586Z",
     "shell.execute_reply.started": "2022-02-08T18:44:36.685783Z"
    }
   },
   "outputs": [
    {
     "name": "stderr",
     "output_type": "stream",
     "text": [
      "[Parallel(n_jobs=-1)]: Using backend ThreadingBackend with 8 concurrent workers.\n",
      "[Parallel(n_jobs=-1)]: Done  34 tasks      | elapsed:  1.1min\n",
      "[Parallel(n_jobs=-1)]: Done 100 out of 100 | elapsed:  2.6min finished\n",
      "[Parallel(n_jobs=8)]: Using backend ThreadingBackend with 8 concurrent workers.\n",
      "[Parallel(n_jobs=8)]: Done  34 tasks      | elapsed:    0.5s\n"
     ]
    },
    {
     "name": "stdout",
     "output_type": "stream",
     "text": [
      "CPU times: user 17min 25s, sys: 6.49 s, total: 17min 31s\n",
      "Wall time: 2min 35s\n"
     ]
    },
    {
     "name": "stderr",
     "output_type": "stream",
     "text": [
      "[Parallel(n_jobs=8)]: Done 100 out of 100 | elapsed:    1.3s finished\n"
     ]
    }
   ],
   "source": [
    "%%time\n",
    "\n",
    "# Обучаем модель на тестовом наборе данных\n",
    "model.fit(X_train, y_train)\n",
    "\n",
    "# Используем обученную модель для предсказания рейтинга ресторанов в тестовой выборке.\n",
    "# Предсказанные значения записываем в переменную y_pred\n",
    "y_pred = model.predict(X_test)"
   ]
  },
  {
   "cell_type": "code",
   "execution_count": 127,
   "metadata": {
    "execution": {
     "iopub.execute_input": "2022-02-08T18:45:41.407913Z",
     "iopub.status.busy": "2022-02-08T18:45:41.407709Z",
     "iopub.status.idle": "2022-02-08T18:45:41.414446Z",
     "shell.execute_reply": "2022-02-08T18:45:41.413947Z",
     "shell.execute_reply.started": "2022-02-08T18:45:41.407883Z"
    }
   },
   "outputs": [
    {
     "name": "stdout",
     "output_type": "stream",
     "text": [
      "MAPE: 0.12561948360569414\n"
     ]
    }
   ],
   "source": [
    "# Сравниваем предсказанные значения (y_pred) с реальными (y_test), и смотрим насколько они в среднем отличаются\n",
    "# Метрика называется Mean Absolute Error (MAE) и показывает среднее отклонение предсказанных значений от фактических.\n",
    "print('MAPE:', metrics.mean_absolute_percentage_error(y_test, y_pred))"
   ]
  },
  {
   "cell_type": "markdown",
   "metadata": {},
   "source": [
    "## 4.3. Features evaluating"
   ]
  },
  {
   "cell_type": "code",
   "execution_count": 128,
   "metadata": {
    "execution": {
     "iopub.execute_input": "2022-02-08T18:45:41.416118Z",
     "iopub.status.busy": "2022-02-08T18:45:41.415495Z",
     "iopub.status.idle": "2022-02-08T18:45:41.864724Z",
     "shell.execute_reply": "2022-02-08T18:45:41.864128Z",
     "shell.execute_reply.started": "2022-02-08T18:45:41.416087Z"
    }
   },
   "outputs": [
    {
     "data": {
      "text/plain": [
       "<AxesSubplot: >"
      ]
     },
     "execution_count": 128,
     "metadata": {},
     "output_type": "execute_result"
    },
    {
     "data": {
      "image/png": "[encoded data removed]",
      "text/plain": [
       "<Figure size 720x720 with 1 Axes>"
      ]
     },
     "metadata": {},
     "output_type": "display_data"
    }
   ],
   "source": [
    "# в RandomForestRegressor есть возможность вывести самые важные признаки для модели\n",
    "plt.rcParams['figure.figsize'] = (10,10)\n",
    "feat_importances = pd.Series(model.feature_importances_, index=X.columns)\n",
    "feat_importances.nlargest(15).plot(kind='barh')"
   ]
  },
  {
   "cell_type": "markdown",
   "metadata": {},
   "source": [
    "## 4.4. Блок подбора оптимальных параметров для модели"
   ]
  },
  {
   "cell_type": "code",
   "execution_count": 129,
   "metadata": {},
   "outputs": [
    {
     "name": "stdout",
     "output_type": "stream",
     "text": [
      "min_MAPE = 0.126\n",
      "0.review_total_negative_word_counts\n"
     ]
    },
    {
     "name": "stderr",
     "output_type": "stream",
     "text": [
      "[Parallel(n_jobs=-1)]: Using backend ThreadingBackend with 8 concurrent workers.\n",
      "[Parallel(n_jobs=-1)]: Done  34 tasks      | elapsed:   46.9s\n",
      "[Parallel(n_jobs=-1)]: Done 100 out of 100 | elapsed:  2.0min finished\n",
      "[Parallel(n_jobs=8)]: Using backend ThreadingBackend with 8 concurrent workers.\n",
      "[Parallel(n_jobs=8)]: Done  34 tasks      | elapsed:    0.4s\n",
      "[Parallel(n_jobs=8)]: Done 100 out of 100 | elapsed:    1.2s finished\n"
     ]
    },
    {
     "name": "stdout",
     "output_type": "stream",
     "text": [
      "0.13495259505079762\n",
      "не удаляем:= review_total_negative_word_counts\n",
      "1.pos_compound\n"
     ]
    },
    {
     "name": "stderr",
     "output_type": "stream",
     "text": [
      "[Parallel(n_jobs=-1)]: Using backend ThreadingBackend with 8 concurrent workers.\n",
      "[Parallel(n_jobs=-1)]: Done  34 tasks      | elapsed:   50.6s\n",
      "[Parallel(n_jobs=-1)]: Done 100 out of 100 | elapsed:  2.1min finished\n",
      "[Parallel(n_jobs=8)]: Using backend ThreadingBackend with 8 concurrent workers.\n",
      "[Parallel(n_jobs=8)]: Done  34 tasks      | elapsed:    0.5s\n",
      "[Parallel(n_jobs=8)]: Done 100 out of 100 | elapsed:    1.3s finished\n"
     ]
    },
    {
     "name": "stdout",
     "output_type": "stream",
     "text": [
      "0.12952627484836082\n",
      "не удаляем:= pos_compound\n",
      "2.average_score\n"
     ]
    },
    {
     "name": "stderr",
     "output_type": "stream",
     "text": [
      "[Parallel(n_jobs=-1)]: Using backend ThreadingBackend with 8 concurrent workers.\n",
      "[Parallel(n_jobs=-1)]: Done  34 tasks      | elapsed:   51.5s\n",
      "[Parallel(n_jobs=-1)]: Done 100 out of 100 | elapsed:  2.2min finished\n",
      "[Parallel(n_jobs=8)]: Using backend ThreadingBackend with 8 concurrent workers.\n",
      "[Parallel(n_jobs=8)]: Done  34 tasks      | elapsed:    0.5s\n",
      "[Parallel(n_jobs=8)]: Done 100 out of 100 | elapsed:    1.3s finished\n"
     ]
    },
    {
     "name": "stdout",
     "output_type": "stream",
     "text": [
      "0.12987589897760388\n",
      "не удаляем:= average_score\n",
      "3.neg_compound\n"
     ]
    },
    {
     "name": "stderr",
     "output_type": "stream",
     "text": [
      "[Parallel(n_jobs=-1)]: Using backend ThreadingBackend with 8 concurrent workers.\n",
      "[Parallel(n_jobs=-1)]: Done  34 tasks      | elapsed:   45.9s\n",
      "[Parallel(n_jobs=-1)]: Done 100 out of 100 | elapsed:  2.0min finished\n",
      "[Parallel(n_jobs=8)]: Using backend ThreadingBackend with 8 concurrent workers.\n",
      "[Parallel(n_jobs=8)]: Done  34 tasks      | elapsed:    0.5s\n",
      "[Parallel(n_jobs=8)]: Done 100 out of 100 | elapsed:    1.1s finished\n"
     ]
    },
    {
     "name": "stdout",
     "output_type": "stream",
     "text": [
      "0.127566655401004\n",
      "не удаляем:= neg_compound\n",
      "4.days_since_review\n"
     ]
    },
    {
     "name": "stderr",
     "output_type": "stream",
     "text": [
      "[Parallel(n_jobs=-1)]: Using backend ThreadingBackend with 8 concurrent workers.\n",
      "[Parallel(n_jobs=-1)]: Done  34 tasks      | elapsed:   46.4s\n",
      "[Parallel(n_jobs=-1)]: Done 100 out of 100 | elapsed:  2.0min finished\n",
      "[Parallel(n_jobs=8)]: Using backend ThreadingBackend with 8 concurrent workers.\n",
      "[Parallel(n_jobs=8)]: Done  34 tasks      | elapsed:    0.5s\n",
      "[Parallel(n_jobs=8)]: Done 100 out of 100 | elapsed:    1.5s finished\n"
     ]
    },
    {
     "name": "stdout",
     "output_type": "stream",
     "text": [
      "0.12573100954012087\n",
      "не удаляем:= days_since_review\n",
      "5.review_total_positive_word_counts\n"
     ]
    },
    {
     "name": "stderr",
     "output_type": "stream",
     "text": [
      "[Parallel(n_jobs=-1)]: Using backend ThreadingBackend with 8 concurrent workers.\n",
      "[Parallel(n_jobs=-1)]: Done  34 tasks      | elapsed:   52.1s\n",
      "[Parallel(n_jobs=-1)]: Done 100 out of 100 | elapsed:  2.2min finished\n",
      "[Parallel(n_jobs=8)]: Using backend ThreadingBackend with 8 concurrent workers.\n",
      "[Parallel(n_jobs=8)]: Done  34 tasks      | elapsed:    0.5s\n",
      "[Parallel(n_jobs=8)]: Done 100 out of 100 | elapsed:    1.4s finished\n"
     ]
    },
    {
     "name": "stdout",
     "output_type": "stream",
     "text": [
      "0.1279606257471746\n",
      "не удаляем:= review_total_positive_word_counts\n",
      "6.total_number_of_reviews\n"
     ]
    },
    {
     "name": "stderr",
     "output_type": "stream",
     "text": [
      "[Parallel(n_jobs=-1)]: Using backend ThreadingBackend with 8 concurrent workers.\n",
      "[Parallel(n_jobs=-1)]: Done  34 tasks      | elapsed:   51.0s\n",
      "[Parallel(n_jobs=-1)]: Done 100 out of 100 | elapsed:  2.2min finished\n",
      "[Parallel(n_jobs=8)]: Using backend ThreadingBackend with 8 concurrent workers.\n",
      "[Parallel(n_jobs=8)]: Done  34 tasks      | elapsed:    0.5s\n",
      "[Parallel(n_jobs=8)]: Done 100 out of 100 | elapsed:    1.1s finished\n"
     ]
    },
    {
     "name": "stdout",
     "output_type": "stream",
     "text": [
      "0.12549434452067787\n",
      "не удаляем:= total_number_of_reviews\n",
      "7.additional_number_of_scoring\n"
     ]
    },
    {
     "name": "stderr",
     "output_type": "stream",
     "text": [
      "[Parallel(n_jobs=-1)]: Using backend ThreadingBackend with 8 concurrent workers.\n",
      "[Parallel(n_jobs=-1)]: Done  34 tasks      | elapsed:   47.9s\n",
      "[Parallel(n_jobs=-1)]: Done 100 out of 100 | elapsed:  2.1min finished\n",
      "[Parallel(n_jobs=8)]: Using backend ThreadingBackend with 8 concurrent workers.\n",
      "[Parallel(n_jobs=8)]: Done  34 tasks      | elapsed:    0.4s\n",
      "[Parallel(n_jobs=8)]: Done 100 out of 100 | elapsed:    1.1s finished\n"
     ]
    },
    {
     "name": "stdout",
     "output_type": "stream",
     "text": [
      "0.1255863894675009\n",
      "не удаляем:= additional_number_of_scoring\n",
      "8.total_number_of_reviews_reviewer_has_given\n"
     ]
    },
    {
     "name": "stderr",
     "output_type": "stream",
     "text": [
      "[Parallel(n_jobs=-1)]: Using backend ThreadingBackend with 8 concurrent workers.\n",
      "[Parallel(n_jobs=-1)]: Done  34 tasks      | elapsed:   46.8s\n",
      "[Parallel(n_jobs=-1)]: Done 100 out of 100 | elapsed:  2.0min finished\n",
      "[Parallel(n_jobs=8)]: Using backend ThreadingBackend with 8 concurrent workers.\n",
      "[Parallel(n_jobs=8)]: Done  34 tasks      | elapsed:    0.5s\n",
      "[Parallel(n_jobs=8)]: Done 100 out of 100 | elapsed:    1.3s finished\n"
     ]
    },
    {
     "name": "stdout",
     "output_type": "stream",
     "text": [
      "0.12571736534854136\n",
      "не удаляем:= total_number_of_reviews_reviewer_has_given\n",
      "9.md\n"
     ]
    },
    {
     "name": "stderr",
     "output_type": "stream",
     "text": [
      "[Parallel(n_jobs=-1)]: Using backend ThreadingBackend with 8 concurrent workers.\n",
      "[Parallel(n_jobs=-1)]: Done  34 tasks      | elapsed:   48.4s\n",
      "[Parallel(n_jobs=-1)]: Done 100 out of 100 | elapsed:  2.0min finished\n",
      "[Parallel(n_jobs=8)]: Using backend ThreadingBackend with 8 concurrent workers.\n",
      "[Parallel(n_jobs=8)]: Done  34 tasks      | elapsed:    0.5s\n",
      "[Parallel(n_jobs=8)]: Done 100 out of 100 | elapsed:    1.2s finished\n"
     ]
    },
    {
     "name": "stdout",
     "output_type": "stream",
     "text": [
      "0.1256357962640743\n",
      "не удаляем:= md\n",
      "10.distance\n"
     ]
    },
    {
     "name": "stderr",
     "output_type": "stream",
     "text": [
      "[Parallel(n_jobs=-1)]: Using backend ThreadingBackend with 8 concurrent workers.\n",
      "[Parallel(n_jobs=-1)]: Done  34 tasks      | elapsed:   49.0s\n",
      "[Parallel(n_jobs=-1)]: Done 100 out of 100 | elapsed:  2.1min finished\n",
      "[Parallel(n_jobs=8)]: Using backend ThreadingBackend with 8 concurrent workers.\n",
      "[Parallel(n_jobs=8)]: Done  34 tasks      | elapsed:    0.4s\n",
      "[Parallel(n_jobs=8)]: Done 100 out of 100 | elapsed:    1.2s finished\n"
     ]
    },
    {
     "name": "stdout",
     "output_type": "stream",
     "text": [
      "0.12561208779415942\n",
      "не удаляем:= distance\n",
      "11.wd\n"
     ]
    },
    {
     "name": "stderr",
     "output_type": "stream",
     "text": [
      "[Parallel(n_jobs=-1)]: Using backend ThreadingBackend with 8 concurrent workers.\n",
      "[Parallel(n_jobs=-1)]: Done  34 tasks      | elapsed:   50.1s\n",
      "[Parallel(n_jobs=-1)]: Done 100 out of 100 | elapsed:  2.1min finished\n",
      "[Parallel(n_jobs=8)]: Using backend ThreadingBackend with 8 concurrent workers.\n",
      "[Parallel(n_jobs=8)]: Done  34 tasks      | elapsed:    0.5s\n",
      "[Parallel(n_jobs=8)]: Done 100 out of 100 | elapsed:    1.2s finished\n"
     ]
    },
    {
     "name": "stdout",
     "output_type": "stream",
     "text": [
      "0.1255633368084976\n",
      "не удаляем:= wd\n",
      "12.date_diff\n"
     ]
    },
    {
     "name": "stderr",
     "output_type": "stream",
     "text": [
      "[Parallel(n_jobs=-1)]: Using backend ThreadingBackend with 8 concurrent workers.\n",
      "[Parallel(n_jobs=-1)]: Done  34 tasks      | elapsed:   47.3s\n",
      "[Parallel(n_jobs=-1)]: Done 100 out of 100 | elapsed:  2.0min finished\n",
      "[Parallel(n_jobs=8)]: Using backend ThreadingBackend with 8 concurrent workers.\n",
      "[Parallel(n_jobs=8)]: Done  34 tasks      | elapsed:    0.5s\n",
      "[Parallel(n_jobs=8)]: Done 100 out of 100 | elapsed:    1.4s finished\n"
     ]
    },
    {
     "name": "stdout",
     "output_type": "stream",
     "text": [
      "0.12559528947595988\n",
      "не удаляем:= date_diff\n",
      "13.pop_density\n"
     ]
    },
    {
     "name": "stderr",
     "output_type": "stream",
     "text": [
      "[Parallel(n_jobs=-1)]: Using backend ThreadingBackend with 8 concurrent workers.\n",
      "[Parallel(n_jobs=-1)]: Done  34 tasks      | elapsed:   47.9s\n",
      "[Parallel(n_jobs=-1)]: Done 100 out of 100 | elapsed:  2.0min finished\n",
      "[Parallel(n_jobs=8)]: Using backend ThreadingBackend with 8 concurrent workers.\n",
      "[Parallel(n_jobs=8)]: Done  34 tasks      | elapsed:    0.4s\n",
      "[Parallel(n_jobs=8)]: Done 100 out of 100 | elapsed:    1.2s finished\n"
     ]
    },
    {
     "name": "stdout",
     "output_type": "stream",
     "text": [
      "0.12561642846770207\n",
      "не удаляем:= pop_density\n",
      "14.сount_tags\n"
     ]
    },
    {
     "name": "stderr",
     "output_type": "stream",
     "text": [
      "[Parallel(n_jobs=-1)]: Using backend ThreadingBackend with 8 concurrent workers.\n",
      "[Parallel(n_jobs=-1)]: Done  34 tasks      | elapsed:   50.2s\n",
      "[Parallel(n_jobs=-1)]: Done 100 out of 100 | elapsed:  2.1min finished\n",
      "[Parallel(n_jobs=8)]: Using backend ThreadingBackend with 8 concurrent workers.\n",
      "[Parallel(n_jobs=8)]: Done  34 tasks      | elapsed:    0.5s\n",
      "[Parallel(n_jobs=8)]: Done 100 out of 100 | elapsed:    1.2s finished\n"
     ]
    },
    {
     "name": "stdout",
     "output_type": "stream",
     "text": [
      "0.12564090837436895\n",
      "не удаляем:= сount_tags\n",
      "15.Couple\n"
     ]
    },
    {
     "name": "stderr",
     "output_type": "stream",
     "text": [
      "[Parallel(n_jobs=-1)]: Using backend ThreadingBackend with 8 concurrent workers.\n",
      "[Parallel(n_jobs=-1)]: Done  34 tasks      | elapsed:   47.6s\n",
      "[Parallel(n_jobs=-1)]: Done 100 out of 100 | elapsed:  2.0min finished\n",
      "[Parallel(n_jobs=8)]: Using backend ThreadingBackend with 8 concurrent workers.\n",
      "[Parallel(n_jobs=8)]: Done  34 tasks      | elapsed:    0.4s\n",
      "[Parallel(n_jobs=8)]: Done 100 out of 100 | elapsed:    1.2s finished\n"
     ]
    },
    {
     "name": "stdout",
     "output_type": "stream",
     "text": [
      "0.12561497454706227\n",
      "не удаляем:= Couple\n",
      "16.Stayed_1_night\n"
     ]
    },
    {
     "name": "stderr",
     "output_type": "stream",
     "text": [
      "[Parallel(n_jobs=-1)]: Using backend ThreadingBackend with 8 concurrent workers.\n",
      "[Parallel(n_jobs=-1)]: Done  34 tasks      | elapsed:   47.3s\n",
      "[Parallel(n_jobs=-1)]: Done 100 out of 100 | elapsed:  2.0min finished\n",
      "[Parallel(n_jobs=8)]: Using backend ThreadingBackend with 8 concurrent workers.\n",
      "[Parallel(n_jobs=8)]: Done  34 tasks      | elapsed:    0.5s\n",
      "[Parallel(n_jobs=8)]: Done 100 out of 100 | elapsed:    1.4s finished\n"
     ]
    },
    {
     "name": "stdout",
     "output_type": "stream",
     "text": [
      "0.1256219630133779\n",
      "не удаляем:= Stayed_1_night\n",
      "17.population\n"
     ]
    },
    {
     "name": "stderr",
     "output_type": "stream",
     "text": [
      "[Parallel(n_jobs=-1)]: Using backend ThreadingBackend with 8 concurrent workers.\n",
      "[Parallel(n_jobs=-1)]: Done  34 tasks      | elapsed:   49.7s\n",
      "[Parallel(n_jobs=-1)]: Done 100 out of 100 | elapsed:  2.1min finished\n",
      "[Parallel(n_jobs=8)]: Using backend ThreadingBackend with 8 concurrent workers.\n",
      "[Parallel(n_jobs=8)]: Done  34 tasks      | elapsed:    0.5s\n",
      "[Parallel(n_jobs=8)]: Done 100 out of 100 | elapsed:    1.4s finished\n"
     ]
    },
    {
     "name": "stdout",
     "output_type": "stream",
     "text": [
      "0.1255785194789783\n",
      "не удаляем:= population\n",
      "18.Stayed_2_nights\n"
     ]
    },
    {
     "name": "stderr",
     "output_type": "stream",
     "text": [
      "[Parallel(n_jobs=-1)]: Using backend ThreadingBackend with 8 concurrent workers.\n",
      "[Parallel(n_jobs=-1)]: Done  34 tasks      | elapsed:   48.4s\n",
      "[Parallel(n_jobs=-1)]: Done 100 out of 100 | elapsed:  2.0min finished\n",
      "[Parallel(n_jobs=8)]: Using backend ThreadingBackend with 8 concurrent workers.\n",
      "[Parallel(n_jobs=8)]: Done  34 tasks      | elapsed:    0.5s\n",
      "[Parallel(n_jobs=8)]: Done 100 out of 100 | elapsed:    1.2s finished\n"
     ]
    },
    {
     "name": "stdout",
     "output_type": "stream",
     "text": [
      "0.125635317528632\n",
      "не удаляем:= Stayed_2_nights\n",
      "19.reviewer_nationality_5\n"
     ]
    },
    {
     "name": "stderr",
     "output_type": "stream",
     "text": [
      "[Parallel(n_jobs=-1)]: Using backend ThreadingBackend with 8 concurrent workers.\n",
      "[Parallel(n_jobs=-1)]: Done  34 tasks      | elapsed:   48.4s\n",
      "[Parallel(n_jobs=-1)]: Done 100 out of 100 | elapsed:  2.0min finished\n",
      "[Parallel(n_jobs=8)]: Using backend ThreadingBackend with 8 concurrent workers.\n",
      "[Parallel(n_jobs=8)]: Done  34 tasks      | elapsed:    0.5s\n",
      "[Parallel(n_jobs=8)]: Done 100 out of 100 | elapsed:    1.2s finished\n"
     ]
    },
    {
     "name": "stdout",
     "output_type": "stream",
     "text": [
      "0.12556103258009194\n",
      "не удаляем:= reviewer_nationality_5\n",
      "20.hotel_name_4\n"
     ]
    },
    {
     "name": "stderr",
     "output_type": "stream",
     "text": [
      "[Parallel(n_jobs=-1)]: Using backend ThreadingBackend with 8 concurrent workers.\n",
      "[Parallel(n_jobs=-1)]: Done  34 tasks      | elapsed:   47.1s\n",
      "[Parallel(n_jobs=-1)]: Done 100 out of 100 | elapsed:  2.0min finished\n",
      "[Parallel(n_jobs=8)]: Using backend ThreadingBackend with 8 concurrent workers.\n",
      "[Parallel(n_jobs=8)]: Done  34 tasks      | elapsed:    0.5s\n",
      "[Parallel(n_jobs=8)]: Done 100 out of 100 | elapsed:    1.4s finished\n"
     ]
    },
    {
     "name": "stdout",
     "output_type": "stream",
     "text": [
      "0.12560101281380645\n",
      "не удаляем:= hotel_name_4\n",
      "21.hotel_name_5\n"
     ]
    },
    {
     "name": "stderr",
     "output_type": "stream",
     "text": [
      "[Parallel(n_jobs=-1)]: Using backend ThreadingBackend with 8 concurrent workers.\n",
      "[Parallel(n_jobs=-1)]: Done  34 tasks      | elapsed:   45.5s\n",
      "[Parallel(n_jobs=-1)]: Done 100 out of 100 | elapsed:  1.9min finished\n",
      "[Parallel(n_jobs=8)]: Using backend ThreadingBackend with 8 concurrent workers.\n",
      "[Parallel(n_jobs=8)]: Done  34 tasks      | elapsed:    0.4s\n",
      "[Parallel(n_jobs=8)]: Done 100 out of 100 | elapsed:    1.2s finished\n"
     ]
    },
    {
     "name": "stdout",
     "output_type": "stream",
     "text": [
      "0.1255637005736949\n",
      "не удаляем:= hotel_name_5\n",
      "22.hotel_name_7\n"
     ]
    },
    {
     "name": "stderr",
     "output_type": "stream",
     "text": [
      "[Parallel(n_jobs=-1)]: Using backend ThreadingBackend with 8 concurrent workers.\n",
      "[Parallel(n_jobs=-1)]: Done  34 tasks      | elapsed:   47.2s\n",
      "[Parallel(n_jobs=-1)]: Done 100 out of 100 | elapsed:  2.0min finished\n",
      "[Parallel(n_jobs=8)]: Using backend ThreadingBackend with 8 concurrent workers.\n",
      "[Parallel(n_jobs=8)]: Done  34 tasks      | elapsed:    0.5s\n",
      "[Parallel(n_jobs=8)]: Done 100 out of 100 | elapsed:    1.4s finished\n"
     ]
    },
    {
     "name": "stdout",
     "output_type": "stream",
     "text": [
      "0.1255791240148922\n",
      "не удаляем:= hotel_name_7\n",
      "23.hotel_name_6\n"
     ]
    },
    {
     "name": "stderr",
     "output_type": "stream",
     "text": [
      "[Parallel(n_jobs=-1)]: Using backend ThreadingBackend with 8 concurrent workers.\n",
      "[Parallel(n_jobs=-1)]: Done  34 tasks      | elapsed:   47.3s\n",
      "[Parallel(n_jobs=-1)]: Done 100 out of 100 | elapsed:  2.0min finished\n",
      "[Parallel(n_jobs=8)]: Using backend ThreadingBackend with 8 concurrent workers.\n",
      "[Parallel(n_jobs=8)]: Done  34 tasks      | elapsed:    0.5s\n",
      "[Parallel(n_jobs=8)]: Done 100 out of 100 | elapsed:    1.2s finished\n"
     ]
    },
    {
     "name": "stdout",
     "output_type": "stream",
     "text": [
      "0.1255086981289665\n",
      "не удаляем:= hotel_name_6\n",
      "24.hotel_name_10\n"
     ]
    },
    {
     "name": "stderr",
     "output_type": "stream",
     "text": [
      "[Parallel(n_jobs=-1)]: Using backend ThreadingBackend with 8 concurrent workers.\n",
      "[Parallel(n_jobs=-1)]: Done  34 tasks      | elapsed:   47.9s\n",
      "[Parallel(n_jobs=-1)]: Done 100 out of 100 | elapsed:  2.0min finished\n",
      "[Parallel(n_jobs=8)]: Using backend ThreadingBackend with 8 concurrent workers.\n",
      "[Parallel(n_jobs=8)]: Done  34 tasks      | elapsed:    0.4s\n",
      "[Parallel(n_jobs=8)]: Done 100 out of 100 | elapsed:    1.2s finished\n"
     ]
    },
    {
     "name": "stdout",
     "output_type": "stream",
     "text": [
      "0.12560114451817134\n",
      "не удаляем:= hotel_name_10\n",
      "25.hotel_name_8\n"
     ]
    },
    {
     "name": "stderr",
     "output_type": "stream",
     "text": [
      "[Parallel(n_jobs=-1)]: Using backend ThreadingBackend with 8 concurrent workers.\n",
      "[Parallel(n_jobs=-1)]: Done  34 tasks      | elapsed:   47.9s\n",
      "[Parallel(n_jobs=-1)]: Done 100 out of 100 | elapsed:  2.0min finished\n",
      "[Parallel(n_jobs=8)]: Using backend ThreadingBackend with 8 concurrent workers.\n",
      "[Parallel(n_jobs=8)]: Done  34 tasks      | elapsed:    0.5s\n",
      "[Parallel(n_jobs=8)]: Done 100 out of 100 | elapsed:    1.2s finished\n"
     ]
    },
    {
     "name": "stdout",
     "output_type": "stream",
     "text": [
      "0.12562495716133162\n",
      "не удаляем:= hotel_name_8\n",
      "26.reviewer_nationality_4\n"
     ]
    },
    {
     "name": "stderr",
     "output_type": "stream",
     "text": [
      "[Parallel(n_jobs=-1)]: Using backend ThreadingBackend with 8 concurrent workers.\n",
      "[Parallel(n_jobs=-1)]: Done  34 tasks      | elapsed:   47.0s\n",
      "[Parallel(n_jobs=-1)]: Done 100 out of 100 | elapsed:  2.0min finished\n",
      "[Parallel(n_jobs=8)]: Using backend ThreadingBackend with 8 concurrent workers.\n",
      "[Parallel(n_jobs=8)]: Done  34 tasks      | elapsed:    0.5s\n",
      "[Parallel(n_jobs=8)]: Done 100 out of 100 | elapsed:    1.2s finished\n"
     ]
    },
    {
     "name": "stdout",
     "output_type": "stream",
     "text": [
      "0.1256951048735267\n",
      "не удаляем:= reviewer_nationality_4\n",
      "27.reviewer_nationality_6\n"
     ]
    },
    {
     "name": "stderr",
     "output_type": "stream",
     "text": [
      "[Parallel(n_jobs=-1)]: Using backend ThreadingBackend with 8 concurrent workers.\n",
      "[Parallel(n_jobs=-1)]: Done  34 tasks      | elapsed:   48.0s\n",
      "[Parallel(n_jobs=-1)]: Done 100 out of 100 | elapsed:  2.0min finished\n",
      "[Parallel(n_jobs=8)]: Using backend ThreadingBackend with 8 concurrent workers.\n",
      "[Parallel(n_jobs=8)]: Done  34 tasks      | elapsed:    0.5s\n",
      "[Parallel(n_jobs=8)]: Done 100 out of 100 | elapsed:    1.2s finished\n"
     ]
    },
    {
     "name": "stdout",
     "output_type": "stream",
     "text": [
      "0.12563742421671298\n",
      "не удаляем:= reviewer_nationality_6\n",
      "28.hotel_name_3\n"
     ]
    },
    {
     "name": "stderr",
     "output_type": "stream",
     "text": [
      "[Parallel(n_jobs=-1)]: Using backend ThreadingBackend with 8 concurrent workers.\n",
      "[Parallel(n_jobs=-1)]: Done  34 tasks      | elapsed:   49.6s\n",
      "[Parallel(n_jobs=-1)]: Done 100 out of 100 | elapsed:  2.1min finished\n",
      "[Parallel(n_jobs=8)]: Using backend ThreadingBackend with 8 concurrent workers.\n",
      "[Parallel(n_jobs=8)]: Done  34 tasks      | elapsed:    0.4s\n",
      "[Parallel(n_jobs=8)]: Done 100 out of 100 | elapsed:    1.2s finished\n"
     ]
    },
    {
     "name": "stdout",
     "output_type": "stream",
     "text": [
      "0.12556493101388116\n",
      "не удаляем:= hotel_name_3\n",
      "29.hotel_name_9\n"
     ]
    },
    {
     "name": "stderr",
     "output_type": "stream",
     "text": [
      "[Parallel(n_jobs=-1)]: Using backend ThreadingBackend with 8 concurrent workers.\n",
      "[Parallel(n_jobs=-1)]: Done  34 tasks      | elapsed:   49.1s\n",
      "[Parallel(n_jobs=-1)]: Done 100 out of 100 | elapsed:  2.1min finished\n",
      "[Parallel(n_jobs=8)]: Using backend ThreadingBackend with 8 concurrent workers.\n",
      "[Parallel(n_jobs=8)]: Done  34 tasks      | elapsed:    0.5s\n",
      "[Parallel(n_jobs=8)]: Done 100 out of 100 | elapsed:    1.2s finished\n"
     ]
    },
    {
     "name": "stdout",
     "output_type": "stream",
     "text": [
      "0.12561826273208787\n",
      "не удаляем:= hotel_name_9\n",
      "30.reviewer_nationality_7\n"
     ]
    },
    {
     "name": "stderr",
     "output_type": "stream",
     "text": [
      "[Parallel(n_jobs=-1)]: Using backend ThreadingBackend with 8 concurrent workers.\n",
      "[Parallel(n_jobs=-1)]: Done  34 tasks      | elapsed:   47.7s\n",
      "[Parallel(n_jobs=-1)]: Done 100 out of 100 | elapsed:  2.0min finished\n",
      "[Parallel(n_jobs=8)]: Using backend ThreadingBackend with 8 concurrent workers.\n",
      "[Parallel(n_jobs=8)]: Done  34 tasks      | elapsed:    0.5s\n",
      "[Parallel(n_jobs=8)]: Done 100 out of 100 | elapsed:    1.3s finished\n"
     ]
    },
    {
     "name": "stdout",
     "output_type": "stream",
     "text": [
      "0.125527461457266\n",
      "не удаляем:= reviewer_nationality_7\n",
      "31.reviewer_nationality_3\n"
     ]
    },
    {
     "name": "stderr",
     "output_type": "stream",
     "text": [
      "[Parallel(n_jobs=-1)]: Using backend ThreadingBackend with 8 concurrent workers.\n",
      "[Parallel(n_jobs=-1)]: Done  34 tasks      | elapsed:   48.9s\n",
      "[Parallel(n_jobs=-1)]: Done 100 out of 100 | elapsed:  2.1min finished\n",
      "[Parallel(n_jobs=8)]: Using backend ThreadingBackend with 8 concurrent workers.\n",
      "[Parallel(n_jobs=8)]: Done  34 tasks      | elapsed:    0.5s\n",
      "[Parallel(n_jobs=8)]: Done 100 out of 100 | elapsed:    1.2s finished\n"
     ]
    },
    {
     "name": "stdout",
     "output_type": "stream",
     "text": [
      "0.12561802690570922\n",
      "не удаляем:= reviewer_nationality_3\n",
      "32.Solo_traveler\n"
     ]
    },
    {
     "name": "stderr",
     "output_type": "stream",
     "text": [
      "[Parallel(n_jobs=-1)]: Using backend ThreadingBackend with 8 concurrent workers.\n",
      "[Parallel(n_jobs=-1)]: Done  34 tasks      | elapsed:   49.4s\n",
      "[Parallel(n_jobs=-1)]: Done 100 out of 100 | elapsed:  2.1min finished\n",
      "[Parallel(n_jobs=8)]: Using backend ThreadingBackend with 8 concurrent workers.\n",
      "[Parallel(n_jobs=8)]: Done  34 tasks      | elapsed:    0.5s\n",
      "[Parallel(n_jobs=8)]: Done 100 out of 100 | elapsed:    1.2s finished\n"
     ]
    },
    {
     "name": "stdout",
     "output_type": "stream",
     "text": [
      "0.12564531870390422\n",
      "не удаляем:= Solo_traveler\n",
      "33.hotel_name_2\n"
     ]
    },
    {
     "name": "stderr",
     "output_type": "stream",
     "text": [
      "[Parallel(n_jobs=-1)]: Using backend ThreadingBackend with 8 concurrent workers.\n",
      "[Parallel(n_jobs=-1)]: Done  34 tasks      | elapsed:   47.0s\n",
      "[Parallel(n_jobs=-1)]: Done 100 out of 100 | elapsed:  2.0min finished\n",
      "[Parallel(n_jobs=8)]: Using backend ThreadingBackend with 8 concurrent workers.\n",
      "[Parallel(n_jobs=8)]: Done  34 tasks      | elapsed:    0.5s\n",
      "[Parallel(n_jobs=8)]: Done 100 out of 100 | elapsed:    1.2s finished\n"
     ]
    },
    {
     "name": "stdout",
     "output_type": "stream",
     "text": [
      "0.1255779771621971\n",
      "не удаляем:= hotel_name_2\n",
      "34.reviewer_nationality_2\n"
     ]
    },
    {
     "name": "stderr",
     "output_type": "stream",
     "text": [
      "[Parallel(n_jobs=-1)]: Using backend ThreadingBackend with 8 concurrent workers.\n",
      "[Parallel(n_jobs=-1)]: Done  34 tasks      | elapsed:   48.4s\n",
      "[Parallel(n_jobs=-1)]: Done 100 out of 100 | elapsed:  2.0min finished\n",
      "[Parallel(n_jobs=8)]: Using backend ThreadingBackend with 8 concurrent workers.\n",
      "[Parallel(n_jobs=8)]: Done  34 tasks      | elapsed:    0.5s\n",
      "[Parallel(n_jobs=8)]: Done 100 out of 100 | elapsed:    1.4s finished\n"
     ]
    },
    {
     "name": "stdout",
     "output_type": "stream",
     "text": [
      "0.1256134468706838\n",
      "не удаляем:= reviewer_nationality_2\n",
      "35.Stayed_3_nights\n"
     ]
    },
    {
     "name": "stderr",
     "output_type": "stream",
     "text": [
      "[Parallel(n_jobs=-1)]: Using backend ThreadingBackend with 8 concurrent workers.\n",
      "[Parallel(n_jobs=-1)]: Done  34 tasks      | elapsed:   49.6s\n",
      "[Parallel(n_jobs=-1)]: Done 100 out of 100 | elapsed:  2.1min finished\n",
      "[Parallel(n_jobs=8)]: Using backend ThreadingBackend with 8 concurrent workers.\n",
      "[Parallel(n_jobs=8)]: Done  34 tasks      | elapsed:    0.5s\n",
      "[Parallel(n_jobs=8)]: Done 100 out of 100 | elapsed:    1.4s finished\n"
     ]
    },
    {
     "name": "stdout",
     "output_type": "stream",
     "text": [
      "0.12555175035842972\n",
      "не удаляем:= Stayed_3_nights\n",
      "36.Group\n"
     ]
    },
    {
     "name": "stderr",
     "output_type": "stream",
     "text": [
      "[Parallel(n_jobs=-1)]: Using backend ThreadingBackend with 8 concurrent workers.\n",
      "[Parallel(n_jobs=-1)]: Done  34 tasks      | elapsed:   46.9s\n",
      "[Parallel(n_jobs=-1)]: Done 100 out of 100 | elapsed:  2.0min finished\n",
      "[Parallel(n_jobs=8)]: Using backend ThreadingBackend with 8 concurrent workers.\n",
      "[Parallel(n_jobs=8)]: Done  34 tasks      | elapsed:    0.5s\n",
      "[Parallel(n_jobs=8)]: Done 100 out of 100 | elapsed:    1.2s finished\n"
     ]
    },
    {
     "name": "stdout",
     "output_type": "stream",
     "text": [
      "0.12561613470414393\n",
      "не удаляем:= Group\n",
      "37.Family_with_young_children\n"
     ]
    },
    {
     "name": "stderr",
     "output_type": "stream",
     "text": [
      "[Parallel(n_jobs=-1)]: Using backend ThreadingBackend with 8 concurrent workers.\n",
      "[Parallel(n_jobs=-1)]: Done  34 tasks      | elapsed:   46.8s\n",
      "[Parallel(n_jobs=-1)]: Done 100 out of 100 | elapsed:  2.0min finished\n",
      "[Parallel(n_jobs=8)]: Using backend ThreadingBackend with 8 concurrent workers.\n",
      "[Parallel(n_jobs=8)]: Done  34 tasks      | elapsed:    0.5s\n",
      "[Parallel(n_jobs=8)]: Done 100 out of 100 | elapsed:    1.4s finished\n"
     ]
    },
    {
     "name": "stdout",
     "output_type": "stream",
     "text": [
      "0.12560210185774792\n",
      "не удаляем:= Family_with_young_children\n",
      "38.Leisure_trip\n"
     ]
    },
    {
     "name": "stderr",
     "output_type": "stream",
     "text": [
      "[Parallel(n_jobs=-1)]: Using backend ThreadingBackend with 8 concurrent workers.\n",
      "[Parallel(n_jobs=-1)]: Done  34 tasks      | elapsed:   48.8s\n",
      "[Parallel(n_jobs=-1)]: Done 100 out of 100 | elapsed:  2.0min finished\n",
      "[Parallel(n_jobs=8)]: Using backend ThreadingBackend with 8 concurrent workers.\n",
      "[Parallel(n_jobs=8)]: Done  34 tasks      | elapsed:    0.5s\n",
      "[Parallel(n_jobs=8)]: Done 100 out of 100 | elapsed:    1.2s finished\n"
     ]
    },
    {
     "name": "stdout",
     "output_type": "stream",
     "text": [
      "0.12564468303255935\n",
      "не удаляем:= Leisure_trip\n",
      "39.Submitted_from_a_mobile_device\n"
     ]
    },
    {
     "name": "stderr",
     "output_type": "stream",
     "text": [
      "[Parallel(n_jobs=-1)]: Using backend ThreadingBackend with 8 concurrent workers.\n",
      "[Parallel(n_jobs=-1)]: Done  34 tasks      | elapsed:   48.3s\n",
      "[Parallel(n_jobs=-1)]: Done 100 out of 100 | elapsed:  2.0min finished\n",
      "[Parallel(n_jobs=8)]: Using backend ThreadingBackend with 8 concurrent workers.\n",
      "[Parallel(n_jobs=8)]: Done  34 tasks      | elapsed:    0.4s\n",
      "[Parallel(n_jobs=8)]: Done 100 out of 100 | elapsed:    1.2s finished\n"
     ]
    },
    {
     "name": "stdout",
     "output_type": "stream",
     "text": [
      "0.12563019923986204\n",
      "не удаляем:= Submitted_from_a_mobile_device\n",
      "40.hotel_name_1\n"
     ]
    },
    {
     "name": "stderr",
     "output_type": "stream",
     "text": [
      "[Parallel(n_jobs=-1)]: Using backend ThreadingBackend with 8 concurrent workers.\n",
      "[Parallel(n_jobs=-1)]: Done  34 tasks      | elapsed:   48.3s\n",
      "[Parallel(n_jobs=-1)]: Done 100 out of 100 | elapsed:  2.0min finished\n",
      "[Parallel(n_jobs=8)]: Using backend ThreadingBackend with 8 concurrent workers.\n",
      "[Parallel(n_jobs=8)]: Done  34 tasks      | elapsed:    0.5s\n",
      "[Parallel(n_jobs=8)]: Done 100 out of 100 | elapsed:    1.2s finished\n"
     ]
    },
    {
     "name": "stdout",
     "output_type": "stream",
     "text": [
      "0.12558963030740292\n",
      "не удаляем:= hotel_name_1\n",
      "41.Business_trip\n"
     ]
    },
    {
     "name": "stderr",
     "output_type": "stream",
     "text": [
      "[Parallel(n_jobs=-1)]: Using backend ThreadingBackend with 8 concurrent workers.\n",
      "[Parallel(n_jobs=-1)]: Done  34 tasks      | elapsed:   47.2s\n",
      "[Parallel(n_jobs=-1)]: Done 100 out of 100 | elapsed:  2.0min finished\n",
      "[Parallel(n_jobs=8)]: Using backend ThreadingBackend with 8 concurrent workers.\n",
      "[Parallel(n_jobs=8)]: Done  34 tasks      | elapsed:    0.5s\n",
      "[Parallel(n_jobs=8)]: Done 100 out of 100 | elapsed:    1.4s finished\n"
     ]
    },
    {
     "name": "stdout",
     "output_type": "stream",
     "text": [
      "0.1255853169561531\n",
      "не удаляем:= Business_trip\n",
      "42.popular_tag\n"
     ]
    },
    {
     "name": "stderr",
     "output_type": "stream",
     "text": [
      "[Parallel(n_jobs=-1)]: Using backend ThreadingBackend with 8 concurrent workers.\n",
      "[Parallel(n_jobs=-1)]: Done  34 tasks      | elapsed:   49.3s\n",
      "[Parallel(n_jobs=-1)]: Done 100 out of 100 | elapsed:  2.1min finished\n",
      "[Parallel(n_jobs=8)]: Using backend ThreadingBackend with 8 concurrent workers.\n",
      "[Parallel(n_jobs=8)]: Done  34 tasks      | elapsed:    0.5s\n",
      "[Parallel(n_jobs=8)]: Done 100 out of 100 | elapsed:    1.3s finished\n"
     ]
    },
    {
     "name": "stdout",
     "output_type": "stream",
     "text": [
      "0.12559157462660642\n",
      "не удаляем:= popular_tag\n",
      "43.Stayed_4_nights\n"
     ]
    },
    {
     "name": "stderr",
     "output_type": "stream",
     "text": [
      "[Parallel(n_jobs=-1)]: Using backend ThreadingBackend with 8 concurrent workers.\n",
      "[Parallel(n_jobs=-1)]: Done  34 tasks      | elapsed:   49.8s\n",
      "[Parallel(n_jobs=-1)]: Done 100 out of 100 | elapsed:  2.1min finished\n",
      "[Parallel(n_jobs=8)]: Using backend ThreadingBackend with 8 concurrent workers.\n",
      "[Parallel(n_jobs=8)]: Done  34 tasks      | elapsed:    0.5s\n",
      "[Parallel(n_jobs=8)]: Done 100 out of 100 | elapsed:    1.2s finished\n"
     ]
    },
    {
     "name": "stdout",
     "output_type": "stream",
     "text": [
      "0.12562771747849175\n",
      "не удаляем:= Stayed_4_nights\n",
      "44.reviewer_nationality_1\n"
     ]
    },
    {
     "name": "stderr",
     "output_type": "stream",
     "text": [
      "[Parallel(n_jobs=-1)]: Using backend ThreadingBackend with 8 concurrent workers.\n",
      "[Parallel(n_jobs=-1)]: Done  34 tasks      | elapsed:   49.8s\n",
      "[Parallel(n_jobs=-1)]: Done 100 out of 100 | elapsed:  2.1min finished\n",
      "[Parallel(n_jobs=8)]: Using backend ThreadingBackend with 8 concurrent workers.\n",
      "[Parallel(n_jobs=8)]: Done  34 tasks      | elapsed:    0.4s\n",
      "[Parallel(n_jobs=8)]: Done 100 out of 100 | elapsed:    1.2s finished\n"
     ]
    },
    {
     "name": "stdout",
     "output_type": "stream",
     "text": [
      "0.12560059661648237\n",
      "не удаляем:= reviewer_nationality_1\n",
      "45.Standard_Double_Room\n"
     ]
    },
    {
     "name": "stderr",
     "output_type": "stream",
     "text": [
      "[Parallel(n_jobs=-1)]: Using backend ThreadingBackend with 8 concurrent workers.\n",
      "[Parallel(n_jobs=-1)]: Done  34 tasks      | elapsed:   47.6s\n",
      "[Parallel(n_jobs=-1)]: Done 100 out of 100 | elapsed:  2.0min finished\n",
      "[Parallel(n_jobs=8)]: Using backend ThreadingBackend with 8 concurrent workers.\n",
      "[Parallel(n_jobs=8)]: Done  34 tasks      | elapsed:    0.4s\n",
      "[Parallel(n_jobs=8)]: Done 100 out of 100 | elapsed:    1.2s finished\n"
     ]
    },
    {
     "name": "stdout",
     "output_type": "stream",
     "text": [
      "0.12565158932629505\n",
      "не удаляем:= Standard_Double_Room\n",
      "46.Superior_Double_Room\n"
     ]
    },
    {
     "name": "stderr",
     "output_type": "stream",
     "text": [
      "[Parallel(n_jobs=-1)]: Using backend ThreadingBackend with 8 concurrent workers.\n",
      "[Parallel(n_jobs=-1)]: Done  34 tasks      | elapsed:   46.5s\n",
      "[Parallel(n_jobs=-1)]: Done 100 out of 100 | elapsed:  2.0min finished\n",
      "[Parallel(n_jobs=8)]: Using backend ThreadingBackend with 8 concurrent workers.\n",
      "[Parallel(n_jobs=8)]: Done  34 tasks      | elapsed:    0.5s\n",
      "[Parallel(n_jobs=8)]: Done 100 out of 100 | elapsed:    1.3s finished\n"
     ]
    },
    {
     "name": "stdout",
     "output_type": "stream",
     "text": [
      "0.1257148288364868\n",
      "не удаляем:= Superior_Double_Room\n",
      "47.Family_with_older_children\n"
     ]
    },
    {
     "name": "stderr",
     "output_type": "stream",
     "text": [
      "[Parallel(n_jobs=-1)]: Using backend ThreadingBackend with 8 concurrent workers.\n",
      "[Parallel(n_jobs=-1)]: Done  34 tasks      | elapsed:   48.3s\n",
      "[Parallel(n_jobs=-1)]: Done 100 out of 100 | elapsed:  2.0min finished\n",
      "[Parallel(n_jobs=8)]: Using backend ThreadingBackend with 8 concurrent workers.\n",
      "[Parallel(n_jobs=8)]: Done  34 tasks      | elapsed:    0.5s\n",
      "[Parallel(n_jobs=8)]: Done 100 out of 100 | elapsed:    1.2s finished\n"
     ]
    },
    {
     "name": "stdout",
     "output_type": "stream",
     "text": [
      "0.1255863450287276\n",
      "не удаляем:= Family_with_older_children\n",
      "48.Double_Room\n"
     ]
    },
    {
     "name": "stderr",
     "output_type": "stream",
     "text": [
      "[Parallel(n_jobs=-1)]: Using backend ThreadingBackend with 8 concurrent workers.\n",
      "[Parallel(n_jobs=-1)]: Done  34 tasks      | elapsed:   47.8s\n",
      "[Parallel(n_jobs=-1)]: Done 100 out of 100 | elapsed:  2.0min finished\n",
      "[Parallel(n_jobs=8)]: Using backend ThreadingBackend with 8 concurrent workers.\n",
      "[Parallel(n_jobs=8)]: Done  34 tasks      | elapsed:    0.5s\n",
      "[Parallel(n_jobs=8)]: Done 100 out of 100 | elapsed:    1.2s finished\n"
     ]
    },
    {
     "name": "stdout",
     "output_type": "stream",
     "text": [
      "0.12555556442937715\n",
      "не удаляем:= Double_Room\n",
      "49.is_weekend\n"
     ]
    },
    {
     "name": "stderr",
     "output_type": "stream",
     "text": [
      "[Parallel(n_jobs=-1)]: Using backend ThreadingBackend with 8 concurrent workers.\n",
      "[Parallel(n_jobs=-1)]: Done  34 tasks      | elapsed:   48.5s\n",
      "[Parallel(n_jobs=-1)]: Done 100 out of 100 | elapsed:  2.1min finished\n",
      "[Parallel(n_jobs=8)]: Using backend ThreadingBackend with 8 concurrent workers.\n",
      "[Parallel(n_jobs=8)]: Done  34 tasks      | elapsed:    0.4s\n",
      "[Parallel(n_jobs=8)]: Done 100 out of 100 | elapsed:    1.2s finished\n"
     ]
    },
    {
     "name": "stdout",
     "output_type": "stream",
     "text": [
      "0.12562185457822045\n",
      "не удаляем:= is_weekend\n",
      "50.rare_tag\n"
     ]
    },
    {
     "name": "stderr",
     "output_type": "stream",
     "text": [
      "[Parallel(n_jobs=-1)]: Using backend ThreadingBackend with 8 concurrent workers.\n",
      "[Parallel(n_jobs=-1)]: Done  34 tasks      | elapsed:   48.9s\n",
      "[Parallel(n_jobs=-1)]: Done 100 out of 100 | elapsed:  2.1min finished\n",
      "[Parallel(n_jobs=8)]: Using backend ThreadingBackend with 8 concurrent workers.\n",
      "[Parallel(n_jobs=8)]: Done  34 tasks      | elapsed:    0.5s\n",
      "[Parallel(n_jobs=8)]: Done 100 out of 100 | elapsed:    1.4s finished\n"
     ]
    },
    {
     "name": "stdout",
     "output_type": "stream",
     "text": [
      "0.12557500321659804\n",
      "не удаляем:= rare_tag\n",
      "51.hotel_name_0\n"
     ]
    },
    {
     "name": "stderr",
     "output_type": "stream",
     "text": [
      "[Parallel(n_jobs=-1)]: Using backend ThreadingBackend with 8 concurrent workers.\n",
      "[Parallel(n_jobs=-1)]: Done  34 tasks      | elapsed:   47.3s\n",
      "[Parallel(n_jobs=-1)]: Done 100 out of 100 | elapsed:  2.0min finished\n",
      "[Parallel(n_jobs=8)]: Using backend ThreadingBackend with 8 concurrent workers.\n",
      "[Parallel(n_jobs=8)]: Done  34 tasks      | elapsed:    0.5s\n",
      "[Parallel(n_jobs=8)]: Done 100 out of 100 | elapsed:    1.2s finished\n"
     ]
    },
    {
     "name": "stdout",
     "output_type": "stream",
     "text": [
      "0.12563714282418037\n",
      "не удаляем:= hotel_name_0\n",
      "52.location_Milan_Italy\n"
     ]
    },
    {
     "name": "stderr",
     "output_type": "stream",
     "text": [
      "[Parallel(n_jobs=-1)]: Using backend ThreadingBackend with 8 concurrent workers.\n",
      "[Parallel(n_jobs=-1)]: Done  34 tasks      | elapsed:   48.5s\n",
      "[Parallel(n_jobs=-1)]: Done 100 out of 100 | elapsed:  2.1min finished\n",
      "[Parallel(n_jobs=8)]: Using backend ThreadingBackend with 8 concurrent workers.\n",
      "[Parallel(n_jobs=8)]: Done  34 tasks      | elapsed:    0.5s\n",
      "[Parallel(n_jobs=8)]: Done 100 out of 100 | elapsed:    1.2s finished\n"
     ]
    },
    {
     "name": "stdout",
     "output_type": "stream",
     "text": [
      "0.125565176587838\n",
      "не удаляем:= location_Milan_Italy\n",
      "53.is_pos_neg_review\n"
     ]
    },
    {
     "name": "stderr",
     "output_type": "stream",
     "text": [
      "[Parallel(n_jobs=-1)]: Using backend ThreadingBackend with 8 concurrent workers.\n",
      "[Parallel(n_jobs=-1)]: Done  34 tasks      | elapsed:   48.2s\n",
      "[Parallel(n_jobs=-1)]: Done 100 out of 100 | elapsed:  2.0min finished\n",
      "[Parallel(n_jobs=8)]: Using backend ThreadingBackend with 8 concurrent workers.\n",
      "[Parallel(n_jobs=8)]: Done  34 tasks      | elapsed:    0.5s\n",
      "[Parallel(n_jobs=8)]: Done 100 out of 100 | elapsed:    1.3s finished\n"
     ]
    },
    {
     "name": "stdout",
     "output_type": "stream",
     "text": [
      "0.12558026334213696\n",
      "не удаляем:= is_pos_neg_review\n",
      "54.location_Barcelona_Spain\n"
     ]
    },
    {
     "name": "stderr",
     "output_type": "stream",
     "text": [
      "[Parallel(n_jobs=-1)]: Using backend ThreadingBackend with 8 concurrent workers.\n",
      "[Parallel(n_jobs=-1)]: Done  34 tasks      | elapsed:   46.6s\n",
      "[Parallel(n_jobs=-1)]: Done 100 out of 100 | elapsed:  2.0min finished\n",
      "[Parallel(n_jobs=8)]: Using backend ThreadingBackend with 8 concurrent workers.\n",
      "[Parallel(n_jobs=8)]: Done  34 tasks      | elapsed:    0.5s\n",
      "[Parallel(n_jobs=8)]: Done 100 out of 100 | elapsed:    1.2s finished\n"
     ]
    },
    {
     "name": "stdout",
     "output_type": "stream",
     "text": [
      "0.1256009084262588\n",
      "не удаляем:= location_Barcelona_Spain\n",
      "55.location_United_Kingdom\n"
     ]
    },
    {
     "name": "stderr",
     "output_type": "stream",
     "text": [
      "[Parallel(n_jobs=-1)]: Using backend ThreadingBackend with 8 concurrent workers.\n",
      "[Parallel(n_jobs=-1)]: Done  34 tasks      | elapsed:   47.2s\n",
      "[Parallel(n_jobs=-1)]: Done 100 out of 100 | elapsed:  2.0min finished\n",
      "[Parallel(n_jobs=8)]: Using backend ThreadingBackend with 8 concurrent workers.\n",
      "[Parallel(n_jobs=8)]: Done  34 tasks      | elapsed:    0.5s\n",
      "[Parallel(n_jobs=8)]: Done 100 out of 100 | elapsed:    1.2s finished\n"
     ]
    },
    {
     "name": "stdout",
     "output_type": "stream",
     "text": [
      "0.12557767201815628\n",
      "не удаляем:= location_United_Kingdom\n",
      "56.location_Amsterdam_Netherlands\n"
     ]
    },
    {
     "name": "stderr",
     "output_type": "stream",
     "text": [
      "[Parallel(n_jobs=-1)]: Using backend ThreadingBackend with 8 concurrent workers.\n",
      "[Parallel(n_jobs=-1)]: Done  34 tasks      | elapsed:   48.1s\n",
      "[Parallel(n_jobs=-1)]: Done 100 out of 100 | elapsed:  2.0min finished\n",
      "[Parallel(n_jobs=8)]: Using backend ThreadingBackend with 8 concurrent workers.\n",
      "[Parallel(n_jobs=8)]: Done  34 tasks      | elapsed:    0.5s\n",
      "[Parallel(n_jobs=8)]: Done 100 out of 100 | elapsed:    1.4s finished\n"
     ]
    },
    {
     "name": "stdout",
     "output_type": "stream",
     "text": [
      "0.1255983982505732\n",
      "не удаляем:= location_Amsterdam_Netherlands\n",
      "57.is_pos_pos_rev\n"
     ]
    },
    {
     "name": "stderr",
     "output_type": "stream",
     "text": [
      "[Parallel(n_jobs=-1)]: Using backend ThreadingBackend with 8 concurrent workers.\n",
      "[Parallel(n_jobs=-1)]: Done  34 tasks      | elapsed:   48.6s\n",
      "[Parallel(n_jobs=-1)]: Done 100 out of 100 | elapsed:  2.1min finished\n",
      "[Parallel(n_jobs=8)]: Using backend ThreadingBackend with 8 concurrent workers.\n",
      "[Parallel(n_jobs=8)]: Done  34 tasks      | elapsed:    0.5s\n",
      "[Parallel(n_jobs=8)]: Done 100 out of 100 | elapsed:    1.2s finished\n"
     ]
    },
    {
     "name": "stdout",
     "output_type": "stream",
     "text": [
      "0.12558071349255928\n",
      "не удаляем:= is_pos_pos_rev\n",
      "58.location_Paris_France\n"
     ]
    },
    {
     "name": "stderr",
     "output_type": "stream",
     "text": [
      "[Parallel(n_jobs=-1)]: Using backend ThreadingBackend with 8 concurrent workers.\n",
      "[Parallel(n_jobs=-1)]: Done  34 tasks      | elapsed:   48.0s\n",
      "[Parallel(n_jobs=-1)]: Done 100 out of 100 | elapsed:  2.0min finished\n",
      "[Parallel(n_jobs=8)]: Using backend ThreadingBackend with 8 concurrent workers.\n",
      "[Parallel(n_jobs=8)]: Done  34 tasks      | elapsed:    0.5s\n",
      "[Parallel(n_jobs=8)]: Done 100 out of 100 | elapsed:    1.2s finished\n"
     ]
    },
    {
     "name": "stdout",
     "output_type": "stream",
     "text": [
      "0.1255889476061933\n",
      "не удаляем:= location_Paris_France\n",
      "59.location_Vienna_Austria\n"
     ]
    },
    {
     "name": "stderr",
     "output_type": "stream",
     "text": [
      "[Parallel(n_jobs=-1)]: Using backend ThreadingBackend with 8 concurrent workers.\n",
      "[Parallel(n_jobs=-1)]: Done  34 tasks      | elapsed:   50.1s\n",
      "[Parallel(n_jobs=-1)]: Done 100 out of 100 | elapsed:  2.2min finished\n",
      "[Parallel(n_jobs=8)]: Using backend ThreadingBackend with 8 concurrent workers.\n",
      "[Parallel(n_jobs=8)]: Done  34 tasks      | elapsed:    0.5s\n",
      "[Parallel(n_jobs=8)]: Done 100 out of 100 | elapsed:    1.2s finished\n"
     ]
    },
    {
     "name": "stdout",
     "output_type": "stream",
     "text": [
      "0.12562304360047133\n",
      "не удаляем:= location_Vienna_Austria\n",
      "60.reviewer_nationality_0\n"
     ]
    },
    {
     "name": "stderr",
     "output_type": "stream",
     "text": [
      "[Parallel(n_jobs=-1)]: Using backend ThreadingBackend with 8 concurrent workers.\n",
      "[Parallel(n_jobs=-1)]: Done  34 tasks      | elapsed:   49.5s\n",
      "[Parallel(n_jobs=-1)]: Done 100 out of 100 | elapsed:  2.1min finished\n",
      "[Parallel(n_jobs=8)]: Using backend ThreadingBackend with 8 concurrent workers.\n",
      "[Parallel(n_jobs=8)]: Done  34 tasks      | elapsed:    0.5s\n",
      "[Parallel(n_jobs=8)]: Done 100 out of 100 | elapsed:    1.2s finished\n"
     ]
    },
    {
     "name": "stdout",
     "output_type": "stream",
     "text": [
      "0.12558591144853862\n",
      "не удаляем:= reviewer_nationality_0\n",
      "61.Intercontinental_London_The_O2\n"
     ]
    },
    {
     "name": "stderr",
     "output_type": "stream",
     "text": [
      "[Parallel(n_jobs=-1)]: Using backend ThreadingBackend with 8 concurrent workers.\n",
      "[Parallel(n_jobs=-1)]: Done  34 tasks      | elapsed:   49.9s\n",
      "[Parallel(n_jobs=-1)]: Done 100 out of 100 | elapsed:  2.1min finished\n",
      "[Parallel(n_jobs=8)]: Using backend ThreadingBackend with 8 concurrent workers.\n",
      "[Parallel(n_jobs=8)]: Done  34 tasks      | elapsed:    0.5s\n",
      "[Parallel(n_jobs=8)]: Done 100 out of 100 | elapsed:    1.2s finished\n"
     ]
    },
    {
     "name": "stdout",
     "output_type": "stream",
     "text": [
      "0.12561741168916704\n",
      "не удаляем:= Intercontinental_London_The_O2\n",
      "62.germany\n"
     ]
    },
    {
     "name": "stderr",
     "output_type": "stream",
     "text": [
      "[Parallel(n_jobs=-1)]: Using backend ThreadingBackend with 8 concurrent workers.\n",
      "[Parallel(n_jobs=-1)]: Done  34 tasks      | elapsed:   49.3s\n",
      "[Parallel(n_jobs=-1)]: Done 100 out of 100 | elapsed:  2.1min finished\n",
      "[Parallel(n_jobs=8)]: Using backend ThreadingBackend with 8 concurrent workers.\n",
      "[Parallel(n_jobs=8)]: Done  34 tasks      | elapsed:    0.5s\n",
      "[Parallel(n_jobs=8)]: Done 100 out of 100 | elapsed:    1.2s finished\n"
     ]
    },
    {
     "name": "stdout",
     "output_type": "stream",
     "text": [
      "0.12561741168916704\n",
      "не удаляем:= germany\n",
      "63.united_kingdom\n"
     ]
    },
    {
     "name": "stderr",
     "output_type": "stream",
     "text": [
      "[Parallel(n_jobs=-1)]: Using backend ThreadingBackend with 8 concurrent workers.\n",
      "[Parallel(n_jobs=-1)]: Done  34 tasks      | elapsed:   50.9s\n",
      "[Parallel(n_jobs=-1)]: Done 100 out of 100 | elapsed:  2.1min finished\n",
      "[Parallel(n_jobs=8)]: Using backend ThreadingBackend with 8 concurrent workers.\n",
      "[Parallel(n_jobs=8)]: Done  34 tasks      | elapsed:    0.5s\n",
      "[Parallel(n_jobs=8)]: Done 100 out of 100 | elapsed:    1.2s finished\n"
     ]
    },
    {
     "name": "stdout",
     "output_type": "stream",
     "text": [
      "0.12561741168916707\n",
      "не удаляем:= united_kingdom\n",
      "64.united_states_of_america\n"
     ]
    },
    {
     "name": "stderr",
     "output_type": "stream",
     "text": [
      "[Parallel(n_jobs=-1)]: Using backend ThreadingBackend with 8 concurrent workers.\n",
      "[Parallel(n_jobs=-1)]: Done  34 tasks      | elapsed:   49.8s\n",
      "[Parallel(n_jobs=-1)]: Done 100 out of 100 | elapsed:  2.1min finished\n",
      "[Parallel(n_jobs=8)]: Using backend ThreadingBackend with 8 concurrent workers.\n",
      "[Parallel(n_jobs=8)]: Done  34 tasks      | elapsed:    0.5s\n",
      "[Parallel(n_jobs=8)]: Done 100 out of 100 | elapsed:    1.2s finished\n"
     ]
    },
    {
     "name": "stdout",
     "output_type": "stream",
     "text": [
      "0.12561741168916707\n",
      "не удаляем:= united_states_of_america\n",
      "65.australia\n"
     ]
    },
    {
     "name": "stderr",
     "output_type": "stream",
     "text": [
      "[Parallel(n_jobs=-1)]: Using backend ThreadingBackend with 8 concurrent workers.\n",
      "[Parallel(n_jobs=-1)]: Done  34 tasks      | elapsed:   48.8s\n",
      "[Parallel(n_jobs=-1)]: Done 100 out of 100 | elapsed:  2.1min finished\n",
      "[Parallel(n_jobs=8)]: Using backend ThreadingBackend with 8 concurrent workers.\n",
      "[Parallel(n_jobs=8)]: Done  34 tasks      | elapsed:    0.5s\n",
      "[Parallel(n_jobs=8)]: Done 100 out of 100 | elapsed:    1.2s finished\n"
     ]
    },
    {
     "name": "stdout",
     "output_type": "stream",
     "text": [
      "0.12561741168916704\n",
      "не удаляем:= australia\n",
      "66.ireland\n"
     ]
    },
    {
     "name": "stderr",
     "output_type": "stream",
     "text": [
      "[Parallel(n_jobs=-1)]: Using backend ThreadingBackend with 8 concurrent workers.\n",
      "[Parallel(n_jobs=-1)]: Done  34 tasks      | elapsed:   50.1s\n",
      "[Parallel(n_jobs=-1)]: Done 100 out of 100 | elapsed:  2.1min finished\n",
      "[Parallel(n_jobs=8)]: Using backend ThreadingBackend with 8 concurrent workers.\n",
      "[Parallel(n_jobs=8)]: Done  34 tasks      | elapsed:    0.5s\n",
      "[Parallel(n_jobs=8)]: Done 100 out of 100 | elapsed:    1.2s finished\n"
     ]
    },
    {
     "name": "stdout",
     "output_type": "stream",
     "text": [
      "0.12561741168916704\n",
      "не удаляем:= ireland\n",
      "67.saudi_arabia\n"
     ]
    },
    {
     "name": "stderr",
     "output_type": "stream",
     "text": [
      "[Parallel(n_jobs=-1)]: Using backend ThreadingBackend with 8 concurrent workers.\n",
      "[Parallel(n_jobs=-1)]: Done  34 tasks      | elapsed:   49.6s\n",
      "[Parallel(n_jobs=-1)]: Done 100 out of 100 | elapsed:  2.1min finished\n",
      "[Parallel(n_jobs=8)]: Using backend ThreadingBackend with 8 concurrent workers.\n",
      "[Parallel(n_jobs=8)]: Done  34 tasks      | elapsed:    0.5s\n",
      "[Parallel(n_jobs=8)]: Done 100 out of 100 | elapsed:    1.2s finished\n"
     ]
    },
    {
     "name": "stdout",
     "output_type": "stream",
     "text": [
      "0.12561741168916707\n",
      "не удаляем:= saudi_arabia\n",
      "68.netherlands\n"
     ]
    },
    {
     "name": "stderr",
     "output_type": "stream",
     "text": [
      "[Parallel(n_jobs=-1)]: Using backend ThreadingBackend with 8 concurrent workers.\n",
      "[Parallel(n_jobs=-1)]: Done  34 tasks      | elapsed:   49.1s\n",
      "[Parallel(n_jobs=-1)]: Done 100 out of 100 | elapsed:  2.1min finished\n",
      "[Parallel(n_jobs=8)]: Using backend ThreadingBackend with 8 concurrent workers.\n",
      "[Parallel(n_jobs=8)]: Done  34 tasks      | elapsed:    0.5s\n",
      "[Parallel(n_jobs=8)]: Done 100 out of 100 | elapsed:    1.2s finished\n"
     ]
    },
    {
     "name": "stdout",
     "output_type": "stream",
     "text": [
      "0.12561741168916707\n",
      "не удаляем:= netherlands\n",
      "69.switzerland\n"
     ]
    },
    {
     "name": "stderr",
     "output_type": "stream",
     "text": [
      "[Parallel(n_jobs=-1)]: Using backend ThreadingBackend with 8 concurrent workers.\n",
      "[Parallel(n_jobs=-1)]: Done  34 tasks      | elapsed:   47.6s\n",
      "[Parallel(n_jobs=-1)]: Done 100 out of 100 | elapsed:  2.0min finished\n",
      "[Parallel(n_jobs=8)]: Using backend ThreadingBackend with 8 concurrent workers.\n",
      "[Parallel(n_jobs=8)]: Done  34 tasks      | elapsed:    0.5s\n",
      "[Parallel(n_jobs=8)]: Done 100 out of 100 | elapsed:    1.2s finished\n"
     ]
    },
    {
     "name": "stdout",
     "output_type": "stream",
     "text": [
      "0.12561741168916704\n",
      "не удаляем:= switzerland\n",
      "70.Britannia_International_Hotel_Canary_Wharf\n"
     ]
    },
    {
     "name": "stderr",
     "output_type": "stream",
     "text": [
      "[Parallel(n_jobs=-1)]: Using backend ThreadingBackend with 8 concurrent workers.\n",
      "[Parallel(n_jobs=-1)]: Done  34 tasks      | elapsed:   49.3s\n",
      "[Parallel(n_jobs=-1)]: Done 100 out of 100 | elapsed:  2.1min finished\n",
      "[Parallel(n_jobs=8)]: Using backend ThreadingBackend with 8 concurrent workers.\n",
      "[Parallel(n_jobs=8)]: Done  34 tasks      | elapsed:    0.5s\n",
      "[Parallel(n_jobs=8)]: Done 100 out of 100 | elapsed:    1.2s finished\n"
     ]
    },
    {
     "name": "stdout",
     "output_type": "stream",
     "text": [
      "0.12561741168916707\n",
      "не удаляем:= Britannia_International_Hotel_Canary_Wharf\n",
      "71.canada\n"
     ]
    },
    {
     "name": "stderr",
     "output_type": "stream",
     "text": [
      "[Parallel(n_jobs=-1)]: Using backend ThreadingBackend with 8 concurrent workers.\n",
      "[Parallel(n_jobs=-1)]: Done  34 tasks      | elapsed:   50.1s\n",
      "[Parallel(n_jobs=-1)]: Done 100 out of 100 | elapsed:  2.1min finished\n",
      "[Parallel(n_jobs=8)]: Using backend ThreadingBackend with 8 concurrent workers.\n",
      "[Parallel(n_jobs=8)]: Done  34 tasks      | elapsed:    0.5s\n",
      "[Parallel(n_jobs=8)]: Done 100 out of 100 | elapsed:    1.2s finished\n"
     ]
    },
    {
     "name": "stdout",
     "output_type": "stream",
     "text": [
      "0.12561741168916707\n",
      "не удаляем:= canada\n",
      "72.Strand_Palace_Hotel\n"
     ]
    },
    {
     "name": "stderr",
     "output_type": "stream",
     "text": [
      "[Parallel(n_jobs=-1)]: Using backend ThreadingBackend with 8 concurrent workers.\n",
      "[Parallel(n_jobs=-1)]: Done  34 tasks      | elapsed:   50.6s\n",
      "[Parallel(n_jobs=-1)]: Done 100 out of 100 | elapsed:  2.1min finished\n",
      "[Parallel(n_jobs=8)]: Using backend ThreadingBackend with 8 concurrent workers.\n",
      "[Parallel(n_jobs=8)]: Done  34 tasks      | elapsed:    0.5s\n",
      "[Parallel(n_jobs=8)]: Done 100 out of 100 | elapsed:    1.2s finished\n"
     ]
    },
    {
     "name": "stdout",
     "output_type": "stream",
     "text": [
      "0.12561741168916704\n",
      "не удаляем:= Strand_Palace_Hotel\n",
      "73.Park_Plaza_Westminster_Bridge_London\n"
     ]
    },
    {
     "name": "stderr",
     "output_type": "stream",
     "text": [
      "[Parallel(n_jobs=-1)]: Using backend ThreadingBackend with 8 concurrent workers.\n",
      "[Parallel(n_jobs=-1)]: Done  34 tasks      | elapsed:   48.9s\n",
      "[Parallel(n_jobs=-1)]: Done 100 out of 100 | elapsed:  2.1min finished\n",
      "[Parallel(n_jobs=8)]: Using backend ThreadingBackend with 8 concurrent workers.\n",
      "[Parallel(n_jobs=8)]: Done  34 tasks      | elapsed:    0.5s\n",
      "[Parallel(n_jobs=8)]: Done 100 out of 100 | elapsed:    1.2s finished\n"
     ]
    },
    {
     "name": "stdout",
     "output_type": "stream",
     "text": [
      "0.12561741168916707\n",
      "не удаляем:= Park_Plaza_Westminster_Bridge_London\n",
      "74.Copthorne_Tara_Hotel_London_Kensington\n"
     ]
    },
    {
     "name": "stderr",
     "output_type": "stream",
     "text": [
      "[Parallel(n_jobs=-1)]: Using backend ThreadingBackend with 8 concurrent workers.\n",
      "[Parallel(n_jobs=-1)]: Done  34 tasks      | elapsed:   48.6s\n",
      "[Parallel(n_jobs=-1)]: Done 100 out of 100 | elapsed:  2.0min finished\n",
      "[Parallel(n_jobs=8)]: Using backend ThreadingBackend with 8 concurrent workers.\n",
      "[Parallel(n_jobs=8)]: Done  34 tasks      | elapsed:    0.5s\n",
      "[Parallel(n_jobs=8)]: Done 100 out of 100 | elapsed:    1.4s finished\n"
     ]
    },
    {
     "name": "stdout",
     "output_type": "stream",
     "text": [
      "0.12561741168916704\n",
      "не удаляем:= Copthorne_Tara_Hotel_London_Kensington\n",
      "75.DoubleTree_by_Hilton_Hotel_London_Tower_of_London\n"
     ]
    },
    {
     "name": "stderr",
     "output_type": "stream",
     "text": [
      "[Parallel(n_jobs=-1)]: Using backend ThreadingBackend with 8 concurrent workers.\n",
      "[Parallel(n_jobs=-1)]: Done  34 tasks      | elapsed:   49.2s\n",
      "[Parallel(n_jobs=-1)]: Done 100 out of 100 | elapsed:  2.1min finished\n",
      "[Parallel(n_jobs=8)]: Using backend ThreadingBackend with 8 concurrent workers.\n",
      "[Parallel(n_jobs=8)]: Done  34 tasks      | elapsed:    0.5s\n",
      "[Parallel(n_jobs=8)]: Done 100 out of 100 | elapsed:    1.4s finished\n"
     ]
    },
    {
     "name": "stdout",
     "output_type": "stream",
     "text": [
      "0.12561741168916704\n",
      "не удаляем:= DoubleTree_by_Hilton_Hotel_London_Tower_of_London\n",
      "76.Grand_Royale_London_Hyde_Park\n"
     ]
    },
    {
     "name": "stderr",
     "output_type": "stream",
     "text": [
      "[Parallel(n_jobs=-1)]: Using backend ThreadingBackend with 8 concurrent workers.\n",
      "[Parallel(n_jobs=-1)]: Done  34 tasks      | elapsed:   49.9s\n",
      "[Parallel(n_jobs=-1)]: Done 100 out of 100 | elapsed:  2.1min finished\n",
      "[Parallel(n_jobs=8)]: Using backend ThreadingBackend with 8 concurrent workers.\n",
      "[Parallel(n_jobs=8)]: Done  34 tasks      | elapsed:    0.5s\n",
      "[Parallel(n_jobs=8)]: Done 100 out of 100 | elapsed:    1.4s finished\n"
     ]
    },
    {
     "name": "stdout",
     "output_type": "stream",
     "text": [
      "0.12561741168916707\n",
      "не удаляем:= Grand_Royale_London_Hyde_Park\n",
      "77.Holiday_Inn_London_Kensington\n"
     ]
    },
    {
     "name": "stderr",
     "output_type": "stream",
     "text": [
      "[Parallel(n_jobs=-1)]: Using backend ThreadingBackend with 8 concurrent workers.\n",
      "[Parallel(n_jobs=-1)]: Done  34 tasks      | elapsed:   49.2s\n",
      "[Parallel(n_jobs=-1)]: Done 100 out of 100 | elapsed:  2.1min finished\n",
      "[Parallel(n_jobs=8)]: Using backend ThreadingBackend with 8 concurrent workers.\n",
      "[Parallel(n_jobs=8)]: Done  34 tasks      | elapsed:    0.5s\n",
      "[Parallel(n_jobs=8)]: Done 100 out of 100 | elapsed:    1.3s finished\n"
     ]
    },
    {
     "name": "stdout",
     "output_type": "stream",
     "text": [
      "0.12561741168916704\n",
      "не удаляем:= Holiday_Inn_London_Kensington\n",
      "78.Hilton_London_Metropole\n"
     ]
    },
    {
     "name": "stderr",
     "output_type": "stream",
     "text": [
      "[Parallel(n_jobs=-1)]: Using backend ThreadingBackend with 8 concurrent workers.\n",
      "[Parallel(n_jobs=-1)]: Done  34 tasks      | elapsed:   50.3s\n",
      "[Parallel(n_jobs=-1)]: Done 100 out of 100 | elapsed:  2.1min finished\n",
      "[Parallel(n_jobs=8)]: Using backend ThreadingBackend with 8 concurrent workers.\n",
      "[Parallel(n_jobs=8)]: Done  34 tasks      | elapsed:    0.5s\n",
      "[Parallel(n_jobs=8)]: Done 100 out of 100 | elapsed:    1.4s finished\n"
     ]
    },
    {
     "name": "stdout",
     "output_type": "stream",
     "text": [
      "0.12561741168916704\n",
      "не удаляем:= Hilton_London_Metropole\n",
      "79.Millennium_Gloucester_Hotel_London\n"
     ]
    },
    {
     "name": "stderr",
     "output_type": "stream",
     "text": [
      "[Parallel(n_jobs=-1)]: Using backend ThreadingBackend with 8 concurrent workers.\n",
      "[Parallel(n_jobs=-1)]: Done  34 tasks      | elapsed:   49.5s\n",
      "[Parallel(n_jobs=-1)]: Done 100 out of 100 | elapsed:  2.1min finished\n",
      "[Parallel(n_jobs=8)]: Using backend ThreadingBackend with 8 concurrent workers.\n",
      "[Parallel(n_jobs=8)]: Done  34 tasks      | elapsed:    0.5s\n",
      "[Parallel(n_jobs=8)]: Done 100 out of 100 | elapsed:    1.2s finished\n"
     ]
    },
    {
     "name": "stdout",
     "output_type": "stream",
     "text": [
      "0.12561741168916704\n",
      "не удаляем:= Millennium_Gloucester_Hotel_London\n",
      "80.united_arab_emirates\n"
     ]
    },
    {
     "name": "stderr",
     "output_type": "stream",
     "text": [
      "[Parallel(n_jobs=-1)]: Using backend ThreadingBackend with 8 concurrent workers.\n",
      "[Parallel(n_jobs=-1)]: Done  34 tasks      | elapsed:   48.1s\n",
      "[Parallel(n_jobs=-1)]: Done 100 out of 100 | elapsed:  2.1min finished\n",
      "[Parallel(n_jobs=8)]: Using backend ThreadingBackend with 8 concurrent workers.\n",
      "[Parallel(n_jobs=8)]: Done  34 tasks      | elapsed:    0.5s\n"
     ]
    },
    {
     "name": "stdout",
     "output_type": "stream",
     "text": [
      "0.12561741168916704\n",
      "не удаляем:= united_arab_emirates\n",
      "i=80\n",
      "remove_list: []\n",
      "log_list: [['review_total_negative_word_counts', 0.13495259505079762], ['pos_compound', 0.12952627484836082], ['average_score', 0.12987589897760388], ['neg_compound', 0.127566655401004], ['days_since_review', 0.12573100954012087], ['review_total_positive_word_counts', 0.1279606257471746], ['total_number_of_reviews', 0.12549434452067787], ['additional_number_of_scoring', 0.1255863894675009], ['total_number_of_reviews_reviewer_has_given', 0.12571736534854136], ['md', 0.1256357962640743], ['distance', 0.12561208779415942], ['wd', 0.1255633368084976], ['date_diff', 0.12559528947595988], ['pop_density', 0.12561642846770207], ['сount_tags', 0.12564090837436895], ['Couple', 0.12561497454706227], ['Stayed_1_night', 0.1256219630133779], ['population', 0.1255785194789783], ['Stayed_2_nights', 0.125635317528632], ['reviewer_nationality_5', 0.12556103258009194], ['hotel_name_4', 0.12560101281380645], ['hotel_name_5', 0.1255637005736949], ['hotel_name_7', 0.1255791240148922], ['hotel_name_6', 0.1255086981289665], ['hotel_name_10', 0.12560114451817134], ['hotel_name_8', 0.12562495716133162], ['reviewer_nationality_4', 0.1256951048735267], ['reviewer_nationality_6', 0.12563742421671298], ['hotel_name_3', 0.12556493101388116], ['hotel_name_9', 0.12561826273208787], ['reviewer_nationality_7', 0.125527461457266], ['reviewer_nationality_3', 0.12561802690570922], ['Solo_traveler', 0.12564531870390422], ['hotel_name_2', 0.1255779771621971], ['reviewer_nationality_2', 0.1256134468706838], ['Stayed_3_nights', 0.12555175035842972], ['Group', 0.12561613470414393], ['Family_with_young_children', 0.12560210185774792], ['Leisure_trip', 0.12564468303255935], ['Submitted_from_a_mobile_device', 0.12563019923986204], ['hotel_name_1', 0.12558963030740292], ['Business_trip', 0.1255853169561531], ['popular_tag', 0.12559157462660642], ['Stayed_4_nights', 0.12562771747849175], ['reviewer_nationality_1', 0.12560059661648237], ['Standard_Double_Room', 0.12565158932629505], ['Superior_Double_Room', 0.1257148288364868], ['Family_with_older_children', 0.1255863450287276], ['Double_Room', 0.12555556442937715], ['is_weekend', 0.12562185457822045], ['rare_tag', 0.12557500321659804], ['hotel_name_0', 0.12563714282418037], ['location_Milan_Italy', 0.125565176587838], ['is_pos_neg_review', 0.12558026334213696], ['location_Barcelona_Spain', 0.1256009084262588], ['location_United_Kingdom', 0.12557767201815628], ['location_Amsterdam_Netherlands', 0.1255983982505732], ['is_pos_pos_rev', 0.12558071349255928], ['location_Paris_France', 0.1255889476061933], ['location_Vienna_Austria', 0.12562304360047133], ['reviewer_nationality_0', 0.12558591144853862], ['Intercontinental_London_The_O2', 0.12561741168916704], ['germany', 0.12561741168916704], ['united_kingdom', 0.12561741168916707], ['united_states_of_america', 0.12561741168916707], ['australia', 0.12561741168916704], ['ireland', 0.12561741168916704], ['saudi_arabia', 0.12561741168916707], ['netherlands', 0.12561741168916707], ['switzerland', 0.12561741168916704], ['Britannia_International_Hotel_Canary_Wharf', 0.12561741168916707], ['canada', 0.12561741168916707], ['Strand_Palace_Hotel', 0.12561741168916704], ['Park_Plaza_Westminster_Bridge_London', 0.12561741168916707], ['Copthorne_Tara_Hotel_London_Kensington', 0.12561741168916704], ['DoubleTree_by_Hilton_Hotel_London_Tower_of_London', 0.12561741168916704], ['Grand_Royale_London_Hyde_Park', 0.12561741168916707], ['Holiday_Inn_London_Kensington', 0.12561741168916704], ['Hilton_London_Metropole', 0.12561741168916704], ['Millennium_Gloucester_Hotel_London', 0.12561741168916704], ['united_arab_emirates', 0.12561741168916704]]\n"
     ]
    },
    {
     "name": "stderr",
     "output_type": "stream",
     "text": [
      "[Parallel(n_jobs=8)]: Done 100 out of 100 | elapsed:    1.2s finished\n"
     ]
    }
   ],
   "source": [
    "# # блок тестирования оптимального набора\n",
    "list_ofAllColumnsSortImportant = list(feat_importances.nlargest(len(train_data.columns)-1).index)\n",
    "MAPE = 0.12560783921506988\n",
    "min_MAPE = round(MAPE,3)\n",
    "print(f\"min_MAPE = {min_MAPE}\")\n",
    "remove_list = []\n",
    "log = []\n",
    "delta =0.002\n",
    "\n",
    "for i in range(0,len(list_ofAllColumnsSortImportant),1):\n",
    "    col = list_ofAllColumnsSortImportant[i]\n",
    "    print(f\"{i}.{col}\")\n",
    "    ###\n",
    "\n",
    "    y = train_data.reviewer_score.values            # наш таргет\n",
    "    X = train_data.drop(['reviewer_score']+[col], axis=1)\n",
    "\n",
    "    # Воспользуемся специальной функцие train_test_split для разбивки тестовых данных\n",
    "    # выделим 20% данных на валидацию (параметр test_size)\n",
    "    X_train, X_test, y_train, y_test = train_test_split(X, y, test_size=0.2, random_state=RANDOM_SEED)\n",
    "    \n",
    "    model_ = RandomForestRegressor(n_estimators=100, verbose=1, n_jobs=-1, random_state=RANDOM_SEED)\n",
    "    model_.fit(X_train, y_train)\n",
    "\n",
    "    y_pred = model_.predict(X_test)\n",
    "    \n",
    "    temp_MAPE = metrics.mean_absolute_percentage_error(y_test, y_pred)\n",
    "     ###\n",
    "    print(temp_MAPE)\n",
    "    log.append([col, temp_MAPE])\n",
    "    if round(temp_MAPE,3) <= min_MAPE-delta:\n",
    "        remove_list.append(col)\n",
    "        print(f\"удаляем:= {col}\")\n",
    "    else:\n",
    "        print(f\"не удаляем:= {col}\")\n",
    "print(f\"i={i}\")\n",
    "print(f\"remove_list: {remove_list}\")\n",
    "print(f\"log_list: {log}\")"
   ]
  },
  {
   "cell_type": "markdown",
   "metadata": {},
   "source": [
    "log_list: [['review_total_negative_word_counts', 0.13495259505079762], ['pos_compound', 0.12952627484836082], ['average_score', 0.12987589897760388], ['neg_compound', 0.127566655401004], ['days_since_review', 0.12573100954012087], ['review_total_positive_word_counts', 0.1279606257471746], ['total_number_of_reviews', 0.12549434452067787], ['additional_number_of_scoring', 0.1255863894675009], ['total_number_of_reviews_reviewer_has_given', 0.12571736534854136], ['md', 0.1256357962640743], ['distance', 0.12561208779415942], ['wd', 0.1255633368084976], ['date_diff', 0.12559528947595988], ['pop_density', 0.12561642846770207], ['сount_tags', 0.12564090837436895], ['Couple', 0.12561497454706227], ['Stayed_1_night', 0.1256219630133779], ['population', 0.1255785194789783], ['Stayed_2_nights', 0.125635317528632], ['reviewer_nationality_5', 0.12556103258009194], ['hotel_name_4', 0.12560101281380645], ['hotel_name_5', 0.1255637005736949], ['hotel_name_7', 0.1255791240148922], ['hotel_name_6', 0.1255086981289665], ['hotel_name_10', 0.12560114451817134], ['hotel_name_8', 0.12562495716133162], ['reviewer_nationality_4', 0.1256951048735267], ['reviewer_nationality_6', 0.12563742421671298], ['hotel_name_3', 0.12556493101388116], ['hotel_name_9', 0.12561826273208787], ['reviewer_nationality_7', 0.125527461457266], ['reviewer_nationality_3', 0.12561802690570922], ['Solo_traveler', 0.12564531870390422], ['hotel_name_2', 0.1255779771621971], ['reviewer_nationality_2', 0.1256134468706838], ['Stayed_3_nights', 0.12555175035842972], ['Group', 0.12561613470414393], ['Family_with_young_children', 0.12560210185774792], ['Leisure_trip', 0.12564468303255935], ['Submitted_from_a_mobile_device', 0.12563019923986204], ['hotel_name_1', 0.12558963030740292], ['Business_trip', 0.1255853169561531], ['popular_tag', 0.12559157462660642], ['Stayed_4_nights', 0.12562771747849175], ['reviewer_nationality_1', 0.12560059661648237], ['Standard_Double_Room', 0.12565158932629505], ['Superior_Double_Room', 0.1257148288364868], ['Family_with_older_children', 0.1255863450287276], ['Double_Room', 0.12555556442937715], ['is_weekend', 0.12562185457822045], ['rare_tag', 0.12557500321659804], ['hotel_name_0', 0.12563714282418037], ['location_Milan_Italy', 0.125565176587838], ['is_pos_neg_review', 0.12558026334213696], ['location_Barcelona_Spain', 0.1256009084262588], ['location_United_Kingdom', 0.12557767201815628], ['location_Amsterdam_Netherlands', 0.1255983982505732], ['is_pos_pos_rev', 0.12558071349255928], ['location_Paris_France', 0.1255889476061933], ['location_Vienna_Austria', 0.12562304360047133], ['reviewer_nationality_0', 0.12558591144853862], ['Intercontinental_London_The_O2', 0.12561741168916704], ['germany', 0.12561741168916704], ['united_kingdom', 0.12561741168916707], ['united_states_of_america', 0.12561741168916707], ['australia', 0.12561741168916704], ['ireland', 0.12561741168916704], ['saudi_arabia', 0.12561741168916707], ['netherlands', 0.12561741168916707], ['switzerland', 0.12561741168916704], ['Britannia_International_Hotel_Canary_Wharf', 0.12561741168916707], ['canada', 0.12561741168916707], ['Strand_Palace_Hotel', 0.12561741168916704], ['Park_Plaza_Westminster_Bridge_London', 0.12561741168916707], ['Copthorne_Tara_Hotel_London_Kensington', 0.12561741168916704], ['DoubleTree_by_Hilton_Hotel_London_Tower_of_London', 0.12561741168916704], ['Grand_Royale_London_Hyde_Park', 0.12561741168916707], ['Holiday_Inn_London_Kensington', 0.12561741168916704], ['Hilton_London_Metropole', 0.12561741168916704], ['Millennium_Gloucester_Hotel_London', 0.12561741168916704], ['united_arab_emirates', 0.12561741168916704]]\n"
   ]
  },
  {
   "cell_type": "markdown",
   "metadata": {},
   "source": [
    "## 4.5. Predict submission"
   ]
  },
  {
   "cell_type": "code",
   "execution_count": null,
   "metadata": {
    "execution": {
     "iopub.execute_input": "2022-02-08T18:45:41.866062Z",
     "iopub.status.busy": "2022-02-08T18:45:41.86571Z",
     "iopub.status.idle": "2022-02-08T18:45:41.884306Z",
     "shell.execute_reply": "2022-02-08T18:45:41.883577Z",
     "shell.execute_reply.started": "2022-02-08T18:45:41.866035Z"
    }
   },
   "outputs": [],
   "source": [
    "test_data.sample(10)"
   ]
  },
  {
   "cell_type": "code",
   "execution_count": null,
   "metadata": {
    "execution": {
     "iopub.execute_input": "2022-02-08T18:45:41.885594Z",
     "iopub.status.busy": "2022-02-08T18:45:41.885388Z",
     "iopub.status.idle": "2022-02-08T18:45:41.892093Z",
     "shell.execute_reply": "2022-02-08T18:45:41.891222Z",
     "shell.execute_reply.started": "2022-02-08T18:45:41.885567Z"
    }
   },
   "outputs": [],
   "source": [
    "test_data = test_data.drop(['reviewer_score'], axis=1)"
   ]
  },
  {
   "cell_type": "code",
   "execution_count": null,
   "metadata": {
    "execution": {
     "iopub.execute_input": "2022-02-08T18:45:41.893332Z",
     "iopub.status.busy": "2022-02-08T18:45:41.893146Z",
     "iopub.status.idle": "2022-02-08T18:45:41.909665Z",
     "shell.execute_reply": "2022-02-08T18:45:41.908885Z",
     "shell.execute_reply.started": "2022-02-08T18:45:41.893309Z"
    }
   },
   "outputs": [],
   "source": [
    "sample_submission"
   ]
  },
  {
   "cell_type": "code",
   "execution_count": null,
   "metadata": {
    "execution": {
     "iopub.execute_input": "2022-02-08T18:45:41.912958Z",
     "iopub.status.busy": "2022-02-08T18:45:41.911197Z",
     "iopub.status.idle": "2022-02-08T18:45:44.230401Z",
     "shell.execute_reply": "2022-02-08T18:45:44.229808Z",
     "shell.execute_reply.started": "2022-02-08T18:45:41.912914Z"
    }
   },
   "outputs": [],
   "source": [
    "predict_submission = model.predict(test_data)"
   ]
  },
  {
   "cell_type": "code",
   "execution_count": null,
   "metadata": {
    "execution": {
     "iopub.execute_input": "2022-02-08T18:45:44.23145Z",
     "iopub.status.busy": "2022-02-08T18:45:44.231245Z",
     "iopub.status.idle": "2022-02-08T18:45:44.237626Z",
     "shell.execute_reply": "2022-02-08T18:45:44.236794Z",
     "shell.execute_reply.started": "2022-02-08T18:45:44.231424Z"
    }
   },
   "outputs": [],
   "source": [
    "predict_submission"
   ]
  },
  {
   "cell_type": "code",
   "execution_count": null,
   "metadata": {
    "execution": {
     "iopub.execute_input": "2022-02-08T18:45:44.239657Z",
     "iopub.status.busy": "2022-02-08T18:45:44.23939Z",
     "iopub.status.idle": "2022-02-08T18:45:44.249217Z",
     "shell.execute_reply": "2022-02-08T18:45:44.248289Z",
     "shell.execute_reply.started": "2022-02-08T18:45:44.239621Z"
    }
   },
   "outputs": [],
   "source": [
    "list(sample_submission)"
   ]
  },
  {
   "cell_type": "code",
   "execution_count": null,
   "metadata": {
    "execution": {
     "iopub.execute_input": "2022-02-08T18:45:44.250806Z",
     "iopub.status.busy": "2022-02-08T18:45:44.250349Z",
     "iopub.status.idle": "2022-02-08T18:45:44.675802Z",
     "shell.execute_reply": "2022-02-08T18:45:44.675241Z",
     "shell.execute_reply.started": "2022-02-08T18:45:44.250765Z"
    }
   },
   "outputs": [],
   "source": [
    "sample_submission['reviewer_score'] = predict_submission\n",
    "sample_submission.to_csv('submission.csv', index=False)\n",
    "sample_submission.head(10)"
   ]
  },
  {
   "cell_type": "code",
   "execution_count": null,
   "metadata": {},
   "outputs": [],
   "source": []
  },
  {
   "cell_type": "code",
   "execution_count": null,
   "metadata": {},
   "outputs": [],
   "source": []
  },
  {
   "cell_type": "code",
   "execution_count": null,
   "metadata": {},
   "outputs": [],
   "source": []
  }
 ],
 "metadata": {
  "kernelspec": {
   "display_name": "Python 3 (ipykernel)",
   "language": "python",
   "name": "python3"
  },
  "language_info": {
   "codemirror_mode": {
    "name": "ipython",
    "version": 3
   },
   "file_extension": ".py",
   "mimetype": "text/x-python",
   "name": "python",
   "nbconvert_exporter": "python",
   "pygments_lexer": "ipython3",
   "version": "3.9.7"
  }
 },
 "nbformat": 4,
 "nbformat_minor": 4
}
