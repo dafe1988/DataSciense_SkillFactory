{
 "cells": [
  {
   "cell_type": "markdown",
   "metadata": {},
   "source": [
    "# 0. Import libraries"
   ]
  },
  {
   "cell_type": "code",
   "execution_count": 81,
   "metadata": {
    "_cell_guid": "b1076dfc-b9ad-4769-8c92-a6c4dae69d19",
    "_uuid": "8f2839f25d086af736a60e9eeb907d3b93b6e0e5",
    "execution": {
     "iopub.execute_input": "2022-02-08T18:44:26.624192Z",
     "iopub.status.busy": "2022-02-08T18:44:26.623896Z",
     "iopub.status.idle": "2022-02-08T18:44:26.639365Z",
     "shell.execute_reply": "2022-02-08T18:44:26.638515Z",
     "shell.execute_reply.started": "2022-02-08T18:44:26.624161Z"
    }
   },
   "outputs": [
    {
     "name": "stderr",
     "output_type": "stream",
     "text": [
      "[nltk_data] Downloading package vader_lexicon to\n",
      "[nltk_data]     /home/daria/nltk_data...\n",
      "[nltk_data]   Package vader_lexicon is already up-to-date!\n"
     ]
    }
   ],
   "source": [
    "# This Python 3 environment comes with many helpful analytics libraries installed\n",
    "# It is defined by the kaggle/python Docker image: https://github.com/kaggle/docker-python\n",
    "# For example, here's several helpful packages to load\n",
    "\n",
    "import numpy as np # linear algebra\n",
    "import pandas as pd # data processing, CSV file I/O (e.g. pd.read_csv)\n",
    "\n",
    "from collections import Counter\n",
    "\n",
    "import math\n",
    "from math import radians, sin, cos, asin, sqrt\n",
    "\n",
    "import re\n",
    "from re import findall\n",
    "import datetime as dt\n",
    "\n",
    "# для нормализации, стандартизации\n",
    "from sklearn import preprocessing\n",
    "from sklearn.preprocessing import RobustScaler\n",
    "import category_encoders as ce\n",
    "\n",
    "pd.set_option('display.max_columns', 200)  # показывать больше колонок\n",
    "\n",
    "# импортируем библиотеки для визуализации\n",
    "import matplotlib.pyplot as plt\n",
    "import seaborn as sns \n",
    "%matplotlib inline\n",
    "\n",
    "# Загружаем специальный удобный инструмент для разделения датасета:\n",
    "from sklearn.model_selection import train_test_split\n",
    "\n",
    "# Загружаем лингвистические библиотеки для обработки тестов отзывов\n",
    "import nltk\n",
    "from nltk.sentiment.vader import SentimentIntensityAnalyzer\n",
    "import time\n",
    "nltk.downloader.download('vader_lexicon')\n",
    "\n",
    "import warnings\n",
    "warnings.simplefilter('ignore')"
   ]
  },
  {
   "cell_type": "code",
   "execution_count": 2,
   "metadata": {
    "execution": {
     "iopub.execute_input": "2022-02-08T18:44:26.641479Z",
     "iopub.status.busy": "2022-02-08T18:44:26.640957Z",
     "iopub.status.idle": "2022-02-08T18:44:26.647428Z",
     "shell.execute_reply": "2022-02-08T18:44:26.646685Z",
     "shell.execute_reply.started": "2022-02-08T18:44:26.641433Z"
    }
   },
   "outputs": [],
   "source": [
    "# всегда фиксируйте RANDOM_SEED, чтобы ваши эксперименты были воспроизводимы!\n",
    "RANDOM_SEED = 42\n",
    "TARGET_NAME = 'reviewer_score'"
   ]
  },
  {
   "cell_type": "code",
   "execution_count": 3,
   "metadata": {
    "execution": {
     "iopub.execute_input": "2022-02-08T18:44:26.648893Z",
     "iopub.status.busy": "2022-02-08T18:44:26.648317Z",
     "iopub.status.idle": "2022-02-08T18:44:29.65578Z",
     "shell.execute_reply": "2022-02-08T18:44:29.654612Z",
     "shell.execute_reply.started": "2022-02-08T18:44:26.648843Z"
    }
   },
   "outputs": [],
   "source": [
    "# зафиксируем версию пакетов, чтобы эксперименты были воспроизводимы:\n",
    "!pip freeze > requirements.txt"
   ]
  },
  {
   "cell_type": "markdown",
   "metadata": {},
   "source": [
    "# 1. Import datasets"
   ]
  },
  {
   "cell_type": "code",
   "execution_count": 4,
   "metadata": {
    "execution": {
     "iopub.execute_input": "2022-02-08T18:44:29.657675Z",
     "iopub.status.busy": "2022-02-08T18:44:29.657411Z",
     "iopub.status.idle": "2022-02-08T18:44:32.947103Z",
     "shell.execute_reply": "2022-02-08T18:44:32.946305Z",
     "shell.execute_reply.started": "2022-02-08T18:44:29.657645Z"
    }
   },
   "outputs": [],
   "source": [
    "# Подгрузим наши данные из соревнования\n",
    "\n",
    "df_train = pd.read_csv('data/hotels_train.csv') # датасет для обучения\n",
    "df_test = pd.read_csv('data/hotels_test.csv') # датасет для предсказания\n",
    "sample_submission = pd.read_csv('data/submission.csv') # самбмишн"
   ]
  },
  {
   "cell_type": "code",
   "execution_count": 5,
   "metadata": {
    "execution": {
     "iopub.execute_input": "2022-02-08T18:44:32.949468Z",
     "iopub.status.busy": "2022-02-08T18:44:32.949243Z",
     "iopub.status.idle": "2022-02-08T18:44:33.2946Z",
     "shell.execute_reply": "2022-02-08T18:44:33.293891Z",
     "shell.execute_reply.started": "2022-02-08T18:44:32.949435Z"
    }
   },
   "outputs": [
    {
     "name": "stdout",
     "output_type": "stream",
     "text": [
      "<class 'pandas.core.frame.DataFrame'>\n",
      "RangeIndex: 386803 entries, 0 to 386802\n",
      "Data columns (total 17 columns):\n",
      " #   Column                                      Non-Null Count   Dtype  \n",
      "---  ------                                      --------------   -----  \n",
      " 0   hotel_address                               386803 non-null  object \n",
      " 1   additional_number_of_scoring                386803 non-null  int64  \n",
      " 2   review_date                                 386803 non-null  object \n",
      " 3   average_score                               386803 non-null  float64\n",
      " 4   hotel_name                                  386803 non-null  object \n",
      " 5   reviewer_nationality                        386803 non-null  object \n",
      " 6   negative_review                             386803 non-null  object \n",
      " 7   review_total_negative_word_counts           386803 non-null  int64  \n",
      " 8   total_number_of_reviews                     386803 non-null  int64  \n",
      " 9   positive_review                             386803 non-null  object \n",
      " 10  review_total_positive_word_counts           386803 non-null  int64  \n",
      " 11  total_number_of_reviews_reviewer_has_given  386803 non-null  int64  \n",
      " 12  reviewer_score                              386803 non-null  float64\n",
      " 13  tags                                        386803 non-null  object \n",
      " 14  days_since_review                           386803 non-null  object \n",
      " 15  lat                                         384355 non-null  float64\n",
      " 16  lng                                         384355 non-null  float64\n",
      "dtypes: float64(4), int64(5), object(8)\n",
      "memory usage: 50.2+ MB\n",
      "None\n"
     ]
    },
    {
     "data": {
      "text/html": [
       "<div>\n",
       "<style scoped>\n",
       "    .dataframe tbody tr th:only-of-type {\n",
       "        vertical-align: middle;\n",
       "    }\n",
       "\n",
       "    .dataframe tbody tr th {\n",
       "        vertical-align: top;\n",
       "    }\n",
       "\n",
       "    .dataframe thead th {\n",
       "        text-align: right;\n",
       "    }\n",
       "</style>\n",
       "<table border=\"1\" class=\"dataframe\">\n",
       "  <thead>\n",
       "    <tr style=\"text-align: right;\">\n",
       "      <th></th>\n",
       "      <th>hotel_address</th>\n",
       "      <th>additional_number_of_scoring</th>\n",
       "      <th>review_date</th>\n",
       "      <th>average_score</th>\n",
       "      <th>hotel_name</th>\n",
       "      <th>reviewer_nationality</th>\n",
       "      <th>negative_review</th>\n",
       "      <th>review_total_negative_word_counts</th>\n",
       "      <th>total_number_of_reviews</th>\n",
       "      <th>positive_review</th>\n",
       "      <th>review_total_positive_word_counts</th>\n",
       "      <th>total_number_of_reviews_reviewer_has_given</th>\n",
       "      <th>reviewer_score</th>\n",
       "      <th>tags</th>\n",
       "      <th>days_since_review</th>\n",
       "      <th>lat</th>\n",
       "      <th>lng</th>\n",
       "    </tr>\n",
       "  </thead>\n",
       "  <tbody>\n",
       "    <tr>\n",
       "      <th>0</th>\n",
       "      <td>Stratton Street Mayfair Westminster Borough Lo...</td>\n",
       "      <td>581</td>\n",
       "      <td>2/19/2016</td>\n",
       "      <td>8.4</td>\n",
       "      <td>The May Fair Hotel</td>\n",
       "      <td>United Kingdom</td>\n",
       "      <td>Leaving</td>\n",
       "      <td>3</td>\n",
       "      <td>1994</td>\n",
       "      <td>Staff were amazing</td>\n",
       "      <td>4</td>\n",
       "      <td>7</td>\n",
       "      <td>10.0</td>\n",
       "      <td>[' Leisure trip ', ' Couple ', ' Studio Suite ...</td>\n",
       "      <td>531 day</td>\n",
       "      <td>51.507894</td>\n",
       "      <td>-0.143671</td>\n",
       "    </tr>\n",
       "    <tr>\n",
       "      <th>1</th>\n",
       "      <td>130 134 Southampton Row Camden London WC1B 5AF...</td>\n",
       "      <td>299</td>\n",
       "      <td>1/12/2017</td>\n",
       "      <td>8.3</td>\n",
       "      <td>Mercure London Bloomsbury Hotel</td>\n",
       "      <td>United Kingdom</td>\n",
       "      <td>poor breakfast</td>\n",
       "      <td>3</td>\n",
       "      <td>1361</td>\n",
       "      <td>location</td>\n",
       "      <td>2</td>\n",
       "      <td>14</td>\n",
       "      <td>6.3</td>\n",
       "      <td>[' Business trip ', ' Couple ', ' Standard Dou...</td>\n",
       "      <td>203 day</td>\n",
       "      <td>51.521009</td>\n",
       "      <td>-0.123097</td>\n",
       "    </tr>\n",
       "  </tbody>\n",
       "</table>\n",
       "</div>"
      ],
      "text/plain": [
       "                                       hotel_address  \\\n",
       "0  Stratton Street Mayfair Westminster Borough Lo...   \n",
       "1  130 134 Southampton Row Camden London WC1B 5AF...   \n",
       "\n",
       "   additional_number_of_scoring review_date  average_score  \\\n",
       "0                           581   2/19/2016            8.4   \n",
       "1                           299   1/12/2017            8.3   \n",
       "\n",
       "                        hotel_name reviewer_nationality  negative_review  \\\n",
       "0               The May Fair Hotel      United Kingdom          Leaving    \n",
       "1  Mercure London Bloomsbury Hotel      United Kingdom    poor breakfast   \n",
       "\n",
       "   review_total_negative_word_counts  total_number_of_reviews  \\\n",
       "0                                  3                     1994   \n",
       "1                                  3                     1361   \n",
       "\n",
       "       positive_review  review_total_positive_word_counts  \\\n",
       "0   Staff were amazing                                  4   \n",
       "1             location                                  2   \n",
       "\n",
       "   total_number_of_reviews_reviewer_has_given  reviewer_score  \\\n",
       "0                                           7            10.0   \n",
       "1                                          14             6.3   \n",
       "\n",
       "                                                tags days_since_review  \\\n",
       "0  [' Leisure trip ', ' Couple ', ' Studio Suite ...           531 day   \n",
       "1  [' Business trip ', ' Couple ', ' Standard Dou...           203 day   \n",
       "\n",
       "         lat       lng  \n",
       "0  51.507894 -0.143671  \n",
       "1  51.521009 -0.123097  "
      ]
     },
     "execution_count": 5,
     "metadata": {},
     "output_type": "execute_result"
    }
   ],
   "source": [
    "print(df_train.info())\n",
    "df_train.head(2)"
   ]
  },
  {
   "cell_type": "code",
   "execution_count": 6,
   "metadata": {
    "execution": {
     "iopub.execute_input": "2022-02-08T18:44:33.315353Z",
     "iopub.status.busy": "2022-02-08T18:44:33.315169Z",
     "iopub.status.idle": "2022-02-08T18:44:33.437812Z",
     "shell.execute_reply": "2022-02-08T18:44:33.437031Z",
     "shell.execute_reply.started": "2022-02-08T18:44:33.315329Z"
    }
   },
   "outputs": [
    {
     "name": "stdout",
     "output_type": "stream",
     "text": [
      "<class 'pandas.core.frame.DataFrame'>\n",
      "RangeIndex: 128935 entries, 0 to 128934\n",
      "Data columns (total 16 columns):\n",
      " #   Column                                      Non-Null Count   Dtype  \n",
      "---  ------                                      --------------   -----  \n",
      " 0   hotel_address                               128935 non-null  object \n",
      " 1   additional_number_of_scoring                128935 non-null  int64  \n",
      " 2   review_date                                 128935 non-null  object \n",
      " 3   average_score                               128935 non-null  float64\n",
      " 4   hotel_name                                  128935 non-null  object \n",
      " 5   reviewer_nationality                        128935 non-null  object \n",
      " 6   negative_review                             128935 non-null  object \n",
      " 7   review_total_negative_word_counts           128935 non-null  int64  \n",
      " 8   total_number_of_reviews                     128935 non-null  int64  \n",
      " 9   positive_review                             128935 non-null  object \n",
      " 10  review_total_positive_word_counts           128935 non-null  int64  \n",
      " 11  total_number_of_reviews_reviewer_has_given  128935 non-null  int64  \n",
      " 12  tags                                        128935 non-null  object \n",
      " 13  days_since_review                           128935 non-null  object \n",
      " 14  lat                                         128115 non-null  float64\n",
      " 15  lng                                         128115 non-null  float64\n",
      "dtypes: float64(3), int64(5), object(8)\n",
      "memory usage: 15.7+ MB\n",
      "None\n"
     ]
    },
    {
     "data": {
      "text/html": [
       "<div>\n",
       "<style scoped>\n",
       "    .dataframe tbody tr th:only-of-type {\n",
       "        vertical-align: middle;\n",
       "    }\n",
       "\n",
       "    .dataframe tbody tr th {\n",
       "        vertical-align: top;\n",
       "    }\n",
       "\n",
       "    .dataframe thead th {\n",
       "        text-align: right;\n",
       "    }\n",
       "</style>\n",
       "<table border=\"1\" class=\"dataframe\">\n",
       "  <thead>\n",
       "    <tr style=\"text-align: right;\">\n",
       "      <th></th>\n",
       "      <th>hotel_address</th>\n",
       "      <th>additional_number_of_scoring</th>\n",
       "      <th>review_date</th>\n",
       "      <th>average_score</th>\n",
       "      <th>hotel_name</th>\n",
       "      <th>reviewer_nationality</th>\n",
       "      <th>negative_review</th>\n",
       "      <th>review_total_negative_word_counts</th>\n",
       "      <th>total_number_of_reviews</th>\n",
       "      <th>positive_review</th>\n",
       "      <th>review_total_positive_word_counts</th>\n",
       "      <th>total_number_of_reviews_reviewer_has_given</th>\n",
       "      <th>tags</th>\n",
       "      <th>days_since_review</th>\n",
       "      <th>lat</th>\n",
       "      <th>lng</th>\n",
       "    </tr>\n",
       "  </thead>\n",
       "  <tbody>\n",
       "    <tr>\n",
       "      <th>0</th>\n",
       "      <td>Via Senigallia 6 20161 Milan Italy</td>\n",
       "      <td>904</td>\n",
       "      <td>7/21/2017</td>\n",
       "      <td>8.1</td>\n",
       "      <td>Hotel Da Vinci</td>\n",
       "      <td>United Kingdom</td>\n",
       "      <td>Would have appreciated a shop in the hotel th...</td>\n",
       "      <td>52</td>\n",
       "      <td>16670</td>\n",
       "      <td>Hotel was great clean friendly staff free bre...</td>\n",
       "      <td>62</td>\n",
       "      <td>1</td>\n",
       "      <td>[' Leisure trip ', ' Couple ', ' Double Room '...</td>\n",
       "      <td>13 days</td>\n",
       "      <td>45.533137</td>\n",
       "      <td>9.171102</td>\n",
       "    </tr>\n",
       "    <tr>\n",
       "      <th>1</th>\n",
       "      <td>Arlandaweg 10 Westpoort 1043 EW Amsterdam Neth...</td>\n",
       "      <td>612</td>\n",
       "      <td>12/12/2016</td>\n",
       "      <td>8.6</td>\n",
       "      <td>Urban Lodge Hotel</td>\n",
       "      <td>Belgium</td>\n",
       "      <td>No tissue paper box was present at the room</td>\n",
       "      <td>10</td>\n",
       "      <td>5018</td>\n",
       "      <td>No Positive</td>\n",
       "      <td>0</td>\n",
       "      <td>7</td>\n",
       "      <td>[' Leisure trip ', ' Group ', ' Triple Room ',...</td>\n",
       "      <td>234 day</td>\n",
       "      <td>52.385649</td>\n",
       "      <td>4.834443</td>\n",
       "    </tr>\n",
       "  </tbody>\n",
       "</table>\n",
       "</div>"
      ],
      "text/plain": [
       "                                       hotel_address  \\\n",
       "0                 Via Senigallia 6 20161 Milan Italy   \n",
       "1  Arlandaweg 10 Westpoort 1043 EW Amsterdam Neth...   \n",
       "\n",
       "   additional_number_of_scoring review_date  average_score         hotel_name  \\\n",
       "0                           904   7/21/2017            8.1     Hotel Da Vinci   \n",
       "1                           612  12/12/2016            8.6  Urban Lodge Hotel   \n",
       "\n",
       "  reviewer_nationality                                    negative_review  \\\n",
       "0      United Kingdom    Would have appreciated a shop in the hotel th...   \n",
       "1             Belgium         No tissue paper box was present at the room   \n",
       "\n",
       "   review_total_negative_word_counts  total_number_of_reviews  \\\n",
       "0                                 52                    16670   \n",
       "1                                 10                     5018   \n",
       "\n",
       "                                     positive_review  \\\n",
       "0   Hotel was great clean friendly staff free bre...   \n",
       "1                                        No Positive   \n",
       "\n",
       "   review_total_positive_word_counts  \\\n",
       "0                                 62   \n",
       "1                                  0   \n",
       "\n",
       "   total_number_of_reviews_reviewer_has_given  \\\n",
       "0                                           1   \n",
       "1                                           7   \n",
       "\n",
       "                                                tags days_since_review  \\\n",
       "0  [' Leisure trip ', ' Couple ', ' Double Room '...           13 days   \n",
       "1  [' Leisure trip ', ' Group ', ' Triple Room ',...           234 day   \n",
       "\n",
       "         lat       lng  \n",
       "0  45.533137  9.171102  \n",
       "1  52.385649  4.834443  "
      ]
     },
     "execution_count": 6,
     "metadata": {},
     "output_type": "execute_result"
    }
   ],
   "source": [
    "print(df_test.info())\n",
    "df_test.head(2)"
   ]
  },
  {
   "cell_type": "code",
   "execution_count": 7,
   "metadata": {
    "execution": {
     "iopub.execute_input": "2022-02-08T18:44:33.456588Z",
     "iopub.status.busy": "2022-02-08T18:44:33.456129Z",
     "iopub.status.idle": "2022-02-08T18:44:33.463126Z",
     "shell.execute_reply": "2022-02-08T18:44:33.462542Z",
     "shell.execute_reply.started": "2022-02-08T18:44:33.456558Z"
    }
   },
   "outputs": [
    {
     "name": "stdout",
     "output_type": "stream",
     "text": [
      "<class 'pandas.core.frame.DataFrame'>\n",
      "RangeIndex: 128935 entries, 0 to 128934\n",
      "Data columns (total 2 columns):\n",
      " #   Column          Non-Null Count   Dtype\n",
      "---  ------          --------------   -----\n",
      " 0   reviewer_score  128935 non-null  int64\n",
      " 1   id              128935 non-null  int64\n",
      "dtypes: int64(2)\n",
      "memory usage: 2.0 MB\n",
      "None\n"
     ]
    },
    {
     "data": {
      "text/html": [
       "<div>\n",
       "<style scoped>\n",
       "    .dataframe tbody tr th:only-of-type {\n",
       "        vertical-align: middle;\n",
       "    }\n",
       "\n",
       "    .dataframe tbody tr th {\n",
       "        vertical-align: top;\n",
       "    }\n",
       "\n",
       "    .dataframe thead th {\n",
       "        text-align: right;\n",
       "    }\n",
       "</style>\n",
       "<table border=\"1\" class=\"dataframe\">\n",
       "  <thead>\n",
       "    <tr style=\"text-align: right;\">\n",
       "      <th></th>\n",
       "      <th>reviewer_score</th>\n",
       "      <th>id</th>\n",
       "    </tr>\n",
       "  </thead>\n",
       "  <tbody>\n",
       "    <tr>\n",
       "      <th>0</th>\n",
       "      <td>1</td>\n",
       "      <td>488440</td>\n",
       "    </tr>\n",
       "    <tr>\n",
       "      <th>1</th>\n",
       "      <td>10</td>\n",
       "      <td>274649</td>\n",
       "    </tr>\n",
       "  </tbody>\n",
       "</table>\n",
       "</div>"
      ],
      "text/plain": [
       "   reviewer_score      id\n",
       "0               1  488440\n",
       "1              10  274649"
      ]
     },
     "execution_count": 7,
     "metadata": {},
     "output_type": "execute_result"
    }
   ],
   "source": [
    "print(sample_submission.info())\n",
    "sample_submission.head(2)"
   ]
  },
  {
   "cell_type": "markdown",
   "metadata": {},
   "source": [
    "# 2. EDA"
   ]
  },
  {
   "cell_type": "markdown",
   "metadata": {},
   "source": [
    "## 2.0. Functions, dictionaries and constants"
   ]
  },
  {
   "cell_type": "code",
   "execution_count": 8,
   "metadata": {},
   "outputs": [],
   "source": [
    "# функция создает единый список из списков\n",
    "def list_unrar(list_of_lists):\n",
    "    result=[]\n",
    "    for lst in list_of_lists:\n",
    "        result.extend(lst)\n",
    "    return result"
   ]
  },
  {
   "cell_type": "code",
   "execution_count": 9,
   "metadata": {},
   "outputs": [],
   "source": [
    "# Словари с с пропущенными координатами по адресам отелей\n",
    "lat_dict = {'Savoyenstra e 2 16 Ottakring 1160 Vienna Austria': 48.215178,\n",
    "       '23 Rue Damr mont 18th arr 75018 Paris France': 48.884582,\n",
    "       'Josefst dter Stra e 10 12 08 Josefstadt 1080 Vienna Austria': 48.209650,\n",
    "       'W hringer Stra e 33 35 09 Alsergrund 1090 Vienna Austria': 48.220269,\n",
    "       '4 rue de la P pini re 8th arr 75008 Paris France': 48.856818,\n",
    "       'Sieveringer Stra e 4 19 D bling 1190 Vienna Austria': 48.245892,\n",
    "       'Taborstra e 8 A 02 Leopoldstadt 1020 Vienna Austria': 48.213559,\n",
    "       'Bail n 4 6 Eixample 08010 Barcelona Spain': 41.391967,\n",
    "       'Gr nentorgasse 30 09 Alsergrund 1090 Vienna Austria': 48.207911,\n",
    "       'Landstra er G rtel 5 03 Landstra e 1030 Vienna Austria': 48.194113,\n",
    "       'Paragonstra e 1 11 Simmering 1110 Vienna Austria': 48.163757,\n",
    "       'W hringer Stra e 12 09 Alsergrund 1090 Vienna Austria': 48.216778,\n",
    "       '20 Rue De La Ga t 14th arr 75014 Paris France': 48.856818,\n",
    "       'Hasenauerstra e 12 19 D bling 1190 Vienna Austria': 48.208174,\n",
    "       'Sep lveda 180 Eixample 08011 Barcelona Spain': 41.384733,\n",
    "       'Pau Clar s 122 Eixample 08009 Barcelona Spain': 41.392789,\n",
    "       'Josefst dter Stra e 22 08 Josefstadt 1080 Vienna Austria': 48.209580}\n",
    "lng_dict = {'Savoyenstra e 2 16 Ottakring 1160 Vienna Austria': 16.303380,\n",
    "       '23 Rue Damr mont 18th arr 75018 Paris France': 2.324640,\n",
    "       'Josefst dter Stra e 10 12 08 Josefstadt 1080 Vienna Austria': 16.353160,\n",
    "       'W hringer Stra e 33 35 09 Alsergrund 1090 Vienna Austria': 16.355809,\n",
    "       '4 rue de la P pini re 8th arr 75008 Paris France': 2.304722,\n",
    "       'Sieveringer Stra e 4 19 D bling 1190 Vienna Austria': 16.341939,\n",
    "       'Taborstra e 8 A 02 Leopoldstadt 1020 Vienna Austria': 16.380100,\n",
    "       'Bail n 4 6 Eixample 08010 Barcelona Spain': 2.175728,\n",
    "       'Gr nentorgasse 30 09 Alsergrund 1090 Vienna Austria': 16.394933,\n",
    "       'Landstra er G rtel 5 03 Landstra e 1030 Vienna Austria': 16.395356,\n",
    "       'Paragonstra e 1 11 Simmering 1110 Vienna Austria': 16.445799,\n",
    "       'W hringer Stra e 12 09 Alsergrund 1090 Vienna Austria': 16.360074,\n",
    "       '20 Rue De La Ga t 14th arr 75014 Paris France': 2.304722,\n",
    "       'Hasenauerstra e 12 19 D bling 1190 Vienna Austria': 16.373819,\n",
    "       'Sep lveda 180 Eixample 08011 Barcelona Spain': 2.160988,\n",
    "       'Pau Clar s 122 Eixample 08009 Barcelona Spain': 2.167397,\n",
    "       'Josefst dter Stra e 22 08 Josefstadt 1080 Vienna Austria':16.351433}"
   ]
  },
  {
   "cell_type": "code",
   "execution_count": 115,
   "metadata": {},
   "outputs": [],
   "source": [
    "# население согласно Википедии, тыс.чел\n",
    "population_dict = {'United_Kingdom': 8962, 'Paris_France': 2148, 'Amsterdam_Netherlands': 873,\n",
    "                   'Milan_Italy': 1379, 'Vienna_Austria': 1897, 'Barcelona_Spain': 1636}\n",
    "# плотность населения, тыс. чел на км\n",
    "pop_density_dict = {'United_Kingdom': 5.7, 'Paris_France': 20.8, 'Amsterdam_Netherlands': 4.8,\n",
    "                   'Milan_Italy': 7.6, 'Vienna_Austria': 4.5, 'Barcelona_Spain': 15.8}"
   ]
  },
  {
   "cell_type": "code",
   "execution_count": 11,
   "metadata": {},
   "outputs": [],
   "source": [
    "def code_data(df: pd.DataFrame) -> pd.DataFrame:\n",
    "    \"\"\"Функция кодирует признаки датафрейма.\n",
    "\n",
    "    Args:\n",
    "        df (pd.DataFrame): датафрейм до кодирования\n",
    "\n",
    "    Returns:\n",
    "        pd.DataFrame: датафрейм с закодированными признаками\n",
    "    \"\"\"\n",
    "\n",
    "    # Списки для названий признаков для двух типов кодирования\n",
    "    one_hot_cols = []\n",
    "    binary_cols = []\n",
    "\n",
    "    # Пройдемся по всем категориальным признакам и сохраним их в списки\n",
    "    for col in df.columns:\n",
    "        if df[col].dtype == 'object':\n",
    "            if df[col].nunique() > 15: # если кол-во значений > 15\n",
    "                binary_cols.append(col)\n",
    "            else:                      # если меньше или равно 15\n",
    "                one_hot_cols.append(col)\n",
    "\n",
    "    # Выполним однократное кодирование признаков\n",
    "    encoder = ce.OneHotEncoder(cols=one_hot_cols, use_cat_names=True)\n",
    "    type_bin = encoder.fit_transform(df[one_hot_cols])\n",
    "    df = pd.concat([df, type_bin], axis=1)\n",
    "    df.drop(one_hot_cols, axis=1, inplace=True)\n",
    "\n",
    "    # Выполним двоичное кодирование признаков\n",
    "    bin_encoder = ce.BinaryEncoder(cols=binary_cols)\n",
    "    type_bin = bin_encoder.fit_transform(df[binary_cols])\n",
    "    df = pd.concat([df, type_bin], axis=1)\n",
    "    df.drop(binary_cols, axis=1, inplace=True)\n",
    "    \n",
    "    #Вернем датафрейм\n",
    "    return df"
   ]
  },
  {
   "cell_type": "code",
   "execution_count": 12,
   "metadata": {},
   "outputs": [],
   "source": [
    "# координаты Парижа\n",
    "lon1 = 2.3488000\n",
    "lat1 = 48.8534100\n",
    "# функция определения расстояния до центра Парижа\n",
    "def haversine(lon1, lat1, lon2, lat2):\n",
    "    lon1, lat1, lon2, lat2 = map(radians, [lon1, lat1, lon2, lat2])\n",
    "    dlon = lon2 - lon1\n",
    "    dlat = lat2 - lat1\n",
    "    a = sin(dlat/2)**2 + cos(lat1) * cos(lat2) * sin(dlon/2) ** 2\n",
    "    c = 2 * asin(sqrt(a))\n",
    "    earth_radius = 6371 \n",
    "    return round(c*earth_radius)\n"
   ]
  },
  {
   "cell_type": "code",
   "execution_count": 100,
   "metadata": {},
   "outputs": [],
   "source": [
    "# функция для нормализации, компенсирующая выбросы\n",
    "def RobustScaler_column(d_col):\n",
    "    rscaler = RobustScaler()\n",
    "    rscaler.fit(combined_data[[d_col]])\n",
    "    return rscaler.transform(combined_data[[d_col]])"
   ]
  },
  {
   "cell_type": "code",
   "execution_count": 112,
   "metadata": {},
   "outputs": [],
   "source": [
    "# функция для стандартизации,\n",
    "def MinMaxScaler_column(d_col):\n",
    "    mscaler = preprocessing.MinMaxScaler()\n",
    "    mscaler.fit(combined_data[[d_col]])\n",
    "    return mscaler.transform(combined_data[[d_col]])"
   ]
  },
  {
   "cell_type": "code",
   "execution_count": 13,
   "metadata": {},
   "outputs": [],
   "source": [
    "def join_df(train_df, test_df: pd.DataFrame) -> pd.DataFrame:\n",
    "    \"\"\"Функция объединяет тренировочную и тестовую выборки.\n",
    "    Индекс при этом сохраняется.\n",
    "\n",
    "    Args:\n",
    "        train_df (_type_): тренировочный датафрейм\n",
    "        test_df (pd.DataFrame): тестовый датафрейм\n",
    "\n",
    "    Returns:\n",
    "        pd.DataFrame: объединенный датафрейм\n",
    "    \"\"\"\n",
    "\n",
    "    test_df['reviewer_score'] = -1 # добавим недостающий столбец\n",
    "    combined_df = pd.concat([train_df, test_df], axis=0)\n",
    "\n",
    "    # Вернем объединенный датафрейм\n",
    "    return combined_df\n",
    "\n"
   ]
  },
  {
   "cell_type": "code",
   "execution_count": 93,
   "metadata": {},
   "outputs": [],
   "source": [
    "def split_df(combined_df: pd.DataFrame, ind:int=386803) -> tuple:\n",
    "    \"\"\"Функция разделяет датафрейм на два по индексу.\n",
    "\n",
    "    Args:\n",
    "        combined_df (pd.DataFrame): объединенный датафрейм\n",
    "        ind (int, optional): индекс разделения\n",
    "\n",
    "    Returns:\n",
    "        tuple: кортеж из датафреймов\n",
    "    \"\"\"\n",
    "\n",
    "    train_df = combined_data.iloc[:ind, :]\n",
    "    test_df = combined_data.iloc[ind:, :]\n",
    "    test_df = test_df.drop('reviewer_score', axis=1) #  удалим столбец из тестовой выборки\n",
    "\n",
    "    # Вернем разделенные датафреймы\n",
    "    return train_df, test_df"
   ]
  },
  {
   "cell_type": "markdown",
   "metadata": {},
   "source": [
    "## 2.1. Join datasets for EDA"
   ]
  },
  {
   "cell_type": "code",
   "execution_count": 15,
   "metadata": {
    "execution": {
     "iopub.execute_input": "2022-02-08T18:44:33.480175Z",
     "iopub.status.busy": "2022-02-08T18:44:33.479691Z",
     "iopub.status.idle": "2022-02-08T18:44:34.013921Z",
     "shell.execute_reply": "2022-02-08T18:44:34.012987Z",
     "shell.execute_reply.started": "2022-02-08T18:44:33.480147Z"
    }
   },
   "outputs": [],
   "source": [
    "# ВАЖНО! дря корректной обработки признаков объединяем трейн и тест в один датасет\n",
    "data = join_df(df_train, df_test)"
   ]
  },
  {
   "cell_type": "code",
   "execution_count": 16,
   "metadata": {
    "execution": {
     "iopub.execute_input": "2022-02-08T18:44:34.015483Z",
     "iopub.status.busy": "2022-02-08T18:44:34.015238Z",
     "iopub.status.idle": "2022-02-08T18:44:34.477711Z",
     "shell.execute_reply": "2022-02-08T18:44:34.476864Z",
     "shell.execute_reply.started": "2022-02-08T18:44:34.015455Z"
    }
   },
   "outputs": [
    {
     "name": "stdout",
     "output_type": "stream",
     "text": [
      "<class 'pandas.core.frame.DataFrame'>\n",
      "Int64Index: 515738 entries, 0 to 128934\n",
      "Data columns (total 17 columns):\n",
      " #   Column                                      Non-Null Count   Dtype  \n",
      "---  ------                                      --------------   -----  \n",
      " 0   hotel_address                               515738 non-null  object \n",
      " 1   additional_number_of_scoring                515738 non-null  int64  \n",
      " 2   review_date                                 515738 non-null  object \n",
      " 3   average_score                               515738 non-null  float64\n",
      " 4   hotel_name                                  515738 non-null  object \n",
      " 5   reviewer_nationality                        515738 non-null  object \n",
      " 6   negative_review                             515738 non-null  object \n",
      " 7   review_total_negative_word_counts           515738 non-null  int64  \n",
      " 8   total_number_of_reviews                     515738 non-null  int64  \n",
      " 9   positive_review                             515738 non-null  object \n",
      " 10  review_total_positive_word_counts           515738 non-null  int64  \n",
      " 11  total_number_of_reviews_reviewer_has_given  515738 non-null  int64  \n",
      " 12  reviewer_score                              515738 non-null  float64\n",
      " 13  tags                                        515738 non-null  object \n",
      " 14  days_since_review                           515738 non-null  object \n",
      " 15  lat                                         512470 non-null  float64\n",
      " 16  lng                                         512470 non-null  float64\n",
      "dtypes: float64(4), int64(5), object(8)\n",
      "memory usage: 70.8+ MB\n"
     ]
    }
   ],
   "source": [
    "data.info()"
   ]
  },
  {
   "cell_type": "markdown",
   "metadata": {},
   "source": [
    "## 2.2. Missing values"
   ]
  },
  {
   "cell_type": "code",
   "execution_count": 17,
   "metadata": {},
   "outputs": [],
   "source": [
    "hotels_eda = data.copy()"
   ]
  },
  {
   "cell_type": "code",
   "execution_count": 18,
   "metadata": {},
   "outputs": [
    {
     "data": {
      "text/plain": [
       "17"
      ]
     },
     "execution_count": 18,
     "metadata": {},
     "output_type": "execute_result"
    }
   ],
   "source": [
    "hotels_eda.hotel_address[hotels_eda.lat.isna()].nunique()"
   ]
  },
  {
   "cell_type": "markdown",
   "metadata": {},
   "source": [
    "всего 17 значений адресов без координат, добавлю их вручную, воспользовавшись онлайн ресурсом u-karty.ru"
   ]
  },
  {
   "cell_type": "code",
   "execution_count": 19,
   "metadata": {
    "execution": {
     "iopub.execute_input": "2022-02-08T18:44:34.47925Z",
     "iopub.status.busy": "2022-02-08T18:44:34.47896Z",
     "iopub.status.idle": "2022-02-08T18:44:34.497358Z",
     "shell.execute_reply": "2022-02-08T18:44:34.496728Z",
     "shell.execute_reply.started": "2022-02-08T18:44:34.479202Z"
    }
   },
   "outputs": [],
   "source": [
    "hotels_eda['lat'] = hotels_eda['lat'].fillna(hotels_eda['hotel_address'].map(lat_dict))\n",
    "hotels_eda['lng'] = hotels_eda['lng'].fillna(hotels_eda['hotel_address'].map(lng_dict))"
   ]
  },
  {
   "cell_type": "markdown",
   "metadata": {},
   "source": [
    "## 2.3. Nunique/correlations"
   ]
  },
  {
   "cell_type": "markdown",
   "metadata": {},
   "source": [
    "Оценим количество уникальных значений в признаках"
   ]
  },
  {
   "cell_type": "code",
   "execution_count": 20,
   "metadata": {
    "execution": {
     "iopub.execute_input": "2022-02-08T18:44:34.500523Z",
     "iopub.status.busy": "2022-02-08T18:44:34.500073Z",
     "iopub.status.idle": "2022-02-08T18:44:35.43767Z",
     "shell.execute_reply": "2022-02-08T18:44:35.43699Z",
     "shell.execute_reply.started": "2022-02-08T18:44:34.500478Z"
    }
   },
   "outputs": [
    {
     "data": {
      "text/plain": [
       "hotel_address                                   1493\n",
       "additional_number_of_scoring                     480\n",
       "review_date                                      731\n",
       "average_score                                     34\n",
       "hotel_name                                      1492\n",
       "reviewer_nationality                             227\n",
       "negative_review                               330011\n",
       "review_total_negative_word_counts                402\n",
       "total_number_of_reviews                         1142\n",
       "positive_review                               412601\n",
       "review_total_positive_word_counts                365\n",
       "total_number_of_reviews_reviewer_has_given       198\n",
       "reviewer_score                                    38\n",
       "tags                                           55242\n",
       "days_since_review                                731\n",
       "lat                                             1488\n",
       "lng                                             1488\n",
       "dtype: int64"
      ]
     },
     "execution_count": 20,
     "metadata": {},
     "output_type": "execute_result"
    }
   ],
   "source": [
    "hotels_eda.nunique(dropna=False)"
   ]
  },
  {
   "cell_type": "markdown",
   "metadata": {},
   "source": [
    "Также посмотрим на таблицу корреляции признаков"
   ]
  },
  {
   "cell_type": "code",
   "execution_count": 22,
   "metadata": {
    "execution": {
     "iopub.execute_input": "2022-02-08T18:44:35.439006Z",
     "iopub.status.busy": "2022-02-08T18:44:35.438803Z",
     "iopub.status.idle": "2022-02-08T18:44:36.452177Z",
     "shell.execute_reply": "2022-02-08T18:44:36.450792Z",
     "shell.execute_reply.started": "2022-02-08T18:44:35.438981Z"
    }
   },
   "outputs": [
    {
     "name": "stderr",
     "output_type": "stream",
     "text": [
      "/tmp/ipykernel_28508/3266120341.py:4: FutureWarning: The default value of numeric_only in DataFrame.corr is deprecated. In a future version, it will default to False. Select only valid columns or specify the value of numeric_only to silence this warning.\n",
      "  sns.heatmap(hotels_eda[mask_no_test].corr(), annot=True)\n"
     ]
    },
    {
     "data": {
      "text/plain": [
       "<AxesSubplot: >"
      ]
     },
     "execution_count": 22,
     "metadata": {},
     "output_type": "execute_result"
    },
    {
     "data": {
      "image/png": "[encoded data removed]",
      "text/plain": [
       "<Figure size 1008x504 with 2 Axes>"
      ]
     },
     "metadata": {
      "needs_background": "light"
     },
     "output_type": "display_data"
    }
   ],
   "source": [
    "mask_no_test = hotels_eda.reviewer_score > -1\n",
    "plt.rcParams['figure.figsize'] = (14,7)\n",
    "plt.xticks(rotation=45)\n",
    "sns.heatmap(hotels_eda[mask_no_test].corr(), annot=True)"
   ]
  },
  {
   "cell_type": "markdown",
   "metadata": {},
   "source": [
    "## 2.4. Outliers"
   ]
  },
  {
   "cell_type": "code",
   "execution_count": 23,
   "metadata": {},
   "outputs": [
    {
     "data": {
      "text/html": [
       "<div>\n",
       "<style scoped>\n",
       "    .dataframe tbody tr th:only-of-type {\n",
       "        vertical-align: middle;\n",
       "    }\n",
       "\n",
       "    .dataframe tbody tr th {\n",
       "        vertical-align: top;\n",
       "    }\n",
       "\n",
       "    .dataframe thead th {\n",
       "        text-align: right;\n",
       "    }\n",
       "</style>\n",
       "<table border=\"1\" class=\"dataframe\">\n",
       "  <thead>\n",
       "    <tr style=\"text-align: right;\">\n",
       "      <th></th>\n",
       "      <th>additional_number_of_scoring</th>\n",
       "      <th>average_score</th>\n",
       "      <th>review_total_negative_word_counts</th>\n",
       "      <th>total_number_of_reviews</th>\n",
       "      <th>review_total_positive_word_counts</th>\n",
       "      <th>total_number_of_reviews_reviewer_has_given</th>\n",
       "      <th>reviewer_score</th>\n",
       "      <th>lat</th>\n",
       "      <th>lng</th>\n",
       "    </tr>\n",
       "  </thead>\n",
       "  <tbody>\n",
       "    <tr>\n",
       "      <th>count</th>\n",
       "      <td>386803.000000</td>\n",
       "      <td>386803.000000</td>\n",
       "      <td>386803.000000</td>\n",
       "      <td>386803.000000</td>\n",
       "      <td>386803.000000</td>\n",
       "      <td>386803.00000</td>\n",
       "      <td>386803.000000</td>\n",
       "      <td>386803.000000</td>\n",
       "      <td>386803.000000</td>\n",
       "    </tr>\n",
       "    <tr>\n",
       "      <th>mean</th>\n",
       "      <td>498.246536</td>\n",
       "      <td>8.397231</td>\n",
       "      <td>18.538988</td>\n",
       "      <td>2743.992042</td>\n",
       "      <td>17.776985</td>\n",
       "      <td>7.17725</td>\n",
       "      <td>8.396906</td>\n",
       "      <td>49.433430</td>\n",
       "      <td>2.892393</td>\n",
       "    </tr>\n",
       "    <tr>\n",
       "      <th>std</th>\n",
       "      <td>500.258012</td>\n",
       "      <td>0.547881</td>\n",
       "      <td>29.703369</td>\n",
       "      <td>2316.457018</td>\n",
       "      <td>21.726141</td>\n",
       "      <td>11.05442</td>\n",
       "      <td>1.636090</td>\n",
       "      <td>3.460952</td>\n",
       "      <td>4.666227</td>\n",
       "    </tr>\n",
       "    <tr>\n",
       "      <th>min</th>\n",
       "      <td>1.000000</td>\n",
       "      <td>5.200000</td>\n",
       "      <td>0.000000</td>\n",
       "      <td>43.000000</td>\n",
       "      <td>0.000000</td>\n",
       "      <td>1.00000</td>\n",
       "      <td>2.500000</td>\n",
       "      <td>41.328376</td>\n",
       "      <td>-0.369758</td>\n",
       "    </tr>\n",
       "    <tr>\n",
       "      <th>25%</th>\n",
       "      <td>169.000000</td>\n",
       "      <td>8.100000</td>\n",
       "      <td>2.000000</td>\n",
       "      <td>1161.000000</td>\n",
       "      <td>5.000000</td>\n",
       "      <td>1.00000</td>\n",
       "      <td>7.500000</td>\n",
       "      <td>48.214066</td>\n",
       "      <td>-0.143372</td>\n",
       "    </tr>\n",
       "    <tr>\n",
       "      <th>50%</th>\n",
       "      <td>342.000000</td>\n",
       "      <td>8.400000</td>\n",
       "      <td>9.000000</td>\n",
       "      <td>2134.000000</td>\n",
       "      <td>11.000000</td>\n",
       "      <td>3.00000</td>\n",
       "      <td>8.800000</td>\n",
       "      <td>51.499981</td>\n",
       "      <td>0.019886</td>\n",
       "    </tr>\n",
       "    <tr>\n",
       "      <th>75%</th>\n",
       "      <td>660.000000</td>\n",
       "      <td>8.800000</td>\n",
       "      <td>23.000000</td>\n",
       "      <td>3613.000000</td>\n",
       "      <td>22.000000</td>\n",
       "      <td>8.00000</td>\n",
       "      <td>9.600000</td>\n",
       "      <td>51.516288</td>\n",
       "      <td>4.841163</td>\n",
       "    </tr>\n",
       "    <tr>\n",
       "      <th>max</th>\n",
       "      <td>2682.000000</td>\n",
       "      <td>9.800000</td>\n",
       "      <td>408.000000</td>\n",
       "      <td>16670.000000</td>\n",
       "      <td>395.000000</td>\n",
       "      <td>355.00000</td>\n",
       "      <td>10.000000</td>\n",
       "      <td>52.400181</td>\n",
       "      <td>16.445799</td>\n",
       "    </tr>\n",
       "  </tbody>\n",
       "</table>\n",
       "</div>"
      ],
      "text/plain": [
       "       additional_number_of_scoring  average_score  \\\n",
       "count                 386803.000000  386803.000000   \n",
       "mean                     498.246536       8.397231   \n",
       "std                      500.258012       0.547881   \n",
       "min                        1.000000       5.200000   \n",
       "25%                      169.000000       8.100000   \n",
       "50%                      342.000000       8.400000   \n",
       "75%                      660.000000       8.800000   \n",
       "max                     2682.000000       9.800000   \n",
       "\n",
       "       review_total_negative_word_counts  total_number_of_reviews  \\\n",
       "count                      386803.000000            386803.000000   \n",
       "mean                           18.538988              2743.992042   \n",
       "std                            29.703369              2316.457018   \n",
       "min                             0.000000                43.000000   \n",
       "25%                             2.000000              1161.000000   \n",
       "50%                             9.000000              2134.000000   \n",
       "75%                            23.000000              3613.000000   \n",
       "max                           408.000000             16670.000000   \n",
       "\n",
       "       review_total_positive_word_counts  \\\n",
       "count                      386803.000000   \n",
       "mean                           17.776985   \n",
       "std                            21.726141   \n",
       "min                             0.000000   \n",
       "25%                             5.000000   \n",
       "50%                            11.000000   \n",
       "75%                            22.000000   \n",
       "max                           395.000000   \n",
       "\n",
       "       total_number_of_reviews_reviewer_has_given  reviewer_score  \\\n",
       "count                                386803.00000   386803.000000   \n",
       "mean                                      7.17725        8.396906   \n",
       "std                                      11.05442        1.636090   \n",
       "min                                       1.00000        2.500000   \n",
       "25%                                       1.00000        7.500000   \n",
       "50%                                       3.00000        8.800000   \n",
       "75%                                       8.00000        9.600000   \n",
       "max                                     355.00000       10.000000   \n",
       "\n",
       "                 lat            lng  \n",
       "count  386803.000000  386803.000000  \n",
       "mean       49.433430       2.892393  \n",
       "std         3.460952       4.666227  \n",
       "min        41.328376      -0.369758  \n",
       "25%        48.214066      -0.143372  \n",
       "50%        51.499981       0.019886  \n",
       "75%        51.516288       4.841163  \n",
       "max        52.400181      16.445799  "
      ]
     },
     "execution_count": 23,
     "metadata": {},
     "output_type": "execute_result"
    }
   ],
   "source": [
    "# Использование метода describe()\n",
    "hotels_eda[mask_no_test].describe()"
   ]
  },
  {
   "cell_type": "markdown",
   "metadata": {},
   "source": [
    "### 2.4.1. распределение additional_number_of_scoring"
   ]
  },
  {
   "cell_type": "code",
   "execution_count": 24,
   "metadata": {},
   "outputs": [
    {
     "name": "stderr",
     "output_type": "stream",
     "text": [
      "/home/daria/anaconda3/lib/python3.9/site-packages/seaborn/_decorators.py:36: FutureWarning: Pass the following variable as a keyword arg: x. From version 0.12, the only valid positional argument will be `data`, and passing other arguments without an explicit keyword will result in an error or misinterpretation.\n",
      "  warnings.warn(\n"
     ]
    },
    {
     "data": {
      "text/plain": [
       "<AxesSubplot: xlabel='additional_number_of_scoring'>"
      ]
     },
     "execution_count": 24,
     "metadata": {},
     "output_type": "execute_result"
    },
    {
     "data": {
      "image/png": "[encoded data removed]",
      "text/plain": [
       "<Figure size 432x216 with 1 Axes>"
      ]
     },
     "metadata": {
      "needs_background": "light"
     },
     "output_type": "display_data"
    }
   ],
   "source": [
    "sns.set_theme()\n",
    "plt.rcParams['figure.figsize'] = (6,3)\n",
    "sns.boxplot(data=hotels_eda, x='additional_number_of_scoring')"
   ]
  },
  {
   "cell_type": "code",
   "execution_count": 25,
   "metadata": {},
   "outputs": [
    {
     "data": {
      "text/plain": [
       "<AxesSubplot: >"
      ]
     },
     "execution_count": 25,
     "metadata": {},
     "output_type": "execute_result"
    },
    {
     "data": {
      "image/png": "[encoded data removed]",
      "text/plain": [
       "<Figure size 432x216 with 1 Axes>"
      ]
     },
     "metadata": {
      "needs_background": "light"
     },
     "output_type": "display_data"
    }
   ],
   "source": [
    "# посмотрим как нормализует переменную логарифмирование\n",
    "np.log(hotels_eda.additional_number_of_scoring).hist(bins = 100)"
   ]
  },
  {
   "cell_type": "code",
   "execution_count": 26,
   "metadata": {},
   "outputs": [
    {
     "data": {
      "text/plain": [
       "<AxesSubplot: xlabel='additional_number_of_scoring', ylabel='reviewer_score'>"
      ]
     },
     "execution_count": 26,
     "metadata": {},
     "output_type": "execute_result"
    },
    {
     "data": {
      "image/png": "[encoded data removed]",
      "text/plain": [
       "<Figure size 432x216 with 1 Axes>"
      ]
     },
     "metadata": {
      "needs_background": "light"
     },
     "output_type": "display_data"
    }
   ],
   "source": [
    "#  ну и заодно глянем на диаграмму рассеивания\n",
    "hotels_eda[mask_no_test].plot(x='additional_number_of_scoring', y='reviewer_score', kind='scatter')"
   ]
  },
  {
   "cell_type": "markdown",
   "metadata": {},
   "source": [
    "### 2.4.2. распределение average_score"
   ]
  },
  {
   "cell_type": "code",
   "execution_count": 27,
   "metadata": {},
   "outputs": [
    {
     "name": "stderr",
     "output_type": "stream",
     "text": [
      "/home/daria/anaconda3/lib/python3.9/site-packages/seaborn/_decorators.py:36: FutureWarning: Pass the following variable as a keyword arg: x. From version 0.12, the only valid positional argument will be `data`, and passing other arguments without an explicit keyword will result in an error or misinterpretation.\n",
      "  warnings.warn(\n"
     ]
    },
    {
     "data": {
      "text/plain": [
       "<AxesSubplot: xlabel='average_score'>"
      ]
     },
     "execution_count": 27,
     "metadata": {},
     "output_type": "execute_result"
    },
    {
     "data": {
      "image/png": "[encoded data removed]",
      "text/plain": [
       "<Figure size 432x216 with 1 Axes>"
      ]
     },
     "metadata": {
      "needs_background": "light"
     },
     "output_type": "display_data"
    }
   ],
   "source": [
    "plt.rcParams['figure.figsize'] = (6,3)\n",
    "sns.boxplot(data=hotels_eda, x='average_score')"
   ]
  },
  {
   "cell_type": "code",
   "execution_count": 28,
   "metadata": {},
   "outputs": [
    {
     "data": {
      "text/plain": [
       "<AxesSubplot: >"
      ]
     },
     "execution_count": 28,
     "metadata": {},
     "output_type": "execute_result"
    },
    {
     "data": {
      "image/png": "[encoded data removed]",
      "text/plain": [
       "<Figure size 432x216 with 1 Axes>"
      ]
     },
     "metadata": {
      "needs_background": "light"
     },
     "output_type": "display_data"
    }
   ],
   "source": [
    "hotels_eda.average_score.hist(bins = 34)"
   ]
  },
  {
   "cell_type": "code",
   "execution_count": 29,
   "metadata": {},
   "outputs": [
    {
     "data": {
      "text/plain": [
       "<AxesSubplot: xlabel='average_score', ylabel='reviewer_score'>"
      ]
     },
     "execution_count": 29,
     "metadata": {},
     "output_type": "execute_result"
    },
    {
     "data": {
      "image/png": "[encoded data removed]",
      "text/plain": [
       "<Figure size 432x216 with 1 Axes>"
      ]
     },
     "metadata": {
      "needs_background": "light"
     },
     "output_type": "display_data"
    }
   ],
   "source": [
    "# диаграмма рассеивания\n",
    "hotels_eda[mask_no_test].plot(x='average_score', y='reviewer_score', kind='scatter')"
   ]
  },
  {
   "cell_type": "markdown",
   "metadata": {},
   "source": [
    "### 2.4.3. распределение review_total_negative_word_counts"
   ]
  },
  {
   "cell_type": "code",
   "execution_count": 30,
   "metadata": {},
   "outputs": [
    {
     "name": "stdout",
     "output_type": "stream",
     "text": [
      "0      127890\n",
      "2       24647\n",
      "3       18144\n",
      "6       17749\n",
      "5       16809\n",
      "        ...  \n",
      "400         1\n",
      "331         1\n",
      "398         1\n",
      "408         1\n",
      "401         1\n",
      "Name: review_total_negative_word_counts, Length: 402, dtype: int64\n"
     ]
    },
    {
     "name": "stderr",
     "output_type": "stream",
     "text": [
      "/home/daria/anaconda3/lib/python3.9/site-packages/seaborn/_decorators.py:36: FutureWarning: Pass the following variable as a keyword arg: x. From version 0.12, the only valid positional argument will be `data`, and passing other arguments without an explicit keyword will result in an error or misinterpretation.\n",
      "  warnings.warn(\n"
     ]
    },
    {
     "data": {
      "text/plain": [
       "<AxesSubplot: xlabel='review_total_negative_word_counts'>"
      ]
     },
     "execution_count": 30,
     "metadata": {},
     "output_type": "execute_result"
    },
    {
     "data": {
      "image/png": "[encoded data removed]",
      "text/plain": [
       "<Figure size 432x216 with 1 Axes>"
      ]
     },
     "metadata": {
      "needs_background": "light"
     },
     "output_type": "display_data"
    }
   ],
   "source": [
    "print(hotels_eda.review_total_negative_word_counts.value_counts())\n",
    "plt.rcParams['figure.figsize'] = (6,3)\n",
    "sns.boxplot(data=hotels_eda, x='review_total_negative_word_counts')"
   ]
  },
  {
   "cell_type": "code",
   "execution_count": 31,
   "metadata": {},
   "outputs": [
    {
     "data": {
      "text/plain": [
       "<AxesSubplot: >"
      ]
     },
     "execution_count": 31,
     "metadata": {},
     "output_type": "execute_result"
    },
    {
     "data": {
      "image/png": "[encoded data removed]",
      "text/plain": [
       "<Figure size 432x216 with 1 Axes>"
      ]
     },
     "metadata": {
      "needs_background": "light"
     },
     "output_type": "display_data"
    }
   ],
   "source": [
    "mask_many_negative = hotels_eda.review_total_negative_word_counts > 50\n",
    "hotels_eda[mask_many_negative].review_total_negative_word_counts.hist(bins = 100)"
   ]
  },
  {
   "cell_type": "code",
   "execution_count": 33,
   "metadata": {},
   "outputs": [
    {
     "data": {
      "text/plain": [
       "<AxesSubplot: >"
      ]
     },
     "execution_count": 33,
     "metadata": {},
     "output_type": "execute_result"
    },
    {
     "data": {
      "image/png": "[encoded data removed]",
      "text/plain": [
       "<Figure size 432x216 with 1 Axes>"
      ]
     },
     "metadata": {
      "needs_background": "light"
     },
     "output_type": "display_data"
    }
   ],
   "source": [
    "# посмотрю на распределение без нулевых и многословных отзывов\n",
    "mask_no_zero = hotels_eda.review_total_negative_word_counts > 0\n",
    "mask_normal_negative = hotels_eda.review_total_negative_word_counts < 50\n",
    "hotels_eda[mask_no_zero & mask_normal_negative].review_total_negative_word_counts.hist(bins = 50)"
   ]
  },
  {
   "cell_type": "code",
   "execution_count": 34,
   "metadata": {},
   "outputs": [
    {
     "name": "stdout",
     "output_type": "stream",
     "text": [
      "<class 'pandas.core.series.Series'>\n",
      "Int64Index: 127890 entries, 3 to 128933\n",
      "Series name: review_total_negative_word_counts\n",
      "Non-Null Count   Dtype\n",
      "--------------   -----\n",
      "127890 non-null  int64\n",
      "dtypes: int64(1)\n",
      "memory usage: 2.0 MB\n"
     ]
    }
   ],
   "source": [
    "# посмотрю сколько вообще нулевых значений\n",
    "mask_zero_negativ = hotels_eda.review_total_negative_word_counts == 0\n",
    "hotels_eda[mask_zero_negativ].review_total_negative_word_counts.info()"
   ]
  },
  {
   "cell_type": "code",
   "execution_count": 35,
   "metadata": {},
   "outputs": [
    {
     "data": {
      "text/plain": [
       "<AxesSubplot: xlabel='review_total_negative_word_counts', ylabel='reviewer_score'>"
      ]
     },
     "execution_count": 35,
     "metadata": {},
     "output_type": "execute_result"
    },
    {
     "data": {
      "image/png": "[encoded data removed]",
      "text/plain": [
       "<Figure size 432x216 with 1 Axes>"
      ]
     },
     "metadata": {
      "needs_background": "light"
     },
     "output_type": "display_data"
    }
   ],
   "source": [
    "# диаграмма рассеивания\n",
    "hotels_eda[mask_no_test].plot(x='review_total_negative_word_counts', y='reviewer_score', kind='scatter')"
   ]
  },
  {
   "cell_type": "markdown",
   "metadata": {},
   "source": [
    "### 2.4.4. распределение total_number_of_reviews"
   ]
  },
  {
   "cell_type": "code",
   "execution_count": 36,
   "metadata": {},
   "outputs": [
    {
     "name": "stderr",
     "output_type": "stream",
     "text": [
      "/home/daria/anaconda3/lib/python3.9/site-packages/seaborn/_decorators.py:36: FutureWarning: Pass the following variable as a keyword arg: x. From version 0.12, the only valid positional argument will be `data`, and passing other arguments without an explicit keyword will result in an error or misinterpretation.\n",
      "  warnings.warn(\n"
     ]
    },
    {
     "data": {
      "text/plain": [
       "<AxesSubplot: xlabel='total_number_of_reviews'>"
      ]
     },
     "execution_count": 36,
     "metadata": {},
     "output_type": "execute_result"
    },
    {
     "data": {
      "image/png": "[encoded data removed]",
      "text/plain": [
       "<Figure size 432x216 with 1 Axes>"
      ]
     },
     "metadata": {
      "needs_background": "light"
     },
     "output_type": "display_data"
    }
   ],
   "source": [
    "plt.rcParams['figure.figsize'] = (6,3)\n",
    "sns.boxplot(data=hotels_eda, x='total_number_of_reviews')"
   ]
  },
  {
   "cell_type": "code",
   "execution_count": 37,
   "metadata": {},
   "outputs": [
    {
     "data": {
      "text/plain": [
       "<AxesSubplot: >"
      ]
     },
     "execution_count": 37,
     "metadata": {},
     "output_type": "execute_result"
    },
    {
     "data": {
      "image/png": "[encoded data removed]",
      "text/plain": [
       "<Figure size 432x216 with 1 Axes>"
      ]
     },
     "metadata": {
      "needs_background": "light"
     },
     "output_type": "display_data"
    }
   ],
   "source": [
    "# посмотрим как нормализует переменную логарифмирование\n",
    "np.log(hotels_eda.total_number_of_reviews).hist(bins = 100)"
   ]
  },
  {
   "cell_type": "code",
   "execution_count": 38,
   "metadata": {},
   "outputs": [
    {
     "data": {
      "text/plain": [
       "<AxesSubplot: xlabel='total_number_of_reviews', ylabel='reviewer_score'>"
      ]
     },
     "execution_count": 38,
     "metadata": {},
     "output_type": "execute_result"
    },
    {
     "data": {
      "image/png": "[encoded data removed]",
      "text/plain": [
       "<Figure size 432x216 with 1 Axes>"
      ]
     },
     "metadata": {
      "needs_background": "light"
     },
     "output_type": "display_data"
    }
   ],
   "source": [
    "# диаграмма рассеивания\n",
    "hotels_eda[mask_no_test].plot(x='total_number_of_reviews', y='reviewer_score', kind='scatter')"
   ]
  },
  {
   "cell_type": "markdown",
   "metadata": {},
   "source": [
    "### 2.4.5. распределение review_total_positive_word_counts"
   ]
  },
  {
   "cell_type": "code",
   "execution_count": 39,
   "metadata": {},
   "outputs": [
    {
     "name": "stderr",
     "output_type": "stream",
     "text": [
      "/home/daria/anaconda3/lib/python3.9/site-packages/seaborn/_decorators.py:36: FutureWarning: Pass the following variable as a keyword arg: x. From version 0.12, the only valid positional argument will be `data`, and passing other arguments without an explicit keyword will result in an error or misinterpretation.\n",
      "  warnings.warn(\n"
     ]
    },
    {
     "data": {
      "text/plain": [
       "<AxesSubplot: xlabel='review_total_positive_word_counts'>"
      ]
     },
     "execution_count": 39,
     "metadata": {},
     "output_type": "execute_result"
    },
    {
     "data": {
      "image/png": "[encoded data removed]",
      "text/plain": [
       "<Figure size 432x216 with 1 Axes>"
      ]
     },
     "metadata": {
      "needs_background": "light"
     },
     "output_type": "display_data"
    }
   ],
   "source": [
    "plt.rcParams['figure.figsize'] = (6,3)\n",
    "sns.boxplot(data=hotels_eda, x='review_total_positive_word_counts')"
   ]
  },
  {
   "cell_type": "code",
   "execution_count": 40,
   "metadata": {},
   "outputs": [
    {
     "data": {
      "text/plain": [
       "<AxesSubplot: >"
      ]
     },
     "execution_count": 40,
     "metadata": {},
     "output_type": "execute_result"
    },
    {
     "data": {
      "image/png": "[encoded data removed]",
      "text/plain": [
       "<Figure size 432x216 with 1 Axes>"
      ]
     },
     "metadata": {
      "needs_background": "light"
     },
     "output_type": "display_data"
    }
   ],
   "source": [
    "np.log(hotels_eda.review_total_positive_word_counts+1).hist(bins=100)"
   ]
  },
  {
   "cell_type": "markdown",
   "metadata": {},
   "source": [
    "интересненько, картина похожая с негативными словами, как будто 3 группы наложенных распределений - нулевые, до 50 слов и более 50 слов"
   ]
  },
  {
   "cell_type": "code",
   "execution_count": 41,
   "metadata": {},
   "outputs": [
    {
     "data": {
      "text/plain": [
       "<AxesSubplot: xlabel='review_total_positive_word_counts', ylabel='reviewer_score'>"
      ]
     },
     "execution_count": 41,
     "metadata": {},
     "output_type": "execute_result"
    },
    {
     "data": {
      "image/png": "[encoded data removed]",
      "text/plain": [
       "<Figure size 432x216 with 1 Axes>"
      ]
     },
     "metadata": {
      "needs_background": "light"
     },
     "output_type": "display_data"
    }
   ],
   "source": [
    "# диаграмма рассеивания\n",
    "hotels_eda[mask_no_test].plot(x='review_total_positive_word_counts', y='reviewer_score', kind='scatter')"
   ]
  },
  {
   "cell_type": "markdown",
   "metadata": {},
   "source": [
    "### 2.4.6. распределение total_number_of_reviews_reviewer_has_given"
   ]
  },
  {
   "cell_type": "code",
   "execution_count": 42,
   "metadata": {},
   "outputs": [
    {
     "name": "stderr",
     "output_type": "stream",
     "text": [
      "/home/daria/anaconda3/lib/python3.9/site-packages/seaborn/_decorators.py:36: FutureWarning: Pass the following variable as a keyword arg: x. From version 0.12, the only valid positional argument will be `data`, and passing other arguments without an explicit keyword will result in an error or misinterpretation.\n",
      "  warnings.warn(\n"
     ]
    },
    {
     "data": {
      "text/plain": [
       "<AxesSubplot: xlabel='total_number_of_reviews_reviewer_has_given'>"
      ]
     },
     "execution_count": 42,
     "metadata": {},
     "output_type": "execute_result"
    },
    {
     "data": {
      "image/png": "[encoded data removed]",
      "text/plain": [
       "<Figure size 720x144 with 1 Axes>"
      ]
     },
     "metadata": {
      "needs_background": "light"
     },
     "output_type": "display_data"
    }
   ],
   "source": [
    "plt.rcParams['figure.figsize'] = (10,2)\n",
    "sns.boxplot(data=hotels_eda, x='total_number_of_reviews_reviewer_has_given')"
   ]
  },
  {
   "cell_type": "code",
   "execution_count": 43,
   "metadata": {},
   "outputs": [
    {
     "data": {
      "text/plain": [
       "<AxesSubplot: >"
      ]
     },
     "execution_count": 43,
     "metadata": {},
     "output_type": "execute_result"
    },
    {
     "data": {
      "image/png": "[encoded data removed]",
      "text/plain": [
       "<Figure size 432x216 with 1 Axes>"
      ]
     },
     "metadata": {
      "needs_background": "light"
     },
     "output_type": "display_data"
    }
   ],
   "source": [
    "# посмотрим как нормализует переменную логарифмирование\n",
    "plt.rcParams['figure.figsize'] = (6,3)\n",
    "np.log(hotels_eda.total_number_of_reviews_reviewer_has_given).hist(bins = 60)"
   ]
  },
  {
   "cell_type": "code",
   "execution_count": 44,
   "metadata": {},
   "outputs": [
    {
     "data": {
      "text/plain": [
       "<AxesSubplot: xlabel='total_number_of_reviews_reviewer_has_given', ylabel='reviewer_score'>"
      ]
     },
     "execution_count": 44,
     "metadata": {},
     "output_type": "execute_result"
    },
    {
     "data": {
      "image/png": "[encoded data removed]",
      "text/plain": [
       "<Figure size 432x216 with 1 Axes>"
      ]
     },
     "metadata": {
      "needs_background": "light"
     },
     "output_type": "display_data"
    }
   ],
   "source": [
    "# диаграмма рассеивания\n",
    "hotels_eda[mask_no_test].plot(x='total_number_of_reviews_reviewer_has_given', \n",
    "                              y='reviewer_score', kind='scatter')"
   ]
  },
  {
   "cell_type": "markdown",
   "metadata": {},
   "source": [
    "## 2.5. Feature engineering"
   ]
  },
  {
   "cell_type": "markdown",
   "metadata": {},
   "source": [
    "### 2.5.1. Добавим признак расстояние до Парижа"
   ]
  },
  {
   "cell_type": "code",
   "execution_count": 45,
   "metadata": {},
   "outputs": [
    {
     "name": "stdout",
     "output_type": "stream",
     "text": [
      "count    515738.000000\n",
      "mean        444.054477\n",
      "std         272.075164\n",
      "min           0.000000\n",
      "25%         343.000000\n",
      "50%         346.000000\n",
      "75%         638.000000\n",
      "max        1040.000000\n",
      "Name: distance, dtype: float64\n"
     ]
    },
    {
     "data": {
      "text/html": [
       "<div>\n",
       "<style scoped>\n",
       "    .dataframe tbody tr th:only-of-type {\n",
       "        vertical-align: middle;\n",
       "    }\n",
       "\n",
       "    .dataframe tbody tr th {\n",
       "        vertical-align: top;\n",
       "    }\n",
       "\n",
       "    .dataframe thead th {\n",
       "        text-align: right;\n",
       "    }\n",
       "</style>\n",
       "<table border=\"1\" class=\"dataframe\">\n",
       "  <thead>\n",
       "    <tr style=\"text-align: right;\">\n",
       "      <th></th>\n",
       "      <th>hotel_address</th>\n",
       "      <th>additional_number_of_scoring</th>\n",
       "      <th>review_date</th>\n",
       "      <th>average_score</th>\n",
       "      <th>hotel_name</th>\n",
       "      <th>reviewer_nationality</th>\n",
       "      <th>negative_review</th>\n",
       "      <th>review_total_negative_word_counts</th>\n",
       "      <th>total_number_of_reviews</th>\n",
       "      <th>positive_review</th>\n",
       "      <th>review_total_positive_word_counts</th>\n",
       "      <th>total_number_of_reviews_reviewer_has_given</th>\n",
       "      <th>reviewer_score</th>\n",
       "      <th>tags</th>\n",
       "      <th>days_since_review</th>\n",
       "      <th>distance</th>\n",
       "    </tr>\n",
       "  </thead>\n",
       "  <tbody>\n",
       "    <tr>\n",
       "      <th>1580</th>\n",
       "      <td>31 St Thomas Street Southwark London SE1 9QU U...</td>\n",
       "      <td>732</td>\n",
       "      <td>6/23/2017</td>\n",
       "      <td>9.4</td>\n",
       "      <td>Shangri La Hotel at The Shard London</td>\n",
       "      <td>United Kingdom</td>\n",
       "      <td>I didn t like the bathroom because it was for...</td>\n",
       "      <td>40</td>\n",
       "      <td>2200</td>\n",
       "      <td>Stanning hotel beautfull room with must an am...</td>\n",
       "      <td>11</td>\n",
       "      <td>3</td>\n",
       "      <td>-1.0</td>\n",
       "      <td>[' Leisure trip ', ' Couple ', ' Superior Shar...</td>\n",
       "      <td>41 days</td>\n",
       "      <td>342</td>\n",
       "    </tr>\n",
       "    <tr>\n",
       "      <th>74808</th>\n",
       "      <td>21 rue de Dunkerque 10th arr 75010 Paris France</td>\n",
       "      <td>740</td>\n",
       "      <td>2/9/2017</td>\n",
       "      <td>7.4</td>\n",
       "      <td>Mercure Paris Terminus Nord</td>\n",
       "      <td>United Kingdom</td>\n",
       "      <td>Almost everything rooms smelled of smoke so o...</td>\n",
       "      <td>115</td>\n",
       "      <td>5575</td>\n",
       "      <td>Nothing it was abismal</td>\n",
       "      <td>5</td>\n",
       "      <td>1</td>\n",
       "      <td>-1.0</td>\n",
       "      <td>[' Leisure trip ', ' Solo traveler ', ' Standa...</td>\n",
       "      <td>175 day</td>\n",
       "      <td>3</td>\n",
       "    </tr>\n",
       "  </tbody>\n",
       "</table>\n",
       "</div>"
      ],
      "text/plain": [
       "                                           hotel_address  \\\n",
       "1580   31 St Thomas Street Southwark London SE1 9QU U...   \n",
       "74808    21 rue de Dunkerque 10th arr 75010 Paris France   \n",
       "\n",
       "       additional_number_of_scoring review_date  average_score  \\\n",
       "1580                            732   6/23/2017            9.4   \n",
       "74808                           740    2/9/2017            7.4   \n",
       "\n",
       "                                 hotel_name reviewer_nationality  \\\n",
       "1580   Shangri La Hotel at The Shard London      United Kingdom    \n",
       "74808           Mercure Paris Terminus Nord      United Kingdom    \n",
       "\n",
       "                                         negative_review  \\\n",
       "1580    I didn t like the bathroom because it was for...   \n",
       "74808   Almost everything rooms smelled of smoke so o...   \n",
       "\n",
       "       review_total_negative_word_counts  total_number_of_reviews  \\\n",
       "1580                                  40                     2200   \n",
       "74808                                115                     5575   \n",
       "\n",
       "                                         positive_review  \\\n",
       "1580    Stanning hotel beautfull room with must an am...   \n",
       "74808                             Nothing it was abismal   \n",
       "\n",
       "       review_total_positive_word_counts  \\\n",
       "1580                                  11   \n",
       "74808                                  5   \n",
       "\n",
       "       total_number_of_reviews_reviewer_has_given  reviewer_score  \\\n",
       "1580                                            3            -1.0   \n",
       "74808                                           1            -1.0   \n",
       "\n",
       "                                                    tags days_since_review  \\\n",
       "1580   [' Leisure trip ', ' Couple ', ' Superior Shar...           41 days   \n",
       "74808  [' Leisure trip ', ' Solo traveler ', ' Standa...           175 day   \n",
       "\n",
       "       distance  \n",
       "1580        342  \n",
       "74808         3  "
      ]
     },
     "execution_count": 45,
     "metadata": {},
     "output_type": "execute_result"
    }
   ],
   "source": [
    "fe_data = hotels_eda.copy()\n",
    "fe_data['distance'] = fe_data.apply(lambda row: \n",
    "                                      haversine(lon1, \n",
    "                                                lat1,\n",
    "                                                lon2 = row['lng'], \n",
    "                                                lat2 = row['lat']), \n",
    "                                      axis=1)\n",
    "# по сути признак с расстоянием описывает наши координаты, можем исходные широты/долготы удалить\n",
    "fe_data.drop(['lat', 'lng'], axis=1, inplace=True)\n",
    "print(fe_data['distance'].describe())\n",
    "fe_data.sample(2)"
   ]
  },
  {
   "cell_type": "code",
   "execution_count": 46,
   "metadata": {},
   "outputs": [
    {
     "data": {
      "text/plain": [
       "72"
      ]
     },
     "execution_count": 46,
     "metadata": {},
     "output_type": "execute_result"
    }
   ],
   "source": [
    "fe_data.distance.nunique()"
   ]
  },
  {
   "cell_type": "code",
   "execution_count": 47,
   "metadata": {},
   "outputs": [
    {
     "data": {
      "text/plain": [
       "array([ 344,  345,    2,    5,  430,  645, 1032,  347,  828,  829,  831,\n",
       "        343,  352,    3, 1034,  830,  427,  428,  346,  425,  342,  339,\n",
       "        639,    4,  429,  832, 1033,  431,  432,    0,  354,  637,  337,\n",
       "        350,  426,  338,  340, 1028,    1, 1031,  349,  640,  641,  353,\n",
       "        424,  348,  632,  433, 1030, 1029, 1036,  826,  644,  341,  634,\n",
       "       1038,  351,    6,  638,  636, 1035,  837,  825,  635, 1037,  642,\n",
       "        356, 1040,    7,  827, 1027,  633])"
      ]
     },
     "execution_count": 47,
     "metadata": {},
     "output_type": "execute_result"
    }
   ],
   "source": [
    "fe_data.distance.unique()"
   ]
  },
  {
   "cell_type": "markdown",
   "metadata": {},
   "source": [
    "Как видим, весь наш большой датасет сводится к 72 локациям, как раз не далее 1040км от Парижа"
   ]
  },
  {
   "cell_type": "markdown",
   "metadata": {},
   "source": [
    "### 2.5.2. Поработаем с датами"
   ]
  },
  {
   "cell_type": "code",
   "execution_count": 48,
   "metadata": {},
   "outputs": [
    {
     "name": "stderr",
     "output_type": "stream",
     "text": [
      "/tmp/ipykernel_28508/1046290459.py:8: FutureWarning: The default value of regex will change from True to False in a future version.\n",
      "  fe_data['days_since_review'] = pd.to_numeric(fe_data['days_since_review'].str.replace('\\D', ''), errors='coerce')\n"
     ]
    },
    {
     "name": "stdout",
     "output_type": "stream",
     "text": [
      "<class 'pandas.core.frame.DataFrame'>\n",
      "Int64Index: 515738 entries, 0 to 128934\n",
      "Data columns (total 20 columns):\n",
      " #   Column                                      Non-Null Count   Dtype  \n",
      "---  ------                                      --------------   -----  \n",
      " 0   hotel_address                               515738 non-null  object \n",
      " 1   additional_number_of_scoring                515738 non-null  int64  \n",
      " 2   average_score                               515738 non-null  float64\n",
      " 3   hotel_name                                  515738 non-null  object \n",
      " 4   reviewer_nationality                        515738 non-null  object \n",
      " 5   negative_review                             515738 non-null  object \n",
      " 6   review_total_negative_word_counts           515738 non-null  int64  \n",
      " 7   total_number_of_reviews                     515738 non-null  int64  \n",
      " 8   positive_review                             515738 non-null  object \n",
      " 9   review_total_positive_word_counts           515738 non-null  int64  \n",
      " 10  total_number_of_reviews_reviewer_has_given  515738 non-null  int64  \n",
      " 11  reviewer_score                              515738 non-null  float64\n",
      " 12  tags                                        515738 non-null  object \n",
      " 13  days_since_review                           515738 non-null  int64  \n",
      " 14  lat                                         515738 non-null  float64\n",
      " 15  lng                                         515738 non-null  float64\n",
      " 16  date_diff                                   515738 non-null  int64  \n",
      " 17  is_weekend                                  515738 non-null  int64  \n",
      " 18  wd                                          515738 non-null  int64  \n",
      " 19  md                                          515738 non-null  int64  \n",
      "dtypes: float64(4), int64(10), object(6)\n",
      "memory usage: 82.6+ MB\n",
      "None\n"
     ]
    },
    {
     "data": {
      "text/html": [
       "<div>\n",
       "<style scoped>\n",
       "    .dataframe tbody tr th:only-of-type {\n",
       "        vertical-align: middle;\n",
       "    }\n",
       "\n",
       "    .dataframe tbody tr th {\n",
       "        vertical-align: top;\n",
       "    }\n",
       "\n",
       "    .dataframe thead th {\n",
       "        text-align: right;\n",
       "    }\n",
       "</style>\n",
       "<table border=\"1\" class=\"dataframe\">\n",
       "  <thead>\n",
       "    <tr style=\"text-align: right;\">\n",
       "      <th></th>\n",
       "      <th>hotel_address</th>\n",
       "      <th>additional_number_of_scoring</th>\n",
       "      <th>average_score</th>\n",
       "      <th>hotel_name</th>\n",
       "      <th>reviewer_nationality</th>\n",
       "      <th>negative_review</th>\n",
       "      <th>review_total_negative_word_counts</th>\n",
       "      <th>total_number_of_reviews</th>\n",
       "      <th>positive_review</th>\n",
       "      <th>review_total_positive_word_counts</th>\n",
       "      <th>total_number_of_reviews_reviewer_has_given</th>\n",
       "      <th>reviewer_score</th>\n",
       "      <th>tags</th>\n",
       "      <th>days_since_review</th>\n",
       "      <th>lat</th>\n",
       "      <th>lng</th>\n",
       "      <th>date_diff</th>\n",
       "      <th>is_weekend</th>\n",
       "      <th>wd</th>\n",
       "      <th>md</th>\n",
       "    </tr>\n",
       "  </thead>\n",
       "  <tbody>\n",
       "    <tr>\n",
       "      <th>47739</th>\n",
       "      <td>Damrak 96 Amsterdam City Center 1012 LP Amster...</td>\n",
       "      <td>451</td>\n",
       "      <td>8.5</td>\n",
       "      <td>Swiss tel Amsterdam</td>\n",
       "      <td>Indonesia</td>\n",
       "      <td>no parking</td>\n",
       "      <td>3</td>\n",
       "      <td>2756</td>\n",
       "      <td>location</td>\n",
       "      <td>2</td>\n",
       "      <td>4</td>\n",
       "      <td>8.3</td>\n",
       "      <td>[' Leisure trip ', ' Family with older childre...</td>\n",
       "      <td>403</td>\n",
       "      <td>52.373527</td>\n",
       "      <td>4.893304</td>\n",
       "      <td>729</td>\n",
       "      <td>1</td>\n",
       "      <td>6</td>\n",
       "      <td>6</td>\n",
       "    </tr>\n",
       "    <tr>\n",
       "      <th>42450</th>\n",
       "      <td>Vondelstraat 18 30 Oud West 1054 GE Amsterdam ...</td>\n",
       "      <td>248</td>\n",
       "      <td>8.0</td>\n",
       "      <td>Hotel Vondel Amsterdam</td>\n",
       "      <td>Ireland</td>\n",
       "      <td>For a business traveler not the best hotel Wi...</td>\n",
       "      <td>56</td>\n",
       "      <td>1952</td>\n",
       "      <td>Location was OK</td>\n",
       "      <td>4</td>\n",
       "      <td>4</td>\n",
       "      <td>4.6</td>\n",
       "      <td>[' Business trip ', ' Solo traveler ', ' Soute...</td>\n",
       "      <td>233</td>\n",
       "      <td>52.362566</td>\n",
       "      <td>4.877923</td>\n",
       "      <td>729</td>\n",
       "      <td>0</td>\n",
       "      <td>1</td>\n",
       "      <td>12</td>\n",
       "    </tr>\n",
       "  </tbody>\n",
       "</table>\n",
       "</div>"
      ],
      "text/plain": [
       "                                           hotel_address  \\\n",
       "47739  Damrak 96 Amsterdam City Center 1012 LP Amster...   \n",
       "42450  Vondelstraat 18 30 Oud West 1054 GE Amsterdam ...   \n",
       "\n",
       "       additional_number_of_scoring  average_score              hotel_name  \\\n",
       "47739                           451            8.5     Swiss tel Amsterdam   \n",
       "42450                           248            8.0  Hotel Vondel Amsterdam   \n",
       "\n",
       "      reviewer_nationality                                    negative_review  \\\n",
       "47739           Indonesia                                          no parking   \n",
       "42450             Ireland    For a business traveler not the best hotel Wi...   \n",
       "\n",
       "       review_total_negative_word_counts  total_number_of_reviews  \\\n",
       "47739                                  3                     2756   \n",
       "42450                                 56                     1952   \n",
       "\n",
       "        positive_review  review_total_positive_word_counts  \\\n",
       "47739          location                                  2   \n",
       "42450   Location was OK                                  4   \n",
       "\n",
       "       total_number_of_reviews_reviewer_has_given  reviewer_score  \\\n",
       "47739                                           4             8.3   \n",
       "42450                                           4             4.6   \n",
       "\n",
       "                                                    tags  days_since_review  \\\n",
       "47739  [' Leisure trip ', ' Family with older childre...                403   \n",
       "42450  [' Business trip ', ' Solo traveler ', ' Soute...                233   \n",
       "\n",
       "             lat       lng  date_diff  is_weekend  wd  md  \n",
       "47739  52.373527  4.893304        729           1   6   6  \n",
       "42450  52.362566  4.877923        729           0   1  12  "
      ]
     },
     "execution_count": 48,
     "metadata": {},
     "output_type": "execute_result"
    }
   ],
   "source": [
    "fe_data = hotels_eda.copy()\n",
    "# преобразуем тип признака с датой\n",
    "fe_data.review_date =  pd.to_datetime(fe_data.review_date)\n",
    "# создам признак с периодом между самым новым и самым старым отзывом по адресу отеля\n",
    "grp_name = fe_data.groupby(['hotel_address']).review_date.max() - fe_data.groupby(['hotel_address']).review_date.min()\n",
    "fe_data['date_diff'] = fe_data.hotel_address.apply(lambda x: grp_name[x]).dt.days\n",
    "# преобразуем признак days_since_review в числовой\n",
    "fe_data['days_since_review'] = pd.to_numeric(fe_data['days_since_review'].str.replace('\\D', ''), errors='coerce')\n",
    "# выделю из даты отзыва является ли выходным днем\n",
    "fe_data['is_weekend'] = fe_data.review_date.dt.weekday.apply(lambda x: 1 if x > 4 else 0)\n",
    "# выделю из даты отзыва день недели\n",
    "fe_data['wd'] = fe_data.review_date.dt.weekday\n",
    "# выделю из даты отзыва число месяца\n",
    "fe_data['md'] = fe_data.review_date.dt.month\n",
    "# удалю дату отзыва\n",
    "fe_data.drop('review_date', axis=1, inplace=True)\n",
    "print(fe_data.info())\n",
    "fe_data.sample(2)"
   ]
  },
  {
   "cell_type": "markdown",
   "metadata": {},
   "source": [
    "Посмотрю распределения синтезированных признаков"
   ]
  },
  {
   "cell_type": "code",
   "execution_count": 49,
   "metadata": {},
   "outputs": [
    {
     "data": {
      "text/plain": [
       "<AxesSubplot: >"
      ]
     },
     "execution_count": 49,
     "metadata": {},
     "output_type": "execute_result"
    },
    {
     "data": {
      "image/png": "[encoded data removed]",
      "text/plain": [
       "<Figure size 432x216 with 1 Axes>"
      ]
     },
     "metadata": {
      "needs_background": "light"
     },
     "output_type": "display_data"
    }
   ],
   "source": [
    "# количество дней после отзыва\n",
    "fe_data.days_since_review.hist(bins=100)"
   ]
  },
  {
   "cell_type": "code",
   "execution_count": 50,
   "metadata": {},
   "outputs": [
    {
     "data": {
      "text/plain": [
       "730    243437\n",
       "729     70784\n",
       "728     41749\n",
       "727     19780\n",
       "725     14283\n",
       "        ...  \n",
       "95         13\n",
       "366        13\n",
       "87         12\n",
       "555        12\n",
       "352        10\n",
       "Name: date_diff, Length: 232, dtype: int64"
      ]
     },
     "execution_count": 50,
     "metadata": {},
     "output_type": "execute_result"
    }
   ],
   "source": [
    "fe_data.date_diff.value_counts()"
   ]
  },
  {
   "cell_type": "code",
   "execution_count": 51,
   "metadata": {},
   "outputs": [
    {
     "data": {
      "text/plain": [
       "<AxesSubplot: >"
      ]
     },
     "execution_count": 51,
     "metadata": {},
     "output_type": "execute_result"
    },
    {
     "data": {
      "image/png": "[encoded data removed]",
      "text/plain": [
       "<Figure size 432x216 with 1 Axes>"
      ]
     },
     "metadata": {
      "needs_background": "light"
     },
     "output_type": "display_data"
    }
   ],
   "source": [
    "# менее 700 дней между самым старым и свежим отзывами по отношению к адресу\n",
    "mask_1 = fe_data.date_diff < 700\n",
    "fe_data[mask_1].date_diff.hist(bins=100)"
   ]
  },
  {
   "cell_type": "code",
   "execution_count": 52,
   "metadata": {},
   "outputs": [
    {
     "data": {
      "text/plain": [
       "<AxesSubplot: >"
      ]
     },
     "execution_count": 52,
     "metadata": {},
     "output_type": "execute_result"
    },
    {
     "data": {
      "image/png": "[encoded data removed]",
      "text/plain": [
       "<Figure size 432x216 with 1 Axes>"
      ]
     },
     "metadata": {
      "needs_background": "light"
     },
     "output_type": "display_data"
    }
   ],
   "source": [
    "# от 700 и более дней между отзывами по адресу\n",
    "mask_2 = fe_data.date_diff > 699\n",
    "fe_data[mask_2].date_diff.hist(bins=50)"
   ]
  },
  {
   "cell_type": "markdown",
   "metadata": {},
   "source": [
    "Около половины всех значений имеют максимальную разницу между самым первым и самым последним отзывами - 730 дней. Кто бы знал, что это может значить"
   ]
  },
  {
   "cell_type": "code",
   "execution_count": 53,
   "metadata": {},
   "outputs": [
    {
     "data": {
      "text/plain": [
       "<AxesSubplot: >"
      ]
     },
     "execution_count": 53,
     "metadata": {},
     "output_type": "execute_result"
    },
    {
     "data": {
      "image/png": "[encoded data removed]",
      "text/plain": [
       "<Figure size 432x216 with 1 Axes>"
      ]
     },
     "metadata": {
      "needs_background": "light"
     },
     "output_type": "display_data"
    }
   ],
   "source": [
    "# распределение отзывов по дням недели, 0 - понедельник\n",
    "fe_data.wd.hist(bins=13)"
   ]
  },
  {
   "cell_type": "markdown",
   "metadata": {},
   "source": [
    "чаще всего находит вдохновение написать к отелю отзыв по вторникам?"
   ]
  },
  {
   "cell_type": "code",
   "execution_count": 54,
   "metadata": {},
   "outputs": [
    {
     "data": {
      "text/plain": [
       "<AxesSubplot: >"
      ]
     },
     "execution_count": 54,
     "metadata": {},
     "output_type": "execute_result"
    },
    {
     "data": {
      "image/png": "[encoded data removed]",
      "text/plain": [
       "<Figure size 432x216 with 1 Axes>"
      ]
     },
     "metadata": {
      "needs_background": "light"
     },
     "output_type": "display_data"
    }
   ],
   "source": [
    "# распределение отзывов по месяцам\n",
    "fe_data.md.hist(bins=23)"
   ]
  },
  {
   "cell_type": "markdown",
   "metadata": {},
   "source": [
    "похоже что самые \"горячие\" для отелей месяцы - май, июль и август, а самый спокойным - ноябрь. Выглядит вполне логично"
   ]
  },
  {
   "cell_type": "markdown",
   "metadata": {},
   "source": [
    "### 2.5.3. Обработаем тэги"
   ]
  },
  {
   "cell_type": "code",
   "execution_count": 55,
   "metadata": {},
   "outputs": [
    {
     "name": "stdout",
     "output_type": "stream",
     "text": [
      "0    [' Leisure trip ', ' Couple ', ' Studio Suite ...\n",
      "0    [' Leisure trip ', ' Couple ', ' Double Room '...\n",
      "Name: tags, dtype: object\n",
      "Количество уникальных тегов:  2428\n",
      "Tag lists sum:  2428\n",
      "<class 'pandas.core.frame.DataFrame'>\n",
      "Int64Index: 515738 entries, 0 to 128934\n",
      "Data columns (total 35 columns):\n",
      " #   Column                                      Non-Null Count   Dtype  \n",
      "---  ------                                      --------------   -----  \n",
      " 0   hotel_address                               515738 non-null  object \n",
      " 1   additional_number_of_scoring                515738 non-null  int64  \n",
      " 2   review_date                                 515738 non-null  object \n",
      " 3   average_score                               515738 non-null  float64\n",
      " 4   hotel_name                                  515738 non-null  object \n",
      " 5   reviewer_nationality                        515738 non-null  object \n",
      " 6   negative_review                             515738 non-null  object \n",
      " 7   review_total_negative_word_counts           515738 non-null  int64  \n",
      " 8   total_number_of_reviews                     515738 non-null  int64  \n",
      " 9   positive_review                             515738 non-null  object \n",
      " 10  review_total_positive_word_counts           515738 non-null  int64  \n",
      " 11  total_number_of_reviews_reviewer_has_given  515738 non-null  int64  \n",
      " 12  reviewer_score                              515738 non-null  float64\n",
      " 13  tags                                        515738 non-null  object \n",
      " 14  days_since_review                           515738 non-null  object \n",
      " 15  lat                                         515738 non-null  float64\n",
      " 16  lng                                         515738 non-null  float64\n",
      " 17  сount_tags                                  515738 non-null  int64  \n",
      " 18  rare_tag                                    515738 non-null  float64\n",
      " 19  popular_tag                                 515738 non-null  float64\n",
      " 20  Leisure_trip                                515738 non-null  float64\n",
      " 21  Submitted_from_a_mobile_device              515738 non-null  float64\n",
      " 22  Couple                                      515738 non-null  float64\n",
      " 23  Stayed_1_night                              515738 non-null  float64\n",
      " 24  Stayed_2_nights                             515738 non-null  float64\n",
      " 25  Solo_traveler                               515738 non-null  float64\n",
      " 26  Stayed_3_nights                             515738 non-null  float64\n",
      " 27  Business_trip                               515738 non-null  float64\n",
      " 28  Group                                       515738 non-null  float64\n",
      " 29  Family_with_young_children                  515738 non-null  float64\n",
      " 30  Stayed_4_nights                             515738 non-null  float64\n",
      " 31  Double_Room                                 515738 non-null  float64\n",
      " 32  Standard_Double_Room                        515738 non-null  float64\n",
      " 33  Superior_Double_Room                        515738 non-null  float64\n",
      " 34  Family_with_older_children                  515738 non-null  float64\n",
      "dtypes: float64(21), int64(6), object(8)\n",
      "memory usage: 157.8+ MB\n",
      "None\n"
     ]
    },
    {
     "data": {
      "text/html": [
       "<div>\n",
       "<style scoped>\n",
       "    .dataframe tbody tr th:only-of-type {\n",
       "        vertical-align: middle;\n",
       "    }\n",
       "\n",
       "    .dataframe tbody tr th {\n",
       "        vertical-align: top;\n",
       "    }\n",
       "\n",
       "    .dataframe thead th {\n",
       "        text-align: right;\n",
       "    }\n",
       "</style>\n",
       "<table border=\"1\" class=\"dataframe\">\n",
       "  <thead>\n",
       "    <tr style=\"text-align: right;\">\n",
       "      <th></th>\n",
       "      <th>hotel_address</th>\n",
       "      <th>additional_number_of_scoring</th>\n",
       "      <th>review_date</th>\n",
       "      <th>average_score</th>\n",
       "      <th>hotel_name</th>\n",
       "      <th>reviewer_nationality</th>\n",
       "      <th>negative_review</th>\n",
       "      <th>review_total_negative_word_counts</th>\n",
       "      <th>total_number_of_reviews</th>\n",
       "      <th>positive_review</th>\n",
       "      <th>review_total_positive_word_counts</th>\n",
       "      <th>total_number_of_reviews_reviewer_has_given</th>\n",
       "      <th>reviewer_score</th>\n",
       "      <th>tags</th>\n",
       "      <th>days_since_review</th>\n",
       "      <th>lat</th>\n",
       "      <th>lng</th>\n",
       "      <th>сount_tags</th>\n",
       "      <th>rare_tag</th>\n",
       "      <th>popular_tag</th>\n",
       "      <th>Leisure_trip</th>\n",
       "      <th>Submitted_from_a_mobile_device</th>\n",
       "      <th>Couple</th>\n",
       "      <th>Stayed_1_night</th>\n",
       "      <th>Stayed_2_nights</th>\n",
       "      <th>Solo_traveler</th>\n",
       "      <th>Stayed_3_nights</th>\n",
       "      <th>Business_trip</th>\n",
       "      <th>Group</th>\n",
       "      <th>Family_with_young_children</th>\n",
       "      <th>Stayed_4_nights</th>\n",
       "      <th>Double_Room</th>\n",
       "      <th>Standard_Double_Room</th>\n",
       "      <th>Superior_Double_Room</th>\n",
       "      <th>Family_with_older_children</th>\n",
       "    </tr>\n",
       "  </thead>\n",
       "  <tbody>\n",
       "    <tr>\n",
       "      <th>312874</th>\n",
       "      <td>Delflandlaan 15 Slotervaart 1062 EA Amsterdam ...</td>\n",
       "      <td>947</td>\n",
       "      <td>3/19/2017</td>\n",
       "      <td>8.7</td>\n",
       "      <td>Best Western Premier Hotel Couture</td>\n",
       "      <td>Italy</td>\n",
       "      <td>No Negative</td>\n",
       "      <td>0</td>\n",
       "      <td>8177</td>\n",
       "      <td>Great experience at this property friendly st...</td>\n",
       "      <td>11</td>\n",
       "      <td>2</td>\n",
       "      <td>10.0</td>\n",
       "      <td>[Leisure trip, Group, Standard Double or Twin ...</td>\n",
       "      <td>137 day</td>\n",
       "      <td>52.351114</td>\n",
       "      <td>4.841163</td>\n",
       "      <td>5</td>\n",
       "      <td>0.0</td>\n",
       "      <td>0.0</td>\n",
       "      <td>1.0</td>\n",
       "      <td>1.0</td>\n",
       "      <td>0.0</td>\n",
       "      <td>0.0</td>\n",
       "      <td>0.0</td>\n",
       "      <td>0.0</td>\n",
       "      <td>0.0</td>\n",
       "      <td>0.0</td>\n",
       "      <td>1.0</td>\n",
       "      <td>0.0</td>\n",
       "      <td>1.0</td>\n",
       "      <td>0.0</td>\n",
       "      <td>0.0</td>\n",
       "      <td>0.0</td>\n",
       "      <td>0.0</td>\n",
       "    </tr>\n",
       "    <tr>\n",
       "      <th>70546</th>\n",
       "      <td>Rusland 17 Amsterdam City Center 1012 CK Amste...</td>\n",
       "      <td>827</td>\n",
       "      <td>10/28/2015</td>\n",
       "      <td>8.6</td>\n",
       "      <td>Radisson Blu Hotel Amsterdam</td>\n",
       "      <td>United Kingdom</td>\n",
       "      <td>Nothing</td>\n",
       "      <td>2</td>\n",
       "      <td>4593</td>\n",
       "      <td>Recently visited Amsterdam with my mother sis...</td>\n",
       "      <td>57</td>\n",
       "      <td>1</td>\n",
       "      <td>-1.0</td>\n",
       "      <td>[Leisure trip, Family with young children, Jun...</td>\n",
       "      <td>645 day</td>\n",
       "      <td>52.370247</td>\n",
       "      <td>4.896674</td>\n",
       "      <td>5</td>\n",
       "      <td>0.0</td>\n",
       "      <td>0.0</td>\n",
       "      <td>1.0</td>\n",
       "      <td>1.0</td>\n",
       "      <td>0.0</td>\n",
       "      <td>0.0</td>\n",
       "      <td>1.0</td>\n",
       "      <td>0.0</td>\n",
       "      <td>0.0</td>\n",
       "      <td>0.0</td>\n",
       "      <td>0.0</td>\n",
       "      <td>1.0</td>\n",
       "      <td>0.0</td>\n",
       "      <td>0.0</td>\n",
       "      <td>0.0</td>\n",
       "      <td>0.0</td>\n",
       "      <td>0.0</td>\n",
       "    </tr>\n",
       "  </tbody>\n",
       "</table>\n",
       "</div>"
      ],
      "text/plain": [
       "                                            hotel_address  \\\n",
       "312874  Delflandlaan 15 Slotervaart 1062 EA Amsterdam ...   \n",
       "70546   Rusland 17 Amsterdam City Center 1012 CK Amste...   \n",
       "\n",
       "        additional_number_of_scoring review_date  average_score  \\\n",
       "312874                           947   3/19/2017            8.7   \n",
       "70546                            827  10/28/2015            8.6   \n",
       "\n",
       "                                hotel_name reviewer_nationality  \\\n",
       "312874  Best Western Premier Hotel Couture               Italy    \n",
       "70546         Radisson Blu Hotel Amsterdam      United Kingdom    \n",
       "\n",
       "       negative_review  review_total_negative_word_counts  \\\n",
       "312874     No Negative                                  0   \n",
       "70546          Nothing                                  2   \n",
       "\n",
       "        total_number_of_reviews  \\\n",
       "312874                     8177   \n",
       "70546                      4593   \n",
       "\n",
       "                                          positive_review  \\\n",
       "312874   Great experience at this property friendly st...   \n",
       "70546    Recently visited Amsterdam with my mother sis...   \n",
       "\n",
       "        review_total_positive_word_counts  \\\n",
       "312874                                 11   \n",
       "70546                                  57   \n",
       "\n",
       "        total_number_of_reviews_reviewer_has_given  reviewer_score  \\\n",
       "312874                                           2            10.0   \n",
       "70546                                            1            -1.0   \n",
       "\n",
       "                                                     tags days_since_review  \\\n",
       "312874  [Leisure trip, Group, Standard Double or Twin ...           137 day   \n",
       "70546   [Leisure trip, Family with young children, Jun...           645 day   \n",
       "\n",
       "              lat       lng  сount_tags  rare_tag  popular_tag  Leisure_trip  \\\n",
       "312874  52.351114  4.841163           5       0.0          0.0           1.0   \n",
       "70546   52.370247  4.896674           5       0.0          0.0           1.0   \n",
       "\n",
       "        Submitted_from_a_mobile_device  Couple  Stayed_1_night  \\\n",
       "312874                             1.0     0.0             0.0   \n",
       "70546                              1.0     0.0             0.0   \n",
       "\n",
       "        Stayed_2_nights  Solo_traveler  Stayed_3_nights  Business_trip  Group  \\\n",
       "312874              0.0            0.0              0.0            0.0    1.0   \n",
       "70546               1.0            0.0              0.0            0.0    0.0   \n",
       "\n",
       "        Family_with_young_children  Stayed_4_nights  Double_Room  \\\n",
       "312874                         0.0              1.0          0.0   \n",
       "70546                          1.0              0.0          0.0   \n",
       "\n",
       "        Standard_Double_Room  Superior_Double_Room  Family_with_older_children  \n",
       "312874                   0.0                   0.0                         0.0  \n",
       "70546                    0.0                   0.0                         0.0  "
      ]
     },
     "execution_count": 55,
     "metadata": {},
     "output_type": "execute_result"
    }
   ],
   "source": [
    "fe_data = hotels_eda.copy()\n",
    "print(fe_data.tags[0])\n",
    "# переведем признак с тэгами в список\n",
    "fe_data.tags = fe_data.tags.str.findall(r\"' (\\b.*?\\b) '\")\n",
    "# создам признак с количеством тегов\n",
    "fe_data['сount_tags'] = fe_data.tags.apply(lambda x: len(x))\n",
    "\n",
    "# обработаю теги с использованием библиотеки Counter\n",
    "temp_list = fe_data.tags.tolist()\n",
    "temp_Counter = Counter(list_unrar(temp_list))\n",
    "dict_tags = dict(temp_Counter)\n",
    "print('Количество уникальных тегов: ', len(list(temp_Counter)))\n",
    "\n",
    "# имеем 2428 тегов, разделим их на категории по популярности\n",
    "# список самых популярных тегов\n",
    "list_of_most_popular_tag = [x[0] for x in temp_Counter.most_common(15)]\n",
    "# список популярных тегов\n",
    "list_of_popular_tag = [x[0] for x in temp_Counter.most_common()[15:600]]\n",
    "# список редких тегов\n",
    "list_of_rare_tag = [x[0] for x in temp_Counter.most_common()[600:]]\n",
    "# проверю все ли тэги учла в списках\n",
    "print('Tag lists sum: ', (len(list_of_most_popular_tag)+len(list_of_popular_tag)+len(list_of_rare_tag)))\n",
    "# создам признаки на основе популярности тегов\n",
    "fe_data['rare_tag'] = fe_data.tags.apply(lambda x: 1 if len(set(x) & set(list_of_rare_tag))>0  else 0).astype('float64')\n",
    "fe_data['popular_tag'] = hotels_eda.tags.apply(lambda x: 1 if len(set(x) & set(list_of_popular_tag))>0  else 0).astype('float64')\n",
    "\n",
    "# а самые популярные 15 тегов выведем в отдельные категории\n",
    "for tag in list_of_most_popular_tag:\n",
    "    fe_data[tag] = fe_data.tags.apply(lambda x: 1 if tag in x else 0 ).astype('float64')\n",
    "\n",
    "# уберу пробелы в названиях колонок\n",
    "fe_data.columns = [column.replace(' ','_') for column in fe_data.columns]\n",
    "print(fe_data.info())\n",
    "fe_data.sample(2)"
   ]
  },
  {
   "cell_type": "code",
   "execution_count": 56,
   "metadata": {},
   "outputs": [
    {
     "name": "stdout",
     "output_type": "stream",
     "text": [
      "count    515738.000000\n",
      "mean          4.569359\n",
      "std           0.520187\n",
      "min           1.000000\n",
      "25%           4.000000\n",
      "50%           5.000000\n",
      "75%           5.000000\n",
      "max           6.000000\n",
      "Name: сount_tags, dtype: float64\n"
     ]
    },
    {
     "data": {
      "text/plain": [
       "<AxesSubplot: >"
      ]
     },
     "execution_count": 56,
     "metadata": {},
     "output_type": "execute_result"
    },
    {
     "data": {
      "image/png": "[encoded data removed]",
      "text/plain": [
       "<Figure size 432x216 with 1 Axes>"
      ]
     },
     "metadata": {
      "needs_background": "light"
     },
     "output_type": "display_data"
    }
   ],
   "source": [
    "print(fe_data['сount_tags'].describe())\n",
    "fe_data['сount_tags'].hist(bins = 11)"
   ]
  },
  {
   "cell_type": "code",
   "execution_count": 57,
   "metadata": {},
   "outputs": [
    {
     "data": {
      "text/plain": [
       "5    297823\n",
       "4    211564\n",
       "3      5505\n",
       "6       755\n",
       "2        85\n",
       "1         6\n",
       "Name: сount_tags, dtype: int64"
      ]
     },
     "execution_count": 57,
     "metadata": {},
     "output_type": "execute_result"
    }
   ],
   "source": [
    "fe_data['сount_tags'].value_counts()"
   ]
  },
  {
   "cell_type": "code",
   "execution_count": 58,
   "metadata": {},
   "outputs": [
    {
     "data": {
      "text/plain": [
       "<AxesSubplot: xlabel='сount_tags', ylabel='reviewer_score'>"
      ]
     },
     "execution_count": 58,
     "metadata": {},
     "output_type": "execute_result"
    },
    {
     "data": {
      "image/png": "[encoded data removed]",
      "text/plain": [
       "<Figure size 432x216 with 1 Axes>"
      ]
     },
     "metadata": {
      "needs_background": "light"
     },
     "output_type": "display_data"
    }
   ],
   "source": [
    "# диаграмма рассеивания\n",
    "fe_data[mask_no_test].plot(x='сount_tags', y='reviewer_score', kind='scatter')"
   ]
  },
  {
   "cell_type": "markdown",
   "metadata": {},
   "source": [
    "### 2.5.4. Обработаем тексты отзывов"
   ]
  },
  {
   "cell_type": "code",
   "execution_count": 60,
   "metadata": {},
   "outputs": [
    {
     "name": "stdout",
     "output_type": "stream",
     "text": [
      "count    515738.000000\n",
      "mean         -0.209151\n",
      "std           0.453386\n",
      "min          -0.998100\n",
      "25%          -0.709600\n",
      "50%          -0.177900\n",
      "75%           0.000000\n",
      "max           0.996400\n",
      "Name: neg_compound, dtype: float64\n",
      "count    515738.000000\n",
      "mean          0.593533\n",
      "std           0.342460\n",
      "min          -0.983200\n",
      "25%           0.350600\n",
      "50%           0.708900\n",
      "75%           0.883400\n",
      "max           0.999300\n",
      "Name: pos_compound, dtype: float64\n",
      "count     515738\n",
      "unique         2\n",
      "top          neg\n",
      "freq      275586\n",
      "Name: neg_comp_score, dtype: object\n",
      "count     515738\n",
      "unique         2\n",
      "top          pos\n",
      "freq      508498\n",
      "Name: pos_comp_score, dtype: object\n"
     ]
    },
    {
     "data": {
      "text/html": [
       "<div>\n",
       "<style scoped>\n",
       "    .dataframe tbody tr th:only-of-type {\n",
       "        vertical-align: middle;\n",
       "    }\n",
       "\n",
       "    .dataframe tbody tr th {\n",
       "        vertical-align: top;\n",
       "    }\n",
       "\n",
       "    .dataframe thead th {\n",
       "        text-align: right;\n",
       "    }\n",
       "</style>\n",
       "<table border=\"1\" class=\"dataframe\">\n",
       "  <thead>\n",
       "    <tr style=\"text-align: right;\">\n",
       "      <th></th>\n",
       "      <th>hotel_address</th>\n",
       "      <th>additional_number_of_scoring</th>\n",
       "      <th>review_date</th>\n",
       "      <th>average_score</th>\n",
       "      <th>hotel_name</th>\n",
       "      <th>reviewer_nationality</th>\n",
       "      <th>negative_review</th>\n",
       "      <th>review_total_negative_word_counts</th>\n",
       "      <th>total_number_of_reviews</th>\n",
       "      <th>positive_review</th>\n",
       "      <th>review_total_positive_word_counts</th>\n",
       "      <th>total_number_of_reviews_reviewer_has_given</th>\n",
       "      <th>reviewer_score</th>\n",
       "      <th>tags</th>\n",
       "      <th>days_since_review</th>\n",
       "      <th>lat</th>\n",
       "      <th>lng</th>\n",
       "      <th>neg_scores</th>\n",
       "      <th>pos_scores</th>\n",
       "      <th>neg_compound</th>\n",
       "      <th>pos_compound</th>\n",
       "      <th>neg_comp_score</th>\n",
       "      <th>pos_comp_score</th>\n",
       "    </tr>\n",
       "  </thead>\n",
       "  <tbody>\n",
       "    <tr>\n",
       "      <th>220630</th>\n",
       "      <td>Moll de Barcelona WTC Ciutat Vella 08039 Barce...</td>\n",
       "      <td>666</td>\n",
       "      <td>6/24/2016</td>\n",
       "      <td>8.5</td>\n",
       "      <td>Eurostars Grand Marina Hotel GL</td>\n",
       "      <td>United States of America</td>\n",
       "      <td>I chose a suite because the picture showed a ...</td>\n",
       "      <td>30</td>\n",
       "      <td>4559</td>\n",
       "      <td>The service from the staff at the front desk ...</td>\n",
       "      <td>17</td>\n",
       "      <td>6</td>\n",
       "      <td>8.8</td>\n",
       "      <td>[' Leisure trip ', ' Solo traveler ', ' Luxury...</td>\n",
       "      <td>405 day</td>\n",
       "      <td>41.371308</td>\n",
       "      <td>2.181698</td>\n",
       "      <td>{'neg': 0.0, 'neu': 1.0, 'pos': 0.0, 'compound...</td>\n",
       "      <td>{'neg': 0.0, 'neu': 0.73, 'pos': 0.27, 'compou...</td>\n",
       "      <td>0.0000</td>\n",
       "      <td>0.5859</td>\n",
       "      <td>pos</td>\n",
       "      <td>pos</td>\n",
       "    </tr>\n",
       "    <tr>\n",
       "      <th>195459</th>\n",
       "      <td>50 Berners Street Westminster Borough London W...</td>\n",
       "      <td>260</td>\n",
       "      <td>8/30/2015</td>\n",
       "      <td>9.0</td>\n",
       "      <td>Sanderson A Morgans Hotel</td>\n",
       "      <td>China</td>\n",
       "      <td>No Negative</td>\n",
       "      <td>0</td>\n",
       "      <td>886</td>\n",
       "      <td>i like the general vibe of the hotel and the ...</td>\n",
       "      <td>15</td>\n",
       "      <td>9</td>\n",
       "      <td>10.0</td>\n",
       "      <td>[' Business trip ', ' Solo traveler ', ' Stand...</td>\n",
       "      <td>704 day</td>\n",
       "      <td>51.517485</td>\n",
       "      <td>-0.137211</td>\n",
       "      <td>{'neg': 1.0, 'neu': 0.0, 'pos': 0.0, 'compound...</td>\n",
       "      <td>{'neg': 0.0, 'neu': 0.828, 'pos': 0.172, 'comp...</td>\n",
       "      <td>-0.7096</td>\n",
       "      <td>0.3612</td>\n",
       "      <td>neg</td>\n",
       "      <td>pos</td>\n",
       "    </tr>\n",
       "    <tr>\n",
       "      <th>9178</th>\n",
       "      <td>Gran V a de les Corts Catalanes 322 Sants Mont...</td>\n",
       "      <td>391</td>\n",
       "      <td>10/17/2016</td>\n",
       "      <td>8.8</td>\n",
       "      <td>Ayre Hotel Gran V a</td>\n",
       "      <td>United Kingdom</td>\n",
       "      <td>Boiling water would have helped to make a dec...</td>\n",
       "      <td>14</td>\n",
       "      <td>4887</td>\n",
       "      <td>The breakfast choice was brilliant the servic...</td>\n",
       "      <td>42</td>\n",
       "      <td>3</td>\n",
       "      <td>-1.0</td>\n",
       "      <td>[' Leisure trip ', ' Couple ', ' Junior Suite ...</td>\n",
       "      <td>290 day</td>\n",
       "      <td>41.373246</td>\n",
       "      <td>2.147435</td>\n",
       "      <td>{'neg': 0.0, 'neu': 1.0, 'pos': 0.0, 'compound...</td>\n",
       "      <td>{'neg': 0.0, 'neu': 0.644, 'pos': 0.356, 'comp...</td>\n",
       "      <td>0.0000</td>\n",
       "      <td>0.9569</td>\n",
       "      <td>pos</td>\n",
       "      <td>pos</td>\n",
       "    </tr>\n",
       "  </tbody>\n",
       "</table>\n",
       "</div>"
      ],
      "text/plain": [
       "                                            hotel_address  \\\n",
       "220630  Moll de Barcelona WTC Ciutat Vella 08039 Barce...   \n",
       "195459  50 Berners Street Westminster Borough London W...   \n",
       "9178    Gran V a de les Corts Catalanes 322 Sants Mont...   \n",
       "\n",
       "        additional_number_of_scoring review_date  average_score  \\\n",
       "220630                           666   6/24/2016            8.5   \n",
       "195459                           260   8/30/2015            9.0   \n",
       "9178                             391  10/17/2016            8.8   \n",
       "\n",
       "                             hotel_name        reviewer_nationality  \\\n",
       "220630  Eurostars Grand Marina Hotel GL   United States of America    \n",
       "195459        Sanderson A Morgans Hotel                      China    \n",
       "9178                Ayre Hotel Gran V a             United Kingdom    \n",
       "\n",
       "                                          negative_review  \\\n",
       "220630   I chose a suite because the picture showed a ...   \n",
       "195459                                        No Negative   \n",
       "9178     Boiling water would have helped to make a dec...   \n",
       "\n",
       "        review_total_negative_word_counts  total_number_of_reviews  \\\n",
       "220630                                 30                     4559   \n",
       "195459                                  0                      886   \n",
       "9178                                   14                     4887   \n",
       "\n",
       "                                          positive_review  \\\n",
       "220630   The service from the staff at the front desk ...   \n",
       "195459   i like the general vibe of the hotel and the ...   \n",
       "9178     The breakfast choice was brilliant the servic...   \n",
       "\n",
       "        review_total_positive_word_counts  \\\n",
       "220630                                 17   \n",
       "195459                                 15   \n",
       "9178                                   42   \n",
       "\n",
       "        total_number_of_reviews_reviewer_has_given  reviewer_score  \\\n",
       "220630                                           6             8.8   \n",
       "195459                                           9            10.0   \n",
       "9178                                             3            -1.0   \n",
       "\n",
       "                                                     tags days_since_review  \\\n",
       "220630  [' Leisure trip ', ' Solo traveler ', ' Luxury...           405 day   \n",
       "195459  [' Business trip ', ' Solo traveler ', ' Stand...           704 day   \n",
       "9178    [' Leisure trip ', ' Couple ', ' Junior Suite ...           290 day   \n",
       "\n",
       "              lat       lng  \\\n",
       "220630  41.371308  2.181698   \n",
       "195459  51.517485 -0.137211   \n",
       "9178    41.373246  2.147435   \n",
       "\n",
       "                                               neg_scores  \\\n",
       "220630  {'neg': 0.0, 'neu': 1.0, 'pos': 0.0, 'compound...   \n",
       "195459  {'neg': 1.0, 'neu': 0.0, 'pos': 0.0, 'compound...   \n",
       "9178    {'neg': 0.0, 'neu': 1.0, 'pos': 0.0, 'compound...   \n",
       "\n",
       "                                               pos_scores  neg_compound  \\\n",
       "220630  {'neg': 0.0, 'neu': 0.73, 'pos': 0.27, 'compou...        0.0000   \n",
       "195459  {'neg': 0.0, 'neu': 0.828, 'pos': 0.172, 'comp...       -0.7096   \n",
       "9178    {'neg': 0.0, 'neu': 0.644, 'pos': 0.356, 'comp...        0.0000   \n",
       "\n",
       "        pos_compound neg_comp_score pos_comp_score  \n",
       "220630        0.5859            pos            pos  \n",
       "195459        0.3612            neg            pos  \n",
       "9178          0.9569            pos            pos  "
      ]
     },
     "execution_count": 60,
     "metadata": {},
     "output_type": "execute_result"
    }
   ],
   "source": [
    "fe_data = hotels_eda.copy()\n",
    "\n",
    "sid = SentimentIntensityAnalyzer()\n",
    "\n",
    "fe_data['neg_scores'] = fe_data['negative_review'].apply(lambda review: sid.polarity_scores(review))\n",
    "fe_data['pos_scores'] = fe_data['positive_review'].apply(lambda review: sid.polarity_scores(review))\n",
    "\n",
    "fe_data['neg_compound']  = fe_data['neg_scores'].apply(lambda score_dict: score_dict['compound'])\n",
    "fe_data['pos_compound']  = fe_data['pos_scores'].apply(lambda score_dict: score_dict['compound'])\n",
    "\n",
    "fe_data['neg_comp_score'] = fe_data['neg_compound'].apply(lambda c: 'pos' if c >=0 else 'neg')\n",
    "fe_data['pos_comp_score'] = fe_data['pos_compound'].apply(lambda c: 'pos' if c >=0 else 'neg')\n",
    "\n",
    "print(fe_data['neg_compound'].describe())\n",
    "print(fe_data['pos_compound'].describe())\n",
    "print(fe_data['neg_comp_score'].describe())\n",
    "print(fe_data['pos_comp_score'].describe())\n",
    "\n",
    "fe_data.sample(3)"
   ]
  },
  {
   "cell_type": "code",
   "execution_count": 61,
   "metadata": {},
   "outputs": [
    {
     "data": {
      "text/plain": [
       "<AxesSubplot: xlabel='reviewer_score', ylabel='neg_comp_score'>"
      ]
     },
     "execution_count": 61,
     "metadata": {},
     "output_type": "execute_result"
    },
    {
     "data": {
      "image/png": "[encoded data removed]",
      "text/plain": [
       "<Figure size 432x216 with 1 Axes>"
      ]
     },
     "metadata": {
      "needs_background": "light"
     },
     "output_type": "display_data"
    }
   ],
   "source": [
    "# распределение позитивных и негативных оценок в негативных отзывах\n",
    "plt.rcParams['figure.figsize'] = (6,3)\n",
    "sns.boxplot(\n",
    "    data=fe_data[mask_no_test], x=\"reviewer_score\", y=\"neg_comp_score\",\n",
    "    notch=True, showcaps=False,\n",
    "    flierprops={\"marker\": \"x\"},\n",
    "    medianprops={\"color\": \"coral\"},\n",
    ")"
   ]
  },
  {
   "cell_type": "code",
   "execution_count": 62,
   "metadata": {},
   "outputs": [
    {
     "data": {
      "text/plain": [
       "<AxesSubplot: xlabel='reviewer_score', ylabel='pos_comp_score'>"
      ]
     },
     "execution_count": 62,
     "metadata": {},
     "output_type": "execute_result"
    },
    {
     "data": {
      "image/png": "[encoded data removed]",
      "text/plain": [
       "<Figure size 432x216 with 1 Axes>"
      ]
     },
     "metadata": {
      "needs_background": "light"
     },
     "output_type": "display_data"
    }
   ],
   "source": [
    "# распределение позитивных и негативных оценок в позитивных отзывах\n",
    "plt.rcParams['figure.figsize'] = (6,3)\n",
    "sns.boxplot(\n",
    "    data=fe_data[mask_no_test], x=\"reviewer_score\", y=\"pos_comp_score\",\n",
    "    notch=True, showcaps=False,\n",
    "    flierprops={\"marker\": \"x\"},\n",
    "    boxprops={\"facecolor\": (.4, .6, .8, .5)},\n",
    "    medianprops={\"color\": \"coral\"},\n",
    ")"
   ]
  },
  {
   "cell_type": "markdown",
   "metadata": {},
   "source": [
    "### 2.5.5. Обработаю адрес"
   ]
  },
  {
   "cell_type": "code",
   "execution_count": 63,
   "metadata": {},
   "outputs": [
    {
     "name": "stdout",
     "output_type": "stream",
     "text": [
      "['United Kingdom' 'Paris France' 'Amsterdam Netherlands' 'Milan Italy'\n",
      " 'Vienna Austria' 'Barcelona Spain']\n"
     ]
    },
    {
     "data": {
      "text/plain": [
       "United Kingdom           262301\n",
       "Barcelona Spain           60149\n",
       "Paris France              59928\n",
       "Amsterdam Netherlands     57214\n",
       "Vienna Austria            38939\n",
       "Milan Italy               37207\n",
       "Name: location, dtype: int64"
      ]
     },
     "execution_count": 63,
     "metadata": {},
     "output_type": "execute_result"
    }
   ],
   "source": [
    "#fe_data = hotels_eda.copy()\n",
    "fe_data['location'] = fe_data.hotel_address.str.split().str[-2:].apply(lambda x: '_'.join(x))\n",
    "print(fe_data.location.unique())\n",
    "fe_data.location.value_counts()"
   ]
  },
  {
   "cell_type": "code",
   "execution_count": 64,
   "metadata": {},
   "outputs": [
    {
     "data": {
      "text/plain": [
       "<AxesSubplot: >"
      ]
     },
     "execution_count": 64,
     "metadata": {},
     "output_type": "execute_result"
    },
    {
     "data": {
      "image/png": "[encoded data removed]",
      "text/plain": [
       "<Figure size 576x216 with 1 Axes>"
      ]
     },
     "metadata": {
      "needs_background": "light"
     },
     "output_type": "display_data"
    }
   ],
   "source": [
    "# посмотрим на количественное соотношение отзывов по городам\n",
    "plt.rcParams['figure.figsize'] = (8,3)\n",
    "plt.xticks(rotation=45)\n",
    "fe_data[mask_no_test]['location'].value_counts(ascending=True).plot(kind='barh')"
   ]
  },
  {
   "cell_type": "markdown",
   "metadata": {},
   "source": [
    "Теперь понятно почему примерно половина значений на всех распределниях выделяются в отдельную группу, это как раз отзывы из Великобритании. Судя по всему у нас представлены столицы, а население Лондона как мегаполиса значительно больше чем в европейских городах."
   ]
  },
  {
   "cell_type": "code",
   "execution_count": 65,
   "metadata": {},
   "outputs": [
    {
     "data": {
      "text/plain": [
       "<AxesSubplot: xlabel='reviewer_score', ylabel='location'>"
      ]
     },
     "execution_count": 65,
     "metadata": {},
     "output_type": "execute_result"
    },
    {
     "data": {
      "image/png": "[encoded data removed]",
      "text/plain": [
       "<Figure size 432x216 with 1 Axes>"
      ]
     },
     "metadata": {
      "needs_background": "light"
     },
     "output_type": "display_data"
    }
   ],
   "source": [
    "# распределение целевой переменной по городам\n",
    "plt.rcParams['figure.figsize'] = (6,3)\n",
    "sns.boxplot(\n",
    "    data=fe_data[mask_no_test], x=\"reviewer_score\", y=\"location\",\n",
    "    notch=True, showcaps=False,\n",
    "    flierprops={\"marker\": \"x\"},\n",
    "    boxprops={\"facecolor\": (.4, .6, .8, .5)},\n",
    "    medianprops={\"color\": \"coral\"},\n",
    ")\n"
   ]
  },
  {
   "cell_type": "code",
   "execution_count": 66,
   "metadata": {},
   "outputs": [
    {
     "data": {
      "text/plain": [
       "<AxesSubplot: xlabel='reviewer_score', ylabel='location'>"
      ]
     },
     "execution_count": 66,
     "metadata": {},
     "output_type": "execute_result"
    },
    {
     "data": {
      "image/png": "[encoded data removed]",
      "text/plain": [
       "<Figure size 864x432 with 1 Axes>"
      ]
     },
     "metadata": {
      "needs_background": "light"
     },
     "output_type": "display_data"
    }
   ],
   "source": [
    "# распределение позитивных и негативных оценок в негативных отзывах по городам\n",
    "plt.rcParams['figure.figsize'] = (12,6)\n",
    "sns.boxplot(\n",
    "    data=fe_data[mask_no_test], x=\"reviewer_score\", y=\"location\",\n",
    "    hue = 'neg_comp_score',\n",
    "    notch=True, showcaps=False,\n",
    "    flierprops={\"marker\": \"x\"},\n",
    "    medianprops={\"color\": \"coral\"},\n",
    ")"
   ]
  },
  {
   "cell_type": "markdown",
   "metadata": {},
   "source": [
    "Как то странно, что в Париже, Амстердаме и Вене медианная оценка выше у негативных отзывов. Интересно, завышать оценку после негативного описания это культурные особенности? "
   ]
  },
  {
   "cell_type": "code",
   "execution_count": 67,
   "metadata": {},
   "outputs": [
    {
     "data": {
      "text/plain": [
       "<AxesSubplot: xlabel='reviewer_score', ylabel='location'>"
      ]
     },
     "execution_count": 67,
     "metadata": {},
     "output_type": "execute_result"
    },
    {
     "data": {
      "image/png": "[encoded data removed]",
      "text/plain": [
       "<Figure size 864x432 with 1 Axes>"
      ]
     },
     "metadata": {
      "needs_background": "light"
     },
     "output_type": "display_data"
    }
   ],
   "source": [
    "# распределение позитивных и негативных оценок в негативных отзывах по городам\n",
    "plt.rcParams['figure.figsize'] = (12,6)\n",
    "sns.boxplot(\n",
    "    data=fe_data[mask_no_test], x=\"reviewer_score\", y=\"location\",\n",
    "    hue = 'pos_comp_score',\n",
    "    notch=True, showcaps=False,\n",
    "    flierprops={\"marker\": \"x\"},\n",
    "    medianprops={\"color\": \"coral\"},\n",
    ")"
   ]
  },
  {
   "cell_type": "markdown",
   "metadata": {},
   "source": [
    "Тут все выглядит более логично, оценка выше у позитивного контекста и ниже у негативного"
   ]
  },
  {
   "cell_type": "markdown",
   "metadata": {},
   "source": [
    " Добавлю признак с населением"
   ]
  },
  {
   "cell_type": "code",
   "execution_count": 68,
   "metadata": {},
   "outputs": [
    {
     "data": {
      "text/html": [
       "<div>\n",
       "<style scoped>\n",
       "    .dataframe tbody tr th:only-of-type {\n",
       "        vertical-align: middle;\n",
       "    }\n",
       "\n",
       "    .dataframe tbody tr th {\n",
       "        vertical-align: top;\n",
       "    }\n",
       "\n",
       "    .dataframe thead th {\n",
       "        text-align: right;\n",
       "    }\n",
       "</style>\n",
       "<table border=\"1\" class=\"dataframe\">\n",
       "  <thead>\n",
       "    <tr style=\"text-align: right;\">\n",
       "      <th></th>\n",
       "      <th>hotel_address</th>\n",
       "      <th>additional_number_of_scoring</th>\n",
       "      <th>review_date</th>\n",
       "      <th>average_score</th>\n",
       "      <th>hotel_name</th>\n",
       "      <th>reviewer_nationality</th>\n",
       "      <th>negative_review</th>\n",
       "      <th>review_total_negative_word_counts</th>\n",
       "      <th>total_number_of_reviews</th>\n",
       "      <th>positive_review</th>\n",
       "      <th>review_total_positive_word_counts</th>\n",
       "      <th>total_number_of_reviews_reviewer_has_given</th>\n",
       "      <th>reviewer_score</th>\n",
       "      <th>tags</th>\n",
       "      <th>days_since_review</th>\n",
       "      <th>lat</th>\n",
       "      <th>lng</th>\n",
       "      <th>neg_scores</th>\n",
       "      <th>pos_scores</th>\n",
       "      <th>neg_compound</th>\n",
       "      <th>pos_compound</th>\n",
       "      <th>neg_comp_score</th>\n",
       "      <th>pos_comp_score</th>\n",
       "      <th>location</th>\n",
       "      <th>population</th>\n",
       "      <th>pop_density</th>\n",
       "    </tr>\n",
       "  </thead>\n",
       "  <tbody>\n",
       "    <tr>\n",
       "      <th>350257</th>\n",
       "      <td>372 Strand Westminster Borough London WC2R 0JJ...</td>\n",
       "      <td>2288</td>\n",
       "      <td>6/17/2017</td>\n",
       "      <td>8.1</td>\n",
       "      <td>Strand Palace Hotel</td>\n",
       "      <td>Sweden</td>\n",
       "      <td>No air conditioning and it was very hot those...</td>\n",
       "      <td>16</td>\n",
       "      <td>9568</td>\n",
       "      <td>Location</td>\n",
       "      <td>3</td>\n",
       "      <td>16</td>\n",
       "      <td>5.8</td>\n",
       "      <td>[' Business trip ', ' Solo traveler ', ' Cosy ...</td>\n",
       "      <td>47 days</td>\n",
       "      <td>51.511099</td>\n",
       "      <td>-0.120867</td>\n",
       "      <td>{'neg': 0.145, 'neu': 0.855, 'pos': 0.0, 'comp...</td>\n",
       "      <td>{'neg': 0.0, 'neu': 1.0, 'pos': 0.0, 'compound...</td>\n",
       "      <td>-0.2960</td>\n",
       "      <td>0.0000</td>\n",
       "      <td>neg</td>\n",
       "      <td>pos</td>\n",
       "      <td>United Kingdom</td>\n",
       "      <td>8962</td>\n",
       "      <td>5.7</td>\n",
       "    </tr>\n",
       "    <tr>\n",
       "      <th>179061</th>\n",
       "      <td>202 rue de Rivoli 1st arr 75001 Paris France</td>\n",
       "      <td>297</td>\n",
       "      <td>1/12/2016</td>\n",
       "      <td>8.0</td>\n",
       "      <td>Saint James Albany Paris Hotel Spa</td>\n",
       "      <td>Belgium</td>\n",
       "      <td>Maybe a little bottle of water as compliment ...</td>\n",
       "      <td>13</td>\n",
       "      <td>2868</td>\n",
       "      <td>Nice situation Luxe everywhere</td>\n",
       "      <td>6</td>\n",
       "      <td>2</td>\n",
       "      <td>10.0</td>\n",
       "      <td>[' Business trip ', ' Solo traveler ', ' Super...</td>\n",
       "      <td>569 day</td>\n",
       "      <td>48.864269</td>\n",
       "      <td>2.330818</td>\n",
       "      <td>{'neg': 0.0, 'neu': 0.462, 'pos': 0.538, 'comp...</td>\n",
       "      <td>{'neg': 0.0, 'neu': 0.517, 'pos': 0.483, 'comp...</td>\n",
       "      <td>0.8519</td>\n",
       "      <td>0.4215</td>\n",
       "      <td>pos</td>\n",
       "      <td>pos</td>\n",
       "      <td>Paris France</td>\n",
       "      <td>2148</td>\n",
       "      <td>20.8</td>\n",
       "    </tr>\n",
       "    <tr>\n",
       "      <th>188636</th>\n",
       "      <td>Prins Hendrikkade 33 Amsterdam City Center 101...</td>\n",
       "      <td>482</td>\n",
       "      <td>10/6/2016</td>\n",
       "      <td>9.0</td>\n",
       "      <td>art otel Amsterdam</td>\n",
       "      <td>United States of America</td>\n",
       "      <td>No Negative</td>\n",
       "      <td>0</td>\n",
       "      <td>3158</td>\n",
       "      <td>The hotel was very beautiful and the room was...</td>\n",
       "      <td>29</td>\n",
       "      <td>2</td>\n",
       "      <td>10.0</td>\n",
       "      <td>[' Leisure trip ', ' Group ', ' Art King Room ...</td>\n",
       "      <td>301 day</td>\n",
       "      <td>52.377743</td>\n",
       "      <td>4.897057</td>\n",
       "      <td>{'neg': 1.0, 'neu': 0.0, 'pos': 0.0, 'compound...</td>\n",
       "      <td>{'neg': 0.0, 'neu': 0.509, 'pos': 0.491, 'comp...</td>\n",
       "      <td>-0.7096</td>\n",
       "      <td>0.9651</td>\n",
       "      <td>neg</td>\n",
       "      <td>pos</td>\n",
       "      <td>Amsterdam Netherlands</td>\n",
       "      <td>873</td>\n",
       "      <td>4.8</td>\n",
       "    </tr>\n",
       "  </tbody>\n",
       "</table>\n",
       "</div>"
      ],
      "text/plain": [
       "                                            hotel_address  \\\n",
       "350257  372 Strand Westminster Borough London WC2R 0JJ...   \n",
       "179061       202 rue de Rivoli 1st arr 75001 Paris France   \n",
       "188636  Prins Hendrikkade 33 Amsterdam City Center 101...   \n",
       "\n",
       "        additional_number_of_scoring review_date  average_score  \\\n",
       "350257                          2288   6/17/2017            8.1   \n",
       "179061                           297   1/12/2016            8.0   \n",
       "188636                           482   10/6/2016            9.0   \n",
       "\n",
       "                                hotel_name        reviewer_nationality  \\\n",
       "350257                 Strand Palace Hotel                     Sweden    \n",
       "179061  Saint James Albany Paris Hotel Spa                    Belgium    \n",
       "188636                  art otel Amsterdam   United States of America    \n",
       "\n",
       "                                          negative_review  \\\n",
       "350257   No air conditioning and it was very hot those...   \n",
       "179061   Maybe a little bottle of water as compliment ...   \n",
       "188636                                        No Negative   \n",
       "\n",
       "        review_total_negative_word_counts  total_number_of_reviews  \\\n",
       "350257                                 16                     9568   \n",
       "179061                                 13                     2868   \n",
       "188636                                  0                     3158   \n",
       "\n",
       "                                          positive_review  \\\n",
       "350257                                          Location    \n",
       "179061                    Nice situation Luxe everywhere    \n",
       "188636   The hotel was very beautiful and the room was...   \n",
       "\n",
       "        review_total_positive_word_counts  \\\n",
       "350257                                  3   \n",
       "179061                                  6   \n",
       "188636                                 29   \n",
       "\n",
       "        total_number_of_reviews_reviewer_has_given  reviewer_score  \\\n",
       "350257                                          16             5.8   \n",
       "179061                                           2            10.0   \n",
       "188636                                           2            10.0   \n",
       "\n",
       "                                                     tags days_since_review  \\\n",
       "350257  [' Business trip ', ' Solo traveler ', ' Cosy ...           47 days   \n",
       "179061  [' Business trip ', ' Solo traveler ', ' Super...           569 day   \n",
       "188636  [' Leisure trip ', ' Group ', ' Art King Room ...           301 day   \n",
       "\n",
       "              lat       lng  \\\n",
       "350257  51.511099 -0.120867   \n",
       "179061  48.864269  2.330818   \n",
       "188636  52.377743  4.897057   \n",
       "\n",
       "                                               neg_scores  \\\n",
       "350257  {'neg': 0.145, 'neu': 0.855, 'pos': 0.0, 'comp...   \n",
       "179061  {'neg': 0.0, 'neu': 0.462, 'pos': 0.538, 'comp...   \n",
       "188636  {'neg': 1.0, 'neu': 0.0, 'pos': 0.0, 'compound...   \n",
       "\n",
       "                                               pos_scores  neg_compound  \\\n",
       "350257  {'neg': 0.0, 'neu': 1.0, 'pos': 0.0, 'compound...       -0.2960   \n",
       "179061  {'neg': 0.0, 'neu': 0.517, 'pos': 0.483, 'comp...        0.8519   \n",
       "188636  {'neg': 0.0, 'neu': 0.509, 'pos': 0.491, 'comp...       -0.7096   \n",
       "\n",
       "        pos_compound neg_comp_score pos_comp_score               location  \\\n",
       "350257        0.0000            neg            pos         United Kingdom   \n",
       "179061        0.4215            pos            pos           Paris France   \n",
       "188636        0.9651            neg            pos  Amsterdam Netherlands   \n",
       "\n",
       "        population  pop_density  \n",
       "350257        8962          5.7  \n",
       "179061        2148         20.8  \n",
       "188636         873          4.8  "
      ]
     },
     "execution_count": 68,
     "metadata": {},
     "output_type": "execute_result"
    }
   ],
   "source": [
    "# население согласно Википедии, тыс.чел\n",
    "population_dict = {'United Kingdom': 8962, 'Paris France': 2148, 'Amsterdam Netherlands': 873,\n",
    "                   'Milan Italy': 1379, 'Vienna Austria': 1897, 'Barcelona Spain': 1636}\n",
    "# добавим признак плотности населения, тыс. чел на км\n",
    "pop_density_dict = {'United Kingdom': 5.7, 'Paris France': 20.8, 'Amsterdam Netherlands': 4.8,\n",
    "                   'Milan Italy': 7.6, 'Vienna Austria': 4.5, 'Barcelona Spain': 15.8}\n",
    "\n",
    "fe_data['population'] = fe_data.apply(lambda row: population_dict[row['location']], axis=1)\n",
    "fe_data['pop_density'] = fe_data.apply(lambda row: pop_density_dict[row['location']], axis=1)\n",
    "fe_data.sample(3)"
   ]
  },
  {
   "cell_type": "markdown",
   "metadata": {},
   "source": [
    "# 3. Preprocessing"
   ]
  },
  {
   "cell_type": "code",
   "execution_count": 116,
   "metadata": {},
   "outputs": [],
   "source": [
    "# конечная функция полной предобработки датасета для обучения\n",
    "def preproc_data(df_input: pd.DataFrame) -> pd.DataFrame:\n",
    "    \n",
    "    df_output = df_input.copy()\n",
    "  \n",
    "    # сохраним исходные индексы в отдельный столбец\n",
    "    df_output[\"index\"] = df_output.index\n",
    "    \n",
    "    # Обработаю координаты\n",
    "    # заполню пропуски\n",
    "    df_output['lat'] = df_output['lat'].fillna(df_output['hotel_address'].map(lat_dict))\n",
    "    df_output['lng'] = df_output['lng'].fillna(df_output['hotel_address'].map(lng_dict))\n",
    "    \n",
    "    # определю по координатам расстояние до Парижа\n",
    "    df_output['distance'] = fe_data.apply(lambda row: haversine(lon1, lat1, lon2 = row['lng'], \n",
    "                                                                lat2 = row['lat']), axis=1)\n",
    "    # по сути признак с расстоянием описывает наши координаты, можем исходные широты/долготы удалить\n",
    "    df_output.drop(['lat', 'lng'], axis=1, inplace=True)\n",
    "    \n",
    "    # Обработка тегов\n",
    "    # переведем признак с тэгами в список\n",
    "    df_output['tags_listed'] = df_output.tags.str.findall(r\"' (\\b.*?\\b) '\")\n",
    "    # создам признак с количеством тегов\n",
    "    df_output['сount_tags'] = df_output.tags_listed.apply(lambda x: len(x))\n",
    "\n",
    "    # обработаю теги с использованием библиотеки Counter\n",
    "    temp_list = df_output['tags_listed'].tolist()\n",
    "    temp_Counter = Counter(list_unrar(temp_list))\n",
    "    \n",
    "    # список самых популярных тегов\n",
    "    list_of_most_popular_tag = [x[0] for x in temp_Counter.most_common(15)]\n",
    "    # список популярных тегов\n",
    "    list_of_popular_tag = [x[0] for x in temp_Counter.most_common()[15:600]]\n",
    "    # список редких тегов\n",
    "    list_of_rare_tag = [x[0] for x in temp_Counter.most_common()[600:]]\n",
    "    \n",
    "    # создам признаки на основе популярности тегов\n",
    "    df_output['rare_tag'] = df_output.tags_listed.apply(lambda x: 1 if len(set(x) & set(list_of_rare_tag))>0  \n",
    "                                                 else 0).astype('float64')\n",
    "    df_output['popular_tag'] = df_output.tags_listed.apply(lambda x: 1 if len(set(x) & set(list_of_popular_tag))>0  \n",
    "                                                    else 0).astype('float64')\n",
    "\n",
    "    # а самые популярные 15 тегов выведем в отдельные категории\n",
    "    for tag in list_of_most_popular_tag:\n",
    "        df_output[tag] = df_output.tags_listed.apply(lambda x: 1 if tag in x else 0 ).astype('float64')\n",
    "            \n",
    "    # удвлю более не нужные столбцы с тегами\n",
    "    df_output.drop(['tags', 'tags_listed'], axis=1, inplace=True)\n",
    "\n",
    "    # Обработка временных признаков\n",
    "    # преобразуем тип признака с датой\n",
    "    df_output.review_date =  pd.to_datetime(df_output.review_date)\n",
    "    \n",
    "    # создам признак с периодом между самым новым и самым старым отзывом по адресу отеля\n",
    "    grp_name = df_output.groupby(['hotel_address']).review_date.max() - df_output.groupby(['hotel_address']).review_date.min()\n",
    "    df_output['date_diff'] = df_output.hotel_address.apply(lambda x: grp_name[x]).dt.days\n",
    "    \n",
    "    # преобразуем признак days_since_review в числовой\n",
    "    df_output['days_since_review'] = pd.to_numeric(df_output['days_since_review'].str.split().str[0])\n",
    "    \n",
    "    # выделю из даты отзыва является ли выходным днем\n",
    "    df_output['is_weekend'] = df_output.review_date.dt.weekday.apply(lambda x: 1 if x > 4 else 0)\n",
    "    # выделю из даты отзыва день недели\n",
    "    df_output['wd'] = df_output.review_date.dt.weekday\n",
    "    # выделю из даты отзыва число месяца\n",
    "    df_output['md'] = df_output.review_date.dt.month\n",
    "    # удалю дату отзыва\n",
    "    df_output.drop('review_date', axis=1, inplace=True)\n",
    "    \n",
    "    # Обработка адреса\n",
    "    # Вытащим последние 2 слова адреса с названием города и страны\n",
    "    df_output['location'] = df_output.hotel_address.str.split().str[-2:].apply(lambda x: '_'.join(x))\n",
    "    \n",
    "    # создам признаки с населением города и плотностью населения в нем\n",
    "    df_output['population'] = df_output.apply(lambda row: population_dict[row['location']], axis=1)\n",
    "    df_output['pop_density'] = df_output.apply(lambda row: pop_density_dict[row['location']], axis=1)\n",
    "    \n",
    "    # удалю адрес\n",
    "    df_output.drop('hotel_address', axis=1, inplace=True)\n",
    "    \n",
    "    #  Обработка текстов отзывов\n",
    "    # Инициализирую анализатор текста\n",
    "    sid = SentimentIntensityAnalyzer()\n",
    "    \n",
    "    # Анализ текстов позитивных и негативных отзывов\n",
    "    df_output['neg_scores'] = df_output['negative_review'].apply(lambda review: sid.polarity_scores(review))\n",
    "    df_output['pos_scores'] = df_output['positive_review'].apply(lambda review: sid.polarity_scores(review))\n",
    "    \n",
    "    # Суммарна числовая метрика \"позитивности\" и \"негативности\" текста\n",
    "    # Отзыв более позитивный если значение > 0 и более негативный если < 0\n",
    "    df_output['neg_compound']  = df_output['neg_scores'].apply(lambda score_dict: score_dict['compound'])\n",
    "    df_output['pos_compound']  = df_output['pos_scores'].apply(lambda score_dict: score_dict['compound'])\n",
    "\n",
    "    df_output['is_pos_neg_review'] = df_output['neg_compound'].apply(lambda c: 1 if c >=0 else 0)\n",
    "    df_output['is_pos_pos_rev'] = df_output['pos_compound'].apply(lambda c: 1 if c >=0 else 0)\n",
    "\n",
    "    # удалю тексты отзывов и их метрики после анализа\n",
    "    df_output.drop(['negative_review', 'positive_review', 'neg_scores', 'pos_scores'], axis=1, inplace=True)\n",
    "    \n",
    "    \n",
    "    # уберу пробелы в названиях колонок\n",
    "    df_output.columns = [column.replace(' ','_') for column in df_output.columns]    \n",
    "    # вернем исходные индексы\n",
    "    df_output.set_index('index',inplace=True)\n",
    "        \n",
    "    return df_output\n"
   ]
  },
  {
   "cell_type": "code",
   "execution_count": 117,
   "metadata": {},
   "outputs": [
    {
     "name": "stdout",
     "output_type": "stream",
     "text": [
      "<class 'pandas.core.frame.DataFrame'>\n",
      "Int64Index: 515738 entries, 0 to 128934\n",
      "Data columns (total 40 columns):\n",
      " #   Column                                      Non-Null Count   Dtype  \n",
      "---  ------                                      --------------   -----  \n",
      " 0   additional_number_of_scoring                515738 non-null  int64  \n",
      " 1   average_score                               515738 non-null  float64\n",
      " 2   hotel_name                                  515738 non-null  object \n",
      " 3   reviewer_nationality                        515738 non-null  object \n",
      " 4   review_total_negative_word_counts           515738 non-null  int64  \n",
      " 5   total_number_of_reviews                     515738 non-null  int64  \n",
      " 6   review_total_positive_word_counts           515738 non-null  int64  \n",
      " 7   total_number_of_reviews_reviewer_has_given  515738 non-null  int64  \n",
      " 8   reviewer_score                              515738 non-null  float64\n",
      " 9   days_since_review                           515738 non-null  int64  \n",
      " 10  distance                                    515738 non-null  int64  \n",
      " 11  сount_tags                                  515738 non-null  int64  \n",
      " 12  rare_tag                                    515738 non-null  float64\n",
      " 13  popular_tag                                 515738 non-null  float64\n",
      " 14  Leisure_trip                                515738 non-null  float64\n",
      " 15  Submitted_from_a_mobile_device              515738 non-null  float64\n",
      " 16  Couple                                      515738 non-null  float64\n",
      " 17  Stayed_1_night                              515738 non-null  float64\n",
      " 18  Stayed_2_nights                             515738 non-null  float64\n",
      " 19  Solo_traveler                               515738 non-null  float64\n",
      " 20  Stayed_3_nights                             515738 non-null  float64\n",
      " 21  Business_trip                               515738 non-null  float64\n",
      " 22  Group                                       515738 non-null  float64\n",
      " 23  Family_with_young_children                  515738 non-null  float64\n",
      " 24  Stayed_4_nights                             515738 non-null  float64\n",
      " 25  Double_Room                                 515738 non-null  float64\n",
      " 26  Standard_Double_Room                        515738 non-null  float64\n",
      " 27  Superior_Double_Room                        515738 non-null  float64\n",
      " 28  Family_with_older_children                  515738 non-null  float64\n",
      " 29  date_diff                                   515738 non-null  int64  \n",
      " 30  is_weekend                                  515738 non-null  int64  \n",
      " 31  wd                                          515738 non-null  int64  \n",
      " 32  md                                          515738 non-null  int64  \n",
      " 33  location                                    515738 non-null  object \n",
      " 34  population                                  515738 non-null  int64  \n",
      " 35  pop_density                                 515738 non-null  float64\n",
      " 36  neg_compound                                515738 non-null  float64\n",
      " 37  pos_compound                                515738 non-null  float64\n",
      " 38  is_pos_neg_review                           515738 non-null  int64  \n",
      " 39  is_pos_pos_rev                              515738 non-null  int64  \n",
      "dtypes: float64(22), int64(15), object(3)\n",
      "memory usage: 161.3+ MB\n"
     ]
    },
    {
     "data": {
      "text/plain": [
       "None"
      ]
     },
     "metadata": {},
     "output_type": "display_data"
    },
    {
     "name": "stdout",
     "output_type": "stream",
     "text": [
      "CPU times: user 3min 20s, sys: 1.38 s, total: 3min 22s\n",
      "Wall time: 3min 22s\n"
     ]
    },
    {
     "data": {
      "text/html": [
       "<div>\n",
       "<style scoped>\n",
       "    .dataframe tbody tr th:only-of-type {\n",
       "        vertical-align: middle;\n",
       "    }\n",
       "\n",
       "    .dataframe tbody tr th {\n",
       "        vertical-align: top;\n",
       "    }\n",
       "\n",
       "    .dataframe thead th {\n",
       "        text-align: right;\n",
       "    }\n",
       "</style>\n",
       "<table border=\"1\" class=\"dataframe\">\n",
       "  <thead>\n",
       "    <tr style=\"text-align: right;\">\n",
       "      <th></th>\n",
       "      <th>additional_number_of_scoring</th>\n",
       "      <th>average_score</th>\n",
       "      <th>hotel_name</th>\n",
       "      <th>reviewer_nationality</th>\n",
       "      <th>review_total_negative_word_counts</th>\n",
       "      <th>total_number_of_reviews</th>\n",
       "      <th>review_total_positive_word_counts</th>\n",
       "      <th>total_number_of_reviews_reviewer_has_given</th>\n",
       "      <th>reviewer_score</th>\n",
       "      <th>days_since_review</th>\n",
       "      <th>distance</th>\n",
       "      <th>сount_tags</th>\n",
       "      <th>rare_tag</th>\n",
       "      <th>popular_tag</th>\n",
       "      <th>Leisure_trip</th>\n",
       "      <th>Submitted_from_a_mobile_device</th>\n",
       "      <th>Couple</th>\n",
       "      <th>Stayed_1_night</th>\n",
       "      <th>Stayed_2_nights</th>\n",
       "      <th>Solo_traveler</th>\n",
       "      <th>Stayed_3_nights</th>\n",
       "      <th>Business_trip</th>\n",
       "      <th>Group</th>\n",
       "      <th>Family_with_young_children</th>\n",
       "      <th>Stayed_4_nights</th>\n",
       "      <th>Double_Room</th>\n",
       "      <th>Standard_Double_Room</th>\n",
       "      <th>Superior_Double_Room</th>\n",
       "      <th>Family_with_older_children</th>\n",
       "      <th>date_diff</th>\n",
       "      <th>is_weekend</th>\n",
       "      <th>wd</th>\n",
       "      <th>md</th>\n",
       "      <th>location</th>\n",
       "      <th>population</th>\n",
       "      <th>pop_density</th>\n",
       "      <th>neg_compound</th>\n",
       "      <th>pos_compound</th>\n",
       "      <th>is_pos_neg_review</th>\n",
       "      <th>is_pos_pos_rev</th>\n",
       "    </tr>\n",
       "    <tr>\n",
       "      <th>index</th>\n",
       "      <th></th>\n",
       "      <th></th>\n",
       "      <th></th>\n",
       "      <th></th>\n",
       "      <th></th>\n",
       "      <th></th>\n",
       "      <th></th>\n",
       "      <th></th>\n",
       "      <th></th>\n",
       "      <th></th>\n",
       "      <th></th>\n",
       "      <th></th>\n",
       "      <th></th>\n",
       "      <th></th>\n",
       "      <th></th>\n",
       "      <th></th>\n",
       "      <th></th>\n",
       "      <th></th>\n",
       "      <th></th>\n",
       "      <th></th>\n",
       "      <th></th>\n",
       "      <th></th>\n",
       "      <th></th>\n",
       "      <th></th>\n",
       "      <th></th>\n",
       "      <th></th>\n",
       "      <th></th>\n",
       "      <th></th>\n",
       "      <th></th>\n",
       "      <th></th>\n",
       "      <th></th>\n",
       "      <th></th>\n",
       "      <th></th>\n",
       "      <th></th>\n",
       "      <th></th>\n",
       "      <th></th>\n",
       "      <th></th>\n",
       "      <th></th>\n",
       "      <th></th>\n",
       "      <th></th>\n",
       "    </tr>\n",
       "  </thead>\n",
       "  <tbody>\n",
       "    <tr>\n",
       "      <th>0</th>\n",
       "      <td>581</td>\n",
       "      <td>8.4</td>\n",
       "      <td>The May Fair Hotel</td>\n",
       "      <td>United Kingdom</td>\n",
       "      <td>3</td>\n",
       "      <td>1994</td>\n",
       "      <td>4</td>\n",
       "      <td>7</td>\n",
       "      <td>10.0</td>\n",
       "      <td>531</td>\n",
       "      <td>344</td>\n",
       "      <td>5</td>\n",
       "      <td>0.0</td>\n",
       "      <td>1.0</td>\n",
       "      <td>1.0</td>\n",
       "      <td>1.0</td>\n",
       "      <td>1.0</td>\n",
       "      <td>0.0</td>\n",
       "      <td>1.0</td>\n",
       "      <td>0.0</td>\n",
       "      <td>0.0</td>\n",
       "      <td>0.0</td>\n",
       "      <td>0.0</td>\n",
       "      <td>0.0</td>\n",
       "      <td>0.0</td>\n",
       "      <td>0.0</td>\n",
       "      <td>0.0</td>\n",
       "      <td>0.0</td>\n",
       "      <td>0.0</td>\n",
       "      <td>729</td>\n",
       "      <td>0</td>\n",
       "      <td>4</td>\n",
       "      <td>2</td>\n",
       "      <td>United_Kingdom</td>\n",
       "      <td>8962</td>\n",
       "      <td>5.7</td>\n",
       "      <td>0.0000</td>\n",
       "      <td>0.5859</td>\n",
       "      <td>1</td>\n",
       "      <td>1</td>\n",
       "    </tr>\n",
       "    <tr>\n",
       "      <th>1</th>\n",
       "      <td>299</td>\n",
       "      <td>8.3</td>\n",
       "      <td>Mercure London Bloomsbury Hotel</td>\n",
       "      <td>United Kingdom</td>\n",
       "      <td>3</td>\n",
       "      <td>1361</td>\n",
       "      <td>2</td>\n",
       "      <td>14</td>\n",
       "      <td>6.3</td>\n",
       "      <td>203</td>\n",
       "      <td>345</td>\n",
       "      <td>4</td>\n",
       "      <td>0.0</td>\n",
       "      <td>0.0</td>\n",
       "      <td>0.0</td>\n",
       "      <td>0.0</td>\n",
       "      <td>1.0</td>\n",
       "      <td>1.0</td>\n",
       "      <td>0.0</td>\n",
       "      <td>0.0</td>\n",
       "      <td>0.0</td>\n",
       "      <td>1.0</td>\n",
       "      <td>0.0</td>\n",
       "      <td>0.0</td>\n",
       "      <td>0.0</td>\n",
       "      <td>0.0</td>\n",
       "      <td>1.0</td>\n",
       "      <td>0.0</td>\n",
       "      <td>0.0</td>\n",
       "      <td>730</td>\n",
       "      <td>0</td>\n",
       "      <td>3</td>\n",
       "      <td>1</td>\n",
       "      <td>United_Kingdom</td>\n",
       "      <td>8962</td>\n",
       "      <td>5.7</td>\n",
       "      <td>-0.4767</td>\n",
       "      <td>0.0000</td>\n",
       "      <td>0</td>\n",
       "      <td>1</td>\n",
       "    </tr>\n",
       "  </tbody>\n",
       "</table>\n",
       "</div>"
      ],
      "text/plain": [
       "       additional_number_of_scoring  average_score  \\\n",
       "index                                                \n",
       "0                               581            8.4   \n",
       "1                               299            8.3   \n",
       "\n",
       "                            hotel_name reviewer_nationality  \\\n",
       "index                                                         \n",
       "0                   The May Fair Hotel      United Kingdom    \n",
       "1      Mercure London Bloomsbury Hotel      United Kingdom    \n",
       "\n",
       "       review_total_negative_word_counts  total_number_of_reviews  \\\n",
       "index                                                               \n",
       "0                                      3                     1994   \n",
       "1                                      3                     1361   \n",
       "\n",
       "       review_total_positive_word_counts  \\\n",
       "index                                      \n",
       "0                                      4   \n",
       "1                                      2   \n",
       "\n",
       "       total_number_of_reviews_reviewer_has_given  reviewer_score  \\\n",
       "index                                                               \n",
       "0                                               7            10.0   \n",
       "1                                              14             6.3   \n",
       "\n",
       "       days_since_review  distance  сount_tags  rare_tag  popular_tag  \\\n",
       "index                                                                   \n",
       "0                    531       344           5       0.0          1.0   \n",
       "1                    203       345           4       0.0          0.0   \n",
       "\n",
       "       Leisure_trip  Submitted_from_a_mobile_device  Couple  Stayed_1_night  \\\n",
       "index                                                                         \n",
       "0               1.0                             1.0     1.0             0.0   \n",
       "1               0.0                             0.0     1.0             1.0   \n",
       "\n",
       "       Stayed_2_nights  Solo_traveler  Stayed_3_nights  Business_trip  Group  \\\n",
       "index                                                                          \n",
       "0                  1.0            0.0              0.0            0.0    0.0   \n",
       "1                  0.0            0.0              0.0            1.0    0.0   \n",
       "\n",
       "       Family_with_young_children  Stayed_4_nights  Double_Room  \\\n",
       "index                                                             \n",
       "0                             0.0              0.0          0.0   \n",
       "1                             0.0              0.0          0.0   \n",
       "\n",
       "       Standard_Double_Room  Superior_Double_Room  Family_with_older_children  \\\n",
       "index                                                                           \n",
       "0                       0.0                   0.0                         0.0   \n",
       "1                       1.0                   0.0                         0.0   \n",
       "\n",
       "       date_diff  is_weekend  wd  md        location  population  pop_density  \\\n",
       "index                                                                           \n",
       "0            729           0   4   2  United_Kingdom        8962          5.7   \n",
       "1            730           0   3   1  United_Kingdom        8962          5.7   \n",
       "\n",
       "       neg_compound  pos_compound  is_pos_neg_review  is_pos_pos_rev  \n",
       "index                                                                 \n",
       "0            0.0000        0.5859                  1               1  \n",
       "1           -0.4767        0.0000                  0               1  "
      ]
     },
     "execution_count": 117,
     "metadata": {},
     "output_type": "execute_result"
    }
   ],
   "source": [
    "%%time\n",
    "\n",
    "# Первым делом объединяем выборки\n",
    "combined_data = join_df(df_train, df_test)\n",
    "\n",
    "# Затем используем нашу функцию предобработки\n",
    "combined_data = preproc_data(combined_data)\n",
    "\n",
    "display(combined_data.info())\n",
    "combined_data.head(2)"
   ]
  },
  {
   "cell_type": "code",
   "execution_count": 118,
   "metadata": {},
   "outputs": [
    {
     "name": "stdout",
     "output_type": "stream",
     "text": [
      "<class 'pandas.core.frame.DataFrame'>\n",
      "Int64Index: 515738 entries, 0 to 128934\n",
      "Data columns (total 62 columns):\n",
      " #   Column                                      Non-Null Count   Dtype  \n",
      "---  ------                                      --------------   -----  \n",
      " 0   additional_number_of_scoring                515738 non-null  float64\n",
      " 1   average_score                               515738 non-null  float64\n",
      " 2   review_total_negative_word_counts           515738 non-null  float64\n",
      " 3   total_number_of_reviews                     515738 non-null  float64\n",
      " 4   review_total_positive_word_counts           515738 non-null  float64\n",
      " 5   total_number_of_reviews_reviewer_has_given  515738 non-null  float64\n",
      " 6   reviewer_score                              515738 non-null  float64\n",
      " 7   days_since_review                           515738 non-null  float64\n",
      " 8   distance                                    515738 non-null  float64\n",
      " 9   сount_tags                                  515738 non-null  float64\n",
      " 10  rare_tag                                    515738 non-null  float64\n",
      " 11  popular_tag                                 515738 non-null  float64\n",
      " 12  Leisure_trip                                515738 non-null  float64\n",
      " 13  Submitted_from_a_mobile_device              515738 non-null  float64\n",
      " 14  Couple                                      515738 non-null  float64\n",
      " 15  Stayed_1_night                              515738 non-null  float64\n",
      " 16  Stayed_2_nights                             515738 non-null  float64\n",
      " 17  Solo_traveler                               515738 non-null  float64\n",
      " 18  Stayed_3_nights                             515738 non-null  float64\n",
      " 19  Business_trip                               515738 non-null  float64\n",
      " 20  Group                                       515738 non-null  float64\n",
      " 21  Family_with_young_children                  515738 non-null  float64\n",
      " 22  Stayed_4_nights                             515738 non-null  float64\n",
      " 23  Double_Room                                 515738 non-null  float64\n",
      " 24  Standard_Double_Room                        515738 non-null  float64\n",
      " 25  Superior_Double_Room                        515738 non-null  float64\n",
      " 26  Family_with_older_children                  515738 non-null  float64\n",
      " 27  date_diff                                   515738 non-null  float64\n",
      " 28  is_weekend                                  515738 non-null  float64\n",
      " 29  wd                                          515738 non-null  float64\n",
      " 30  md                                          515738 non-null  float64\n",
      " 31  population                                  515738 non-null  float64\n",
      " 32  pop_density                                 515738 non-null  float64\n",
      " 33  neg_compound                                515738 non-null  float64\n",
      " 34  pos_compound                                515738 non-null  float64\n",
      " 35  is_pos_neg_review                           515738 non-null  float64\n",
      " 36  is_pos_pos_rev                              515738 non-null  float64\n",
      " 37  location_United_Kingdom                     515738 non-null  float64\n",
      " 38  location_Paris_France                       515738 non-null  float64\n",
      " 39  location_Amsterdam_Netherlands              515738 non-null  float64\n",
      " 40  location_Milan_Italy                        515738 non-null  float64\n",
      " 41  location_Vienna_Austria                     515738 non-null  float64\n",
      " 42  location_Barcelona_Spain                    515738 non-null  float64\n",
      " 43  hotel_name_0                                515738 non-null  float64\n",
      " 44  hotel_name_1                                515738 non-null  float64\n",
      " 45  hotel_name_2                                515738 non-null  float64\n",
      " 46  hotel_name_3                                515738 non-null  float64\n",
      " 47  hotel_name_4                                515738 non-null  float64\n",
      " 48  hotel_name_5                                515738 non-null  float64\n",
      " 49  hotel_name_6                                515738 non-null  float64\n",
      " 50  hotel_name_7                                515738 non-null  float64\n",
      " 51  hotel_name_8                                515738 non-null  float64\n",
      " 52  hotel_name_9                                515738 non-null  float64\n",
      " 53  hotel_name_10                               515738 non-null  float64\n",
      " 54  reviewer_nationality_0                      515738 non-null  float64\n",
      " 55  reviewer_nationality_1                      515738 non-null  float64\n",
      " 56  reviewer_nationality_2                      515738 non-null  float64\n",
      " 57  reviewer_nationality_3                      515738 non-null  float64\n",
      " 58  reviewer_nationality_4                      515738 non-null  float64\n",
      " 59  reviewer_nationality_5                      515738 non-null  float64\n",
      " 60  reviewer_nationality_6                      515738 non-null  float64\n",
      " 61  reviewer_nationality_7                      515738 non-null  float64\n",
      "dtypes: float64(62)\n",
      "memory usage: 247.9 MB\n",
      "None\n",
      "CPU times: user 6.01 s, sys: 14.9 s, total: 20.9 s\n",
      "Wall time: 21.1 s\n"
     ]
    },
    {
     "data": {
      "text/html": [
       "<div>\n",
       "<style scoped>\n",
       "    .dataframe tbody tr th:only-of-type {\n",
       "        vertical-align: middle;\n",
       "    }\n",
       "\n",
       "    .dataframe tbody tr th {\n",
       "        vertical-align: top;\n",
       "    }\n",
       "\n",
       "    .dataframe thead th {\n",
       "        text-align: right;\n",
       "    }\n",
       "</style>\n",
       "<table border=\"1\" class=\"dataframe\">\n",
       "  <thead>\n",
       "    <tr style=\"text-align: right;\">\n",
       "      <th></th>\n",
       "      <th>additional_number_of_scoring</th>\n",
       "      <th>average_score</th>\n",
       "      <th>review_total_negative_word_counts</th>\n",
       "      <th>total_number_of_reviews</th>\n",
       "      <th>review_total_positive_word_counts</th>\n",
       "      <th>total_number_of_reviews_reviewer_has_given</th>\n",
       "      <th>reviewer_score</th>\n",
       "      <th>days_since_review</th>\n",
       "      <th>distance</th>\n",
       "      <th>сount_tags</th>\n",
       "      <th>rare_tag</th>\n",
       "      <th>popular_tag</th>\n",
       "      <th>Leisure_trip</th>\n",
       "      <th>Submitted_from_a_mobile_device</th>\n",
       "      <th>Couple</th>\n",
       "      <th>Stayed_1_night</th>\n",
       "      <th>Stayed_2_nights</th>\n",
       "      <th>Solo_traveler</th>\n",
       "      <th>Stayed_3_nights</th>\n",
       "      <th>Business_trip</th>\n",
       "      <th>Group</th>\n",
       "      <th>Family_with_young_children</th>\n",
       "      <th>Stayed_4_nights</th>\n",
       "      <th>Double_Room</th>\n",
       "      <th>Standard_Double_Room</th>\n",
       "      <th>Superior_Double_Room</th>\n",
       "      <th>Family_with_older_children</th>\n",
       "      <th>date_diff</th>\n",
       "      <th>is_weekend</th>\n",
       "      <th>wd</th>\n",
       "      <th>md</th>\n",
       "      <th>population</th>\n",
       "      <th>pop_density</th>\n",
       "      <th>neg_compound</th>\n",
       "      <th>pos_compound</th>\n",
       "      <th>is_pos_neg_review</th>\n",
       "      <th>is_pos_pos_rev</th>\n",
       "      <th>location_United_Kingdom</th>\n",
       "      <th>location_Paris_France</th>\n",
       "      <th>location_Amsterdam_Netherlands</th>\n",
       "      <th>location_Milan_Italy</th>\n",
       "      <th>location_Vienna_Austria</th>\n",
       "      <th>location_Barcelona_Spain</th>\n",
       "      <th>hotel_name_0</th>\n",
       "      <th>hotel_name_1</th>\n",
       "      <th>hotel_name_2</th>\n",
       "      <th>hotel_name_3</th>\n",
       "      <th>hotel_name_4</th>\n",
       "      <th>hotel_name_5</th>\n",
       "      <th>hotel_name_6</th>\n",
       "      <th>hotel_name_7</th>\n",
       "      <th>hotel_name_8</th>\n",
       "      <th>hotel_name_9</th>\n",
       "      <th>hotel_name_10</th>\n",
       "      <th>reviewer_nationality_0</th>\n",
       "      <th>reviewer_nationality_1</th>\n",
       "      <th>reviewer_nationality_2</th>\n",
       "      <th>reviewer_nationality_3</th>\n",
       "      <th>reviewer_nationality_4</th>\n",
       "      <th>reviewer_nationality_5</th>\n",
       "      <th>reviewer_nationality_6</th>\n",
       "      <th>reviewer_nationality_7</th>\n",
       "    </tr>\n",
       "    <tr>\n",
       "      <th>index</th>\n",
       "      <th></th>\n",
       "      <th></th>\n",
       "      <th></th>\n",
       "      <th></th>\n",
       "      <th></th>\n",
       "      <th></th>\n",
       "      <th></th>\n",
       "      <th></th>\n",
       "      <th></th>\n",
       "      <th></th>\n",
       "      <th></th>\n",
       "      <th></th>\n",
       "      <th></th>\n",
       "      <th></th>\n",
       "      <th></th>\n",
       "      <th></th>\n",
       "      <th></th>\n",
       "      <th></th>\n",
       "      <th></th>\n",
       "      <th></th>\n",
       "      <th></th>\n",
       "      <th></th>\n",
       "      <th></th>\n",
       "      <th></th>\n",
       "      <th></th>\n",
       "      <th></th>\n",
       "      <th></th>\n",
       "      <th></th>\n",
       "      <th></th>\n",
       "      <th></th>\n",
       "      <th></th>\n",
       "      <th></th>\n",
       "      <th></th>\n",
       "      <th></th>\n",
       "      <th></th>\n",
       "      <th></th>\n",
       "      <th></th>\n",
       "      <th></th>\n",
       "      <th></th>\n",
       "      <th></th>\n",
       "      <th></th>\n",
       "      <th></th>\n",
       "      <th></th>\n",
       "      <th></th>\n",
       "      <th></th>\n",
       "      <th></th>\n",
       "      <th></th>\n",
       "      <th></th>\n",
       "      <th></th>\n",
       "      <th></th>\n",
       "      <th></th>\n",
       "      <th></th>\n",
       "      <th></th>\n",
       "      <th></th>\n",
       "      <th></th>\n",
       "      <th></th>\n",
       "      <th></th>\n",
       "      <th></th>\n",
       "      <th></th>\n",
       "      <th></th>\n",
       "      <th></th>\n",
       "      <th></th>\n",
       "    </tr>\n",
       "  </thead>\n",
       "  <tbody>\n",
       "    <tr>\n",
       "      <th>260478</th>\n",
       "      <td>0.721746</td>\n",
       "      <td>0.760870</td>\n",
       "      <td>0.000000</td>\n",
       "      <td>0.447946</td>\n",
       "      <td>0.048101</td>\n",
       "      <td>0.011299</td>\n",
       "      <td>9.6</td>\n",
       "      <td>0.001370</td>\n",
       "      <td>0.328846</td>\n",
       "      <td>0.6</td>\n",
       "      <td>0.0</td>\n",
       "      <td>1.0</td>\n",
       "      <td>0.0</td>\n",
       "      <td>0.0</td>\n",
       "      <td>0.0</td>\n",
       "      <td>1.0</td>\n",
       "      <td>0.0</td>\n",
       "      <td>1.0</td>\n",
       "      <td>0.0</td>\n",
       "      <td>1.0</td>\n",
       "      <td>0.0</td>\n",
       "      <td>0.0</td>\n",
       "      <td>0.0</td>\n",
       "      <td>0.0</td>\n",
       "      <td>0.0</td>\n",
       "      <td>0.0</td>\n",
       "      <td>0.0</td>\n",
       "      <td>1.000000</td>\n",
       "      <td>0.0</td>\n",
       "      <td>0.333333</td>\n",
       "      <td>0.636364</td>\n",
       "      <td>1.0</td>\n",
       "      <td>0.07362</td>\n",
       "      <td>0.144648</td>\n",
       "      <td>0.708550</td>\n",
       "      <td>0.0</td>\n",
       "      <td>1.0</td>\n",
       "      <td>1.0</td>\n",
       "      <td>0.0</td>\n",
       "      <td>0.0</td>\n",
       "      <td>0.0</td>\n",
       "      <td>0.0</td>\n",
       "      <td>0.0</td>\n",
       "      <td>0.0</td>\n",
       "      <td>0.0</td>\n",
       "      <td>0.0</td>\n",
       "      <td>0.0</td>\n",
       "      <td>0.0</td>\n",
       "      <td>1.0</td>\n",
       "      <td>1.0</td>\n",
       "      <td>0.0</td>\n",
       "      <td>0.0</td>\n",
       "      <td>0.0</td>\n",
       "      <td>1.0</td>\n",
       "      <td>0.0</td>\n",
       "      <td>0.0</td>\n",
       "      <td>0.0</td>\n",
       "      <td>0.0</td>\n",
       "      <td>0.0</td>\n",
       "      <td>0.0</td>\n",
       "      <td>0.0</td>\n",
       "      <td>1.0</td>\n",
       "    </tr>\n",
       "    <tr>\n",
       "      <th>256832</th>\n",
       "      <td>0.117120</td>\n",
       "      <td>0.913043</td>\n",
       "      <td>0.000000</td>\n",
       "      <td>0.058820</td>\n",
       "      <td>0.012658</td>\n",
       "      <td>0.000000</td>\n",
       "      <td>8.8</td>\n",
       "      <td>0.815068</td>\n",
       "      <td>0.330769</td>\n",
       "      <td>0.6</td>\n",
       "      <td>0.0</td>\n",
       "      <td>1.0</td>\n",
       "      <td>1.0</td>\n",
       "      <td>0.0</td>\n",
       "      <td>1.0</td>\n",
       "      <td>1.0</td>\n",
       "      <td>0.0</td>\n",
       "      <td>0.0</td>\n",
       "      <td>0.0</td>\n",
       "      <td>0.0</td>\n",
       "      <td>0.0</td>\n",
       "      <td>0.0</td>\n",
       "      <td>0.0</td>\n",
       "      <td>0.0</td>\n",
       "      <td>0.0</td>\n",
       "      <td>0.0</td>\n",
       "      <td>0.0</td>\n",
       "      <td>0.998536</td>\n",
       "      <td>0.0</td>\n",
       "      <td>0.500000</td>\n",
       "      <td>1.000000</td>\n",
       "      <td>1.0</td>\n",
       "      <td>0.07362</td>\n",
       "      <td>0.144648</td>\n",
       "      <td>0.744464</td>\n",
       "      <td>0.0</td>\n",
       "      <td>1.0</td>\n",
       "      <td>1.0</td>\n",
       "      <td>0.0</td>\n",
       "      <td>0.0</td>\n",
       "      <td>0.0</td>\n",
       "      <td>0.0</td>\n",
       "      <td>0.0</td>\n",
       "      <td>0.0</td>\n",
       "      <td>1.0</td>\n",
       "      <td>0.0</td>\n",
       "      <td>1.0</td>\n",
       "      <td>1.0</td>\n",
       "      <td>0.0</td>\n",
       "      <td>1.0</td>\n",
       "      <td>0.0</td>\n",
       "      <td>0.0</td>\n",
       "      <td>0.0</td>\n",
       "      <td>1.0</td>\n",
       "      <td>0.0</td>\n",
       "      <td>0.0</td>\n",
       "      <td>0.0</td>\n",
       "      <td>0.0</td>\n",
       "      <td>0.0</td>\n",
       "      <td>0.0</td>\n",
       "      <td>0.0</td>\n",
       "      <td>1.0</td>\n",
       "    </tr>\n",
       "    <tr>\n",
       "      <th>2101</th>\n",
       "      <td>0.853040</td>\n",
       "      <td>0.630435</td>\n",
       "      <td>0.019608</td>\n",
       "      <td>0.572863</td>\n",
       "      <td>0.005063</td>\n",
       "      <td>0.045198</td>\n",
       "      <td>6.3</td>\n",
       "      <td>0.554795</td>\n",
       "      <td>0.330769</td>\n",
       "      <td>0.8</td>\n",
       "      <td>0.0</td>\n",
       "      <td>1.0</td>\n",
       "      <td>1.0</td>\n",
       "      <td>1.0</td>\n",
       "      <td>1.0</td>\n",
       "      <td>1.0</td>\n",
       "      <td>0.0</td>\n",
       "      <td>0.0</td>\n",
       "      <td>0.0</td>\n",
       "      <td>0.0</td>\n",
       "      <td>0.0</td>\n",
       "      <td>0.0</td>\n",
       "      <td>0.0</td>\n",
       "      <td>0.0</td>\n",
       "      <td>0.0</td>\n",
       "      <td>0.0</td>\n",
       "      <td>0.0</td>\n",
       "      <td>1.000000</td>\n",
       "      <td>0.0</td>\n",
       "      <td>0.666667</td>\n",
       "      <td>0.454545</td>\n",
       "      <td>1.0</td>\n",
       "      <td>0.07362</td>\n",
       "      <td>0.261419</td>\n",
       "      <td>0.495939</td>\n",
       "      <td>0.0</td>\n",
       "      <td>1.0</td>\n",
       "      <td>1.0</td>\n",
       "      <td>0.0</td>\n",
       "      <td>0.0</td>\n",
       "      <td>0.0</td>\n",
       "      <td>0.0</td>\n",
       "      <td>0.0</td>\n",
       "      <td>0.0</td>\n",
       "      <td>0.0</td>\n",
       "      <td>0.0</td>\n",
       "      <td>1.0</td>\n",
       "      <td>1.0</td>\n",
       "      <td>0.0</td>\n",
       "      <td>1.0</td>\n",
       "      <td>1.0</td>\n",
       "      <td>1.0</td>\n",
       "      <td>1.0</td>\n",
       "      <td>1.0</td>\n",
       "      <td>0.0</td>\n",
       "      <td>0.0</td>\n",
       "      <td>0.0</td>\n",
       "      <td>0.0</td>\n",
       "      <td>0.0</td>\n",
       "      <td>0.0</td>\n",
       "      <td>0.0</td>\n",
       "      <td>1.0</td>\n",
       "    </tr>\n",
       "  </tbody>\n",
       "</table>\n",
       "</div>"
      ],
      "text/plain": [
       "        additional_number_of_scoring  average_score  \\\n",
       "index                                                 \n",
       "260478                      0.721746       0.760870   \n",
       "256832                      0.117120       0.913043   \n",
       "2101                        0.853040       0.630435   \n",
       "\n",
       "        review_total_negative_word_counts  total_number_of_reviews  \\\n",
       "index                                                                \n",
       "260478                           0.000000                 0.447946   \n",
       "256832                           0.000000                 0.058820   \n",
       "2101                             0.019608                 0.572863   \n",
       "\n",
       "        review_total_positive_word_counts  \\\n",
       "index                                       \n",
       "260478                           0.048101   \n",
       "256832                           0.012658   \n",
       "2101                             0.005063   \n",
       "\n",
       "        total_number_of_reviews_reviewer_has_given  reviewer_score  \\\n",
       "index                                                                \n",
       "260478                                    0.011299             9.6   \n",
       "256832                                    0.000000             8.8   \n",
       "2101                                      0.045198             6.3   \n",
       "\n",
       "        days_since_review  distance  сount_tags  rare_tag  popular_tag  \\\n",
       "index                                                                    \n",
       "260478           0.001370  0.328846         0.6       0.0          1.0   \n",
       "256832           0.815068  0.330769         0.6       0.0          1.0   \n",
       "2101             0.554795  0.330769         0.8       0.0          1.0   \n",
       "\n",
       "        Leisure_trip  Submitted_from_a_mobile_device  Couple  Stayed_1_night  \\\n",
       "index                                                                          \n",
       "260478           0.0                             0.0     0.0             1.0   \n",
       "256832           1.0                             0.0     1.0             1.0   \n",
       "2101             1.0                             1.0     1.0             1.0   \n",
       "\n",
       "        Stayed_2_nights  Solo_traveler  Stayed_3_nights  Business_trip  Group  \\\n",
       "index                                                                           \n",
       "260478              0.0            1.0              0.0            1.0    0.0   \n",
       "256832              0.0            0.0              0.0            0.0    0.0   \n",
       "2101                0.0            0.0              0.0            0.0    0.0   \n",
       "\n",
       "        Family_with_young_children  Stayed_4_nights  Double_Room  \\\n",
       "index                                                              \n",
       "260478                         0.0              0.0          0.0   \n",
       "256832                         0.0              0.0          0.0   \n",
       "2101                           0.0              0.0          0.0   \n",
       "\n",
       "        Standard_Double_Room  Superior_Double_Room  \\\n",
       "index                                                \n",
       "260478                   0.0                   0.0   \n",
       "256832                   0.0                   0.0   \n",
       "2101                     0.0                   0.0   \n",
       "\n",
       "        Family_with_older_children  date_diff  is_weekend        wd        md  \\\n",
       "index                                                                           \n",
       "260478                         0.0   1.000000         0.0  0.333333  0.636364   \n",
       "256832                         0.0   0.998536         0.0  0.500000  1.000000   \n",
       "2101                           0.0   1.000000         0.0  0.666667  0.454545   \n",
       "\n",
       "        population  pop_density  neg_compound  pos_compound  \\\n",
       "index                                                         \n",
       "260478         1.0      0.07362      0.144648      0.708550   \n",
       "256832         1.0      0.07362      0.144648      0.744464   \n",
       "2101           1.0      0.07362      0.261419      0.495939   \n",
       "\n",
       "        is_pos_neg_review  is_pos_pos_rev  location_United_Kingdom  \\\n",
       "index                                                                \n",
       "260478                0.0             1.0                      1.0   \n",
       "256832                0.0             1.0                      1.0   \n",
       "2101                  0.0             1.0                      1.0   \n",
       "\n",
       "        location_Paris_France  location_Amsterdam_Netherlands  \\\n",
       "index                                                           \n",
       "260478                    0.0                             0.0   \n",
       "256832                    0.0                             0.0   \n",
       "2101                      0.0                             0.0   \n",
       "\n",
       "        location_Milan_Italy  location_Vienna_Austria  \\\n",
       "index                                                   \n",
       "260478                   0.0                      0.0   \n",
       "256832                   0.0                      0.0   \n",
       "2101                     0.0                      0.0   \n",
       "\n",
       "        location_Barcelona_Spain  hotel_name_0  hotel_name_1  hotel_name_2  \\\n",
       "index                                                                        \n",
       "260478                       0.0           0.0           0.0           0.0   \n",
       "256832                       0.0           0.0           1.0           0.0   \n",
       "2101                         0.0           0.0           0.0           0.0   \n",
       "\n",
       "        hotel_name_3  hotel_name_4  hotel_name_5  hotel_name_6  hotel_name_7  \\\n",
       "index                                                                          \n",
       "260478           0.0           0.0           1.0           1.0           0.0   \n",
       "256832           1.0           1.0           0.0           1.0           0.0   \n",
       "2101             1.0           1.0           0.0           1.0           1.0   \n",
       "\n",
       "        hotel_name_8  hotel_name_9  hotel_name_10  reviewer_nationality_0  \\\n",
       "index                                                                       \n",
       "260478           0.0           0.0            1.0                     0.0   \n",
       "256832           0.0           0.0            1.0                     0.0   \n",
       "2101             1.0           1.0            1.0                     0.0   \n",
       "\n",
       "        reviewer_nationality_1  reviewer_nationality_2  \\\n",
       "index                                                    \n",
       "260478                     0.0                     0.0   \n",
       "256832                     0.0                     0.0   \n",
       "2101                       0.0                     0.0   \n",
       "\n",
       "        reviewer_nationality_3  reviewer_nationality_4  \\\n",
       "index                                                    \n",
       "260478                     0.0                     0.0   \n",
       "256832                     0.0                     0.0   \n",
       "2101                       0.0                     0.0   \n",
       "\n",
       "        reviewer_nationality_5  reviewer_nationality_6  reviewer_nationality_7  \n",
       "index                                                                           \n",
       "260478                     0.0                     0.0                     1.0  \n",
       "256832                     0.0                     0.0                     1.0  \n",
       "2101                       0.0                     0.0                     1.0  "
      ]
     },
     "execution_count": 118,
     "metadata": {},
     "output_type": "execute_result"
    }
   ],
   "source": [
    "%%time\n",
    "\n",
    "# Закодируем оставшиеся нечисловые признаки\n",
    "combined_data = code_data(combined_data)\n",
    "\n",
    "# столбцы с числовыми данными для нормализации\n",
    "num_cols = ['additional_number_of_scoring', 'average_score', 'review_total_negative_word_counts', \n",
    "            'total_number_of_reviews', 'review_total_positive_word_counts', \n",
    "            'total_number_of_reviews_reviewer_has_given', 'days_since_review', 'distance', \n",
    "           'date_diff', 'population']\n",
    "\n",
    "# нормализуем все столбцы с числовыми данными\n",
    "for i  in list(combined_data.columns):\n",
    "    if i in num_cols:\n",
    "        combined_data[i] = RobustScaler_column(i)\n",
    "        \n",
    "# стандартизирую все значения\n",
    "MinMaxScaler_column\n",
    "for i  in list(combined_data.columns):\n",
    "    if i not in ['reviewer_score']:\n",
    "        combined_data[i] = MinMaxScaler_column(i)\n",
    "        \n",
    "\n",
    "print(combined_data.info())\n",
    "combined_data.sample(3)"
   ]
  },
  {
   "cell_type": "markdown",
   "metadata": {},
   "source": [
    "# 4. Modelling"
   ]
  },
  {
   "cell_type": "markdown",
   "metadata": {},
   "source": [
    "## 4.1. Splitting"
   ]
  },
  {
   "cell_type": "code",
   "execution_count": 119,
   "metadata": {},
   "outputs": [
    {
     "name": "stdout",
     "output_type": "stream",
     "text": [
      "train_data: (386803, 62)\n",
      "test_data: (128935, 61)\n",
      "Empty values in train: 0\n",
      "Empty values in test: 0\n"
     ]
    }
   ],
   "source": [
    "train_data, test_data = split_df(combined_data)\n",
    "# Проверки\n",
    "print('train_data:', train_data.shape)\n",
    "print('test_data:', test_data.shape)\n",
    "print('Empty values in train:', train_data.isna().any().sum())\n",
    "print('Empty values in test:', test_data.isna().any().sum())"
   ]
  },
  {
   "cell_type": "code",
   "execution_count": 120,
   "metadata": {
    "execution": {
     "iopub.execute_input": "2022-02-08T18:44:36.519263Z",
     "iopub.status.busy": "2022-02-08T18:44:36.518727Z",
     "iopub.status.idle": "2022-02-08T18:44:36.562679Z",
     "shell.execute_reply": "2022-02-08T18:44:36.562103Z",
     "shell.execute_reply.started": "2022-02-08T18:44:36.519234Z"
    }
   },
   "outputs": [],
   "source": [
    "y = train_data.reviewer_score.values            # наш таргет\n",
    "X = train_data.drop(['reviewer_score'], axis=1)"
   ]
  },
  {
   "cell_type": "code",
   "execution_count": 121,
   "metadata": {
    "execution": {
     "iopub.execute_input": "2022-02-08T18:44:36.564406Z",
     "iopub.status.busy": "2022-02-08T18:44:36.563976Z",
     "iopub.status.idle": "2022-02-08T18:44:36.612313Z",
     "shell.execute_reply": "2022-02-08T18:44:36.611682Z",
     "shell.execute_reply.started": "2022-02-08T18:44:36.564379Z"
    }
   },
   "outputs": [],
   "source": [
    "# Воспользуемся специальной функцие train_test_split для разбивки тестовых данных\n",
    "# выделим 20% данных на валидацию (параметр test_size)\n",
    "X_train, X_test, y_train, y_test = train_test_split(X, y, test_size=0.2, random_state=RANDOM_SEED)"
   ]
  },
  {
   "cell_type": "code",
   "execution_count": 122,
   "metadata": {
    "execution": {
     "iopub.execute_input": "2022-02-08T18:44:36.614067Z",
     "iopub.status.busy": "2022-02-08T18:44:36.613636Z",
     "iopub.status.idle": "2022-02-08T18:44:36.619417Z",
     "shell.execute_reply": "2022-02-08T18:44:36.618871Z",
     "shell.execute_reply.started": "2022-02-08T18:44:36.614037Z"
    }
   },
   "outputs": [
    {
     "data": {
      "text/plain": [
       "((128935, 61), (386803, 62), (386803, 61), (309442, 61), (77361, 61))"
      ]
     },
     "execution_count": 122,
     "metadata": {},
     "output_type": "execute_result"
    }
   ],
   "source": [
    "# проверяем\n",
    "test_data.shape, train_data.shape, X.shape, X_train.shape, X_test.shape"
   ]
  },
  {
   "cell_type": "markdown",
   "metadata": {},
   "source": [
    "## 4.2. Training and predicting"
   ]
  },
  {
   "cell_type": "code",
   "execution_count": 123,
   "metadata": {
    "execution": {
     "iopub.execute_input": "2022-02-08T18:44:36.620931Z",
     "iopub.status.busy": "2022-02-08T18:44:36.620476Z",
     "iopub.status.idle": "2022-02-08T18:44:36.630108Z",
     "shell.execute_reply": "2022-02-08T18:44:36.629422Z",
     "shell.execute_reply.started": "2022-02-08T18:44:36.620894Z"
    }
   },
   "outputs": [],
   "source": [
    "# Импортируем необходимые библиотеки:\n",
    "from sklearn.ensemble import RandomForestRegressor # инструмент для создания и обучения модели\n",
    "from sklearn import metrics # инструменты для оценки точности модели"
   ]
  },
  {
   "cell_type": "code",
   "execution_count": 124,
   "metadata": {
    "execution": {
     "iopub.execute_input": "2022-02-08T18:44:36.631625Z",
     "iopub.status.busy": "2022-02-08T18:44:36.631199Z",
     "iopub.status.idle": "2022-02-08T18:44:36.683947Z",
     "shell.execute_reply": "2022-02-08T18:44:36.683132Z",
     "shell.execute_reply.started": "2022-02-08T18:44:36.631597Z"
    }
   },
   "outputs": [],
   "source": [
    "# Создаём модель (НАСТРОЙКИ НЕ ТРОГАЕМ)\n",
    "model = RandomForestRegressor(n_estimators=100, verbose=1, n_jobs=-1, random_state=RANDOM_SEED)"
   ]
  },
  {
   "cell_type": "code",
   "execution_count": 125,
   "metadata": {
    "execution": {
     "iopub.execute_input": "2022-02-08T18:44:36.685824Z",
     "iopub.status.busy": "2022-02-08T18:44:36.685163Z",
     "iopub.status.idle": "2022-02-08T18:45:41.406488Z",
     "shell.execute_reply": "2022-02-08T18:45:41.405586Z",
     "shell.execute_reply.started": "2022-02-08T18:44:36.685783Z"
    }
   },
   "outputs": [
    {
     "name": "stderr",
     "output_type": "stream",
     "text": [
      "[Parallel(n_jobs=-1)]: Using backend ThreadingBackend with 8 concurrent workers.\n",
      "[Parallel(n_jobs=-1)]: Done  34 tasks      | elapsed:   51.7s\n",
      "[Parallel(n_jobs=-1)]: Done 100 out of 100 | elapsed:  2.2min finished\n",
      "[Parallel(n_jobs=8)]: Using backend ThreadingBackend with 8 concurrent workers.\n",
      "[Parallel(n_jobs=8)]: Done  34 tasks      | elapsed:    0.5s\n"
     ]
    },
    {
     "name": "stdout",
     "output_type": "stream",
     "text": [
      "CPU times: user 16min 12s, sys: 810 ms, total: 16min 13s\n",
      "Wall time: 2min 12s\n"
     ]
    },
    {
     "name": "stderr",
     "output_type": "stream",
     "text": [
      "[Parallel(n_jobs=8)]: Done 100 out of 100 | elapsed:    1.3s finished\n"
     ]
    }
   ],
   "source": [
    "%%time\n",
    "\n",
    "# Обучаем модель на тестовом наборе данных\n",
    "model.fit(X_train, y_train)\n",
    "\n",
    "# Используем обученную модель для предсказания рейтинга ресторанов в тестовой выборке.\n",
    "# Предсказанные значения записываем в переменную y_pred\n",
    "y_pred = model.predict(X_test)"
   ]
  },
  {
   "cell_type": "code",
   "execution_count": 127,
   "metadata": {
    "execution": {
     "iopub.execute_input": "2022-02-08T18:45:41.407913Z",
     "iopub.status.busy": "2022-02-08T18:45:41.407709Z",
     "iopub.status.idle": "2022-02-08T18:45:41.414446Z",
     "shell.execute_reply": "2022-02-08T18:45:41.413947Z",
     "shell.execute_reply.started": "2022-02-08T18:45:41.407883Z"
    }
   },
   "outputs": [
    {
     "name": "stdout",
     "output_type": "stream",
     "text": [
      "MAPE: 0.12560783921506988\n"
     ]
    }
   ],
   "source": [
    "# Сравниваем предсказанные значения (y_pred) с реальными (y_test), и смотрим насколько они в среднем отличаются\n",
    "# Метрика называется Mean Absolute Error (MAE) и показывает среднее отклонение предсказанных значений от фактических.\n",
    "print('MAPE:', metrics.mean_absolute_percentage_error(y_test, y_pred))"
   ]
  },
  {
   "cell_type": "markdown",
   "metadata": {},
   "source": [
    "## 4.3. Features evaluating"
   ]
  },
  {
   "cell_type": "code",
   "execution_count": 128,
   "metadata": {
    "execution": {
     "iopub.execute_input": "2022-02-08T18:45:41.416118Z",
     "iopub.status.busy": "2022-02-08T18:45:41.415495Z",
     "iopub.status.idle": "2022-02-08T18:45:41.864724Z",
     "shell.execute_reply": "2022-02-08T18:45:41.864128Z",
     "shell.execute_reply.started": "2022-02-08T18:45:41.416087Z"
    }
   },
   "outputs": [
    {
     "data": {
      "text/plain": [
       "<AxesSubplot: >"
      ]
     },
     "execution_count": 128,
     "metadata": {},
     "output_type": "execute_result"
    },
    {
     "data": {
      "image/png": "[encoded data removed]",
      "text/plain": [
       "<Figure size 720x720 with 1 Axes>"
      ]
     },
     "metadata": {
      "needs_background": "light"
     },
     "output_type": "display_data"
    }
   ],
   "source": [
    "# в RandomForestRegressor есть возможность вывести самые важные признаки для модели\n",
    "plt.rcParams['figure.figsize'] = (10,10)\n",
    "feat_importances = pd.Series(model.feature_importances_, index=X.columns)\n",
    "feat_importances.nlargest(15).plot(kind='barh')"
   ]
  },
  {
   "cell_type": "markdown",
   "metadata": {},
   "source": [
    "## 4.4. Блок подбора оптимальных параметров для модели"
   ]
  },
  {
   "cell_type": "code",
   "execution_count": 132,
   "metadata": {},
   "outputs": [
    {
     "name": "stdout",
     "output_type": "stream",
     "text": [
      "min_MAPE = 0.126\n",
      "0.review_total_negative_word_counts\n"
     ]
    },
    {
     "name": "stderr",
     "output_type": "stream",
     "text": [
      "[Parallel(n_jobs=-1)]: Using backend ThreadingBackend with 8 concurrent workers.\n",
      "[Parallel(n_jobs=-1)]: Done  34 tasks      | elapsed:   51.6s\n",
      "[Parallel(n_jobs=-1)]: Done 100 out of 100 | elapsed:  2.2min finished\n",
      "[Parallel(n_jobs=8)]: Using backend ThreadingBackend with 8 concurrent workers.\n",
      "[Parallel(n_jobs=8)]: Done  34 tasks      | elapsed:    0.5s\n",
      "[Parallel(n_jobs=8)]: Done 100 out of 100 | elapsed:    1.4s finished\n"
     ]
    },
    {
     "name": "stdout",
     "output_type": "stream",
     "text": [
      "0.13493040577876403\n",
      "не удаляем:= review_total_negative_word_counts\n",
      "1.pos_compound\n"
     ]
    },
    {
     "name": "stderr",
     "output_type": "stream",
     "text": [
      "[Parallel(n_jobs=-1)]: Using backend ThreadingBackend with 8 concurrent workers.\n",
      "[Parallel(n_jobs=-1)]: Done  34 tasks      | elapsed:   53.9s\n",
      "[Parallel(n_jobs=-1)]: Done 100 out of 100 | elapsed:  2.3min finished\n",
      "[Parallel(n_jobs=8)]: Using backend ThreadingBackend with 8 concurrent workers.\n",
      "[Parallel(n_jobs=8)]: Done  34 tasks      | elapsed:    0.5s\n",
      "[Parallel(n_jobs=8)]: Done 100 out of 100 | elapsed:    1.3s finished\n"
     ]
    },
    {
     "name": "stdout",
     "output_type": "stream",
     "text": [
      "0.12951023655984314\n",
      "не удаляем:= pos_compound\n",
      "2.average_score\n"
     ]
    },
    {
     "name": "stderr",
     "output_type": "stream",
     "text": [
      "[Parallel(n_jobs=-1)]: Using backend ThreadingBackend with 8 concurrent workers.\n",
      "[Parallel(n_jobs=-1)]: Done  34 tasks      | elapsed:   52.9s\n",
      "[Parallel(n_jobs=-1)]: Done 100 out of 100 | elapsed:  2.2min finished\n",
      "[Parallel(n_jobs=8)]: Using backend ThreadingBackend with 8 concurrent workers.\n",
      "[Parallel(n_jobs=8)]: Done  34 tasks      | elapsed:    0.5s\n",
      "[Parallel(n_jobs=8)]: Done 100 out of 100 | elapsed:    1.3s finished\n"
     ]
    },
    {
     "name": "stdout",
     "output_type": "stream",
     "text": [
      "0.12987588601823438\n",
      "не удаляем:= average_score\n",
      "3.neg_compound\n"
     ]
    },
    {
     "name": "stderr",
     "output_type": "stream",
     "text": [
      "[Parallel(n_jobs=-1)]: Using backend ThreadingBackend with 8 concurrent workers.\n",
      "[Parallel(n_jobs=-1)]: Done  34 tasks      | elapsed:   50.7s\n",
      "[Parallel(n_jobs=-1)]: Done 100 out of 100 | elapsed:  2.1min finished\n",
      "[Parallel(n_jobs=8)]: Using backend ThreadingBackend with 8 concurrent workers.\n",
      "[Parallel(n_jobs=8)]: Done  34 tasks      | elapsed:    0.5s\n",
      "[Parallel(n_jobs=8)]: Done 100 out of 100 | elapsed:    1.4s finished\n"
     ]
    },
    {
     "name": "stdout",
     "output_type": "stream",
     "text": [
      "0.12754005493166307\n",
      "не удаляем:= neg_compound\n",
      "4.days_since_review\n"
     ]
    },
    {
     "name": "stderr",
     "output_type": "stream",
     "text": [
      "[Parallel(n_jobs=-1)]: Using backend ThreadingBackend with 8 concurrent workers.\n",
      "[Parallel(n_jobs=-1)]: Done  34 tasks      | elapsed:   48.7s\n",
      "[Parallel(n_jobs=-1)]: Done 100 out of 100 | elapsed:  2.1min finished\n",
      "[Parallel(n_jobs=8)]: Using backend ThreadingBackend with 8 concurrent workers.\n",
      "[Parallel(n_jobs=8)]: Done  34 tasks      | elapsed:    0.5s\n",
      "[Parallel(n_jobs=8)]: Done 100 out of 100 | elapsed:    1.4s finished\n"
     ]
    },
    {
     "name": "stdout",
     "output_type": "stream",
     "text": [
      "0.12570553289257128\n",
      "не удаляем:= days_since_review\n",
      "5.review_total_positive_word_counts\n"
     ]
    },
    {
     "name": "stderr",
     "output_type": "stream",
     "text": [
      "[Parallel(n_jobs=-1)]: Using backend ThreadingBackend with 8 concurrent workers.\n",
      "[Parallel(n_jobs=-1)]: Done  34 tasks      | elapsed:   52.2s\n",
      "[Parallel(n_jobs=-1)]: Done 100 out of 100 | elapsed:  2.2min finished\n",
      "[Parallel(n_jobs=8)]: Using backend ThreadingBackend with 8 concurrent workers.\n",
      "[Parallel(n_jobs=8)]: Done  34 tasks      | elapsed:    0.5s\n",
      "[Parallel(n_jobs=8)]: Done 100 out of 100 | elapsed:    1.3s finished\n"
     ]
    },
    {
     "name": "stdout",
     "output_type": "stream",
     "text": [
      "0.12800797788802143\n",
      "не удаляем:= review_total_positive_word_counts\n",
      "6.total_number_of_reviews\n"
     ]
    },
    {
     "name": "stderr",
     "output_type": "stream",
     "text": [
      "[Parallel(n_jobs=-1)]: Using backend ThreadingBackend with 8 concurrent workers.\n",
      "[Parallel(n_jobs=-1)]: Done  34 tasks      | elapsed:   49.9s\n",
      "[Parallel(n_jobs=-1)]: Done 100 out of 100 | elapsed:  2.1min finished\n",
      "[Parallel(n_jobs=8)]: Using backend ThreadingBackend with 8 concurrent workers.\n",
      "[Parallel(n_jobs=8)]: Done  34 tasks      | elapsed:    0.5s\n",
      "[Parallel(n_jobs=8)]: Done 100 out of 100 | elapsed:    1.3s finished\n"
     ]
    },
    {
     "name": "stdout",
     "output_type": "stream",
     "text": [
      "0.12554249076956406\n",
      "не удаляем:= total_number_of_reviews\n",
      "7.additional_number_of_scoring\n"
     ]
    },
    {
     "name": "stderr",
     "output_type": "stream",
     "text": [
      "[Parallel(n_jobs=-1)]: Using backend ThreadingBackend with 8 concurrent workers.\n",
      "[Parallel(n_jobs=-1)]: Done  34 tasks      | elapsed:   51.5s\n",
      "[Parallel(n_jobs=-1)]: Done 100 out of 100 | elapsed:  2.2min finished\n",
      "[Parallel(n_jobs=8)]: Using backend ThreadingBackend with 8 concurrent workers.\n",
      "[Parallel(n_jobs=8)]: Done  34 tasks      | elapsed:    0.5s\n",
      "[Parallel(n_jobs=8)]: Done 100 out of 100 | elapsed:    1.3s finished\n"
     ]
    },
    {
     "name": "stdout",
     "output_type": "stream",
     "text": [
      "0.1255400192189861\n",
      "не удаляем:= additional_number_of_scoring\n",
      "8.total_number_of_reviews_reviewer_has_given\n"
     ]
    },
    {
     "name": "stderr",
     "output_type": "stream",
     "text": [
      "[Parallel(n_jobs=-1)]: Using backend ThreadingBackend with 8 concurrent workers.\n",
      "[Parallel(n_jobs=-1)]: Done  34 tasks      | elapsed:   53.3s\n",
      "[Parallel(n_jobs=-1)]: Done 100 out of 100 | elapsed:  2.3min finished\n",
      "[Parallel(n_jobs=8)]: Using backend ThreadingBackend with 8 concurrent workers.\n",
      "[Parallel(n_jobs=8)]: Done  34 tasks      | elapsed:    0.5s\n",
      "[Parallel(n_jobs=8)]: Done 100 out of 100 | elapsed:    1.3s finished\n"
     ]
    },
    {
     "name": "stdout",
     "output_type": "stream",
     "text": [
      "0.12573493907909822\n",
      "не удаляем:= total_number_of_reviews_reviewer_has_given\n",
      "9.md\n"
     ]
    },
    {
     "name": "stderr",
     "output_type": "stream",
     "text": [
      "[Parallel(n_jobs=-1)]: Using backend ThreadingBackend with 8 concurrent workers.\n",
      "[Parallel(n_jobs=-1)]: Done  34 tasks      | elapsed:   51.2s\n",
      "[Parallel(n_jobs=-1)]: Done 100 out of 100 | elapsed:  2.2min finished\n",
      "[Parallel(n_jobs=8)]: Using backend ThreadingBackend with 8 concurrent workers.\n",
      "[Parallel(n_jobs=8)]: Done  34 tasks      | elapsed:    0.5s\n",
      "[Parallel(n_jobs=8)]: Done 100 out of 100 | elapsed:    1.3s finished\n"
     ]
    },
    {
     "name": "stdout",
     "output_type": "stream",
     "text": [
      "0.1256281855387528\n",
      "не удаляем:= md\n",
      "10.distance\n"
     ]
    },
    {
     "name": "stderr",
     "output_type": "stream",
     "text": [
      "[Parallel(n_jobs=-1)]: Using backend ThreadingBackend with 8 concurrent workers.\n",
      "[Parallel(n_jobs=-1)]: Done  34 tasks      | elapsed:   52.3s\n",
      "[Parallel(n_jobs=-1)]: Done 100 out of 100 | elapsed:  2.2min finished\n",
      "[Parallel(n_jobs=8)]: Using backend ThreadingBackend with 8 concurrent workers.\n",
      "[Parallel(n_jobs=8)]: Done  34 tasks      | elapsed:    0.5s\n",
      "[Parallel(n_jobs=8)]: Done 100 out of 100 | elapsed:    1.4s finished\n"
     ]
    },
    {
     "name": "stdout",
     "output_type": "stream",
     "text": [
      "0.1256216337363752\n",
      "не удаляем:= distance\n",
      "11.wd\n"
     ]
    },
    {
     "name": "stderr",
     "output_type": "stream",
     "text": [
      "[Parallel(n_jobs=-1)]: Using backend ThreadingBackend with 8 concurrent workers.\n",
      "[Parallel(n_jobs=-1)]: Done  34 tasks      | elapsed:   51.2s\n",
      "[Parallel(n_jobs=-1)]: Done 100 out of 100 | elapsed:  2.2min finished\n",
      "[Parallel(n_jobs=8)]: Using backend ThreadingBackend with 8 concurrent workers.\n",
      "[Parallel(n_jobs=8)]: Done  34 tasks      | elapsed:    0.5s\n",
      "[Parallel(n_jobs=8)]: Done 100 out of 100 | elapsed:    1.3s finished\n"
     ]
    },
    {
     "name": "stdout",
     "output_type": "stream",
     "text": [
      "0.12556178922197517\n",
      "не удаляем:= wd\n",
      "12.date_diff\n"
     ]
    },
    {
     "name": "stderr",
     "output_type": "stream",
     "text": [
      "[Parallel(n_jobs=-1)]: Using backend ThreadingBackend with 8 concurrent workers.\n",
      "[Parallel(n_jobs=-1)]: Done  34 tasks      | elapsed:   52.5s\n",
      "[Parallel(n_jobs=-1)]: Done 100 out of 100 | elapsed:  2.2min finished\n",
      "[Parallel(n_jobs=8)]: Using backend ThreadingBackend with 8 concurrent workers.\n",
      "[Parallel(n_jobs=8)]: Done  34 tasks      | elapsed:    0.5s\n",
      "[Parallel(n_jobs=8)]: Done 100 out of 100 | elapsed:    1.5s finished\n"
     ]
    },
    {
     "name": "stdout",
     "output_type": "stream",
     "text": [
      "0.12555563136066136\n",
      "не удаляем:= date_diff\n",
      "13.pop_density\n"
     ]
    },
    {
     "name": "stderr",
     "output_type": "stream",
     "text": [
      "[Parallel(n_jobs=-1)]: Using backend ThreadingBackend with 8 concurrent workers.\n",
      "[Parallel(n_jobs=-1)]: Done  34 tasks      | elapsed:   50.8s\n",
      "[Parallel(n_jobs=-1)]: Done 100 out of 100 | elapsed:  2.2min finished\n",
      "[Parallel(n_jobs=8)]: Using backend ThreadingBackend with 8 concurrent workers.\n",
      "[Parallel(n_jobs=8)]: Done  34 tasks      | elapsed:    0.5s\n",
      "[Parallel(n_jobs=8)]: Done 100 out of 100 | elapsed:    1.3s finished\n"
     ]
    },
    {
     "name": "stdout",
     "output_type": "stream",
     "text": [
      "0.12562679786661315\n",
      "не удаляем:= pop_density\n",
      "14.сount_tags\n"
     ]
    },
    {
     "name": "stderr",
     "output_type": "stream",
     "text": [
      "[Parallel(n_jobs=-1)]: Using backend ThreadingBackend with 8 concurrent workers.\n",
      "[Parallel(n_jobs=-1)]: Done  34 tasks      | elapsed:   52.0s\n",
      "[Parallel(n_jobs=-1)]: Done 100 out of 100 | elapsed:  2.2min finished\n",
      "[Parallel(n_jobs=8)]: Using backend ThreadingBackend with 8 concurrent workers.\n",
      "[Parallel(n_jobs=8)]: Done  34 tasks      | elapsed:    0.5s\n",
      "[Parallel(n_jobs=8)]: Done 100 out of 100 | elapsed:    1.3s finished\n"
     ]
    },
    {
     "name": "stdout",
     "output_type": "stream",
     "text": [
      "0.12564303807635707\n",
      "не удаляем:= сount_tags\n",
      "15.Couple\n"
     ]
    },
    {
     "name": "stderr",
     "output_type": "stream",
     "text": [
      "[Parallel(n_jobs=-1)]: Using backend ThreadingBackend with 8 concurrent workers.\n",
      "[Parallel(n_jobs=-1)]: Done  34 tasks      | elapsed:   53.3s\n",
      "[Parallel(n_jobs=-1)]: Done 100 out of 100 | elapsed:  2.3min finished\n",
      "[Parallel(n_jobs=8)]: Using backend ThreadingBackend with 8 concurrent workers.\n",
      "[Parallel(n_jobs=8)]: Done  34 tasks      | elapsed:    0.5s\n",
      "[Parallel(n_jobs=8)]: Done 100 out of 100 | elapsed:    1.3s finished\n"
     ]
    },
    {
     "name": "stdout",
     "output_type": "stream",
     "text": [
      "0.12560192147671953\n",
      "не удаляем:= Couple\n",
      "16.Stayed_1_night\n"
     ]
    },
    {
     "name": "stderr",
     "output_type": "stream",
     "text": [
      "[Parallel(n_jobs=-1)]: Using backend ThreadingBackend with 8 concurrent workers.\n",
      "[Parallel(n_jobs=-1)]: Done  34 tasks      | elapsed:   52.0s\n",
      "[Parallel(n_jobs=-1)]: Done 100 out of 100 | elapsed:  2.2min finished\n",
      "[Parallel(n_jobs=8)]: Using backend ThreadingBackend with 8 concurrent workers.\n",
      "[Parallel(n_jobs=8)]: Done  34 tasks      | elapsed:    0.5s\n",
      "[Parallel(n_jobs=8)]: Done 100 out of 100 | elapsed:    1.5s finished\n"
     ]
    },
    {
     "name": "stdout",
     "output_type": "stream",
     "text": [
      "0.12559756890392199\n",
      "не удаляем:= Stayed_1_night\n",
      "17.population\n"
     ]
    },
    {
     "name": "stderr",
     "output_type": "stream",
     "text": [
      "[Parallel(n_jobs=-1)]: Using backend ThreadingBackend with 8 concurrent workers.\n",
      "[Parallel(n_jobs=-1)]: Done  34 tasks      | elapsed:   52.4s\n",
      "[Parallel(n_jobs=-1)]: Done 100 out of 100 | elapsed:  2.2min finished\n",
      "[Parallel(n_jobs=8)]: Using backend ThreadingBackend with 8 concurrent workers.\n",
      "[Parallel(n_jobs=8)]: Done  34 tasks      | elapsed:    0.5s\n",
      "[Parallel(n_jobs=8)]: Done 100 out of 100 | elapsed:    1.3s finished\n"
     ]
    },
    {
     "name": "stdout",
     "output_type": "stream",
     "text": [
      "0.12558722674917067\n",
      "не удаляем:= population\n",
      "18.Stayed_2_nights\n"
     ]
    },
    {
     "name": "stderr",
     "output_type": "stream",
     "text": [
      "[Parallel(n_jobs=-1)]: Using backend ThreadingBackend with 8 concurrent workers.\n",
      "[Parallel(n_jobs=-1)]: Done  34 tasks      | elapsed:   52.0s\n",
      "[Parallel(n_jobs=-1)]: Done 100 out of 100 | elapsed:  2.2min finished\n",
      "[Parallel(n_jobs=8)]: Using backend ThreadingBackend with 8 concurrent workers.\n",
      "[Parallel(n_jobs=8)]: Done  34 tasks      | elapsed:    0.5s\n",
      "[Parallel(n_jobs=8)]: Done 100 out of 100 | elapsed:    1.5s finished\n"
     ]
    },
    {
     "name": "stdout",
     "output_type": "stream",
     "text": [
      "0.12559907375500665\n",
      "не удаляем:= Stayed_2_nights\n",
      "19.reviewer_nationality_5\n"
     ]
    },
    {
     "name": "stderr",
     "output_type": "stream",
     "text": [
      "[Parallel(n_jobs=-1)]: Using backend ThreadingBackend with 8 concurrent workers.\n",
      "[Parallel(n_jobs=-1)]: Done  34 tasks      | elapsed:   53.1s\n",
      "[Parallel(n_jobs=-1)]: Done 100 out of 100 | elapsed:  2.3min finished\n",
      "[Parallel(n_jobs=8)]: Using backend ThreadingBackend with 8 concurrent workers.\n",
      "[Parallel(n_jobs=8)]: Done  34 tasks      | elapsed:    0.5s\n",
      "[Parallel(n_jobs=8)]: Done 100 out of 100 | elapsed:    1.3s finished\n"
     ]
    },
    {
     "name": "stdout",
     "output_type": "stream",
     "text": [
      "0.12560690038191424\n",
      "не удаляем:= reviewer_nationality_5\n",
      "20.hotel_name_4\n"
     ]
    },
    {
     "name": "stderr",
     "output_type": "stream",
     "text": [
      "[Parallel(n_jobs=-1)]: Using backend ThreadingBackend with 8 concurrent workers.\n",
      "[Parallel(n_jobs=-1)]: Done  34 tasks      | elapsed:   51.8s\n",
      "[Parallel(n_jobs=-1)]: Done 100 out of 100 | elapsed:  2.2min finished\n",
      "[Parallel(n_jobs=8)]: Using backend ThreadingBackend with 8 concurrent workers.\n",
      "[Parallel(n_jobs=8)]: Done  34 tasks      | elapsed:    0.6s\n",
      "[Parallel(n_jobs=8)]: Done 100 out of 100 | elapsed:    1.5s finished\n"
     ]
    },
    {
     "name": "stdout",
     "output_type": "stream",
     "text": [
      "0.12561647159462672\n",
      "не удаляем:= hotel_name_4\n",
      "21.hotel_name_5\n"
     ]
    },
    {
     "name": "stderr",
     "output_type": "stream",
     "text": [
      "[Parallel(n_jobs=-1)]: Using backend ThreadingBackend with 8 concurrent workers.\n",
      "[Parallel(n_jobs=-1)]: Done  34 tasks      | elapsed:   52.5s\n",
      "[Parallel(n_jobs=-1)]: Done 100 out of 100 | elapsed:  2.2min finished\n",
      "[Parallel(n_jobs=8)]: Using backend ThreadingBackend with 8 concurrent workers.\n",
      "[Parallel(n_jobs=8)]: Done  34 tasks      | elapsed:    0.5s\n",
      "[Parallel(n_jobs=8)]: Done 100 out of 100 | elapsed:    1.4s finished\n"
     ]
    },
    {
     "name": "stdout",
     "output_type": "stream",
     "text": [
      "0.12560288036178927\n",
      "не удаляем:= hotel_name_5\n",
      "22.hotel_name_8\n"
     ]
    },
    {
     "name": "stderr",
     "output_type": "stream",
     "text": [
      "[Parallel(n_jobs=-1)]: Using backend ThreadingBackend with 8 concurrent workers.\n",
      "[Parallel(n_jobs=-1)]: Done  34 tasks      | elapsed:   51.1s\n",
      "[Parallel(n_jobs=-1)]: Done 100 out of 100 | elapsed:  2.2min finished\n",
      "[Parallel(n_jobs=8)]: Using backend ThreadingBackend with 8 concurrent workers.\n",
      "[Parallel(n_jobs=8)]: Done  34 tasks      | elapsed:    0.6s\n",
      "[Parallel(n_jobs=8)]: Done 100 out of 100 | elapsed:    1.5s finished\n"
     ]
    },
    {
     "name": "stdout",
     "output_type": "stream",
     "text": [
      "0.1255761015525684\n",
      "не удаляем:= hotel_name_8\n",
      "23.hotel_name_7\n"
     ]
    },
    {
     "name": "stderr",
     "output_type": "stream",
     "text": [
      "[Parallel(n_jobs=-1)]: Using backend ThreadingBackend with 8 concurrent workers.\n",
      "[Parallel(n_jobs=-1)]: Done  34 tasks      | elapsed:   53.3s\n",
      "[Parallel(n_jobs=-1)]: Done 100 out of 100 | elapsed:  2.3min finished\n",
      "[Parallel(n_jobs=8)]: Using backend ThreadingBackend with 8 concurrent workers.\n",
      "[Parallel(n_jobs=8)]: Done  34 tasks      | elapsed:    0.5s\n",
      "[Parallel(n_jobs=8)]: Done 100 out of 100 | elapsed:    1.3s finished\n"
     ]
    },
    {
     "name": "stdout",
     "output_type": "stream",
     "text": [
      "0.12561571276518155\n",
      "не удаляем:= hotel_name_7\n",
      "24.hotel_name_6\n"
     ]
    },
    {
     "name": "stderr",
     "output_type": "stream",
     "text": [
      "[Parallel(n_jobs=-1)]: Using backend ThreadingBackend with 8 concurrent workers.\n",
      "[Parallel(n_jobs=-1)]: Done  34 tasks      | elapsed:   52.0s\n",
      "[Parallel(n_jobs=-1)]: Done 100 out of 100 | elapsed:  2.2min finished\n",
      "[Parallel(n_jobs=8)]: Using backend ThreadingBackend with 8 concurrent workers.\n",
      "[Parallel(n_jobs=8)]: Done  34 tasks      | elapsed:    0.6s\n",
      "[Parallel(n_jobs=8)]: Done 100 out of 100 | elapsed:    1.5s finished\n"
     ]
    },
    {
     "name": "stdout",
     "output_type": "stream",
     "text": [
      "0.1255479609498327\n",
      "не удаляем:= hotel_name_6\n",
      "25.hotel_name_10\n"
     ]
    },
    {
     "name": "stderr",
     "output_type": "stream",
     "text": [
      "[Parallel(n_jobs=-1)]: Using backend ThreadingBackend with 8 concurrent workers.\n",
      "[Parallel(n_jobs=-1)]: Done  34 tasks      | elapsed:   53.6s\n",
      "[Parallel(n_jobs=-1)]: Done 100 out of 100 | elapsed:  2.3min finished\n",
      "[Parallel(n_jobs=8)]: Using backend ThreadingBackend with 8 concurrent workers.\n",
      "[Parallel(n_jobs=8)]: Done  34 tasks      | elapsed:    0.5s\n",
      "[Parallel(n_jobs=8)]: Done 100 out of 100 | elapsed:    1.3s finished\n"
     ]
    },
    {
     "name": "stdout",
     "output_type": "stream",
     "text": [
      "0.12557667867835437\n",
      "не удаляем:= hotel_name_10\n",
      "26.reviewer_nationality_4\n"
     ]
    },
    {
     "name": "stderr",
     "output_type": "stream",
     "text": [
      "[Parallel(n_jobs=-1)]: Using backend ThreadingBackend with 8 concurrent workers.\n",
      "[Parallel(n_jobs=-1)]: Done  34 tasks      | elapsed:   54.3s\n",
      "[Parallel(n_jobs=-1)]: Done 100 out of 100 | elapsed:  2.3min finished\n",
      "[Parallel(n_jobs=8)]: Using backend ThreadingBackend with 8 concurrent workers.\n",
      "[Parallel(n_jobs=8)]: Done  34 tasks      | elapsed:    0.5s\n",
      "[Parallel(n_jobs=8)]: Done 100 out of 100 | elapsed:    1.3s finished\n"
     ]
    },
    {
     "name": "stdout",
     "output_type": "stream",
     "text": [
      "0.12568232391365133\n",
      "не удаляем:= reviewer_nationality_4\n",
      "27.reviewer_nationality_6\n"
     ]
    },
    {
     "name": "stderr",
     "output_type": "stream",
     "text": [
      "[Parallel(n_jobs=-1)]: Using backend ThreadingBackend with 8 concurrent workers.\n",
      "[Parallel(n_jobs=-1)]: Done  34 tasks      | elapsed:   53.6s\n",
      "[Parallel(n_jobs=-1)]: Done 100 out of 100 | elapsed:  2.3min finished\n",
      "[Parallel(n_jobs=8)]: Using backend ThreadingBackend with 8 concurrent workers.\n",
      "[Parallel(n_jobs=8)]: Done  34 tasks      | elapsed:    0.5s\n",
      "[Parallel(n_jobs=8)]: Done 100 out of 100 | elapsed:    1.3s finished\n"
     ]
    },
    {
     "name": "stdout",
     "output_type": "stream",
     "text": [
      "0.12564798051969978\n",
      "не удаляем:= reviewer_nationality_6\n",
      "28.hotel_name_3\n"
     ]
    },
    {
     "name": "stderr",
     "output_type": "stream",
     "text": [
      "[Parallel(n_jobs=-1)]: Using backend ThreadingBackend with 8 concurrent workers.\n",
      "[Parallel(n_jobs=-1)]: Done  34 tasks      | elapsed:   50.8s\n",
      "[Parallel(n_jobs=-1)]: Done 100 out of 100 | elapsed:  2.2min finished\n",
      "[Parallel(n_jobs=8)]: Using backend ThreadingBackend with 8 concurrent workers.\n",
      "[Parallel(n_jobs=8)]: Done  34 tasks      | elapsed:    0.5s\n",
      "[Parallel(n_jobs=8)]: Done 100 out of 100 | elapsed:    1.3s finished\n"
     ]
    },
    {
     "name": "stdout",
     "output_type": "stream",
     "text": [
      "0.12558901101440323\n",
      "не удаляем:= hotel_name_3\n",
      "29.hotel_name_9\n"
     ]
    },
    {
     "name": "stderr",
     "output_type": "stream",
     "text": [
      "[Parallel(n_jobs=-1)]: Using backend ThreadingBackend with 8 concurrent workers.\n",
      "[Parallel(n_jobs=-1)]: Done  34 tasks      | elapsed:   51.9s\n",
      "[Parallel(n_jobs=-1)]: Done 100 out of 100 | elapsed:  2.2min finished\n",
      "[Parallel(n_jobs=8)]: Using backend ThreadingBackend with 8 concurrent workers.\n",
      "[Parallel(n_jobs=8)]: Done  34 tasks      | elapsed:    0.6s\n",
      "[Parallel(n_jobs=8)]: Done 100 out of 100 | elapsed:    1.6s finished\n"
     ]
    },
    {
     "name": "stdout",
     "output_type": "stream",
     "text": [
      "0.1255849321467723\n",
      "не удаляем:= hotel_name_9\n",
      "30.reviewer_nationality_7\n"
     ]
    },
    {
     "name": "stderr",
     "output_type": "stream",
     "text": [
      "[Parallel(n_jobs=-1)]: Using backend ThreadingBackend with 8 concurrent workers.\n",
      "[Parallel(n_jobs=-1)]: Done  34 tasks      | elapsed:   53.3s\n",
      "[Parallel(n_jobs=-1)]: Done 100 out of 100 | elapsed:  2.3min finished\n",
      "[Parallel(n_jobs=8)]: Using backend ThreadingBackend with 8 concurrent workers.\n",
      "[Parallel(n_jobs=8)]: Done  34 tasks      | elapsed:    0.5s\n",
      "[Parallel(n_jobs=8)]: Done 100 out of 100 | elapsed:    1.3s finished\n"
     ]
    },
    {
     "name": "stdout",
     "output_type": "stream",
     "text": [
      "0.12557738167709795\n",
      "не удаляем:= reviewer_nationality_7\n",
      "31.reviewer_nationality_3\n"
     ]
    },
    {
     "name": "stderr",
     "output_type": "stream",
     "text": [
      "[Parallel(n_jobs=-1)]: Using backend ThreadingBackend with 8 concurrent workers.\n",
      "[Parallel(n_jobs=-1)]: Done  34 tasks      | elapsed:   53.7s\n",
      "[Parallel(n_jobs=-1)]: Done 100 out of 100 | elapsed:  2.3min finished\n",
      "[Parallel(n_jobs=8)]: Using backend ThreadingBackend with 8 concurrent workers.\n",
      "[Parallel(n_jobs=8)]: Done  34 tasks      | elapsed:    0.5s\n",
      "[Parallel(n_jobs=8)]: Done 100 out of 100 | elapsed:    1.3s finished\n"
     ]
    },
    {
     "name": "stdout",
     "output_type": "stream",
     "text": [
      "0.12559618451168275\n",
      "не удаляем:= reviewer_nationality_3\n",
      "32.Solo_traveler\n"
     ]
    },
    {
     "name": "stderr",
     "output_type": "stream",
     "text": [
      "[Parallel(n_jobs=-1)]: Using backend ThreadingBackend with 8 concurrent workers.\n",
      "[Parallel(n_jobs=-1)]: Done  34 tasks      | elapsed:   51.9s\n",
      "[Parallel(n_jobs=-1)]: Done 100 out of 100 | elapsed:  2.2min finished\n",
      "[Parallel(n_jobs=8)]: Using backend ThreadingBackend with 8 concurrent workers.\n",
      "[Parallel(n_jobs=8)]: Done  34 tasks      | elapsed:    0.5s\n",
      "[Parallel(n_jobs=8)]: Done 100 out of 100 | elapsed:    1.4s finished\n"
     ]
    },
    {
     "name": "stdout",
     "output_type": "stream",
     "text": [
      "0.12565542331812665\n",
      "не удаляем:= Solo_traveler\n",
      "33.hotel_name_2\n"
     ]
    },
    {
     "name": "stderr",
     "output_type": "stream",
     "text": [
      "[Parallel(n_jobs=-1)]: Using backend ThreadingBackend with 8 concurrent workers.\n",
      "[Parallel(n_jobs=-1)]: Done  34 tasks      | elapsed:   53.8s\n",
      "[Parallel(n_jobs=-1)]: Done 100 out of 100 | elapsed:  2.3min finished\n",
      "[Parallel(n_jobs=8)]: Using backend ThreadingBackend with 8 concurrent workers.\n",
      "[Parallel(n_jobs=8)]: Done  34 tasks      | elapsed:    0.5s\n",
      "[Parallel(n_jobs=8)]: Done 100 out of 100 | elapsed:    1.3s finished\n"
     ]
    },
    {
     "name": "stdout",
     "output_type": "stream",
     "text": [
      "0.12556242925695058\n",
      "не удаляем:= hotel_name_2\n",
      "34.reviewer_nationality_2\n"
     ]
    },
    {
     "name": "stderr",
     "output_type": "stream",
     "text": [
      "[Parallel(n_jobs=-1)]: Using backend ThreadingBackend with 8 concurrent workers.\n",
      "[Parallel(n_jobs=-1)]: Done  34 tasks      | elapsed:   51.6s\n",
      "[Parallel(n_jobs=-1)]: Done 100 out of 100 | elapsed:  2.2min finished\n",
      "[Parallel(n_jobs=8)]: Using backend ThreadingBackend with 8 concurrent workers.\n",
      "[Parallel(n_jobs=8)]: Done  34 tasks      | elapsed:    0.5s\n",
      "[Parallel(n_jobs=8)]: Done 100 out of 100 | elapsed:    1.3s finished\n"
     ]
    },
    {
     "name": "stdout",
     "output_type": "stream",
     "text": [
      "0.1256879899421473\n",
      "не удаляем:= reviewer_nationality_2\n",
      "35.Stayed_3_nights\n"
     ]
    },
    {
     "name": "stderr",
     "output_type": "stream",
     "text": [
      "[Parallel(n_jobs=-1)]: Using backend ThreadingBackend with 8 concurrent workers.\n",
      "[Parallel(n_jobs=-1)]: Done  34 tasks      | elapsed:   51.5s\n",
      "[Parallel(n_jobs=-1)]: Done 100 out of 100 | elapsed:  2.2min finished\n",
      "[Parallel(n_jobs=8)]: Using backend ThreadingBackend with 8 concurrent workers.\n",
      "[Parallel(n_jobs=8)]: Done  34 tasks      | elapsed:    0.5s\n",
      "[Parallel(n_jobs=8)]: Done 100 out of 100 | elapsed:    1.3s finished\n"
     ]
    },
    {
     "name": "stdout",
     "output_type": "stream",
     "text": [
      "0.1255426963660256\n",
      "не удаляем:= Stayed_3_nights\n",
      "36.Group\n"
     ]
    },
    {
     "name": "stderr",
     "output_type": "stream",
     "text": [
      "[Parallel(n_jobs=-1)]: Using backend ThreadingBackend with 8 concurrent workers.\n",
      "[Parallel(n_jobs=-1)]: Done  34 tasks      | elapsed:   51.1s\n",
      "[Parallel(n_jobs=-1)]: Done 100 out of 100 | elapsed:  2.2min finished\n",
      "[Parallel(n_jobs=8)]: Using backend ThreadingBackend with 8 concurrent workers.\n",
      "[Parallel(n_jobs=8)]: Done  34 tasks      | elapsed:    0.5s\n",
      "[Parallel(n_jobs=8)]: Done 100 out of 100 | elapsed:    1.3s finished\n"
     ]
    },
    {
     "name": "stdout",
     "output_type": "stream",
     "text": [
      "0.12562129190833868\n",
      "не удаляем:= Group\n",
      "37.Family_with_young_children\n"
     ]
    },
    {
     "name": "stderr",
     "output_type": "stream",
     "text": [
      "[Parallel(n_jobs=-1)]: Using backend ThreadingBackend with 8 concurrent workers.\n",
      "[Parallel(n_jobs=-1)]: Done  34 tasks      | elapsed:   52.3s\n",
      "[Parallel(n_jobs=-1)]: Done 100 out of 100 | elapsed:  2.2min finished\n",
      "[Parallel(n_jobs=8)]: Using backend ThreadingBackend with 8 concurrent workers.\n",
      "[Parallel(n_jobs=8)]: Done  34 tasks      | elapsed:    0.6s\n",
      "[Parallel(n_jobs=8)]: Done 100 out of 100 | elapsed:    1.4s finished\n"
     ]
    },
    {
     "name": "stdout",
     "output_type": "stream",
     "text": [
      "0.12558890784096766\n",
      "не удаляем:= Family_with_young_children\n",
      "38.Leisure_trip\n"
     ]
    },
    {
     "name": "stderr",
     "output_type": "stream",
     "text": [
      "[Parallel(n_jobs=-1)]: Using backend ThreadingBackend with 8 concurrent workers.\n",
      "[Parallel(n_jobs=-1)]: Done  34 tasks      | elapsed:   51.7s\n",
      "[Parallel(n_jobs=-1)]: Done 100 out of 100 | elapsed:  2.2min finished\n",
      "[Parallel(n_jobs=8)]: Using backend ThreadingBackend with 8 concurrent workers.\n",
      "[Parallel(n_jobs=8)]: Done  34 tasks      | elapsed:    0.5s\n",
      "[Parallel(n_jobs=8)]: Done 100 out of 100 | elapsed:    1.3s finished\n"
     ]
    },
    {
     "name": "stdout",
     "output_type": "stream",
     "text": [
      "0.1256057371727671\n",
      "не удаляем:= Leisure_trip\n",
      "39.Submitted_from_a_mobile_device\n"
     ]
    },
    {
     "name": "stderr",
     "output_type": "stream",
     "text": [
      "[Parallel(n_jobs=-1)]: Using backend ThreadingBackend with 8 concurrent workers.\n",
      "[Parallel(n_jobs=-1)]: Done  34 tasks      | elapsed:   52.1s\n",
      "[Parallel(n_jobs=-1)]: Done 100 out of 100 | elapsed:  2.2min finished\n",
      "[Parallel(n_jobs=8)]: Using backend ThreadingBackend with 8 concurrent workers.\n",
      "[Parallel(n_jobs=8)]: Done  34 tasks      | elapsed:    0.6s\n",
      "[Parallel(n_jobs=8)]: Done 100 out of 100 | elapsed:    1.4s finished\n"
     ]
    },
    {
     "name": "stdout",
     "output_type": "stream",
     "text": [
      "0.12567823226930439\n",
      "не удаляем:= Submitted_from_a_mobile_device\n",
      "40.hotel_name_1\n"
     ]
    },
    {
     "name": "stderr",
     "output_type": "stream",
     "text": [
      "[Parallel(n_jobs=-1)]: Using backend ThreadingBackend with 8 concurrent workers.\n",
      "[Parallel(n_jobs=-1)]: Done  34 tasks      | elapsed:   53.2s\n",
      "[Parallel(n_jobs=-1)]: Done 100 out of 100 | elapsed:  2.2min finished\n",
      "[Parallel(n_jobs=8)]: Using backend ThreadingBackend with 8 concurrent workers.\n",
      "[Parallel(n_jobs=8)]: Done  34 tasks      | elapsed:    0.5s\n",
      "[Parallel(n_jobs=8)]: Done 100 out of 100 | elapsed:    1.4s finished\n"
     ]
    },
    {
     "name": "stdout",
     "output_type": "stream",
     "text": [
      "0.1256068185966289\n",
      "не удаляем:= hotel_name_1\n",
      "41.Business_trip\n"
     ]
    },
    {
     "name": "stderr",
     "output_type": "stream",
     "text": [
      "[Parallel(n_jobs=-1)]: Using backend ThreadingBackend with 8 concurrent workers.\n",
      "[Parallel(n_jobs=-1)]: Done  34 tasks      | elapsed:   53.3s\n",
      "[Parallel(n_jobs=-1)]: Done 100 out of 100 | elapsed:  2.3min finished\n",
      "[Parallel(n_jobs=8)]: Using backend ThreadingBackend with 8 concurrent workers.\n",
      "[Parallel(n_jobs=8)]: Done  34 tasks      | elapsed:    0.5s\n",
      "[Parallel(n_jobs=8)]: Done 100 out of 100 | elapsed:    1.3s finished\n"
     ]
    },
    {
     "name": "stdout",
     "output_type": "stream",
     "text": [
      "0.12555650908159646\n",
      "не удаляем:= Business_trip\n",
      "42.popular_tag\n"
     ]
    },
    {
     "name": "stderr",
     "output_type": "stream",
     "text": [
      "[Parallel(n_jobs=-1)]: Using backend ThreadingBackend with 8 concurrent workers.\n",
      "[Parallel(n_jobs=-1)]: Done  34 tasks      | elapsed:   51.0s\n",
      "[Parallel(n_jobs=-1)]: Done 100 out of 100 | elapsed:  2.2min finished\n",
      "[Parallel(n_jobs=8)]: Using backend ThreadingBackend with 8 concurrent workers.\n",
      "[Parallel(n_jobs=8)]: Done  34 tasks      | elapsed:    0.5s\n",
      "[Parallel(n_jobs=8)]: Done 100 out of 100 | elapsed:    1.3s finished\n"
     ]
    },
    {
     "name": "stdout",
     "output_type": "stream",
     "text": [
      "0.12562094009805708\n",
      "не удаляем:= popular_tag\n",
      "43.Stayed_4_nights\n"
     ]
    },
    {
     "name": "stderr",
     "output_type": "stream",
     "text": [
      "[Parallel(n_jobs=-1)]: Using backend ThreadingBackend with 8 concurrent workers.\n",
      "[Parallel(n_jobs=-1)]: Done  34 tasks      | elapsed:   53.3s\n",
      "[Parallel(n_jobs=-1)]: Done 100 out of 100 | elapsed:  2.3min finished\n",
      "[Parallel(n_jobs=8)]: Using backend ThreadingBackend with 8 concurrent workers.\n",
      "[Parallel(n_jobs=8)]: Done  34 tasks      | elapsed:    0.5s\n",
      "[Parallel(n_jobs=8)]: Done 100 out of 100 | elapsed:    1.3s finished\n"
     ]
    },
    {
     "name": "stdout",
     "output_type": "stream",
     "text": [
      "0.1255861548641893\n",
      "не удаляем:= Stayed_4_nights\n",
      "44.reviewer_nationality_1\n"
     ]
    },
    {
     "name": "stderr",
     "output_type": "stream",
     "text": [
      "[Parallel(n_jobs=-1)]: Using backend ThreadingBackend with 8 concurrent workers.\n",
      "[Parallel(n_jobs=-1)]: Done  34 tasks      | elapsed:   52.7s\n",
      "[Parallel(n_jobs=-1)]: Done 100 out of 100 | elapsed:  2.2min finished\n",
      "[Parallel(n_jobs=8)]: Using backend ThreadingBackend with 8 concurrent workers.\n",
      "[Parallel(n_jobs=8)]: Done  34 tasks      | elapsed:    0.5s\n",
      "[Parallel(n_jobs=8)]: Done 100 out of 100 | elapsed:    1.3s finished\n"
     ]
    },
    {
     "name": "stdout",
     "output_type": "stream",
     "text": [
      "0.12566794376625876\n",
      "не удаляем:= reviewer_nationality_1\n",
      "45.Standard_Double_Room\n"
     ]
    },
    {
     "name": "stderr",
     "output_type": "stream",
     "text": [
      "[Parallel(n_jobs=-1)]: Using backend ThreadingBackend with 8 concurrent workers.\n",
      "[Parallel(n_jobs=-1)]: Done  34 tasks      | elapsed:   52.7s\n",
      "[Parallel(n_jobs=-1)]: Done 100 out of 100 | elapsed:  2.2min finished\n",
      "[Parallel(n_jobs=8)]: Using backend ThreadingBackend with 8 concurrent workers.\n",
      "[Parallel(n_jobs=8)]: Done  34 tasks      | elapsed:    0.5s\n",
      "[Parallel(n_jobs=8)]: Done 100 out of 100 | elapsed:    1.3s finished\n"
     ]
    },
    {
     "name": "stdout",
     "output_type": "stream",
     "text": [
      "0.12560830890524435\n",
      "не удаляем:= Standard_Double_Room\n",
      "46.Superior_Double_Room\n"
     ]
    },
    {
     "name": "stderr",
     "output_type": "stream",
     "text": [
      "[Parallel(n_jobs=-1)]: Using backend ThreadingBackend with 8 concurrent workers.\n",
      "[Parallel(n_jobs=-1)]: Done  34 tasks      | elapsed:   52.9s\n",
      "[Parallel(n_jobs=-1)]: Done 100 out of 100 | elapsed:  2.2min finished\n",
      "[Parallel(n_jobs=8)]: Using backend ThreadingBackend with 8 concurrent workers.\n",
      "[Parallel(n_jobs=8)]: Done  34 tasks      | elapsed:    0.5s\n",
      "[Parallel(n_jobs=8)]: Done 100 out of 100 | elapsed:    1.3s finished\n"
     ]
    },
    {
     "name": "stdout",
     "output_type": "stream",
     "text": [
      "0.12561382436358137\n",
      "не удаляем:= Superior_Double_Room\n",
      "47.Double_Room\n"
     ]
    },
    {
     "name": "stderr",
     "output_type": "stream",
     "text": [
      "[Parallel(n_jobs=-1)]: Using backend ThreadingBackend with 8 concurrent workers.\n",
      "[Parallel(n_jobs=-1)]: Done  34 tasks      | elapsed:   52.8s\n",
      "[Parallel(n_jobs=-1)]: Done 100 out of 100 | elapsed:  2.3min finished\n",
      "[Parallel(n_jobs=8)]: Using backend ThreadingBackend with 8 concurrent workers.\n",
      "[Parallel(n_jobs=8)]: Done  34 tasks      | elapsed:    0.5s\n",
      "[Parallel(n_jobs=8)]: Done 100 out of 100 | elapsed:    1.4s finished\n"
     ]
    },
    {
     "name": "stdout",
     "output_type": "stream",
     "text": [
      "0.1255602909848883\n",
      "не удаляем:= Double_Room\n",
      "48.Family_with_older_children\n"
     ]
    },
    {
     "name": "stderr",
     "output_type": "stream",
     "text": [
      "[Parallel(n_jobs=-1)]: Using backend ThreadingBackend with 8 concurrent workers.\n",
      "[Parallel(n_jobs=-1)]: Done  34 tasks      | elapsed:   56.2s\n",
      "[Parallel(n_jobs=-1)]: Done 100 out of 100 | elapsed:  2.3min finished\n",
      "[Parallel(n_jobs=8)]: Using backend ThreadingBackend with 8 concurrent workers.\n",
      "[Parallel(n_jobs=8)]: Done  34 tasks      | elapsed:    0.5s\n",
      "[Parallel(n_jobs=8)]: Done 100 out of 100 | elapsed:    1.4s finished\n"
     ]
    },
    {
     "name": "stdout",
     "output_type": "stream",
     "text": [
      "0.12560674871282876\n",
      "не удаляем:= Family_with_older_children\n",
      "49.is_weekend\n"
     ]
    },
    {
     "name": "stderr",
     "output_type": "stream",
     "text": [
      "[Parallel(n_jobs=-1)]: Using backend ThreadingBackend with 8 concurrent workers.\n",
      "[Parallel(n_jobs=-1)]: Done  34 tasks      | elapsed:   53.6s\n",
      "[Parallel(n_jobs=-1)]: Done 100 out of 100 | elapsed:  2.3min finished\n",
      "[Parallel(n_jobs=8)]: Using backend ThreadingBackend with 8 concurrent workers.\n",
      "[Parallel(n_jobs=8)]: Done  34 tasks      | elapsed:    0.5s\n",
      "[Parallel(n_jobs=8)]: Done 100 out of 100 | elapsed:    1.3s finished\n"
     ]
    },
    {
     "name": "stdout",
     "output_type": "stream",
     "text": [
      "0.12560604535387687\n",
      "не удаляем:= is_weekend\n",
      "50.rare_tag\n"
     ]
    },
    {
     "name": "stderr",
     "output_type": "stream",
     "text": [
      "[Parallel(n_jobs=-1)]: Using backend ThreadingBackend with 8 concurrent workers.\n",
      "[Parallel(n_jobs=-1)]: Done  34 tasks      | elapsed:   53.7s\n",
      "[Parallel(n_jobs=-1)]: Done 100 out of 100 | elapsed:  2.3min finished\n",
      "[Parallel(n_jobs=8)]: Using backend ThreadingBackend with 8 concurrent workers.\n",
      "[Parallel(n_jobs=8)]: Done  34 tasks      | elapsed:    0.5s\n",
      "[Parallel(n_jobs=8)]: Done 100 out of 100 | elapsed:    1.6s finished\n"
     ]
    },
    {
     "name": "stdout",
     "output_type": "stream",
     "text": [
      "0.12565745800402017\n",
      "не удаляем:= rare_tag\n",
      "51.hotel_name_0\n"
     ]
    },
    {
     "name": "stderr",
     "output_type": "stream",
     "text": [
      "[Parallel(n_jobs=-1)]: Using backend ThreadingBackend with 8 concurrent workers.\n",
      "[Parallel(n_jobs=-1)]: Done  34 tasks      | elapsed:   51.6s\n",
      "[Parallel(n_jobs=-1)]: Done 100 out of 100 | elapsed:  2.2min finished\n",
      "[Parallel(n_jobs=8)]: Using backend ThreadingBackend with 8 concurrent workers.\n",
      "[Parallel(n_jobs=8)]: Done  34 tasks      | elapsed:    0.5s\n",
      "[Parallel(n_jobs=8)]: Done 100 out of 100 | elapsed:    1.3s finished\n"
     ]
    },
    {
     "name": "stdout",
     "output_type": "stream",
     "text": [
      "0.12562283001931465\n",
      "не удаляем:= hotel_name_0\n",
      "52.location_Milan_Italy\n"
     ]
    },
    {
     "name": "stderr",
     "output_type": "stream",
     "text": [
      "[Parallel(n_jobs=-1)]: Using backend ThreadingBackend with 8 concurrent workers.\n",
      "[Parallel(n_jobs=-1)]: Done  34 tasks      | elapsed:   50.9s\n",
      "[Parallel(n_jobs=-1)]: Done 100 out of 100 | elapsed:  2.2min finished\n",
      "[Parallel(n_jobs=8)]: Using backend ThreadingBackend with 8 concurrent workers.\n",
      "[Parallel(n_jobs=8)]: Done  34 tasks      | elapsed:    0.5s\n",
      "[Parallel(n_jobs=8)]: Done 100 out of 100 | elapsed:    1.3s finished\n"
     ]
    },
    {
     "name": "stdout",
     "output_type": "stream",
     "text": [
      "0.12558930898732573\n",
      "не удаляем:= location_Milan_Italy\n",
      "53.location_Barcelona_Spain\n"
     ]
    },
    {
     "name": "stderr",
     "output_type": "stream",
     "text": [
      "[Parallel(n_jobs=-1)]: Using backend ThreadingBackend with 8 concurrent workers.\n",
      "[Parallel(n_jobs=-1)]: Done  34 tasks      | elapsed:   54.1s\n",
      "[Parallel(n_jobs=-1)]: Done 100 out of 100 | elapsed:  2.3min finished\n",
      "[Parallel(n_jobs=8)]: Using backend ThreadingBackend with 8 concurrent workers.\n",
      "[Parallel(n_jobs=8)]: Done  34 tasks      | elapsed:    0.5s\n",
      "[Parallel(n_jobs=8)]: Done 100 out of 100 | elapsed:    1.3s finished\n"
     ]
    },
    {
     "name": "stdout",
     "output_type": "stream",
     "text": [
      "0.12557641215668455\n",
      "не удаляем:= location_Barcelona_Spain\n",
      "54.is_pos_neg_review\n"
     ]
    },
    {
     "name": "stderr",
     "output_type": "stream",
     "text": [
      "[Parallel(n_jobs=-1)]: Using backend ThreadingBackend with 8 concurrent workers.\n",
      "[Parallel(n_jobs=-1)]: Done  34 tasks      | elapsed:   52.9s\n",
      "[Parallel(n_jobs=-1)]: Done 100 out of 100 | elapsed:  2.3min finished\n",
      "[Parallel(n_jobs=8)]: Using backend ThreadingBackend with 8 concurrent workers.\n",
      "[Parallel(n_jobs=8)]: Done  34 tasks      | elapsed:    0.6s\n",
      "[Parallel(n_jobs=8)]: Done 100 out of 100 | elapsed:    1.5s finished\n"
     ]
    },
    {
     "name": "stdout",
     "output_type": "stream",
     "text": [
      "0.12560930553789995\n",
      "не удаляем:= is_pos_neg_review\n",
      "55.location_United_Kingdom\n"
     ]
    },
    {
     "name": "stderr",
     "output_type": "stream",
     "text": [
      "[Parallel(n_jobs=-1)]: Using backend ThreadingBackend with 8 concurrent workers.\n",
      "[Parallel(n_jobs=-1)]: Done  34 tasks      | elapsed:   51.5s\n",
      "[Parallel(n_jobs=-1)]: Done 100 out of 100 | elapsed:  2.2min finished\n",
      "[Parallel(n_jobs=8)]: Using backend ThreadingBackend with 8 concurrent workers.\n",
      "[Parallel(n_jobs=8)]: Done  34 tasks      | elapsed:    0.5s\n",
      "[Parallel(n_jobs=8)]: Done 100 out of 100 | elapsed:    1.3s finished\n"
     ]
    },
    {
     "name": "stdout",
     "output_type": "stream",
     "text": [
      "0.12559306862601047\n",
      "не удаляем:= location_United_Kingdom\n",
      "56.location_Amsterdam_Netherlands\n"
     ]
    },
    {
     "name": "stderr",
     "output_type": "stream",
     "text": [
      "[Parallel(n_jobs=-1)]: Using backend ThreadingBackend with 8 concurrent workers.\n",
      "[Parallel(n_jobs=-1)]: Done  34 tasks      | elapsed:   55.5s\n",
      "[Parallel(n_jobs=-1)]: Done 100 out of 100 | elapsed:  2.3min finished\n",
      "[Parallel(n_jobs=8)]: Using backend ThreadingBackend with 8 concurrent workers.\n",
      "[Parallel(n_jobs=8)]: Done  34 tasks      | elapsed:    0.5s\n",
      "[Parallel(n_jobs=8)]: Done 100 out of 100 | elapsed:    1.3s finished\n"
     ]
    },
    {
     "name": "stdout",
     "output_type": "stream",
     "text": [
      "0.12557471054825892\n",
      "не удаляем:= location_Amsterdam_Netherlands\n",
      "57.location_Paris_France\n"
     ]
    },
    {
     "name": "stderr",
     "output_type": "stream",
     "text": [
      "[Parallel(n_jobs=-1)]: Using backend ThreadingBackend with 8 concurrent workers.\n",
      "[Parallel(n_jobs=-1)]: Done  34 tasks      | elapsed:   52.0s\n",
      "[Parallel(n_jobs=-1)]: Done 100 out of 100 | elapsed:  2.3min finished\n",
      "[Parallel(n_jobs=8)]: Using backend ThreadingBackend with 8 concurrent workers.\n",
      "[Parallel(n_jobs=8)]: Done  34 tasks      | elapsed:    0.6s\n",
      "[Parallel(n_jobs=8)]: Done 100 out of 100 | elapsed:    1.5s finished\n"
     ]
    },
    {
     "name": "stdout",
     "output_type": "stream",
     "text": [
      "0.12561190846687964\n",
      "не удаляем:= location_Paris_France\n",
      "58.is_pos_pos_rev\n"
     ]
    },
    {
     "name": "stderr",
     "output_type": "stream",
     "text": [
      "[Parallel(n_jobs=-1)]: Using backend ThreadingBackend with 8 concurrent workers.\n",
      "[Parallel(n_jobs=-1)]: Done  34 tasks      | elapsed:   51.7s\n",
      "[Parallel(n_jobs=-1)]: Done 100 out of 100 | elapsed:  2.2min finished\n",
      "[Parallel(n_jobs=8)]: Using backend ThreadingBackend with 8 concurrent workers.\n",
      "[Parallel(n_jobs=8)]: Done  34 tasks      | elapsed:    0.5s\n",
      "[Parallel(n_jobs=8)]: Done 100 out of 100 | elapsed:    1.3s finished\n"
     ]
    },
    {
     "name": "stdout",
     "output_type": "stream",
     "text": [
      "0.12560991289914514\n",
      "не удаляем:= is_pos_pos_rev\n",
      "59.location_Vienna_Austria\n"
     ]
    },
    {
     "name": "stderr",
     "output_type": "stream",
     "text": [
      "[Parallel(n_jobs=-1)]: Using backend ThreadingBackend with 8 concurrent workers.\n",
      "[Parallel(n_jobs=-1)]: Done  34 tasks      | elapsed:   53.6s\n",
      "[Parallel(n_jobs=-1)]: Done 100 out of 100 | elapsed:  2.3min finished\n",
      "[Parallel(n_jobs=8)]: Using backend ThreadingBackend with 8 concurrent workers.\n",
      "[Parallel(n_jobs=8)]: Done  34 tasks      | elapsed:    0.6s\n",
      "[Parallel(n_jobs=8)]: Done 100 out of 100 | elapsed:    1.5s finished\n"
     ]
    },
    {
     "name": "stdout",
     "output_type": "stream",
     "text": [
      "0.12562338391085276\n",
      "не удаляем:= location_Vienna_Austria\n",
      "60.reviewer_nationality_0\n"
     ]
    },
    {
     "name": "stderr",
     "output_type": "stream",
     "text": [
      "[Parallel(n_jobs=-1)]: Using backend ThreadingBackend with 8 concurrent workers.\n",
      "[Parallel(n_jobs=-1)]: Done  34 tasks      | elapsed:   53.6s\n",
      "[Parallel(n_jobs=-1)]: Done 100 out of 100 | elapsed:  2.3min finished\n",
      "[Parallel(n_jobs=8)]: Using backend ThreadingBackend with 8 concurrent workers.\n",
      "[Parallel(n_jobs=8)]: Done  34 tasks      | elapsed:    0.5s\n"
     ]
    },
    {
     "name": "stdout",
     "output_type": "stream",
     "text": [
      "0.12563872934033476\n",
      "не удаляем:= reviewer_nationality_0\n",
      "i=60\n",
      "remove_list: []\n",
      "log_list: [['review_total_negative_word_counts', 0.13493040577876403], ['pos_compound', 0.12951023655984314], ['average_score', 0.12987588601823438], ['neg_compound', 0.12754005493166307], ['days_since_review', 0.12570553289257128], ['review_total_positive_word_counts', 0.12800797788802143], ['total_number_of_reviews', 0.12554249076956406], ['additional_number_of_scoring', 0.1255400192189861], ['total_number_of_reviews_reviewer_has_given', 0.12573493907909822], ['md', 0.1256281855387528], ['distance', 0.1256216337363752], ['wd', 0.12556178922197517], ['date_diff', 0.12555563136066136], ['pop_density', 0.12562679786661315], ['сount_tags', 0.12564303807635707], ['Couple', 0.12560192147671953], ['Stayed_1_night', 0.12559756890392199], ['population', 0.12558722674917067], ['Stayed_2_nights', 0.12559907375500665], ['reviewer_nationality_5', 0.12560690038191424], ['hotel_name_4', 0.12561647159462672], ['hotel_name_5', 0.12560288036178927], ['hotel_name_8', 0.1255761015525684], ['hotel_name_7', 0.12561571276518155], ['hotel_name_6', 0.1255479609498327], ['hotel_name_10', 0.12557667867835437], ['reviewer_nationality_4', 0.12568232391365133], ['reviewer_nationality_6', 0.12564798051969978], ['hotel_name_3', 0.12558901101440323], ['hotel_name_9', 0.1255849321467723], ['reviewer_nationality_7', 0.12557738167709795], ['reviewer_nationality_3', 0.12559618451168275], ['Solo_traveler', 0.12565542331812665], ['hotel_name_2', 0.12556242925695058], ['reviewer_nationality_2', 0.1256879899421473], ['Stayed_3_nights', 0.1255426963660256], ['Group', 0.12562129190833868], ['Family_with_young_children', 0.12558890784096766], ['Leisure_trip', 0.1256057371727671], ['Submitted_from_a_mobile_device', 0.12567823226930439], ['hotel_name_1', 0.1256068185966289], ['Business_trip', 0.12555650908159646], ['popular_tag', 0.12562094009805708], ['Stayed_4_nights', 0.1255861548641893], ['reviewer_nationality_1', 0.12566794376625876], ['Standard_Double_Room', 0.12560830890524435], ['Superior_Double_Room', 0.12561382436358137], ['Double_Room', 0.1255602909848883], ['Family_with_older_children', 0.12560674871282876], ['is_weekend', 0.12560604535387687], ['rare_tag', 0.12565745800402017], ['hotel_name_0', 0.12562283001931465], ['location_Milan_Italy', 0.12558930898732573], ['location_Barcelona_Spain', 0.12557641215668455], ['is_pos_neg_review', 0.12560930553789995], ['location_United_Kingdom', 0.12559306862601047], ['location_Amsterdam_Netherlands', 0.12557471054825892], ['location_Paris_France', 0.12561190846687964], ['is_pos_pos_rev', 0.12560991289914514], ['location_Vienna_Austria', 0.12562338391085276], ['reviewer_nationality_0', 0.12563872934033476]]\n"
     ]
    },
    {
     "name": "stderr",
     "output_type": "stream",
     "text": [
      "[Parallel(n_jobs=8)]: Done 100 out of 100 | elapsed:    1.3s finished\n"
     ]
    }
   ],
   "source": [
    "# # блок тестирования оптимального набора\n",
    "list_ofAllColumnsSortImportant = list(feat_importances.nlargest(len(train_data.columns)-1).index)\n",
    "MAPE = 0.12560783921506988\n",
    "min_MAPE = round(MAPE,3)\n",
    "print(f\"min_MAPE = {min_MAPE}\")\n",
    "remove_list = []\n",
    "log = []\n",
    "delta =0.002\n",
    "\n",
    "for i in range(0,len(list_ofAllColumnsSortImportant),1):\n",
    "    col = list_ofAllColumnsSortImportant[i]\n",
    "    print(f\"{i}.{col}\")\n",
    "    ###\n",
    "\n",
    "    y = train_data.reviewer_score.values            # наш таргет\n",
    "    X = train_data.drop(['reviewer_score']+[col], axis=1)\n",
    "\n",
    "    # Воспользуемся специальной функцие train_test_split для разбивки тестовых данных\n",
    "    # выделим 20% данных на валидацию (параметр test_size)\n",
    "    X_train, X_test, y_train, y_test = train_test_split(X, y, test_size=0.2, random_state=RANDOM_SEED)\n",
    "    \n",
    "    model_ = RandomForestRegressor(n_estimators=100, verbose=1, n_jobs=-1, random_state=RANDOM_SEED)\n",
    "    model_.fit(X_train, y_train)\n",
    "\n",
    "    y_pred = model_.predict(X_test)\n",
    "    \n",
    "    temp_MAPE = metrics.mean_absolute_percentage_error(y_test, y_pred)\n",
    "     ###\n",
    "    print(temp_MAPE)\n",
    "    log.append([col, temp_MAPE])\n",
    "    if round(temp_MAPE,3) <= min_MAPE-delta:\n",
    "        remove_list.append(col)\n",
    "        print(f\"удаляем:= {col}\")\n",
    "    else:\n",
    "        print(f\"не удаляем:= {col}\")\n",
    "print(f\"i={i}\")\n",
    "print(f\"remove_list: {remove_list}\")\n",
    "print(f\"log_list: {log}\")"
   ]
  },
  {
   "cell_type": "markdown",
   "metadata": {},
   "source": [
    "### log_list\n",
    "min_MAPE = 0.126\n",
    "log_list: [['review_total_negative_word_counts', 0.13493040577876403], ['pos_compound', 0.12951023655984314], ['average_score', 0.12987588601823438], ['neg_compound', 0.12754005493166307], ['days_since_review', 0.12570553289257128], ['review_total_positive_word_counts', 0.12800797788802143], ['total_number_of_reviews', 0.12554249076956406], ['additional_number_of_scoring', 0.1255400192189861], ['total_number_of_reviews_reviewer_has_given', 0.12573493907909822], ['md', 0.1256281855387528], ['distance', 0.1256216337363752], ['wd', 0.12556178922197517], ['date_diff', 0.12555563136066136], ['pop_density', 0.12562679786661315], ['сount_tags', 0.12564303807635707], ['Couple', 0.12560192147671953], ['Stayed_1_night', 0.12559756890392199], ['population', 0.12558722674917067], ['Stayed_2_nights', 0.12559907375500665], ['reviewer_nationality_5', 0.12560690038191424], ['hotel_name_4', 0.12561647159462672], ['hotel_name_5', 0.12560288036178927], ['hotel_name_8', 0.1255761015525684], ['hotel_name_7', 0.12561571276518155], ['hotel_name_6', 0.1255479609498327], ['hotel_name_10', 0.12557667867835437], ['reviewer_nationality_4', 0.12568232391365133], ['reviewer_nationality_6', 0.12564798051969978], ['hotel_name_3', 0.12558901101440323], ['hotel_name_9', 0.1255849321467723], ['reviewer_nationality_7', 0.12557738167709795], ['reviewer_nationality_3', 0.12559618451168275], ['Solo_traveler', 0.12565542331812665], ['hotel_name_2', 0.12556242925695058], ['reviewer_nationality_2', 0.1256879899421473], ['Stayed_3_nights', 0.1255426963660256], ['Group', 0.12562129190833868], ['Family_with_young_children', 0.12558890784096766], ['Leisure_trip', 0.1256057371727671], ['Submitted_from_a_mobile_device', 0.12567823226930439], ['hotel_name_1', 0.1256068185966289], ['Business_trip', 0.12555650908159646], ['popular_tag', 0.12562094009805708], ['Stayed_4_nights', 0.1255861548641893], ['reviewer_nationality_1', 0.12566794376625876], ['Standard_Double_Room', 0.12560830890524435], ['Superior_Double_Room', 0.12561382436358137], ['Double_Room', 0.1255602909848883], ['Family_with_older_children', 0.12560674871282876], ['is_weekend', 0.12560604535387687], ['rare_tag', 0.12565745800402017], ['hotel_name_0', 0.12562283001931465], ['location_Milan_Italy', 0.12558930898732573], ['location_Barcelona_Spain', 0.12557641215668455], ['is_pos_neg_review', 0.12560930553789995], ['location_United_Kingdom', 0.12559306862601047], ['location_Amsterdam_Netherlands', 0.12557471054825892], ['location_Paris_France', 0.12561190846687964], ['is_pos_pos_rev', 0.12560991289914514], ['location_Vienna_Austria', 0.12562338391085276], ['reviewer_nationality_0', 0.12563872934033476]]"
   ]
  },
  {
   "cell_type": "markdown",
   "metadata": {},
   "source": [
    "## 4.5. Predict submission"
   ]
  },
  {
   "cell_type": "code",
   "execution_count": null,
   "metadata": {
    "execution": {
     "iopub.execute_input": "2022-02-08T18:45:41.866062Z",
     "iopub.status.busy": "2022-02-08T18:45:41.86571Z",
     "iopub.status.idle": "2022-02-08T18:45:41.884306Z",
     "shell.execute_reply": "2022-02-08T18:45:41.883577Z",
     "shell.execute_reply.started": "2022-02-08T18:45:41.866035Z"
    }
   },
   "outputs": [],
   "source": [
    "test_data.sample(10)"
   ]
  },
  {
   "cell_type": "code",
   "execution_count": null,
   "metadata": {
    "execution": {
     "iopub.execute_input": "2022-02-08T18:45:41.885594Z",
     "iopub.status.busy": "2022-02-08T18:45:41.885388Z",
     "iopub.status.idle": "2022-02-08T18:45:41.892093Z",
     "shell.execute_reply": "2022-02-08T18:45:41.891222Z",
     "shell.execute_reply.started": "2022-02-08T18:45:41.885567Z"
    }
   },
   "outputs": [],
   "source": [
    "test_data = test_data.drop(['reviewer_score'], axis=1)"
   ]
  },
  {
   "cell_type": "code",
   "execution_count": null,
   "metadata": {
    "execution": {
     "iopub.execute_input": "2022-02-08T18:45:41.893332Z",
     "iopub.status.busy": "2022-02-08T18:45:41.893146Z",
     "iopub.status.idle": "2022-02-08T18:45:41.909665Z",
     "shell.execute_reply": "2022-02-08T18:45:41.908885Z",
     "shell.execute_reply.started": "2022-02-08T18:45:41.893309Z"
    }
   },
   "outputs": [],
   "source": [
    "sample_submission"
   ]
  },
  {
   "cell_type": "code",
   "execution_count": null,
   "metadata": {
    "execution": {
     "iopub.execute_input": "2022-02-08T18:45:41.912958Z",
     "iopub.status.busy": "2022-02-08T18:45:41.911197Z",
     "iopub.status.idle": "2022-02-08T18:45:44.230401Z",
     "shell.execute_reply": "2022-02-08T18:45:44.229808Z",
     "shell.execute_reply.started": "2022-02-08T18:45:41.912914Z"
    }
   },
   "outputs": [],
   "source": [
    "predict_submission = model.predict(test_data)"
   ]
  },
  {
   "cell_type": "code",
   "execution_count": null,
   "metadata": {
    "execution": {
     "iopub.execute_input": "2022-02-08T18:45:44.23145Z",
     "iopub.status.busy": "2022-02-08T18:45:44.231245Z",
     "iopub.status.idle": "2022-02-08T18:45:44.237626Z",
     "shell.execute_reply": "2022-02-08T18:45:44.236794Z",
     "shell.execute_reply.started": "2022-02-08T18:45:44.231424Z"
    }
   },
   "outputs": [],
   "source": [
    "predict_submission"
   ]
  },
  {
   "cell_type": "code",
   "execution_count": null,
   "metadata": {
    "execution": {
     "iopub.execute_input": "2022-02-08T18:45:44.239657Z",
     "iopub.status.busy": "2022-02-08T18:45:44.23939Z",
     "iopub.status.idle": "2022-02-08T18:45:44.249217Z",
     "shell.execute_reply": "2022-02-08T18:45:44.248289Z",
     "shell.execute_reply.started": "2022-02-08T18:45:44.239621Z"
    }
   },
   "outputs": [],
   "source": [
    "list(sample_submission)"
   ]
  },
  {
   "cell_type": "code",
   "execution_count": null,
   "metadata": {
    "execution": {
     "iopub.execute_input": "2022-02-08T18:45:44.250806Z",
     "iopub.status.busy": "2022-02-08T18:45:44.250349Z",
     "iopub.status.idle": "2022-02-08T18:45:44.675802Z",
     "shell.execute_reply": "2022-02-08T18:45:44.675241Z",
     "shell.execute_reply.started": "2022-02-08T18:45:44.250765Z"
    }
   },
   "outputs": [],
   "source": [
    "sample_submission['reviewer_score'] = predict_submission\n",
    "sample_submission.to_csv('submission.csv', index=False)\n",
    "sample_submission.head(10)"
   ]
  },
  {
   "cell_type": "code",
   "execution_count": null,
   "metadata": {},
   "outputs": [],
   "source": []
  },
  {
   "cell_type": "code",
   "execution_count": null,
   "metadata": {},
   "outputs": [],
   "source": []
  },
  {
   "cell_type": "code",
   "execution_count": null,
   "metadata": {},
   "outputs": [],
   "source": []
  }
 ],
 "metadata": {
  "kernelspec": {
   "display_name": "Python 3 (ipykernel)",
   "language": "python",
   "name": "python3"
  },
  "language_info": {
   "codemirror_mode": {
    "name": "ipython",
    "version": 3
   },
   "file_extension": ".py",
   "mimetype": "text/x-python",
   "name": "python",
   "nbconvert_exporter": "python",
   "pygments_lexer": "ipython3",
   "version": "3.9.7"
  }
 },
 "nbformat": 4,
 "nbformat_minor": 4
}
